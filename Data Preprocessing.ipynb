{
 "cells": [
  {
   "cell_type": "markdown",
   "id": "35f51a34",
   "metadata": {},
   "source": [
    "# ABI Emotion recognition research\n",
    "\n",
    "This code is to prepare dataset for modelling a classifier to discriminate emotions using MSP dataset: [Link](https://ecs.utdallas.edu/research/researchlabs/msp-lab/MSP-Podcast.html).\n",
    "\n",
    "The prerequisite of this notebook is to segment the audio files by following the guidance provided in the MSP dataset. `audio_crop.py` file segmented big chunk audio files into 2-4 audio segments and also 8 seconds in average length audio files for train, test, and validation dataset.\n",
    "\n",
    "This file is now aiming to produce actual datasets of using training, testing and validation which will be csv files."
   ]
  },
  {
   "cell_type": "code",
   "execution_count": 1,
   "id": "6ffc6203",
   "metadata": {},
   "outputs": [],
   "source": [
    "import os\n",
    "import json\n",
    "import pandas as pd"
   ]
  },
  {
   "cell_type": "code",
   "execution_count": 2,
   "id": "15f8cf2f",
   "metadata": {},
   "outputs": [],
   "source": [
    "arouse_path = os.path.relpath('./MSP Data/Annotations/Annotations/Arousal')\n",
    "dominance_path = os.path.relpath('./MSP Data/Annotations/Annotations/Dominance')\n",
    "valence_path = os.path.relpath('./MSP Data/Annotations/Annotations/Valence')\n",
    "train_path = os.path.relpath('./Data/train')\n",
    "validation_path = os.path.relpath('./Data/validation')\n",
    "test_path = os.path.relpath('./Data/test')\n",
    "data_path = os.path.relpath('./Data')"
   ]
  },
  {
   "cell_type": "code",
   "execution_count": 3,
   "id": "da2a03ef",
   "metadata": {},
   "outputs": [],
   "source": [
    "train = pd.DataFrame()\n",
    "test = pd.DataFrame()\n",
    "validation = pd.DataFrame()"
   ]
  },
  {
   "cell_type": "code",
   "execution_count": null,
   "id": "2c6ec297",
   "metadata": {},
   "outputs": [],
   "source": [
    "# arouse_data = pd.read_csv(arouse_path, header=8, names=['time', 'arousal'])\n",
    "# valence_data = pd.read_csv(valence_path, header=8, names=['time', 'valence'])\n",
    "# dominance_data = pd.read_csv(dominance_path, header=8, names=['time', 'dominance'])\n",
    "# integrated = pd.DataFrame()\n",
    "# integrated['audio'] = key\n",
    "# integrated = pd.concat([arouse_data, valence_data['valence'], dominance_data['dominance']], axis=1)\n",
    "# integrated = integrated.loc[start_time / 1000 <= integrated['time'] <= end_time / 1000]"
   ]
  },
  {
   "cell_type": "code",
   "execution_count": 4,
   "id": "76bb44b9",
   "metadata": {},
   "outputs": [],
   "source": [
    "def file_labels():\n",
    "    filepath = os.path.relpath('./MSP Data/partitions.txt')\n",
    "    with open(filepath, 'r') as f:\n",
    "        lines = f.readlines()\n",
    "\n",
    "    train_files = []\n",
    "    validation_files = []\n",
    "    test_files = []\n",
    "\n",
    "    for line in lines:\n",
    "        text = line.strip().split(';')\n",
    "        if text[1] == 'Train':\n",
    "            train_files.append(text[0])\n",
    "        if text[1] == 'Validation':\n",
    "            validation_files.append(text[0])\n",
    "        if text[1] == 'Test':\n",
    "            test_files.append(text[0])\n",
    "    f.close()\n",
    "    print('Number of training labels: ' + str(len(train_files)))\n",
    "    print('Number of validation labels: ' + str(len(validation_files)))\n",
    "    print('Number of testing labels: ' + str(len(test_files)))\n",
    "\n",
    "    return train_files, validation_files, test_files"
   ]
  },
  {
   "cell_type": "code",
   "execution_count": null,
   "id": "ac5cde72",
   "metadata": {},
   "outputs": [],
   "source": []
  }
 ],
 "metadata": {
  "kernelspec": {
   "display_name": "env",
   "language": "python",
   "name": "env"
  },
  "language_info": {
   "codemirror_mode": {
    "name": "ipython",
    "version": 3
   },
   "file_extension": ".py",
   "mimetype": "text/x-python",
   "name": "python",
   "nbconvert_exporter": "python",
   "pygments_lexer": "ipython3",
   "version": "3.8.10"
  }
 },
 "nbformat": 4,
 "nbformat_minor": 5
}
