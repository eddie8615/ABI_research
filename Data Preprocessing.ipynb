{
 "cells": [
  {
   "cell_type": "markdown",
   "id": "35f51a34",
   "metadata": {},
   "source": [
    "# ABI Emotion recognition research\n",
    "\n",
    "This code is to model a classifier to discriminate emotions using MSP dataset: [Link](https://ecs.utdallas.edu/research/researchlabs/msp-lab/MSP-Podcast.html).\n",
    "\n",
    "The outcome of this dataset is continuous divided into Arouse, Valence and Dominance. To conduct proper classification task, the continuous variable should be divided into 'high-low' binary class and label an emotion corresponding to each class.\n",
    "\n",
    "Before the first task, we need to prepare training and testing set following the instructions in the dataset. The instruction lists the name of audio file and its label such as Train, Test, Validation. \n",
    "\n",
    "The dataset also includes speaker diarization text containing the speaker time interval with a particular .wav file. The file format is json and we need to stack properly into our training, validation and testing set."
   ]
  },
  {
   "cell_type": "code",
   "execution_count": 7,
   "id": "6ffc6203",
   "metadata": {},
   "outputs": [],
   "source": [
    "import os\n",
    "import json\n",
    "import pandas as pd\n",
    "import numpy as np"
   ]
  },
  {
   "cell_type": "code",
   "execution_count": null,
   "id": "15f8cf2f",
   "metadata": {},
   "outputs": [],
   "source": []
  },
  {
   "cell_type": "code",
   "execution_count": null,
   "id": "da2a03ef",
   "metadata": {},
   "outputs": [],
   "source": []
  },
  {
   "cell_type": "code",
   "execution_count": null,
   "id": "2c6ec297",
   "metadata": {},
   "outputs": [],
   "source": []
  },
  {
   "cell_type": "code",
   "execution_count": null,
   "id": "76bb44b9",
   "metadata": {},
   "outputs": [],
   "source": []
  },
  {
   "cell_type": "code",
   "execution_count": null,
   "id": "ac5cde72",
   "metadata": {},
   "outputs": [],
   "source": []
  }
 ],
 "metadata": {
  "kernelspec": {
   "display_name": "Python 3 (ipykernel)",
   "language": "python",
   "name": "python3"
  },
  "language_info": {
   "codemirror_mode": {
    "name": "ipython",
    "version": 3
   },
   "file_extension": ".py",
   "mimetype": "text/x-python",
   "name": "python",
   "nbconvert_exporter": "python",
   "pygments_lexer": "ipython3",
   "version": "3.8.10"
  }
 },
 "nbformat": 4,
 "nbformat_minor": 5
}
