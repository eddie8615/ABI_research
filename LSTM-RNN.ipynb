{
 "cells": [
  {
   "cell_type": "code",
   "execution_count": 1,
   "id": "59ae74aa",
   "metadata": {},
   "outputs": [],
   "source": [
    "import numpy as np\n",
    "import pandas as pd\n",
    "import csv\n",
    "\n",
    "from tqdm import tqdm\n",
    "\n",
    "from sklearn.preprocessing import StandardScaler\n",
    "from sklearn.metrics import mean_squared_error, r2_score"
   ]
  },
  {
   "cell_type": "code",
   "execution_count": 2,
   "id": "cfaa248b",
   "metadata": {},
   "outputs": [],
   "source": [
    "train_len = 25253\n",
    "validation_len = 9471\n",
    "test_len = 13794\n",
    "\n",
    "def load_features(filename,\n",
    "                  skip_header=True,\n",
    "                  skip_instname=True,\n",
    "                  delim=' ',\n",
    "                  num_lines=0):\n",
    "    if num_lines == 0:\n",
    "        num_lines = get_num_lines(filename, skip_header)\n",
    "\n",
    "    data = np.empty(\n",
    "        (num_lines, 25), float)\n",
    "\n",
    "    with open(filename, 'r') as csv_file:\n",
    "        if skip_header:\n",
    "            next(csv_file)\n",
    "        c = 0\n",
    "        for line in tqdm(csv_file):\n",
    "            offset = 0\n",
    "            if skip_instname:\n",
    "                offset = line.find(delim) + 1\n",
    "            data[c, :] = np.fromstring(line[offset:], dtype=float, sep=delim)\n",
    "            c += 1\n",
    "\n",
    "    return data\n",
    "\n",
    "def load_batch_features(filename, start_index=0, amount=0):\n",
    "    delim = ' '\n",
    "    \n",
    "    data = np.empty((amount, 25), float)\n",
    "    \n",
    "    with open(filename, 'r') as csv_file:\n",
    "        for i, line in tqdm(enumerate(csv_file)):\n",
    "            if i < start_index:\n",
    "                continue\n",
    "            if i >= start_index + amount:\n",
    "                break\n",
    "            index = i - start_index\n",
    "            data[index, :] = np.fromstring(line, dtype=float, sep=delim)\n",
    "    return data\n",
    "    \n",
    "def load_batch_labels(filename, start_index=1, amount=0):\n",
    "    labels = np.empty((amount, 3), float)\n",
    "    delim = ','\n",
    "    \n",
    "    with open(filename, 'r') as csv_file:\n",
    "        for i, line in tqdm(enumerate(csv_file)):\n",
    "            if i < start_index:\n",
    "                continue\n",
    "            if i >= start_index + amount:\n",
    "                break\n",
    "            cols = np.fromstring(line, dtype=float, sep=delim)\n",
    "            index = i - start_index\n",
    "            labels[index, :] = cols[1:]\n",
    "    return labels\n",
    "    \n",
    "def get_num_lines(filename, skip_header):\n",
    "    with open(filename, 'r') as csv_file:\n",
    "        if skip_header:\n",
    "            next(csv_file)\n",
    "        c = 0\n",
    "        for line in csv_file:\n",
    "            c += 1\n",
    "    return c\n",
    "\n",
    "def load_labels(filename, col_labels=1, gen_headers=True, delim=','):\n",
    "    headers = []\n",
    "    labels = []\n",
    "    \n",
    "    with open(filename, 'r') as csv_file:\n",
    "        for i, line in tqdm(enumerate(csv_file)):            \n",
    "            cols = np.fromstring(line, dtype=float, sep=delim)\n",
    "            if i == 0:\n",
    "                headers = line.rstrip().split(delim)[col_labels:]                \n",
    "                continue\n",
    "            \n",
    "            labels.append(cols[col_labels:])\n",
    "    if gen_headers:\n",
    "        return np.array(labels), headers\n",
    "    else:\n",
    "        return np.array(labels)\n",
    "    \n",
    "    \n",
    "def get_scaler(x, y):\n",
    "    x_scaler = StandardScaler()\n",
    "    x_scaler.fit(x)\n",
    "    y_scaler = StandardScaler()\n",
    "    y_scaler.fit(y)\n",
    "  \n",
    "    return x_scaler, y_scaler\n",
    "\n",
    "def scale_data(scaler, data):\n",
    "    if data.ndim > 2:\n",
    "        data = data.reshape(-1, data.shape[2])\n",
    "    scaled = scaler.transform(data)\n",
    "    \n",
    "    return scaled\n",
    "\n",
    "# def get_scaler(x, y):\n",
    "#     scaler = StandardScaler()\n",
    "#     y_flatten = np.empty((len(x) * 399, 3))\n",
    "#     index = 0\n",
    "#     for i in range(0, len(x)):\n",
    "#         while index < 399 * (i + 1):\n",
    "#           y_flatten[index, 0] = y[i, 0]\n",
    "#           y_flatten[index, 1] = y[i, 1]\n",
    "#           y_flatten[index, 2] = y[i, 2]\n",
    "#           index += 1\n",
    "\n",
    "#     concatenated = np.concatenate((x.reshape(-1, x.shape[2]), y_flatten), axis=1)\n",
    "#     scaler.fit(concatenated)\n",
    "  \n",
    "#     return scaler\n",
    "\n",
    "# def scale_data(scaler, x, y):\n",
    "\n",
    "#     x_flatten = x.reshape(-1, x.shape[2])\n",
    "#     y_flatten = np.empty((x_flatten.shape[0], 3))\n",
    "#     index = 0\n",
    "#     for i in range(0, len(x)):\n",
    "#         while index < 399 * (i + 1):\n",
    "#             y_flatten[index, 0] = y[i, 0]\n",
    "#             y_flatten[index, 1] = y[i, 1]\n",
    "#             y_flatten[index, 2] = y[i, 2]\n",
    "#             index += 1\n",
    "\n",
    "#     concatenated = np.concatenate((x_flatten, y_flatten), axis=1)\n",
    "#     scaled = scaler.fit_transform(concatenated)\n",
    "#     x_rev = scaled[:, :25].reshape(x.shape)\n",
    "\n",
    "#     index = 0  \n",
    "#     while index < len(y_flatten):\n",
    "#         y[index, 0] = scaled[index * 399, 25]\n",
    "#         y[index, 1] = scaled[index * 399, 26]\n",
    "#         y[index, 2] = scaled[index * 399, 27]\n",
    "#         index += 1\n",
    "\n",
    "\n",
    "#     return x_rev, y\n"
   ]
  },
  {
   "cell_type": "markdown",
   "id": "85d39c15",
   "metadata": {},
   "source": [
    "### Batch loading to train LSTM-RNN\n",
    "\n",
    "- First, load all data to get scalers that covers for each partition data\n",
    "- Batching the data to train\n",
    "- Batching the data to validation"
   ]
  },
  {
   "cell_type": "code",
   "execution_count": 3,
   "id": "5f69b88e",
   "metadata": {},
   "outputs": [
    {
     "name": "stdout",
     "output_type": "stream",
     "text": [
      "Loading training samples...\n"
     ]
    },
    {
     "name": "stderr",
     "output_type": "stream",
     "text": [
      "10075947it [01:59, 84549.79it/s]\n",
      "0it [00:00, ?it/s]/tmp/ipykernel_20780/4083688079.py:74: DeprecationWarning: string or file could not be read to its end due to unmatched data; this will raise a ValueError in the future.\n",
      "  cols = np.fromstring(line, dtype=float, sep=delim)\n",
      "25254it [00:00, 173985.31it/s]\n"
     ]
    },
    {
     "name": "stdout",
     "output_type": "stream",
     "text": [
      "Loading validation samples...\n"
     ]
    },
    {
     "name": "stderr",
     "output_type": "stream",
     "text": [
      "3778929it [00:45, 83388.69it/s]\n",
      "0it [00:00, ?it/s]/tmp/ipykernel_20780/4083688079.py:74: DeprecationWarning: string or file could not be read to its end due to unmatched data; this will raise a ValueError in the future.\n",
      "  cols = np.fromstring(line, dtype=float, sep=delim)\n",
      "9472it [00:00, 146780.88it/s]\n"
     ]
    }
   ],
   "source": [
    "data_path = './Functional_features/'\n",
    "\n",
    "# load all data to get a scaler that covers all data\n",
    "print(\"Loading training samples...\")\n",
    "x_train = load_features(data_path+'train.txt', skip_header=False, skip_instname=False)\n",
    "y_train, headers = load_labels(data_path+'train_labels.txt', gen_headers=True)\n",
    "\n",
    "x_train_scaler, y_train_scaler = get_scaler(x_train, y_train)\n",
    "# x_train = x_train.reshape((25253, 399, 25))\n",
    "x_train = 0\n",
    "y_train = 0\n",
    "\n",
    "print(\"Loading validation samples...\")\n",
    "x_validation = load_features(data_path+'validation.txt', skip_header = False, skip_instname=False)\n",
    "# x_validation = x_validation.reshape((9471, 399, 25))\n",
    "y_validation = load_labels(data_path+'validation_labels.txt', gen_headers=False)\n",
    "\n",
    "x_validation_scaler, y_validation_scaler = get_scaler(x_validation, y_validation)\n",
    "x_validation = 0\n",
    "y_validation = 0\n",
    "\n",
    "# # print(\"Loading testing samples...\")\n",
    "# # x_test = load_features(data_path+'test.txt', skip_header = False, skip_instname=False)\n",
    "# # x_test = x_test.reshape((13794, 399, 25))\n",
    "# # y_test = load_labels(data_path+'test_labels.txt', gen_headers=False)\n",
    "\n",
    "# print('x_train shape:', x_train.shape)\n",
    "# print('y_train shape:', y_train.shape)\n",
    "# print('x_validation shape:', x_validation.shape)\n",
    "# print('y_validation shape:', y_validation.shape)\n",
    "# # print('x_test shape:', x_test.shape)\n",
    "# # print('y_test shape:', y_test.shape)"
   ]
  },
  {
   "cell_type": "markdown",
   "id": "c13dc203",
   "metadata": {},
   "source": [
    "### Building RNN-LSTM model\n"
   ]
  },
  {
   "cell_type": "code",
   "execution_count": 4,
   "id": "4a3bb6b1",
   "metadata": {},
   "outputs": [
    {
     "name": "stderr",
     "output_type": "stream",
     "text": [
      "2022-05-11 01:34:40.235262: W tensorflow/stream_executor/platform/default/dso_loader.cc:64] Could not load dynamic library 'libcudart.so.11.0'; dlerror: libcudart.so.11.0: cannot open shared object file: No such file or directory\n",
      "2022-05-11 01:34:40.235298: I tensorflow/stream_executor/cuda/cudart_stub.cc:29] Ignore above cudart dlerror if you do not have a GPU set up on your machine.\n"
     ]
    }
   ],
   "source": [
    "import keras.backend as K\n",
    "from keras.models import Model, save_model, load_model, Sequential\n",
    "from keras.layers import Input, Dense, Masking, LSTM, Dropout, TimeDistributed, Bidirectional\n",
    "from tensorflow.keras.optimizers import RMSprop, Adam\n",
    "\n",
    "from numpy.random import seed\n",
    "from tensorflow.keras.utils import set_random_seed\n"
   ]
  },
  {
   "cell_type": "code",
   "execution_count": 17,
   "id": "40323eec",
   "metadata": {},
   "outputs": [],
   "source": [
    "def create_model(num_units_1=64, num_units_2=32):\n",
    "    model = Sequential()\n",
    "    model.add(LSTM(units=num_units_1, input_dim=25, activation='tanh', return_sequences=True))\n",
    "    model.add(Dropout(0.1))\n",
    "    model.add(LSTM(units=num_units_2, return_sequences=False))\n",
    "    model.add(Dropout(0.1))\n",
    "    model.add(Dense(3))\n",
    "    rms = RMSprop(learning_rate=0.001)\n",
    "    model.compile(loss='mse', optimizer=rms)\n",
    "    return model"
   ]
  },
  {
   "cell_type": "code",
   "execution_count": 18,
   "id": "f00a9428",
   "metadata": {},
   "outputs": [],
   "source": [
    "model = create_model()"
   ]
  },
  {
   "cell_type": "code",
   "execution_count": 13,
   "id": "1b2d760e",
   "metadata": {},
   "outputs": [
    {
     "data": {
      "text/plain": [
       "[5051, 5051, 5051, 5051, 5049]"
      ]
     },
     "execution_count": 13,
     "metadata": {},
     "output_type": "execute_result"
    }
   ],
   "source": [
    "batch = 5\n",
    "start_index = 0\n",
    "label_start = 1\n",
    "time_step = 399\n",
    "n_features = 25\n",
    "epochs = 50\n",
    "\n",
    "chunk = round(train_len / batch)\n",
    "chunks = []\n",
    "copied_len = train_len\n",
    "for i in range(batch):\n",
    "    if i == batch - 1:\n",
    "        chunks.append(copied_len)\n",
    "        break\n",
    "    chunks.append(chunk)\n",
    "    copied_len -= chunk\n",
    "chunks"
   ]
  },
  {
   "cell_type": "code",
   "execution_count": 19,
   "id": "23fa2e7d",
   "metadata": {},
   "outputs": [
    {
     "name": "stderr",
     "output_type": "stream",
     "text": [
      "2025451it [00:24, 82316.79it/s]\n",
      "15154it [00:00, 205616.84it/s]\n"
     ]
    },
    {
     "name": "stdout",
     "output_type": "stream",
     "text": [
      "Epoch 1/50\n",
      "158/158 [==============================] - 57s 340ms/step - loss: 0.8818\n",
      "Epoch 2/50\n",
      "158/158 [==============================] - 55s 347ms/step - loss: 0.8248\n",
      "Epoch 3/50\n",
      "158/158 [==============================] - 55s 345ms/step - loss: 0.7847\n",
      "Epoch 4/50\n",
      "158/158 [==============================] - 55s 346ms/step - loss: 0.7678\n",
      "Epoch 5/50\n",
      " 62/158 [==========>...................] - ETA: 33s - loss: 0.7479"
     ]
    },
    {
     "ename": "KeyboardInterrupt",
     "evalue": "",
     "output_type": "error",
     "traceback": [
      "\u001b[0;31m---------------------------------------------------------------------------\u001b[0m",
      "\u001b[0;31mKeyboardInterrupt\u001b[0m                         Traceback (most recent call last)",
      "Input \u001b[0;32mIn [19]\u001b[0m, in \u001b[0;36m<cell line: 1>\u001b[0;34m()\u001b[0m\n\u001b[1;32m     10\u001b[0m label_start \u001b[38;5;241m+\u001b[39m\u001b[38;5;241m=\u001b[39m chunks[i]\n\u001b[1;32m     11\u001b[0m epoch \u001b[38;5;241m=\u001b[39m \u001b[38;5;241m1\u001b[39m\n\u001b[0;32m---> 13\u001b[0m \u001b[43mmodel\u001b[49m\u001b[38;5;241;43m.\u001b[39;49m\u001b[43mfit\u001b[49m\u001b[43m(\u001b[49m\u001b[43mx_scaled\u001b[49m\u001b[43m,\u001b[49m\u001b[43m \u001b[49m\u001b[43my_scaled\u001b[49m\u001b[43m,\u001b[49m\u001b[43m \u001b[49m\u001b[43mepochs\u001b[49m\u001b[38;5;241;43m=\u001b[39;49m\u001b[43mepochs\u001b[49m\u001b[43m)\u001b[49m\n",
      "File \u001b[0;32m~/workspace/ABI_research/env/lib/python3.8/site-packages/keras/utils/traceback_utils.py:64\u001b[0m, in \u001b[0;36mfilter_traceback.<locals>.error_handler\u001b[0;34m(*args, **kwargs)\u001b[0m\n\u001b[1;32m     62\u001b[0m filtered_tb \u001b[38;5;241m=\u001b[39m \u001b[38;5;28;01mNone\u001b[39;00m\n\u001b[1;32m     63\u001b[0m \u001b[38;5;28;01mtry\u001b[39;00m:\n\u001b[0;32m---> 64\u001b[0m   \u001b[38;5;28;01mreturn\u001b[39;00m \u001b[43mfn\u001b[49m\u001b[43m(\u001b[49m\u001b[38;5;241;43m*\u001b[39;49m\u001b[43margs\u001b[49m\u001b[43m,\u001b[49m\u001b[43m \u001b[49m\u001b[38;5;241;43m*\u001b[39;49m\u001b[38;5;241;43m*\u001b[39;49m\u001b[43mkwargs\u001b[49m\u001b[43m)\u001b[49m\n\u001b[1;32m     65\u001b[0m \u001b[38;5;28;01mexcept\u001b[39;00m \u001b[38;5;167;01mException\u001b[39;00m \u001b[38;5;28;01mas\u001b[39;00m e:  \u001b[38;5;66;03m# pylint: disable=broad-except\u001b[39;00m\n\u001b[1;32m     66\u001b[0m   filtered_tb \u001b[38;5;241m=\u001b[39m _process_traceback_frames(e\u001b[38;5;241m.\u001b[39m__traceback__)\n",
      "File \u001b[0;32m~/workspace/ABI_research/env/lib/python3.8/site-packages/keras/engine/training.py:1384\u001b[0m, in \u001b[0;36mModel.fit\u001b[0;34m(self, x, y, batch_size, epochs, verbose, callbacks, validation_split, validation_data, shuffle, class_weight, sample_weight, initial_epoch, steps_per_epoch, validation_steps, validation_batch_size, validation_freq, max_queue_size, workers, use_multiprocessing)\u001b[0m\n\u001b[1;32m   1377\u001b[0m \u001b[38;5;28;01mwith\u001b[39;00m tf\u001b[38;5;241m.\u001b[39mprofiler\u001b[38;5;241m.\u001b[39mexperimental\u001b[38;5;241m.\u001b[39mTrace(\n\u001b[1;32m   1378\u001b[0m     \u001b[38;5;124m'\u001b[39m\u001b[38;5;124mtrain\u001b[39m\u001b[38;5;124m'\u001b[39m,\n\u001b[1;32m   1379\u001b[0m     epoch_num\u001b[38;5;241m=\u001b[39mepoch,\n\u001b[1;32m   1380\u001b[0m     step_num\u001b[38;5;241m=\u001b[39mstep,\n\u001b[1;32m   1381\u001b[0m     batch_size\u001b[38;5;241m=\u001b[39mbatch_size,\n\u001b[1;32m   1382\u001b[0m     _r\u001b[38;5;241m=\u001b[39m\u001b[38;5;241m1\u001b[39m):\n\u001b[1;32m   1383\u001b[0m   callbacks\u001b[38;5;241m.\u001b[39mon_train_batch_begin(step)\n\u001b[0;32m-> 1384\u001b[0m   tmp_logs \u001b[38;5;241m=\u001b[39m \u001b[38;5;28;43mself\u001b[39;49m\u001b[38;5;241;43m.\u001b[39;49m\u001b[43mtrain_function\u001b[49m\u001b[43m(\u001b[49m\u001b[43miterator\u001b[49m\u001b[43m)\u001b[49m\n\u001b[1;32m   1385\u001b[0m   \u001b[38;5;28;01mif\u001b[39;00m data_handler\u001b[38;5;241m.\u001b[39mshould_sync:\n\u001b[1;32m   1386\u001b[0m     context\u001b[38;5;241m.\u001b[39masync_wait()\n",
      "File \u001b[0;32m~/workspace/ABI_research/env/lib/python3.8/site-packages/tensorflow/python/util/traceback_utils.py:150\u001b[0m, in \u001b[0;36mfilter_traceback.<locals>.error_handler\u001b[0;34m(*args, **kwargs)\u001b[0m\n\u001b[1;32m    148\u001b[0m filtered_tb \u001b[38;5;241m=\u001b[39m \u001b[38;5;28;01mNone\u001b[39;00m\n\u001b[1;32m    149\u001b[0m \u001b[38;5;28;01mtry\u001b[39;00m:\n\u001b[0;32m--> 150\u001b[0m   \u001b[38;5;28;01mreturn\u001b[39;00m \u001b[43mfn\u001b[49m\u001b[43m(\u001b[49m\u001b[38;5;241;43m*\u001b[39;49m\u001b[43margs\u001b[49m\u001b[43m,\u001b[49m\u001b[43m \u001b[49m\u001b[38;5;241;43m*\u001b[39;49m\u001b[38;5;241;43m*\u001b[39;49m\u001b[43mkwargs\u001b[49m\u001b[43m)\u001b[49m\n\u001b[1;32m    151\u001b[0m \u001b[38;5;28;01mexcept\u001b[39;00m \u001b[38;5;167;01mException\u001b[39;00m \u001b[38;5;28;01mas\u001b[39;00m e:\n\u001b[1;32m    152\u001b[0m   filtered_tb \u001b[38;5;241m=\u001b[39m _process_traceback_frames(e\u001b[38;5;241m.\u001b[39m__traceback__)\n",
      "File \u001b[0;32m~/workspace/ABI_research/env/lib/python3.8/site-packages/tensorflow/python/eager/def_function.py:915\u001b[0m, in \u001b[0;36mFunction.__call__\u001b[0;34m(self, *args, **kwds)\u001b[0m\n\u001b[1;32m    912\u001b[0m compiler \u001b[38;5;241m=\u001b[39m \u001b[38;5;124m\"\u001b[39m\u001b[38;5;124mxla\u001b[39m\u001b[38;5;124m\"\u001b[39m \u001b[38;5;28;01mif\u001b[39;00m \u001b[38;5;28mself\u001b[39m\u001b[38;5;241m.\u001b[39m_jit_compile \u001b[38;5;28;01melse\u001b[39;00m \u001b[38;5;124m\"\u001b[39m\u001b[38;5;124mnonXla\u001b[39m\u001b[38;5;124m\"\u001b[39m\n\u001b[1;32m    914\u001b[0m \u001b[38;5;28;01mwith\u001b[39;00m OptionalXlaContext(\u001b[38;5;28mself\u001b[39m\u001b[38;5;241m.\u001b[39m_jit_compile):\n\u001b[0;32m--> 915\u001b[0m   result \u001b[38;5;241m=\u001b[39m \u001b[38;5;28;43mself\u001b[39;49m\u001b[38;5;241;43m.\u001b[39;49m\u001b[43m_call\u001b[49m\u001b[43m(\u001b[49m\u001b[38;5;241;43m*\u001b[39;49m\u001b[43margs\u001b[49m\u001b[43m,\u001b[49m\u001b[43m \u001b[49m\u001b[38;5;241;43m*\u001b[39;49m\u001b[38;5;241;43m*\u001b[39;49m\u001b[43mkwds\u001b[49m\u001b[43m)\u001b[49m\n\u001b[1;32m    917\u001b[0m new_tracing_count \u001b[38;5;241m=\u001b[39m \u001b[38;5;28mself\u001b[39m\u001b[38;5;241m.\u001b[39mexperimental_get_tracing_count()\n\u001b[1;32m    918\u001b[0m without_tracing \u001b[38;5;241m=\u001b[39m (tracing_count \u001b[38;5;241m==\u001b[39m new_tracing_count)\n",
      "File \u001b[0;32m~/workspace/ABI_research/env/lib/python3.8/site-packages/tensorflow/python/eager/def_function.py:947\u001b[0m, in \u001b[0;36mFunction._call\u001b[0;34m(self, *args, **kwds)\u001b[0m\n\u001b[1;32m    944\u001b[0m   \u001b[38;5;28mself\u001b[39m\u001b[38;5;241m.\u001b[39m_lock\u001b[38;5;241m.\u001b[39mrelease()\n\u001b[1;32m    945\u001b[0m   \u001b[38;5;66;03m# In this case we have created variables on the first call, so we run the\u001b[39;00m\n\u001b[1;32m    946\u001b[0m   \u001b[38;5;66;03m# defunned version which is guaranteed to never create variables.\u001b[39;00m\n\u001b[0;32m--> 947\u001b[0m   \u001b[38;5;28;01mreturn\u001b[39;00m \u001b[38;5;28;43mself\u001b[39;49m\u001b[38;5;241;43m.\u001b[39;49m\u001b[43m_stateless_fn\u001b[49m\u001b[43m(\u001b[49m\u001b[38;5;241;43m*\u001b[39;49m\u001b[43margs\u001b[49m\u001b[43m,\u001b[49m\u001b[43m \u001b[49m\u001b[38;5;241;43m*\u001b[39;49m\u001b[38;5;241;43m*\u001b[39;49m\u001b[43mkwds\u001b[49m\u001b[43m)\u001b[49m  \u001b[38;5;66;03m# pylint: disable=not-callable\u001b[39;00m\n\u001b[1;32m    948\u001b[0m \u001b[38;5;28;01melif\u001b[39;00m \u001b[38;5;28mself\u001b[39m\u001b[38;5;241m.\u001b[39m_stateful_fn \u001b[38;5;129;01mis\u001b[39;00m \u001b[38;5;129;01mnot\u001b[39;00m \u001b[38;5;28;01mNone\u001b[39;00m:\n\u001b[1;32m    949\u001b[0m   \u001b[38;5;66;03m# Release the lock early so that multiple threads can perform the call\u001b[39;00m\n\u001b[1;32m    950\u001b[0m   \u001b[38;5;66;03m# in parallel.\u001b[39;00m\n\u001b[1;32m    951\u001b[0m   \u001b[38;5;28mself\u001b[39m\u001b[38;5;241m.\u001b[39m_lock\u001b[38;5;241m.\u001b[39mrelease()\n",
      "File \u001b[0;32m~/workspace/ABI_research/env/lib/python3.8/site-packages/tensorflow/python/eager/function.py:2956\u001b[0m, in \u001b[0;36mFunction.__call__\u001b[0;34m(self, *args, **kwargs)\u001b[0m\n\u001b[1;32m   2953\u001b[0m \u001b[38;5;28;01mwith\u001b[39;00m \u001b[38;5;28mself\u001b[39m\u001b[38;5;241m.\u001b[39m_lock:\n\u001b[1;32m   2954\u001b[0m   (graph_function,\n\u001b[1;32m   2955\u001b[0m    filtered_flat_args) \u001b[38;5;241m=\u001b[39m \u001b[38;5;28mself\u001b[39m\u001b[38;5;241m.\u001b[39m_maybe_define_function(args, kwargs)\n\u001b[0;32m-> 2956\u001b[0m \u001b[38;5;28;01mreturn\u001b[39;00m \u001b[43mgraph_function\u001b[49m\u001b[38;5;241;43m.\u001b[39;49m\u001b[43m_call_flat\u001b[49m\u001b[43m(\u001b[49m\n\u001b[1;32m   2957\u001b[0m \u001b[43m    \u001b[49m\u001b[43mfiltered_flat_args\u001b[49m\u001b[43m,\u001b[49m\u001b[43m \u001b[49m\u001b[43mcaptured_inputs\u001b[49m\u001b[38;5;241;43m=\u001b[39;49m\u001b[43mgraph_function\u001b[49m\u001b[38;5;241;43m.\u001b[39;49m\u001b[43mcaptured_inputs\u001b[49m\u001b[43m)\u001b[49m\n",
      "File \u001b[0;32m~/workspace/ABI_research/env/lib/python3.8/site-packages/tensorflow/python/eager/function.py:1853\u001b[0m, in \u001b[0;36mConcreteFunction._call_flat\u001b[0;34m(self, args, captured_inputs, cancellation_manager)\u001b[0m\n\u001b[1;32m   1849\u001b[0m possible_gradient_type \u001b[38;5;241m=\u001b[39m gradients_util\u001b[38;5;241m.\u001b[39mPossibleTapeGradientTypes(args)\n\u001b[1;32m   1850\u001b[0m \u001b[38;5;28;01mif\u001b[39;00m (possible_gradient_type \u001b[38;5;241m==\u001b[39m gradients_util\u001b[38;5;241m.\u001b[39mPOSSIBLE_GRADIENT_TYPES_NONE\n\u001b[1;32m   1851\u001b[0m     \u001b[38;5;129;01mand\u001b[39;00m executing_eagerly):\n\u001b[1;32m   1852\u001b[0m   \u001b[38;5;66;03m# No tape is watching; skip to running the function.\u001b[39;00m\n\u001b[0;32m-> 1853\u001b[0m   \u001b[38;5;28;01mreturn\u001b[39;00m \u001b[38;5;28mself\u001b[39m\u001b[38;5;241m.\u001b[39m_build_call_outputs(\u001b[38;5;28;43mself\u001b[39;49m\u001b[38;5;241;43m.\u001b[39;49m\u001b[43m_inference_function\u001b[49m\u001b[38;5;241;43m.\u001b[39;49m\u001b[43mcall\u001b[49m\u001b[43m(\u001b[49m\n\u001b[1;32m   1854\u001b[0m \u001b[43m      \u001b[49m\u001b[43mctx\u001b[49m\u001b[43m,\u001b[49m\u001b[43m \u001b[49m\u001b[43margs\u001b[49m\u001b[43m,\u001b[49m\u001b[43m \u001b[49m\u001b[43mcancellation_manager\u001b[49m\u001b[38;5;241;43m=\u001b[39;49m\u001b[43mcancellation_manager\u001b[49m\u001b[43m)\u001b[49m)\n\u001b[1;32m   1855\u001b[0m forward_backward \u001b[38;5;241m=\u001b[39m \u001b[38;5;28mself\u001b[39m\u001b[38;5;241m.\u001b[39m_select_forward_and_backward_functions(\n\u001b[1;32m   1856\u001b[0m     args,\n\u001b[1;32m   1857\u001b[0m     possible_gradient_type,\n\u001b[1;32m   1858\u001b[0m     executing_eagerly)\n\u001b[1;32m   1859\u001b[0m forward_function, args_with_tangents \u001b[38;5;241m=\u001b[39m forward_backward\u001b[38;5;241m.\u001b[39mforward()\n",
      "File \u001b[0;32m~/workspace/ABI_research/env/lib/python3.8/site-packages/tensorflow/python/eager/function.py:499\u001b[0m, in \u001b[0;36m_EagerDefinedFunction.call\u001b[0;34m(self, ctx, args, cancellation_manager)\u001b[0m\n\u001b[1;32m    497\u001b[0m \u001b[38;5;28;01mwith\u001b[39;00m _InterpolateFunctionError(\u001b[38;5;28mself\u001b[39m):\n\u001b[1;32m    498\u001b[0m   \u001b[38;5;28;01mif\u001b[39;00m cancellation_manager \u001b[38;5;129;01mis\u001b[39;00m \u001b[38;5;28;01mNone\u001b[39;00m:\n\u001b[0;32m--> 499\u001b[0m     outputs \u001b[38;5;241m=\u001b[39m \u001b[43mexecute\u001b[49m\u001b[38;5;241;43m.\u001b[39;49m\u001b[43mexecute\u001b[49m\u001b[43m(\u001b[49m\n\u001b[1;32m    500\u001b[0m \u001b[43m        \u001b[49m\u001b[38;5;28;43mstr\u001b[39;49m\u001b[43m(\u001b[49m\u001b[38;5;28;43mself\u001b[39;49m\u001b[38;5;241;43m.\u001b[39;49m\u001b[43msignature\u001b[49m\u001b[38;5;241;43m.\u001b[39;49m\u001b[43mname\u001b[49m\u001b[43m)\u001b[49m\u001b[43m,\u001b[49m\n\u001b[1;32m    501\u001b[0m \u001b[43m        \u001b[49m\u001b[43mnum_outputs\u001b[49m\u001b[38;5;241;43m=\u001b[39;49m\u001b[38;5;28;43mself\u001b[39;49m\u001b[38;5;241;43m.\u001b[39;49m\u001b[43m_num_outputs\u001b[49m\u001b[43m,\u001b[49m\n\u001b[1;32m    502\u001b[0m \u001b[43m        \u001b[49m\u001b[43minputs\u001b[49m\u001b[38;5;241;43m=\u001b[39;49m\u001b[43margs\u001b[49m\u001b[43m,\u001b[49m\n\u001b[1;32m    503\u001b[0m \u001b[43m        \u001b[49m\u001b[43mattrs\u001b[49m\u001b[38;5;241;43m=\u001b[39;49m\u001b[43mattrs\u001b[49m\u001b[43m,\u001b[49m\n\u001b[1;32m    504\u001b[0m \u001b[43m        \u001b[49m\u001b[43mctx\u001b[49m\u001b[38;5;241;43m=\u001b[39;49m\u001b[43mctx\u001b[49m\u001b[43m)\u001b[49m\n\u001b[1;32m    505\u001b[0m   \u001b[38;5;28;01melse\u001b[39;00m:\n\u001b[1;32m    506\u001b[0m     outputs \u001b[38;5;241m=\u001b[39m execute\u001b[38;5;241m.\u001b[39mexecute_with_cancellation(\n\u001b[1;32m    507\u001b[0m         \u001b[38;5;28mstr\u001b[39m(\u001b[38;5;28mself\u001b[39m\u001b[38;5;241m.\u001b[39msignature\u001b[38;5;241m.\u001b[39mname),\n\u001b[1;32m    508\u001b[0m         num_outputs\u001b[38;5;241m=\u001b[39m\u001b[38;5;28mself\u001b[39m\u001b[38;5;241m.\u001b[39m_num_outputs,\n\u001b[0;32m   (...)\u001b[0m\n\u001b[1;32m    511\u001b[0m         ctx\u001b[38;5;241m=\u001b[39mctx,\n\u001b[1;32m    512\u001b[0m         cancellation_manager\u001b[38;5;241m=\u001b[39mcancellation_manager)\n",
      "File \u001b[0;32m~/workspace/ABI_research/env/lib/python3.8/site-packages/tensorflow/python/eager/execute.py:54\u001b[0m, in \u001b[0;36mquick_execute\u001b[0;34m(op_name, num_outputs, inputs, attrs, ctx, name)\u001b[0m\n\u001b[1;32m     52\u001b[0m \u001b[38;5;28;01mtry\u001b[39;00m:\n\u001b[1;32m     53\u001b[0m   ctx\u001b[38;5;241m.\u001b[39mensure_initialized()\n\u001b[0;32m---> 54\u001b[0m   tensors \u001b[38;5;241m=\u001b[39m \u001b[43mpywrap_tfe\u001b[49m\u001b[38;5;241;43m.\u001b[39;49m\u001b[43mTFE_Py_Execute\u001b[49m\u001b[43m(\u001b[49m\u001b[43mctx\u001b[49m\u001b[38;5;241;43m.\u001b[39;49m\u001b[43m_handle\u001b[49m\u001b[43m,\u001b[49m\u001b[43m \u001b[49m\u001b[43mdevice_name\u001b[49m\u001b[43m,\u001b[49m\u001b[43m \u001b[49m\u001b[43mop_name\u001b[49m\u001b[43m,\u001b[49m\n\u001b[1;32m     55\u001b[0m \u001b[43m                                      \u001b[49m\u001b[43minputs\u001b[49m\u001b[43m,\u001b[49m\u001b[43m \u001b[49m\u001b[43mattrs\u001b[49m\u001b[43m,\u001b[49m\u001b[43m \u001b[49m\u001b[43mnum_outputs\u001b[49m\u001b[43m)\u001b[49m\n\u001b[1;32m     56\u001b[0m \u001b[38;5;28;01mexcept\u001b[39;00m core\u001b[38;5;241m.\u001b[39m_NotOkStatusException \u001b[38;5;28;01mas\u001b[39;00m e:\n\u001b[1;32m     57\u001b[0m   \u001b[38;5;28;01mif\u001b[39;00m name \u001b[38;5;129;01mis\u001b[39;00m \u001b[38;5;129;01mnot\u001b[39;00m \u001b[38;5;28;01mNone\u001b[39;00m:\n",
      "\u001b[0;31mKeyboardInterrupt\u001b[0m: "
     ]
    }
   ],
   "source": [
    "for i in range(batch):\n",
    "    x_train = load_batch_features(data_path+'train.txt', start_index, chunks[i] * time_step)\n",
    "    x_train = x_train.reshape(chunks[i], time_step, 25)\n",
    "    x_scaled = scale_data(x_train_scaler, x_train)   \n",
    "    x_scaled = x_scaled.reshape(chunks[i], time_step, n_features)\n",
    "    y_train = load_batch_labels(data_path+'train_labels.txt', label_start, chunks[i])\n",
    "    y_scaled = scale_data(y_train_scaler, y_train)\n",
    "    \n",
    "    start_index += chunks[i]\n",
    "    label_start += chunks[i]\n",
    "    epoch = 1\n",
    "    \n",
    "    model.fit(x_scaled, y_scaled, epochs=epochs)\n",
    "        \n"
   ]
  },
  {
   "cell_type": "code",
   "execution_count": null,
   "id": "b1b83d65",
   "metadata": {},
   "outputs": [],
   "source": []
  },
  {
   "cell_type": "code",
   "execution_count": null,
   "id": "4bd54dea",
   "metadata": {},
   "outputs": [],
   "source": []
  }
 ],
 "metadata": {
  "kernelspec": {
   "display_name": "env",
   "language": "python",
   "name": "abi_research"
  },
  "language_info": {
   "codemirror_mode": {
    "name": "ipython",
    "version": 3
   },
   "file_extension": ".py",
   "mimetype": "text/x-python",
   "name": "python",
   "nbconvert_exporter": "python",
   "pygments_lexer": "ipython3",
   "version": "3.8.10"
  }
 },
 "nbformat": 4,
 "nbformat_minor": 5
}
