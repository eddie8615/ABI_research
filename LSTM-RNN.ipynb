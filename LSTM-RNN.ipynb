{
 "cells": [
  {
   "cell_type": "code",
   "execution_count": 1,
   "id": "59ae74aa",
   "metadata": {},
   "outputs": [],
   "source": [
    "import numpy as np\n",
    "import pandas as pd\n",
    "import csv\n",
    "import keras.backend as K\n",
    "import matplotlib.pyplot as plt\n",
    "\n",
    "from tqdm import tqdm\n",
    "\n",
    "from sklearn.preprocessing import StandardScaler, MinMaxScaler\n",
    "from sklearn.metrics import mean_squared_error, r2_score"
   ]
  },
  {
   "cell_type": "code",
   "execution_count": 58,
   "id": "cfaa248b",
   "metadata": {},
   "outputs": [],
   "source": [
    "# train_len = 25253\n",
    "# validation_len = 9471\n",
    "# test_len = 13794\n",
    "train_length = 2684\n",
    "val_length = 726\n",
    "test_length = 1498\n",
    "\n",
    "def load_features(filename,\n",
    "                  skip_header=True,\n",
    "                  skip_instname=True,\n",
    "                  delim=' ',\n",
    "                  num_lines=0):\n",
    "    if num_lines == 0:\n",
    "        num_lines = get_num_lines(filename, skip_header)\n",
    "\n",
    "    data = np.empty(\n",
    "        (num_lines, 50), float)\n",
    "\n",
    "    with open(filename, 'r') as csv_file:\n",
    "        if skip_header:\n",
    "            next(csv_file)\n",
    "        c = 0\n",
    "        for line in tqdm(csv_file):\n",
    "            offset = 0\n",
    "            if skip_instname:\n",
    "                offset = line.find(delim) + 1\n",
    "            data[c, :] = np.fromstring(line[offset:], dtype=float, sep=delim)\n",
    "            c += 1\n",
    "\n",
    "    return data\n",
    "\n",
    "def load_batch_features(filename, start_index=0, amount=0):\n",
    "    delim = ' '\n",
    "    \n",
    "    data = np.empty((amount, 25), float)\n",
    "    \n",
    "    with open(filename, 'r') as csv_file:\n",
    "        for i, line in tqdm(enumerate(csv_file)):\n",
    "            if i < start_index:\n",
    "                continue\n",
    "            if i >= start_index + amount:\n",
    "                break\n",
    "            index = i - start_index\n",
    "            data[index, :] = np.fromstring(line, dtype=float, sep=delim)\n",
    "    return data\n",
    "    \n",
    "def load_batch_labels(filename, start_index=1, amount=0):\n",
    "    labels = np.empty((amount, 3), float)\n",
    "    delim = ','\n",
    "    \n",
    "    with open(filename, 'r') as csv_file:\n",
    "        for i, line in tqdm(enumerate(csv_file)):\n",
    "            if i < start_index:\n",
    "                continue\n",
    "            if i >= start_index + amount:\n",
    "                break\n",
    "            cols = np.fromstring(line, dtype=float, sep=delim)\n",
    "            index = i - start_index\n",
    "            labels[index, :] = cols[1:]\n",
    "    return labels\n",
    "    \n",
    "def get_num_lines(filename, skip_header):\n",
    "    with open(filename, 'r') as csv_file:\n",
    "        if skip_header:\n",
    "            next(csv_file)\n",
    "        c = 0\n",
    "        for line in csv_file:\n",
    "            c += 1\n",
    "    return c\n",
    "\n",
    "def load_labels(filename,\n",
    "                  skip_header=True,\n",
    "                  skip_instname=True,\n",
    "                  delim=' ',\n",
    "                  num_lines=0):\n",
    "    if num_lines == 0:\n",
    "        num_lines = get_num_lines(filename, skip_header)\n",
    "\n",
    "    data = np.empty(\n",
    "        (num_lines, 3), float)\n",
    "\n",
    "    with open(filename, 'r') as csv_file:\n",
    "        if skip_header:\n",
    "            next(csv_file)\n",
    "        c = 0\n",
    "        for line in tqdm(csv_file):\n",
    "            offset = 0\n",
    "            if skip_instname:\n",
    "                offset = line.find(delim) + 1\n",
    "            data[c, :] = np.fromstring(line[offset:], dtype=float, sep=delim)\n",
    "            c += 1\n",
    "\n",
    "    return data\n",
    "    \n",
    "    \n",
    "def get_scaler(x):\n",
    "    x_scaler = StandardScaler()\n",
    "    x_scaler.fit(x)\n",
    "  \n",
    "    return x_scaler\n",
    "\n",
    "def scale_data(scaler, data):\n",
    "    if data.ndim > 2:\n",
    "        data = data.reshape(-1, data.shape[2])\n",
    "    scaled = scaler.transform(data)\n",
    "    \n",
    "    return scaled\n",
    "\n",
    "def ccc(gold, pred):\n",
    "    gold       = K.squeeze(gold, axis=-1)\n",
    "    pred       = K.squeeze(pred, axis=-1)\n",
    "    gold_mean  = K.mean(gold, axis=-1, keepdims=True)\n",
    "    pred_mean  = K.mean(pred, axis=-1, keepdims=True)\n",
    "    covariance = (gold-gold_mean)*(pred-pred_mean)\n",
    "    gold_var   = K.mean(K.square(gold-gold_mean), axis=-1,  keepdims=True)\n",
    "    pred_var   = K.mean(K.square(pred-pred_mean), axis=-1, keepdims=True)\n",
    "    ccc        = K.constant(2.) * covariance / (gold_var + pred_var + K.square(gold_mean - pred_mean) + K.epsilon())\n",
    "    return ccc\n",
    "\n",
    "def ccc_loss(gold, pred):\n",
    "    ccc_loss = K.constant(1.) - ccc(gold, pred)\n",
    "    return ccc_loss\n"
   ]
  },
  {
   "cell_type": "markdown",
   "id": "85d39c15",
   "metadata": {},
   "source": [
    "### Batch loading to train LSTM-RNN\n",
    "\n",
    "- First, load all data to get scalers that covers for each partition data\n",
    "- Batching the data to train\n",
    "- Batching the data to validation"
   ]
  },
  {
   "cell_type": "code",
   "execution_count": 88,
   "id": "5f69b88e",
   "metadata": {},
   "outputs": [
    {
     "name": "stdout",
     "output_type": "stream",
     "text": [
      "Loading training samples...\n"
     ]
    },
    {
     "name": "stderr",
     "output_type": "stream",
     "text": [
      "1041392it [00:10, 96386.43it/s]\n",
      "1041392it [00:02, 395019.57it/s]\n"
     ]
    },
    {
     "name": "stdout",
     "output_type": "stream",
     "text": [
      "Loading finished, Scaling...\n",
      "x_train shape: (2684, 388, 50)\n",
      "y_train shape: (2684, 388, 3)\n",
      "End of loading and preprocessing training samples\n",
      "Loading validation samples...\n"
     ]
    },
    {
     "name": "stderr",
     "output_type": "stream",
     "text": [
      "281688it [00:02, 97375.12it/s] \n",
      "281688it [00:00, 387605.75it/s]\n"
     ]
    },
    {
     "name": "stdout",
     "output_type": "stream",
     "text": [
      "Loading finished, Scaling...\n",
      "x_validation shape: (726, 388, 50)\n",
      "y_validation shape: (726, 388, 3)\n",
      "End of loading and preprocessing validation samples\n",
      "Loading testing samples...\n"
     ]
    },
    {
     "name": "stderr",
     "output_type": "stream",
     "text": [
      "581224it [00:05, 97845.87it/s] \n",
      "581224it [00:01, 391790.30it/s]\n"
     ]
    },
    {
     "name": "stdout",
     "output_type": "stream",
     "text": [
      "Loading finished, Scaling...\n",
      "x_test shape: (1498, 388, 50)\n",
      "y_test shape: (1498, 388, 3)\n",
      "End of loading and preprocessing test samples\n"
     ]
    }
   ],
   "source": [
    "data_path = './Functional_features/'\n",
    "\n",
    "seq_len = 388\n",
    "n_features = 25\n",
    "\n",
    "\n",
    "# load all data to get a scaler that covers all data\n",
    "print(\"Loading training samples...\")\n",
    "x_train = load_features(data_path+'train.txt', skip_header=False, skip_instname=False)\n",
    "train_labels = load_labels(data_path+'train_labels.txt', skip_header=False, skip_instname=False)\n",
    "y_train = train_labels.reshape((train_length, seq_len, 3))\n",
    "\n",
    "print(\"Loading finished, Scaling...\")\n",
    "x_scaler = get_scaler(x_train)\n",
    "\n",
    "# Scaling acoustic features\n",
    "x_train_scaled = scale_data(x_scaler, x_train)\n",
    "# Scaling labels from [-100,100] to [-1, 1]\n",
    "f = lambda x: x * 0.01\n",
    "y_train_scaled = f(y_train)\n",
    "x_train_scaled = x_train_scaled.reshape((train_length, seq_len, n_features * 2))\n",
    "print('x_train shape:', x_train_scaled.shape)\n",
    "print('y_train shape:', y_train_scaled.shape)\n",
    "print(\"End of loading and preprocessing training samples\")\n",
    "\n",
    "print(\"Loading validation samples...\")\n",
    "x_validation = load_features(data_path+'validation.txt', skip_header = False, skip_instname=False)\n",
    "val_labels = load_labels(data_path+'validation_labels.txt', skip_header=False, skip_instname=False)\n",
    "y_validation = val_labels.reshape((val_length, seq_len, 3))\n",
    "print(\"Loading finished, Scaling...\")\n",
    "x_val_scaled = scale_data(x_scaler, x_validation)\n",
    "y_val_scaled = f(y_validation)\n",
    "x_val_scaled = x_val_scaled.reshape((val_length, seq_len, n_features * 2))\n",
    "\n",
    "print('x_validation shape:', x_val_scaled.shape)\n",
    "print('y_validation shape:', y_val_scaled.shape)\n",
    "print(\"End of loading and preprocessing validation samples\")\n",
    "\n",
    "print(\"Loading testing samples...\")\n",
    "x_test = load_features(data_path+'test.txt', skip_header = False, skip_instname=False)\n",
    "test_labels = load_labels(data_path+'test_labels.txt', skip_header=False, skip_instname=False)\n",
    "y_test = test_labels.reshape((test_length, seq_len, 3))\n",
    "print(\"Loading finished, Scaling...\")\n",
    "x_test_scaled = scale_data(x_scaler, x_test)\n",
    "y_test_scaled = f(y_test)\n",
    "x_test_scaled = x_test_scaled.reshape((test_length, seq_len, n_features * 2))\n",
    "\n",
    "print('x_test shape:', x_test_scaled.shape)\n",
    "print('y_test shape:', y_test_scaled.shape)\n",
    "print(\"End of loading and preprocessing test samples\")"
   ]
  },
  {
   "cell_type": "code",
   "execution_count": 31,
   "id": "8a161c73-9701-4ff4-ad61-cc24fc47aa6c",
   "metadata": {},
   "outputs": [],
   "source": [
    "# headers = y_train.columns\n",
    "# print(headers)\n",
    "headers = ['Arousal', 'Valence', 'Dominance']"
   ]
  },
  {
   "cell_type": "code",
   "execution_count": 32,
   "id": "fbeed576-7055-44b8-b324-d2c887cd50f8",
   "metadata": {},
   "outputs": [
    {
     "data": {
      "text/plain": [
       "2684"
      ]
     },
     "execution_count": 32,
     "metadata": {},
     "output_type": "execute_result"
    }
   ],
   "source": [
    "len(y_train_scaled)"
   ]
  },
  {
   "cell_type": "markdown",
   "id": "c13dc203",
   "metadata": {},
   "source": [
    "### Building RNN-LSTM model\n"
   ]
  },
  {
   "cell_type": "code",
   "execution_count": 14,
   "id": "4a3bb6b1",
   "metadata": {},
   "outputs": [],
   "source": [
    "import keras.backend as K\n",
    "from keras.models import Model, save_model, load_model, Sequential\n",
    "from keras.layers import Input, Dense, Masking, LSTM, Dropout, TimeDistributed, Bidirectional, Flatten, Embedding, Conv1D, BatchNormalization, MaxPool1D\n",
    "from tensorflow.keras.optimizers import RMSprop, Adam\n",
    "\n",
    "from numpy.random import seed\n",
    "from tensorflow.keras.utils import set_random_seed\n",
    "import tensorflow as tf\n",
    "from tensorflow.keras.callbacks import EarlyStopping"
   ]
  },
  {
   "cell_type": "markdown",
   "id": "39d1e34a-531f-484a-a58e-8fe1b733ba38",
   "metadata": {},
   "source": [
    "### Multi-task learning\n",
    "\n",
    "three models are integrated and each model covers Arousal, Valence, Dominance respectively."
   ]
  },
  {
   "cell_type": "code",
   "execution_count": 83,
   "id": "40323eec",
   "metadata": {},
   "outputs": [],
   "source": [
    "# train_length = 25253\n",
    "# val_length = 9471\n",
    "# test_length = 13794\n",
    "# train_length = 41815\n",
    "# val_length = 13451\n",
    "# test_length = 22633\n",
    "\n",
    "n_features = 50\n",
    "random_seed = 42\n",
    "\n",
    "epochs = 50\n",
    "batch_size = 32\n",
    "\n",
    "\n",
    "def create_model(n_units1=64, n_units2=32):\n",
    "    model = Sequential()\n",
    "    inputs = Input(shape=(seq_len, n_features), dtype=float)\n",
    "    mask = Masking()(inputs)\n",
    "    lstm_1 = LSTM(n_units1, return_sequences=True)(mask)\n",
    "    lstm_2 = LSTM(n_units2, return_sequences=True)(lstm_1)\n",
    "    modes = lstm_2\n",
    "    output = [TimeDistributed(Dense(1), name=name)(modes) for i, name in enumerate(headers)]\n",
    "    \n",
    "    model = Model(inputs=inputs, outputs=output)\n",
    "    \n",
    "    rmsprop = RMSprop(lr=0.0001)\n",
    "    model.compile(optimizer=rmsprop, loss=ccc_loss, metrics=[ccc])\n",
    "    return model\n",
    "#\n",
    "# def create_arousal(n_units1=64, n_units2=32, dropout, bidirection=False):\n",
    "#     a_input = Input(shape=(time_step, n_features), dtype=float, name='arousal_model_input')\n",
    "#     mask = Masking()(a_input)\n",
    "#     if bidirection:\n",
    "#         a_lstm1 = Bidirectional(LSTM(n_units1, return_sequences=True))(mask)\n",
    "#     else:\n",
    "#         a_lstm1 = LSTM(n_units1, return_sequences=True)(mask)\n",
    "#     a_lstm1 = Dropout(dropout)(a_lstm1)\n",
    "#     if bidirection:\n",
    "#         a_lstm2 = Bidirectional(LSTM(n_units2, return_sequences=False)(a_lstm1))\n",
    "#     else:\n",
    "#         a_lstm2 = LSTM(n_units2, return_sequences=False)(a_lstm1)\n",
    "#     a_lstm2 = Dropout(dropout)(a_lstm2)\n",
    "#     a_dense = Dense(\n",
    "    \n",
    "    \n",
    "    "
   ]
  },
  {
   "cell_type": "code",
   "execution_count": 84,
   "id": "f00a9428",
   "metadata": {},
   "outputs": [
    {
     "name": "stdout",
     "output_type": "stream",
     "text": [
      "Model: \"model_9\"\n",
      "__________________________________________________________________________________________________\n",
      " Layer (type)                   Output Shape         Param #     Connected to                     \n",
      "==================================================================================================\n",
      " input_12 (InputLayer)          [(None, 388, 50)]    0           []                               \n",
      "                                                                                                  \n",
      " masking_11 (Masking)           (None, 388, 50)      0           ['input_12[0][0]']               \n",
      "                                                                                                  \n",
      " lstm_21 (LSTM)                 (None, 388, 64)      29440       ['masking_11[0][0]']             \n",
      "                                                                                                  \n",
      " lstm_22 (LSTM)                 (None, 388, 32)      12416       ['lstm_21[0][0]']                \n",
      "                                                                                                  \n",
      " Arousal (TimeDistributed)      (None, 388, 1)       33          ['lstm_22[0][0]']                \n",
      "                                                                                                  \n",
      " Valence (TimeDistributed)      (None, 388, 1)       33          ['lstm_22[0][0]']                \n",
      "                                                                                                  \n",
      " Dominance (TimeDistributed)    (None, 388, 1)       33          ['lstm_22[0][0]']                \n",
      "                                                                                                  \n",
      "==================================================================================================\n",
      "Total params: 41,955\n",
      "Trainable params: 41,955\n",
      "Non-trainable params: 0\n",
      "__________________________________________________________________________________________________\n",
      "None\n"
     ]
    }
   ],
   "source": [
    "model = create_model(n_units1=64, n_units2=32)\n",
    "print(model.summary())"
   ]
  },
  {
   "cell_type": "code",
   "execution_count": 18,
   "id": "4abb3d5e-c60d-47a0-9075-24e298491c0c",
   "metadata": {},
   "outputs": [
    {
     "name": "stdout",
     "output_type": "stream",
     "text": [
      "You must install pydot (`pip install pydot`) and install graphviz (see instructions at https://graphviz.gitlab.io/download/) for plot_model/model_to_dot to work.\n"
     ]
    }
   ],
   "source": [
    "from tensorflow.keras.utils import plot_model\n",
    "plot_model(model)"
   ]
  },
  {
   "cell_type": "code",
   "execution_count": 11,
   "id": "29b74c5d-8863-4cf4-a185-e06d54cfed38",
   "metadata": {},
   "outputs": [
    {
     "data": {
      "text/html": [
       "<div>\n",
       "<style scoped>\n",
       "    .dataframe tbody tr th:only-of-type {\n",
       "        vertical-align: middle;\n",
       "    }\n",
       "\n",
       "    .dataframe tbody tr th {\n",
       "        vertical-align: top;\n",
       "    }\n",
       "\n",
       "    .dataframe thead th {\n",
       "        text-align: right;\n",
       "    }\n",
       "</style>\n",
       "<table border=\"1\" class=\"dataframe\">\n",
       "  <thead>\n",
       "    <tr style=\"text-align: right;\">\n",
       "      <th></th>\n",
       "      <th>Arousal</th>\n",
       "      <th>Dominance</th>\n",
       "    </tr>\n",
       "  </thead>\n",
       "  <tbody>\n",
       "    <tr>\n",
       "      <th>0</th>\n",
       "      <td>0.131463</td>\n",
       "      <td>0.130148</td>\n",
       "    </tr>\n",
       "    <tr>\n",
       "      <th>1</th>\n",
       "      <td>0.120476</td>\n",
       "      <td>0.131123</td>\n",
       "    </tr>\n",
       "    <tr>\n",
       "      <th>2</th>\n",
       "      <td>0.112240</td>\n",
       "      <td>0.131850</td>\n",
       "    </tr>\n",
       "    <tr>\n",
       "      <th>3</th>\n",
       "      <td>0.107064</td>\n",
       "      <td>0.124378</td>\n",
       "    </tr>\n",
       "    <tr>\n",
       "      <th>4</th>\n",
       "      <td>0.099479</td>\n",
       "      <td>0.121350</td>\n",
       "    </tr>\n",
       "    <tr>\n",
       "      <th>...</th>\n",
       "      <td>...</td>\n",
       "      <td>...</td>\n",
       "    </tr>\n",
       "    <tr>\n",
       "      <th>41810</th>\n",
       "      <td>0.220442</td>\n",
       "      <td>0.146308</td>\n",
       "    </tr>\n",
       "    <tr>\n",
       "      <th>41811</th>\n",
       "      <td>0.224396</td>\n",
       "      <td>0.147028</td>\n",
       "    </tr>\n",
       "    <tr>\n",
       "      <th>41812</th>\n",
       "      <td>0.229963</td>\n",
       "      <td>0.150131</td>\n",
       "    </tr>\n",
       "    <tr>\n",
       "      <th>41813</th>\n",
       "      <td>0.236319</td>\n",
       "      <td>0.156082</td>\n",
       "    </tr>\n",
       "    <tr>\n",
       "      <th>41814</th>\n",
       "      <td>0.245087</td>\n",
       "      <td>0.166378</td>\n",
       "    </tr>\n",
       "  </tbody>\n",
       "</table>\n",
       "<p>41815 rows × 2 columns</p>\n",
       "</div>"
      ],
      "text/plain": [
       "        Arousal  Dominance\n",
       "0      0.131463   0.130148\n",
       "1      0.120476   0.131123\n",
       "2      0.112240   0.131850\n",
       "3      0.107064   0.124378\n",
       "4      0.099479   0.121350\n",
       "...         ...        ...\n",
       "41810  0.220442   0.146308\n",
       "41811  0.224396   0.147028\n",
       "41812  0.229963   0.150131\n",
       "41813  0.236319   0.156082\n",
       "41814  0.245087   0.166378\n",
       "\n",
       "[41815 rows x 2 columns]"
      ]
     },
     "execution_count": 11,
     "metadata": {},
     "output_type": "execute_result"
    }
   ],
   "source": [
    "y_train_scaled.loc[:,['Arousal', 'Dominance']]"
   ]
  },
  {
   "cell_type": "code",
   "execution_count": 85,
   "id": "083ca975-8a26-44bd-93af-12976345c280",
   "metadata": {},
   "outputs": [
    {
     "data": {
      "text/plain": [
       "(2684, 388, 1)"
      ]
     },
     "execution_count": 85,
     "metadata": {},
     "output_type": "execute_result"
    }
   ],
   "source": [
    "y_train_dta = []\n",
    "y_val_dta = []\n",
    "\n",
    "index = [0,1,2]\n",
    "for i in index:\n",
    "    dim = np.empty((train_length, seq_len, 1))\n",
    "    dim[:,:,0] = y_train_scaled[:,:,i]\n",
    "    y_train_dta.append(dim)\n",
    "    val_dim = np.empty((val_length, seq_len, 1))\n",
    "    val_dim[:,:,0] = y_val_scaled[:,:,i]\n",
    "    y_val_dta.append(val_dim)\n",
    "y_train_dta[2].shape"
   ]
  },
  {
   "cell_type": "code",
   "execution_count": 86,
   "id": "4fb1de9f-1166-44b2-b7da-f94878d5de27",
   "metadata": {},
   "outputs": [
    {
     "name": "stdout",
     "output_type": "stream",
     "text": [
      "Epoch 1/50\n",
      "84/84 [==============================] - 15s 75ms/step - loss: 2.2320 - Arousal_loss: 0.3740 - Valence_loss: 1.0250 - Dominance_loss: 0.8329 - Arousal_ccc: 0.6260 - Valence_ccc: -0.0250 - Dominance_ccc: 0.1671 - val_loss: 1.8593 - val_Arousal_loss: 0.3626 - val_Valence_loss: 1.0190 - val_Dominance_loss: 0.4777 - val_Arousal_ccc: 0.6374 - val_Valence_ccc: -0.0190 - val_Dominance_ccc: 0.5223\n",
      "Epoch 2/50\n",
      "84/84 [==============================] - 4s 42ms/step - loss: 1.5331 - Arousal_loss: 0.2910 - Valence_loss: 1.0048 - Dominance_loss: 0.2373 - Arousal_ccc: 0.7090 - Valence_ccc: -0.0048 - Dominance_ccc: 0.7627 - val_loss: 1.5948 - val_Arousal_loss: 0.2913 - val_Valence_loss: 0.9954 - val_Dominance_loss: 0.3081 - val_Arousal_ccc: 0.7087 - val_Valence_ccc: 0.0046 - val_Dominance_ccc: 0.6919\n",
      "Epoch 3/50\n",
      "84/84 [==============================] - 4s 43ms/step - loss: 1.2954 - Arousal_loss: 0.2562 - Valence_loss: 0.8545 - Dominance_loss: 0.1846 - Arousal_ccc: 0.7438 - Valence_ccc: 0.1455 - Dominance_ccc: 0.8154 - val_loss: 1.4763 - val_Arousal_loss: 0.2458 - val_Valence_loss: 0.9539 - val_Dominance_loss: 0.2766 - val_Arousal_ccc: 0.7542 - val_Valence_ccc: 0.0461 - val_Dominance_ccc: 0.7234\n",
      "Epoch 4/50\n",
      "84/84 [==============================] - 4s 43ms/step - loss: 1.1277 - Arousal_loss: 0.2339 - Valence_loss: 0.7266 - Dominance_loss: 0.1671 - Arousal_ccc: 0.7661 - Valence_ccc: 0.2734 - Dominance_ccc: 0.8329 - val_loss: 1.4555 - val_Arousal_loss: 0.2413 - val_Valence_loss: 0.9527 - val_Dominance_loss: 0.2615 - val_Arousal_ccc: 0.7587 - val_Valence_ccc: 0.0473 - val_Dominance_ccc: 0.7385\n",
      "Epoch 5/50\n",
      "84/84 [==============================] - 4s 43ms/step - loss: 1.0674 - Arousal_loss: 0.2194 - Valence_loss: 0.6924 - Dominance_loss: 0.1556 - Arousal_ccc: 0.7806 - Valence_ccc: 0.3076 - Dominance_ccc: 0.8444 - val_loss: 1.3619 - val_Arousal_loss: 0.2205 - val_Valence_loss: 0.9256 - val_Dominance_loss: 0.2157 - val_Arousal_ccc: 0.7795 - val_Valence_ccc: 0.0744 - val_Dominance_ccc: 0.7843\n",
      "Epoch 6/50\n",
      "84/84 [==============================] - 4s 42ms/step - loss: 1.0255 - Arousal_loss: 0.2101 - Valence_loss: 0.6672 - Dominance_loss: 0.1482 - Arousal_ccc: 0.7899 - Valence_ccc: 0.3328 - Dominance_ccc: 0.8518 - val_loss: 1.3585 - val_Arousal_loss: 0.2230 - val_Valence_loss: 0.9271 - val_Dominance_loss: 0.2084 - val_Arousal_ccc: 0.7770 - val_Valence_ccc: 0.0729 - val_Dominance_ccc: 0.7916\n",
      "Epoch 7/50\n",
      "84/84 [==============================] - 4s 42ms/step - loss: 0.9981 - Arousal_loss: 0.2046 - Valence_loss: 0.6511 - Dominance_loss: 0.1424 - Arousal_ccc: 0.7954 - Valence_ccc: 0.3489 - Dominance_ccc: 0.8576 - val_loss: 1.3322 - val_Arousal_loss: 0.2069 - val_Valence_loss: 0.9177 - val_Dominance_loss: 0.2075 - val_Arousal_ccc: 0.7931 - val_Valence_ccc: 0.0823 - val_Dominance_ccc: 0.7925\n",
      "Epoch 8/50\n",
      "84/84 [==============================] - 4s 42ms/step - loss: 0.9757 - Arousal_loss: 0.1981 - Valence_loss: 0.6391 - Dominance_loss: 0.1384 - Arousal_ccc: 0.8019 - Valence_ccc: 0.3609 - Dominance_ccc: 0.8616 - val_loss: 1.3337 - val_Arousal_loss: 0.2006 - val_Valence_loss: 0.9499 - val_Dominance_loss: 0.1832 - val_Arousal_ccc: 0.7994 - val_Valence_ccc: 0.0501 - val_Dominance_ccc: 0.8168\n",
      "Epoch 9/50\n",
      "84/84 [==============================] - 4s 43ms/step - loss: 0.9573 - Arousal_loss: 0.1936 - Valence_loss: 0.6298 - Dominance_loss: 0.1339 - Arousal_ccc: 0.8064 - Valence_ccc: 0.3702 - Dominance_ccc: 0.8661 - val_loss: 1.3379 - val_Arousal_loss: 0.1962 - val_Valence_loss: 0.9625 - val_Dominance_loss: 0.1793 - val_Arousal_ccc: 0.8038 - val_Valence_ccc: 0.0375 - val_Dominance_ccc: 0.8207\n",
      "Epoch 10/50\n",
      "84/84 [==============================] - 4s 42ms/step - loss: 0.9420 - Arousal_loss: 0.1916 - Valence_loss: 0.6176 - Dominance_loss: 0.1328 - Arousal_ccc: 0.8084 - Valence_ccc: 0.3824 - Dominance_ccc: 0.8672 - val_loss: 1.3331 - val_Arousal_loss: 0.1963 - val_Valence_loss: 0.9631 - val_Dominance_loss: 0.1737 - val_Arousal_ccc: 0.8037 - val_Valence_ccc: 0.0369 - val_Dominance_ccc: 0.8263\n",
      "Epoch 11/50\n",
      "84/84 [==============================] - 4s 42ms/step - loss: 0.9263 - Arousal_loss: 0.1876 - Valence_loss: 0.6090 - Dominance_loss: 0.1297 - Arousal_ccc: 0.8124 - Valence_ccc: 0.3910 - Dominance_ccc: 0.8703 - val_loss: 1.2840 - val_Arousal_loss: 0.1878 - val_Valence_loss: 0.9257 - val_Dominance_loss: 0.1704 - val_Arousal_ccc: 0.8122 - val_Valence_ccc: 0.0743 - val_Dominance_ccc: 0.8296\n",
      "Epoch 12/50\n",
      "84/84 [==============================] - 4s 42ms/step - loss: 0.9210 - Arousal_loss: 0.1856 - Valence_loss: 0.6083 - Dominance_loss: 0.1271 - Arousal_ccc: 0.8144 - Valence_ccc: 0.3917 - Dominance_ccc: 0.8729 - val_loss: 1.3089 - val_Arousal_loss: 0.1881 - val_Valence_loss: 0.9520 - val_Dominance_loss: 0.1688 - val_Arousal_ccc: 0.8119 - val_Valence_ccc: 0.0480 - val_Dominance_ccc: 0.8312\n",
      "Epoch 13/50\n",
      "84/84 [==============================] - 4s 43ms/step - loss: 0.9100 - Arousal_loss: 0.1825 - Valence_loss: 0.6033 - Dominance_loss: 0.1241 - Arousal_ccc: 0.8175 - Valence_ccc: 0.3967 - Dominance_ccc: 0.8759 - val_loss: 1.2912 - val_Arousal_loss: 0.1860 - val_Valence_loss: 0.9415 - val_Dominance_loss: 0.1636 - val_Arousal_ccc: 0.8140 - val_Valence_ccc: 0.0585 - val_Dominance_ccc: 0.8364\n",
      "Epoch 14/50\n",
      "84/84 [==============================] - 4s 43ms/step - loss: 0.9017 - Arousal_loss: 0.1818 - Valence_loss: 0.5966 - Dominance_loss: 0.1233 - Arousal_ccc: 0.8182 - Valence_ccc: 0.4034 - Dominance_ccc: 0.8767 - val_loss: 1.2997 - val_Arousal_loss: 0.1890 - val_Valence_loss: 0.9519 - val_Dominance_loss: 0.1588 - val_Arousal_ccc: 0.8110 - val_Valence_ccc: 0.0481 - val_Dominance_ccc: 0.8412\n",
      "Epoch 15/50\n",
      "84/84 [==============================] - 4s 43ms/step - loss: 0.8940 - Arousal_loss: 0.1809 - Valence_loss: 0.5913 - Dominance_loss: 0.1218 - Arousal_ccc: 0.8191 - Valence_ccc: 0.4087 - Dominance_ccc: 0.8782 - val_loss: 1.2922 - val_Arousal_loss: 0.1825 - val_Valence_loss: 0.9336 - val_Dominance_loss: 0.1761 - val_Arousal_ccc: 0.8175 - val_Valence_ccc: 0.0664 - val_Dominance_ccc: 0.8239\n",
      "Epoch 16/50\n",
      "84/84 [==============================] - 4s 42ms/step - loss: 0.8907 - Arousal_loss: 0.1794 - Valence_loss: 0.5909 - Dominance_loss: 0.1205 - Arousal_ccc: 0.8206 - Valence_ccc: 0.4091 - Dominance_ccc: 0.8795 - val_loss: 1.2806 - val_Arousal_loss: 0.1832 - val_Valence_loss: 0.9373 - val_Dominance_loss: 0.1600 - val_Arousal_ccc: 0.8168 - val_Valence_ccc: 0.0627 - val_Dominance_ccc: 0.8400\n",
      "Epoch 17/50\n",
      "84/84 [==============================] - 4s 43ms/step - loss: 0.8788 - Arousal_loss: 0.1770 - Valence_loss: 0.5825 - Dominance_loss: 0.1192 - Arousal_ccc: 0.8230 - Valence_ccc: 0.4175 - Dominance_ccc: 0.8808 - val_loss: 1.2799 - val_Arousal_loss: 0.1847 - val_Valence_loss: 0.9425 - val_Dominance_loss: 0.1528 - val_Arousal_ccc: 0.8153 - val_Valence_ccc: 0.0575 - val_Dominance_ccc: 0.8472\n",
      "Epoch 18/50\n",
      "84/84 [==============================] - 4s 42ms/step - loss: 0.8750 - Arousal_loss: 0.1761 - Valence_loss: 0.5806 - Dominance_loss: 0.1183 - Arousal_ccc: 0.8239 - Valence_ccc: 0.4194 - Dominance_ccc: 0.8817 - val_loss: 1.2945 - val_Arousal_loss: 0.1905 - val_Valence_loss: 0.9436 - val_Dominance_loss: 0.1605 - val_Arousal_ccc: 0.8095 - val_Valence_ccc: 0.0564 - val_Dominance_ccc: 0.8395\n",
      "Epoch 19/50\n",
      "84/84 [==============================] - 4s 43ms/step - loss: 0.8697 - Arousal_loss: 0.1760 - Valence_loss: 0.5766 - Dominance_loss: 0.1171 - Arousal_ccc: 0.8240 - Valence_ccc: 0.4234 - Dominance_ccc: 0.8829 - val_loss: 1.2811 - val_Arousal_loss: 0.1775 - val_Valence_loss: 0.9487 - val_Dominance_loss: 0.1549 - val_Arousal_ccc: 0.8225 - val_Valence_ccc: 0.0513 - val_Dominance_ccc: 0.8451\n",
      "Epoch 20/50\n",
      "84/84 [==============================] - 4s 43ms/step - loss: 0.8681 - Arousal_loss: 0.1760 - Valence_loss: 0.5757 - Dominance_loss: 0.1163 - Arousal_ccc: 0.8240 - Valence_ccc: 0.4243 - Dominance_ccc: 0.8837 - val_loss: 1.2927 - val_Arousal_loss: 0.1787 - val_Valence_loss: 0.9654 - val_Dominance_loss: 0.1486 - val_Arousal_ccc: 0.8213 - val_Valence_ccc: 0.0346 - val_Dominance_ccc: 0.8514\n",
      "Epoch 21/50\n",
      "84/84 [==============================] - 4s 43ms/step - loss: 0.8587 - Arousal_loss: 0.1753 - Valence_loss: 0.5690 - Dominance_loss: 0.1145 - Arousal_ccc: 0.8247 - Valence_ccc: 0.4310 - Dominance_ccc: 0.8855 - val_loss: 1.2980 - val_Arousal_loss: 0.1818 - val_Valence_loss: 0.9504 - val_Dominance_loss: 0.1658 - val_Arousal_ccc: 0.8182 - val_Valence_ccc: 0.0496 - val_Dominance_ccc: 0.8342\n",
      "Epoch 22/50\n",
      "84/84 [==============================] - 4s 43ms/step - loss: 0.8574 - Arousal_loss: 0.1742 - Valence_loss: 0.5682 - Dominance_loss: 0.1150 - Arousal_ccc: 0.8258 - Valence_ccc: 0.4318 - Dominance_ccc: 0.8850 - val_loss: 1.2710 - val_Arousal_loss: 0.1768 - val_Valence_loss: 0.9397 - val_Dominance_loss: 0.1544 - val_Arousal_ccc: 0.8232 - val_Valence_ccc: 0.0603 - val_Dominance_ccc: 0.8456\n",
      "Epoch 23/50\n",
      "84/84 [==============================] - 4s 43ms/step - loss: 0.8499 - Arousal_loss: 0.1728 - Valence_loss: 0.5629 - Dominance_loss: 0.1142 - Arousal_ccc: 0.8272 - Valence_ccc: 0.4371 - Dominance_ccc: 0.8858 - val_loss: 1.2989 - val_Arousal_loss: 0.1882 - val_Valence_loss: 0.9650 - val_Dominance_loss: 0.1457 - val_Arousal_ccc: 0.8118 - val_Valence_ccc: 0.0350 - val_Dominance_ccc: 0.8543\n",
      "Epoch 24/50\n",
      "84/84 [==============================] - 4s 42ms/step - loss: 0.8483 - Arousal_loss: 0.1725 - Valence_loss: 0.5629 - Dominance_loss: 0.1129 - Arousal_ccc: 0.8275 - Valence_ccc: 0.4371 - Dominance_ccc: 0.8871 - val_loss: 1.2621 - val_Arousal_loss: 0.1775 - val_Valence_loss: 0.9362 - val_Dominance_loss: 0.1485 - val_Arousal_ccc: 0.8225 - val_Valence_ccc: 0.0638 - val_Dominance_ccc: 0.8515\n",
      "Epoch 25/50\n",
      "84/84 [==============================] - 4s 43ms/step - loss: 0.8428 - Arousal_loss: 0.1718 - Valence_loss: 0.5584 - Dominance_loss: 0.1126 - Arousal_ccc: 0.8282 - Valence_ccc: 0.4416 - Dominance_ccc: 0.8874 - val_loss: 1.2886 - val_Arousal_loss: 0.1783 - val_Valence_loss: 0.9454 - val_Dominance_loss: 0.1650 - val_Arousal_ccc: 0.8217 - val_Valence_ccc: 0.0546 - val_Dominance_ccc: 0.8350\n",
      "Epoch 26/50\n",
      "84/84 [==============================] - 4s 42ms/step - loss: 0.8404 - Arousal_loss: 0.1720 - Valence_loss: 0.5568 - Dominance_loss: 0.1117 - Arousal_ccc: 0.8280 - Valence_ccc: 0.4432 - Dominance_ccc: 0.8883 - val_loss: 1.3005 - val_Arousal_loss: 0.1817 - val_Valence_loss: 0.9537 - val_Dominance_loss: 0.1651 - val_Arousal_ccc: 0.8183 - val_Valence_ccc: 0.0463 - val_Dominance_ccc: 0.8349\n",
      "Epoch 27/50\n",
      "84/84 [==============================] - 4s 43ms/step - loss: 0.8356 - Arousal_loss: 0.1706 - Valence_loss: 0.5537 - Dominance_loss: 0.1113 - Arousal_ccc: 0.8294 - Valence_ccc: 0.4463 - Dominance_ccc: 0.8887 - val_loss: 1.2532 - val_Arousal_loss: 0.1746 - val_Valence_loss: 0.9346 - val_Dominance_loss: 0.1440 - val_Arousal_ccc: 0.8254 - val_Valence_ccc: 0.0654 - val_Dominance_ccc: 0.8560\n",
      "Epoch 28/50\n",
      "84/84 [==============================] - 4s 43ms/step - loss: 0.8310 - Arousal_loss: 0.1701 - Valence_loss: 0.5500 - Dominance_loss: 0.1109 - Arousal_ccc: 0.8299 - Valence_ccc: 0.4500 - Dominance_ccc: 0.8891 - val_loss: 1.2589 - val_Arousal_loss: 0.1764 - val_Valence_loss: 0.9381 - val_Dominance_loss: 0.1444 - val_Arousal_ccc: 0.8236 - val_Valence_ccc: 0.0619 - val_Dominance_ccc: 0.8556\n",
      "Epoch 29/50\n",
      "84/84 [==============================] - 4s 43ms/step - loss: 0.8282 - Arousal_loss: 0.1690 - Valence_loss: 0.5492 - Dominance_loss: 0.1100 - Arousal_ccc: 0.8310 - Valence_ccc: 0.4508 - Dominance_ccc: 0.8900 - val_loss: 1.2612 - val_Arousal_loss: 0.1739 - val_Valence_loss: 0.9441 - val_Dominance_loss: 0.1432 - val_Arousal_ccc: 0.8261 - val_Valence_ccc: 0.0559 - val_Dominance_ccc: 0.8568\n",
      "Epoch 30/50\n",
      "84/84 [==============================] - 4s 43ms/step - loss: 0.8262 - Arousal_loss: 0.1693 - Valence_loss: 0.5472 - Dominance_loss: 0.1096 - Arousal_ccc: 0.8307 - Valence_ccc: 0.4528 - Dominance_ccc: 0.8904 - val_loss: 1.2694 - val_Arousal_loss: 0.1746 - val_Valence_loss: 0.9515 - val_Dominance_loss: 0.1433 - val_Arousal_ccc: 0.8254 - val_Valence_ccc: 0.0485 - val_Dominance_ccc: 0.8567\n",
      "Epoch 31/50\n",
      "84/84 [==============================] - 4s 43ms/step - loss: 0.8204 - Arousal_loss: 0.1683 - Valence_loss: 0.5424 - Dominance_loss: 0.1096 - Arousal_ccc: 0.8317 - Valence_ccc: 0.4576 - Dominance_ccc: 0.8904 - val_loss: 1.2633 - val_Arousal_loss: 0.1755 - val_Valence_loss: 0.9425 - val_Dominance_loss: 0.1453 - val_Arousal_ccc: 0.8245 - val_Valence_ccc: 0.0575 - val_Dominance_ccc: 0.8547\n",
      "Epoch 32/50\n",
      "84/84 [==============================] - 4s 42ms/step - loss: 0.8175 - Arousal_loss: 0.1681 - Valence_loss: 0.5399 - Dominance_loss: 0.1095 - Arousal_ccc: 0.8319 - Valence_ccc: 0.4601 - Dominance_ccc: 0.8905 - val_loss: 1.2628 - val_Arousal_loss: 0.1730 - val_Valence_loss: 0.9467 - val_Dominance_loss: 0.1431 - val_Arousal_ccc: 0.8270 - val_Valence_ccc: 0.0533 - val_Dominance_ccc: 0.8569\n"
     ]
    }
   ],
   "source": [
    "callback = EarlyStopping(monitor='val_loss', patience=5, mode='min')\n",
    "\n",
    "history = model.fit(x_train_scaled, y_train_dta, \n",
    "                    epochs=epochs, \n",
    "                    batch_size=batch_size,                     \n",
    "                    validation_data=(x_val_scaled, y_val_dta), \n",
    "                    callbacks=[callback])\n",
    "# plot_learningCurve(history, epochs)"
   ]
  },
  {
   "cell_type": "code",
   "execution_count": 74,
   "id": "b1b83d65",
   "metadata": {},
   "outputs": [
    {
     "name": "stdout",
     "output_type": "stream",
     "text": [
      "296/296 [==============================] - 4s 11ms/step\n"
     ]
    },
    {
     "data": {
      "text/plain": [
       "array([[0.48639995],\n",
       "       [0.31548062],\n",
       "       [0.49207112],\n",
       "       ...,\n",
       "       [0.29789454],\n",
       "       [0.26807895],\n",
       "       [0.19476964]], dtype=float32)"
      ]
     },
     "execution_count": 74,
     "metadata": {},
     "output_type": "execute_result"
    }
   ],
   "source": [
    "y_pred=model.predict(x_val_scaled)\n",
    "y_pred"
   ]
  },
  {
   "cell_type": "code",
   "execution_count": 55,
   "id": "4bd54dea",
   "metadata": {},
   "outputs": [
    {
     "data": {
      "text/html": [
       "<div>\n",
       "<style scoped>\n",
       "    .dataframe tbody tr th:only-of-type {\n",
       "        vertical-align: middle;\n",
       "    }\n",
       "\n",
       "    .dataframe tbody tr th {\n",
       "        vertical-align: top;\n",
       "    }\n",
       "\n",
       "    .dataframe thead th {\n",
       "        text-align: right;\n",
       "    }\n",
       "</style>\n",
       "<table border=\"1\" class=\"dataframe\">\n",
       "  <thead>\n",
       "    <tr style=\"text-align: right;\">\n",
       "      <th></th>\n",
       "      <th>Arousal</th>\n",
       "      <th>Valence</th>\n",
       "      <th>Dominance</th>\n",
       "    </tr>\n",
       "  </thead>\n",
       "  <tbody>\n",
       "    <tr>\n",
       "      <th>0</th>\n",
       "      <td>0.163089</td>\n",
       "      <td>0.159229</td>\n",
       "      <td>0.207163</td>\n",
       "    </tr>\n",
       "    <tr>\n",
       "      <th>1</th>\n",
       "      <td>0.405032</td>\n",
       "      <td>0.354663</td>\n",
       "      <td>0.399944</td>\n",
       "    </tr>\n",
       "    <tr>\n",
       "      <th>2</th>\n",
       "      <td>0.410818</td>\n",
       "      <td>0.334092</td>\n",
       "      <td>0.365697</td>\n",
       "    </tr>\n",
       "    <tr>\n",
       "      <th>3</th>\n",
       "      <td>0.322820</td>\n",
       "      <td>0.287947</td>\n",
       "      <td>0.366822</td>\n",
       "    </tr>\n",
       "    <tr>\n",
       "      <th>4</th>\n",
       "      <td>0.304500</td>\n",
       "      <td>0.274624</td>\n",
       "      <td>0.374503</td>\n",
       "    </tr>\n",
       "    <tr>\n",
       "      <th>...</th>\n",
       "      <td>...</td>\n",
       "      <td>...</td>\n",
       "      <td>...</td>\n",
       "    </tr>\n",
       "    <tr>\n",
       "      <th>9466</th>\n",
       "      <td>0.383390</td>\n",
       "      <td>-0.080103</td>\n",
       "      <td>0.238497</td>\n",
       "    </tr>\n",
       "    <tr>\n",
       "      <th>9467</th>\n",
       "      <td>0.379031</td>\n",
       "      <td>-0.065992</td>\n",
       "      <td>0.242540</td>\n",
       "    </tr>\n",
       "    <tr>\n",
       "      <th>9468</th>\n",
       "      <td>0.382344</td>\n",
       "      <td>-0.043107</td>\n",
       "      <td>0.245435</td>\n",
       "    </tr>\n",
       "    <tr>\n",
       "      <th>9469</th>\n",
       "      <td>0.385036</td>\n",
       "      <td>-0.021573</td>\n",
       "      <td>0.256853</td>\n",
       "    </tr>\n",
       "    <tr>\n",
       "      <th>9470</th>\n",
       "      <td>0.380194</td>\n",
       "      <td>-0.005330</td>\n",
       "      <td>0.257171</td>\n",
       "    </tr>\n",
       "  </tbody>\n",
       "</table>\n",
       "<p>9471 rows × 3 columns</p>\n",
       "</div>"
      ],
      "text/plain": [
       "       Arousal   Valence  Dominance\n",
       "0     0.163089  0.159229   0.207163\n",
       "1     0.405032  0.354663   0.399944\n",
       "2     0.410818  0.334092   0.365697\n",
       "3     0.322820  0.287947   0.366822\n",
       "4     0.304500  0.274624   0.374503\n",
       "...        ...       ...        ...\n",
       "9466  0.383390 -0.080103   0.238497\n",
       "9467  0.379031 -0.065992   0.242540\n",
       "9468  0.382344 -0.043107   0.245435\n",
       "9469  0.385036 -0.021573   0.256853\n",
       "9470  0.380194 -0.005330   0.257171\n",
       "\n",
       "[9471 rows x 3 columns]"
      ]
     },
     "execution_count": 55,
     "metadata": {},
     "output_type": "execute_result"
    }
   ],
   "source": [
    "y_val_scaled"
   ]
  },
  {
   "cell_type": "code",
   "execution_count": 75,
   "id": "4fe504aa-313b-4bb7-bda1-20c4ccb09c41",
   "metadata": {},
   "outputs": [
    {
     "data": {
      "text/plain": [
       "(array([  76.,  520.,  611.,  810., 1098., 1894., 2467., 1392.,  466.,\n",
       "         137.]),\n",
       " array([-0.06760712,  0.00668762,  0.08098235,  0.15527709,  0.22957182,\n",
       "         0.30386657,  0.37816128,  0.45245603,  0.52675074,  0.6010455 ,\n",
       "         0.67534024], dtype=float32),\n",
       " <BarContainer object of 10 artists>)"
      ]
     },
     "execution_count": 75,
     "metadata": {},
     "output_type": "execute_result"
    },
    {
     "data": {
      "image/png": "[encoded data removed]",
      "text/plain": [
       "<Figure size 432x288 with 1 Axes>"
      ]
     },
     "metadata": {
      "needs_background": "light"
     },
     "output_type": "display_data"
    }
   ],
   "source": [
    "plt.hist(y_pred)"
   ]
  },
  {
   "cell_type": "code",
   "execution_count": 76,
   "id": "f75e70a7-b4a3-4d7f-8b2a-bb5472283055",
   "metadata": {},
   "outputs": [
    {
     "data": {
      "text/plain": [
       "(array([  52.,  105.,  399., 1544., 2293., 2908., 1481.,  490.,  138.,\n",
       "          61.]),\n",
       " array([-0.13312835, -0.05516669,  0.02279497,  0.10075663,  0.17871829,\n",
       "         0.25667994,  0.3346416 ,  0.41260326,  0.49056492,  0.56852658,\n",
       "         0.64648824]),\n",
       " <BarContainer object of 10 artists>)"
      ]
     },
     "execution_count": 76,
     "metadata": {},
     "output_type": "execute_result"
    },
    {
     "data": {
      "image/png": "[encoded data removed]",
      "text/plain": [
       "<Figure size 432x288 with 1 Axes>"
      ]
     },
     "metadata": {
      "needs_background": "light"
     },
     "output_type": "display_data"
    }
   ],
   "source": [
    "plt.hist(y_val_scaled['Dominance'])"
   ]
  },
  {
   "cell_type": "markdown",
   "id": "e084594e-9150-4f33-82f7-aaf958128497",
   "metadata": {},
   "source": [
    "### Linguistic model"
   ]
  },
  {
   "cell_type": "code",
   "execution_count": 17,
   "id": "5f9e2a29-c2c0-4d0e-8e7b-92b58ff7d0a1",
   "metadata": {},
   "outputs": [
    {
     "data": {
      "text/html": [
       "<div>\n",
       "<style scoped>\n",
       "    .dataframe tbody tr th:only-of-type {\n",
       "        vertical-align: middle;\n",
       "    }\n",
       "\n",
       "    .dataframe tbody tr th {\n",
       "        vertical-align: top;\n",
       "    }\n",
       "\n",
       "    .dataframe thead th {\n",
       "        text-align: right;\n",
       "    }\n",
       "</style>\n",
       "<table border=\"1\" class=\"dataframe\">\n",
       "  <thead>\n",
       "    <tr style=\"text-align: right;\">\n",
       "      <th></th>\n",
       "      <th>Unnamed: 0</th>\n",
       "      <th>Filename</th>\n",
       "      <th>Time</th>\n",
       "      <th>Arousal</th>\n",
       "      <th>Valence</th>\n",
       "      <th>Dominance</th>\n",
       "    </tr>\n",
       "  </thead>\n",
       "  <tbody>\n",
       "    <tr>\n",
       "      <th>0</th>\n",
       "      <td>0</td>\n",
       "      <td>MSP-PODCAST_0021_0003</td>\n",
       "      <td>0.0-2.0</td>\n",
       "      <td>13.146256</td>\n",
       "      <td>16.753491</td>\n",
       "      <td>13.014761</td>\n",
       "    </tr>\n",
       "    <tr>\n",
       "      <th>1</th>\n",
       "      <td>1</td>\n",
       "      <td>MSP-PODCAST_0021_0003</td>\n",
       "      <td>0.0-2.5</td>\n",
       "      <td>12.047585</td>\n",
       "      <td>16.634094</td>\n",
       "      <td>13.112332</td>\n",
       "    </tr>\n",
       "    <tr>\n",
       "      <th>2</th>\n",
       "      <td>2</td>\n",
       "      <td>MSP-PODCAST_0021_0003</td>\n",
       "      <td>0.0-3.0</td>\n",
       "      <td>11.223967</td>\n",
       "      <td>16.184754</td>\n",
       "      <td>13.185027</td>\n",
       "    </tr>\n",
       "    <tr>\n",
       "      <th>3</th>\n",
       "      <td>3</td>\n",
       "      <td>MSP-PODCAST_0021_0003</td>\n",
       "      <td>0.0-3.5</td>\n",
       "      <td>10.706417</td>\n",
       "      <td>15.996252</td>\n",
       "      <td>12.437792</td>\n",
       "    </tr>\n",
       "    <tr>\n",
       "      <th>4</th>\n",
       "      <td>4</td>\n",
       "      <td>MSP-PODCAST_0021_0003</td>\n",
       "      <td>0.0-4.0</td>\n",
       "      <td>9.947854</td>\n",
       "      <td>15.493055</td>\n",
       "      <td>12.135020</td>\n",
       "    </tr>\n",
       "    <tr>\n",
       "      <th>...</th>\n",
       "      <td>...</td>\n",
       "      <td>...</td>\n",
       "      <td>...</td>\n",
       "      <td>...</td>\n",
       "      <td>...</td>\n",
       "      <td>...</td>\n",
       "    </tr>\n",
       "    <tr>\n",
       "      <th>41810</th>\n",
       "      <td>41810</td>\n",
       "      <td>MSP-PODCAST_1353_0041</td>\n",
       "      <td>22.0-26.0</td>\n",
       "      <td>22.044157</td>\n",
       "      <td>16.009710</td>\n",
       "      <td>14.630833</td>\n",
       "    </tr>\n",
       "    <tr>\n",
       "      <th>41811</th>\n",
       "      <td>41811</td>\n",
       "      <td>MSP-PODCAST_1353_0041</td>\n",
       "      <td>22.5-26.15</td>\n",
       "      <td>22.439580</td>\n",
       "      <td>16.266371</td>\n",
       "      <td>14.702753</td>\n",
       "    </tr>\n",
       "    <tr>\n",
       "      <th>41812</th>\n",
       "      <td>41812</td>\n",
       "      <td>MSP-PODCAST_1353_0041</td>\n",
       "      <td>23.0-26.15</td>\n",
       "      <td>22.996343</td>\n",
       "      <td>16.350448</td>\n",
       "      <td>15.013053</td>\n",
       "    </tr>\n",
       "    <tr>\n",
       "      <th>41813</th>\n",
       "      <td>41813</td>\n",
       "      <td>MSP-PODCAST_1353_0041</td>\n",
       "      <td>23.5-26.15</td>\n",
       "      <td>23.631934</td>\n",
       "      <td>16.277397</td>\n",
       "      <td>15.608230</td>\n",
       "    </tr>\n",
       "    <tr>\n",
       "      <th>41814</th>\n",
       "      <td>41814</td>\n",
       "      <td>MSP-PODCAST_1353_0041</td>\n",
       "      <td>24.0-26.15</td>\n",
       "      <td>24.508722</td>\n",
       "      <td>16.728517</td>\n",
       "      <td>16.637762</td>\n",
       "    </tr>\n",
       "  </tbody>\n",
       "</table>\n",
       "<p>41815 rows × 6 columns</p>\n",
       "</div>"
      ],
      "text/plain": [
       "       Unnamed: 0               Filename        Time    Arousal    Valence  \\\n",
       "0               0  MSP-PODCAST_0021_0003     0.0-2.0  13.146256  16.753491   \n",
       "1               1  MSP-PODCAST_0021_0003     0.0-2.5  12.047585  16.634094   \n",
       "2               2  MSP-PODCAST_0021_0003     0.0-3.0  11.223967  16.184754   \n",
       "3               3  MSP-PODCAST_0021_0003     0.0-3.5  10.706417  15.996252   \n",
       "4               4  MSP-PODCAST_0021_0003     0.0-4.0   9.947854  15.493055   \n",
       "...           ...                    ...         ...        ...        ...   \n",
       "41810       41810  MSP-PODCAST_1353_0041   22.0-26.0  22.044157  16.009710   \n",
       "41811       41811  MSP-PODCAST_1353_0041  22.5-26.15  22.439580  16.266371   \n",
       "41812       41812  MSP-PODCAST_1353_0041  23.0-26.15  22.996343  16.350448   \n",
       "41813       41813  MSP-PODCAST_1353_0041  23.5-26.15  23.631934  16.277397   \n",
       "41814       41814  MSP-PODCAST_1353_0041  24.0-26.15  24.508722  16.728517   \n",
       "\n",
       "       Dominance  \n",
       "0      13.014761  \n",
       "1      13.112332  \n",
       "2      13.185027  \n",
       "3      12.437792  \n",
       "4      12.135020  \n",
       "...          ...  \n",
       "41810  14.630833  \n",
       "41811  14.702753  \n",
       "41812  15.013053  \n",
       "41813  15.608230  \n",
       "41814  16.637762  \n",
       "\n",
       "[41815 rows x 6 columns]"
      ]
     },
     "execution_count": 18,
     "metadata": {},
     "output_type": "execute_result"
    }
   ],
   "source": [
    "y_train"
   ]
  },
  {
   "cell_type": "code",
   "execution_count": null,
   "id": "1e859855-8823-415d-abb4-12bfb8697797",
   "metadata": {},
   "outputs": [],
   "source": []
  }
 ],
 "metadata": {
  "kernelspec": {
   "display_name": "Python 3 (ipykernel)",
   "language": "python",
   "name": "python3"
  },
  "language_info": {
   "codemirror_mode": {
    "name": "ipython",
    "version": 3
   },
   "file_extension": ".py",
   "mimetype": "text/x-python",
   "name": "python",
   "nbconvert_exporter": "python",
   "pygments_lexer": "ipython3",
   "version": "3.8.10"
  }
 },
 "nbformat": 4,
 "nbformat_minor": 5
}
