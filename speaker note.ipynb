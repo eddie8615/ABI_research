{
 "cells": [
  {
   "cell_type": "code",
   "execution_count": 2,
   "id": "549a532f",
   "metadata": {},
   "outputs": [],
   "source": [
    "import os\n",
    "import json\n",
    "import pandas as pd\n",
    "import fnmatch\n",
    "import audiofile\n",
    "import opensmile\n",
    "from pydub import AudioSegment\n",
    "from tqdm import tqdm"
   ]
  },
  {
   "cell_type": "code",
   "execution_count": 3,
   "id": "a0c0b122",
   "metadata": {},
   "outputs": [
    {
     "data": {
      "text/plain": [
       "['Adventures in Brain Injury by Calvin Balaster',\n",
       " 'Between Two Brains by the Brain Injury Association',\n",
       " 'Brain Injury Connector',\n",
       " 'Brain Injury Conversations by Cynthia Burke',\n",
       " 'Brain Injury Today',\n",
       " 'Brainbank by Synapse',\n",
       " 'Dandelion Roots Making Connections',\n",
       " 'Expressions of Life With an Acquired Brain Injury',\n",
       " 'Hope Survives Brain Injury Podcast by Christabell Braden',\n",
       " 'Life After Brain Injury by Will and Amy Perringwood',\n",
       " 'Noggins and Neurons']"
      ]
     },
     "execution_count": 3,
     "metadata": {},
     "output_type": "execute_result"
    }
   ],
   "source": [
    "data_path = './ABI_data/'\n",
    "diary_path = data_path + 'diarization/'\n",
    "lld_path = data_path + 'LLDs/'\n",
    "audio_path = data_path + 'Audios/'\n",
    "\n",
    "if not os.path.exists(lld_path):\n",
    "    os.mkdir(lld_path)\n",
    "\n",
    "series = os.listdir(diary_path)\n",
    "series.sort()\n",
    "series"
   ]
  },
  {
   "cell_type": "code",
   "execution_count": 4,
   "id": "fafe63d8",
   "metadata": {},
   "outputs": [],
   "source": [
    "smile = opensmile.Smile(\n",
    "    feature_set=opensmile.FeatureSet.eGeMAPSv02,\n",
    "    feature_level=opensmile.FeatureLevel.LowLevelDescriptors,\n",
    "\n",
    "    num_workers=4\n",
    ")"
   ]
  },
  {
   "cell_type": "code",
   "execution_count": 5,
   "id": "025aca06",
   "metadata": {},
   "outputs": [
    {
     "name": "stderr",
     "output_type": "stream",
     "text": [
      "100%|████████████████████████████████████████| 56/56 [2:11:46<00:00, 141.19s/it]\n",
      "100%|███████████████████████████████████████████| 13/13 [19:07<00:00, 88.25s/it]\n",
      "100%|██████████████████████████████████████████| 16/16 [29:11<00:00, 109.44s/it]\n",
      "100%|████████████████████████████████████████████| 7/7 [13:13<00:00, 113.30s/it]\n",
      "100%|███████████████████████████████████████████| 26/26 [32:50<00:00, 75.77s/it]\n",
      "100%|█████████████████████████████████████████████| 6/6 [04:47<00:00, 47.89s/it]\n",
      "100%|███████████████████████████████████████████| 21/21 [08:44<00:00, 24.97s/it]\n",
      "100%|█████████████████████████████████████████████| 5/5 [01:36<00:00, 19.21s/it]\n",
      "100%|███████████████████████████████████████████| 18/18 [28:34<00:00, 95.25s/it]\n",
      "100%|███████████████████████████████████████████| 13/13 [05:49<00:00, 26.88s/it]\n",
      "100%|████████████████████████████████████████| 62/62 [2:29:50<00:00, 145.00s/it]\n"
     ]
    }
   ],
   "source": [
    "min_length = 1.0\n",
    "\n",
    "for s in series:\n",
    "    output_path = lld_path + s + '/'\n",
    "    if not os.path.exists(output_path):\n",
    "        os.mkdir(output_path)\n",
    "    \n",
    "    episodes = fnmatch.filter(os.listdir(diary_path+s+'/'), '*_cleaned.json')\n",
    "    for episode in tqdm(episodes):\n",
    "        f = open(diary_path + s + '/' + episode)\n",
    "        data = json.load(f)\n",
    "        \n",
    "        inst = episode.split('.')[0].split('_')[0]\n",
    "        audio_file_path = audio_path + s + '/' + inst + '.wav'\n",
    "#         signal, sample_rate = audiofile.read(audio_file_path, always_2d=True)\n",
    "        \n",
    "        for key in data:\n",
    "            segment = data[key]\n",
    "            start = segment['start']\n",
    "            end = segment['end']\n",
    "            if end - start < min_length:\n",
    "                continue\n",
    "            extracted = smile.process_file(audio_file_path, start=start, end=end)\n",
    "            extracted.to_csv(output_path + key + '.csv')\n",
    "            "
   ]
  },
  {
   "cell_type": "code",
   "execution_count": 42,
   "id": "7635c7f6",
   "metadata": {},
   "outputs": [
    {
     "data": {
      "text/plain": [
       "'Adventures in Brain Injury - Ep 8_cleaned.json'"
      ]
     },
     "execution_count": 42,
     "metadata": {},
     "output_type": "execute_result"
    }
   ],
   "source": [
    "episode"
   ]
  },
  {
   "cell_type": "code",
   "execution_count": null,
   "id": "8db43ea6",
   "metadata": {},
   "outputs": [],
   "source": []
  },
  {
   "cell_type": "code",
   "execution_count": null,
   "id": "26d16d7b",
   "metadata": {},
   "outputs": [],
   "source": []
  }
 ],
 "metadata": {
  "kernelspec": {
   "display_name": "env",
   "language": "python",
   "name": "abi_research"
  },
  "language_info": {
   "codemirror_mode": {
    "name": "ipython",
    "version": 3
   },
   "file_extension": ".py",
   "mimetype": "text/x-python",
   "name": "python",
   "nbconvert_exporter": "python",
   "pygments_lexer": "ipython3",
   "version": "3.8.10"
  }
 },
 "nbformat": 4,
 "nbformat_minor": 5
}
