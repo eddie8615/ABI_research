{
 "cells": [
  {
   "cell_type": "code",
   "execution_count": 101,
   "id": "19e57feb",
   "metadata": {},
   "outputs": [],
   "source": [
    "import os\n",
    "import json\n",
    "import pandas as pd\n",
    "import fnmatch\n",
    "from pyannote.audio import Pipeline"
   ]
  },
  {
   "cell_type": "code",
   "execution_count": 62,
   "id": "b98db869",
   "metadata": {},
   "outputs": [],
   "source": [
    "pipeline = Pipeline.from_pretrained(\"pyannote/speaker-diarization\")"
   ]
  },
  {
   "cell_type": "code",
   "execution_count": 98,
   "id": "84efe1be",
   "metadata": {},
   "outputs": [],
   "source": [
    "data_path = './ABI_data/Audios/'\n",
    "diary_path = data_path + 'diarization/'\n",
    "if not os.path.exists(diary_path):\n",
    "    os.mkdir(diary_path)\n",
    "series = sorted(os.listdir(data_path))\n",
    "for podcast in series:\n",
    "    files = fnmatch.filter(os.listdir(data_path+podcast), '*.wav')\n",
    "    files.sort()\n",
    "    output_path = diary_path + podcast + '/'\n",
    "    if not os.path.exists(output_path):\n",
    "        os.mkdir(output_path)\n",
    "    \n",
    "    count = 1\n",
    "    for file in files:\n",
    "        inst = file.split('.')[0]\n",
    "        diarization = pipeline(data_path+podcast+'/'+file)\n",
    "        diary = dict()\n",
    "        for turn, _, speaker in diarization.itertracks(yield_label=True):\n",
    "            detail = dict()\n",
    "            detail['episode'] = inst\n",
    "            detail['start'] = turn.start\n",
    "            detail['end'] = turn.end\n",
    "            detail['speaker'] = speaker\n",
    "            key = podcast + '_' + str(count).zfill(5)\n",
    "            diary[key] = detail\n",
    "            count += 1\n",
    "#             print(f\"start={turn.start:.1f}s stop={turn.end:.1f}s speaker_{speaker}\")\n",
    "        break\n",
    "    break\n",
    "    "
   ]
  },
  {
   "cell_type": "code",
   "execution_count": 99,
   "id": "7ff3d5d6",
   "metadata": {},
   "outputs": [
    {
     "data": {
      "text/plain": [
       "{'Adventures in Brain Injury by Calvin Balaster_00001': {'start': 3395.5621875000006,\n",
       "  'end': 3398.9878125000005,\n",
       "  'speaker': 'SPEAKER_00'}}"
      ]
     },
     "execution_count": 99,
     "metadata": {},
     "output_type": "execute_result"
    }
   ],
   "source": [
    "diary"
   ]
  },
  {
   "cell_type": "code",
   "execution_count": 103,
   "id": "00d8e3d2",
   "metadata": {},
   "outputs": [],
   "source": [
    "with open(output_path+\"sample.json\", \"w\") as outfile:\n",
    "    json.dump(diary, outfile, indent=4)"
   ]
  },
  {
   "cell_type": "code",
   "execution_count": null,
   "id": "7420aae3",
   "metadata": {},
   "outputs": [],
   "source": []
  }
 ],
 "metadata": {
  "kernelspec": {
   "display_name": "Python 3 (ipykernel)",
   "language": "python",
   "name": "python3"
  },
  "language_info": {
   "codemirror_mode": {
    "name": "ipython",
    "version": 3
   },
   "file_extension": ".py",
   "mimetype": "text/x-python",
   "name": "python",
   "nbconvert_exporter": "python",
   "pygments_lexer": "ipython3",
   "version": "3.8.10"
  }
 },
 "nbformat": 4,
 "nbformat_minor": 5
}
