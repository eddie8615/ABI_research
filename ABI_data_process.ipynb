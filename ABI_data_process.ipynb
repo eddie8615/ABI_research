{
 "cells": [
  {
   "cell_type": "code",
   "execution_count": 1,
   "id": "19e57feb",
   "metadata": {
    "pycharm": {
     "name": "#%%\n"
    }
   },
   "outputs": [],
   "source": [
    "import os\n",
    "import json\n",
    "import pandas as pd\n",
    "import fnmatch\n",
    "# from pyannote.audio import Pipeline\n",
    "from tqdm import tqdm"
   ]
  },
  {
   "cell_type": "code",
   "execution_count": 13,
   "id": "fb9fe45c",
   "metadata": {
    "pycharm": {
     "name": "#%%\n"
    }
   },
   "outputs": [
    {
     "data": {
      "text/plain": [
       "['Brain Injury Today',\n",
       " 'Life After Brain Injury by Will and Amy Perringwood',\n",
       " 'Expressions of Life With an Acquired Brain Injury',\n",
       " 'Between Two Brains by the Brain Injury Association',\n",
       " 'Brainbank by Synapse',\n",
       " 'Brain Injury Conversations by Cynthia Burke']"
      ]
     },
     "execution_count": 13,
     "metadata": {},
     "output_type": "execute_result"
    }
   ],
   "source": [
    "data_path = './ABI_data/Audios/'\n",
    "path = './ABI_data/'\n",
    "diary_path = './ABI_data/diarization/'\n",
    "\n",
    "with open(path+'selected.txt', 'r') as f:\n",
    "    lines = f.readlines()\n",
    "    series = []\n",
    "    for line in lines:\n",
    "        series.append(line.strip('\\n'))\n",
    "series"
   ]
  },
  {
   "cell_type": "code",
   "execution_count": null,
   "id": "e6071338",
   "metadata": {
    "pycharm": {
     "name": "#%%\n"
    }
   },
   "outputs": [],
   "source": [
    "pipeline = Pipeline.from_pretrained(\"pyannote/speaker-diarization\")"
   ]
  },
  {
   "cell_type": "code",
   "execution_count": null,
   "id": "2795e00d",
   "metadata": {
    "pycharm": {
     "name": "#%%\n"
    }
   },
   "outputs": [],
   "source": [
    "data_path = './ABI_data/Audios/'\n",
    "diary_path = data_path + 'diarization/'\n",
    "if not os.path.exists(diary_path):\n",
    "    os.mkdir(diary_path)\n",
    "# series = sorted(os.listdir(data_path))\n",
    "\n",
    "for podcast in series:\n",
    "    files = fnmatch.filter(os.listdir(data_path+podcast), '*.wav')\n",
    "    files.sort()\n",
    "    output_path = diary_path + podcast + '/'\n",
    "    if not os.path.exists(output_path):\n",
    "        os.mkdir(output_path)\n",
    "    \n",
    "    print('Processing %s' % podcast)\n",
    "    count = 1\n",
    "    for file in tqdm(files):\n",
    "        inst = file.split('.')[0]\n",
    "        diarization = pipeline(data_path+podcast+'/'+file)\n",
    "        diary = dict()\n",
    "        \n",
    "        for turn, _, speaker in diarization.itertracks(yield_label=True):\n",
    "            \n",
    "            detail = dict()\n",
    "            detail['episode'] = inst\n",
    "            detail['start'] = turn.start\n",
    "            detail['end'] = turn.end\n",
    "            detail['speaker'] = speaker\n",
    "\n",
    "            key = podcast + '_' + str(count).zfill(5)\n",
    "            diary[key] = detail\n",
    "\n",
    "            count += 1\n",
    "            \n",
    "#             print(f\"start={turn.start:.1f}s stop={turn.end:.1f}s speaker_{speaker}\")\n",
    "        with open(output_path+inst+'.json', \"w\") as outfile:\n",
    "            json.dump(diary, outfile, indent=4)\n",
    "    \n",
    "    "
   ]
  },
  {
   "cell_type": "code",
   "execution_count": 15,
   "id": "e550d040",
   "metadata": {
    "pycharm": {
     "name": "#%%\n"
    }
   },
   "outputs": [
    {
     "data": {
      "text/plain": [
       "'./ABI_data/diarization/'"
      ]
     },
     "execution_count": 15,
     "metadata": {},
     "output_type": "execute_result"
    }
   ],
   "source": [
    "diary_path"
   ]
  },
  {
   "cell_type": "code",
   "execution_count": 19,
   "id": "170f931d",
   "metadata": {
    "pycharm": {
     "name": "#%%\n"
    }
   },
   "outputs": [
    {
     "name": "stdout",
     "output_type": "stream",
     "text": [
      "Brain Injury Todayhas1899\n",
      "Life After Brain Injury by Will and Amy Perringwoodhas910\n",
      "Expressions of Life With an Acquired Brain Injuryhas84\n",
      "Between Two Brains by the Brain Injury Associationhas1085\n",
      "Brainbank by Synapsehas297\n",
      "Brain Injury Conversations by Cynthia Burkehas2215\n"
     ]
    }
   ],
   "source": [
    "podcasts = os.listdir(diary_path)\n",
    "podcasts.sort()\n",
    "min_time = 1.0\n",
    "\n",
    "for podcast in series:\n",
    "    output_path = diary_path + podcast + '/'\n",
    "    diaries = os.listdir(output_path)\n",
    "    diaries.sort()\n",
    "    count = 1\n",
    "    \n",
    "    for d in diaries:\n",
    "        if d in '_cleaned':\n",
    "            continue\n",
    "        \n",
    "        f = open(diary_path + podcast + '/' + d)\n",
    "        inst = d.split('.')[0]\n",
    "        data = json.load(f)\n",
    "        last_speaker = \" \"\n",
    "        start_offset = 0\n",
    "\n",
    "        diary = dict()\n",
    "\n",
    "        for key in data:\n",
    "            segment = data[key]\n",
    "\n",
    "            if last_speaker == \" \":\n",
    "                last_speaker = segment['speaker']\n",
    "                start_offset = segment['start']\n",
    "                utter_end = segment['end']\n",
    "                continue\n",
    "            if segment['speaker'] != last_speaker or (segment['speaker'] == last_speaker and segment['start'] - utter_end > 2.0):\n",
    "                detail = dict()\n",
    "                detail['episode'] = segment['episode']\n",
    "                detail['start'] = start_offset\n",
    "                detail['end'] = utter_end\n",
    "                detail['speaker'] = last_speaker\n",
    "\n",
    "                new_key = key.split('_')[0] + '_'+str(count).zfill(5)\n",
    "                diary[new_key]  = detail\n",
    "\n",
    "                count += 1\n",
    "                last_speaker = segment['speaker']\n",
    "                start_offset = segment['start']\n",
    "            utter_end = segment['end']\n",
    "    \n",
    "        with open(output_path+inst+'_cleaned.json', \"w\") as outfile:\n",
    "            json.dump(diary, outfile, indent=4)\n",
    "    print(podcast + 'has' + str(count))"
   ]
  },
  {
   "cell_type": "code",
   "execution_count": 18,
   "id": "0e3b7c4b",
   "metadata": {
    "pycharm": {
     "name": "#%%\n"
    }
   },
   "outputs": [
    {
     "name": "stdout",
     "output_type": "stream",
     "text": [
      "Brain Injury Today has 332.859375 s max_duration\n",
      "Life After Brain Injury by Will and Amy Perringwood has 119.761875 s max_duration\n",
      "Expressions of Life With an Acquired Brain Injury has 351.607500 s max_duration\n",
      "Between Two Brains by the Brain Injury Association has 286.335000 s max_duration\n",
      "Brainbank by Synapse has 412.948125 s max_duration\n",
      "Brain Injury Conversations by Cynthia Burke has 162.860625 s max_duration\n"
     ]
    }
   ],
   "source": [
    "for podcast in series:\n",
    "    diaries = os.listdir(diary_path + podcast + '/')\n",
    "    max_duration = 0\n",
    "    \n",
    "    for diary in diaries:\n",
    "        f = open(diary_path + podcast + '/' + diary)\n",
    "        j = json.load(f)\n",
    "        for key in j:\n",
    "            segment = j[key]\n",
    "            start = segment['start']\n",
    "            end = segment['end']\n",
    "            duration = end - start\n",
    "            if duration > max_duration:\n",
    "                max_duration = duration\n",
    "                max_episode = segment['episode']\n",
    "                max_key = key\n",
    "      \n",
    "    print(podcast + ' has %f s max_duration' % max_duration)"
   ]
  },
  {
   "cell_type": "code",
   "execution_count": 12,
   "id": "d8ebff95",
   "metadata": {
    "pycharm": {
     "name": "#%%\n"
    }
   },
   "outputs": [
    {
     "name": "stdout",
     "output_type": "stream",
     "text": [
      "True\n"
     ]
    }
   ],
   "source": [
    "print('_clean' in d+'_clean')"
   ]
  },
  {
   "cell_type": "code",
   "execution_count": null,
   "id": "0467b7bc",
   "metadata": {},
   "outputs": [],
   "source": []
  }
 ],
 "metadata": {
  "kernelspec": {
   "display_name": "Python 3 (ipykernel)",
   "language": "python",
   "name": "python3"
  },
  "language_info": {
   "codemirror_mode": {
    "name": "ipython",
    "version": 3
   },
   "file_extension": ".py",
   "mimetype": "text/x-python",
   "name": "python",
   "nbconvert_exporter": "python",
   "pygments_lexer": "ipython3",
   "version": "3.8.10"
  }
 },
 "nbformat": 4,
 "nbformat_minor": 5
}