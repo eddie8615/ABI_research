{
 "cells": [
  {
   "cell_type": "code",
   "execution_count": 3,
   "id": "59ae74aa",
   "metadata": {},
   "outputs": [],
   "source": [
    "import os\n",
    "import json\n",
    "import fnmatch\n",
    "import numpy as np\n",
    "import pandas as pd\n",
    "from tqdm import tqdm"
   ]
  },
  {
   "cell_type": "code",
   "execution_count": 18,
   "id": "1a558928",
   "metadata": {
    "scrolled": true
   },
   "outputs": [],
   "source": [
    "folder_lld_features = ['LLDs/train/',\n",
    "                       'LLDs/validation/',\n",
    "                       'LLDs/test/']\n",
    "arouse_path = os.path.relpath('MSP Data/Annotations/Arousal')\n",
    "dominance_path = os.path.relpath('MSP Data/Annotations/Dominance')\n",
    "valence_path = os.path.relpath('MSP Data/Annotations/Valence')\n",
    "\n",
    "sections = ['train', 'validation', 'test']\n",
    "dimensions = ['Arousal', 'Valence', 'Dominance']"
   ]
  },
  {
   "cell_type": "code",
   "execution_count": 26,
   "id": "99e0c2b6",
   "metadata": {},
   "outputs": [],
   "source": [
    "def convert_timestamp(x):\n",
    "    # eGeMAPS configurations\n",
    "    # time unit: sec\n",
    "    # sample length: 20ms (0.02s)\n",
    "    # hop_size: 10ms (0.01s)\n",
    "    window_size = 0.02\n",
    "    hop_size = 0.01\n",
    "    for i in range(len(x)):\n",
    "        x.iloc[i, 0] = i * hop_size\n",
    "        x.iloc[i, 1] = x.iloc[i, 0] + window_size\n",
    "    return x"
   ]
  },
  {
   "cell_type": "code",
   "execution_count": 19,
   "id": "51400839",
   "metadata": {},
   "outputs": [],
   "source": [
    "def file_labels():\n",
    "    filepath = os.path.relpath('MSP Data/partitions.txt')\n",
    "    with open(filepath, 'r') as f:\n",
    "        lines = f.readlines()\n",
    "\n",
    "    train_files = []\n",
    "    validation_files = []\n",
    "    test_files = []\n",
    "\n",
    "    for line in lines:\n",
    "        text = line.strip().split(';')\n",
    "        if text[1] == 'Train':\n",
    "            train_files.append(text[0])\n",
    "        if text[1] == 'Validation':\n",
    "            validation_files.append(text[0])\n",
    "        if text[1] == 'Test':\n",
    "            test_files.append(text[0])\n",
    "    f.close()\n",
    "    # print('Number of training labels: ' + str(len(train_files)))\n",
    "    # print('Number of validation labels: ' + str(len(validation_files)))\n",
    "    # print('Number of testing labels: ' + str(len(test_files)))\n",
    "\n",
    "    return [train_files, validation_files, test_files]\n",
    "\n",
    "def get_annotations(data_phase=None):\n",
    "    train_files, validation_files, test_files = file_labels()\n",
    "\n",
    "    annotations = []\n",
    "    emotion_paths = []\n",
    "    emotion_paths.append(arouse_path)\n",
    "    emotion_paths.append(valence_path)\n",
    "    emotion_paths.append(dominance_path)\n",
    "    if data_phase == 'train':\n",
    "        data_file = train_files\n",
    "    elif data_phase == 'validation':\n",
    "        data_file = validation_files\n",
    "    elif data_phase == 'test':\n",
    "        data_file = test_files\n",
    "    else:\n",
    "        data_file = train_files + validation_files + test_files\n",
    "\n",
    "    for path in emotion_paths:\n",
    "        annotation = {}\n",
    "        li = os.listdir(path)\n",
    "        list1 = []\n",
    "        for file in li:\n",
    "            if file[0:21] in data_file:\n",
    "                list1.append(file)\n",
    "        list1.sort()\n",
    "        for elem in list1:\n",
    "            if elem[0:23] in annotation.keys():\n",
    "                annotation.get(elem[0:23]).append(elem)\n",
    "            else:\n",
    "                annotation[elem[0:23]] = [elem]\n",
    "        annotations.append(annotation)\n",
    "    return annotations"
   ]
  },
  {
   "cell_type": "code",
   "execution_count": 76,
   "id": "b16a6f77",
   "metadata": {},
   "outputs": [],
   "source": [
    "def load_features():\n",
    "    # Window size\n",
    "    window_size = 4.0  # 4s\n",
    "    # Hop length\n",
    "    hop_size = 0.5  # 500ms\n",
    "    # seq_length\n",
    "    seq_len = 399\n",
    "\n",
    "    for i, folder in enumerate(folder_lld_features):\n",
    "        # Initialise feature and label space for each partition\n",
    "        features = []\n",
    "        train = []\n",
    "        validation = []\n",
    "        test = []\n",
    "        annotations = get_annotations(sections[i])\n",
    "\n",
    "        arousal_label = []\n",
    "        valence_label = []\n",
    "        dominance_label = []\n",
    "        filenames = []\n",
    "        intervals = []\n",
    "\n",
    "        # load segment.json\n",
    "        segment_path = os.path.relpath('MSP Data/Time Labels/segments.json')\n",
    "        f = open(segment_path, 'r')\n",
    "        timing_data = json.load(f)\n",
    "\n",
    "\n",
    "        # Fetch all files\n",
    "        files = fnmatch.filter(os.listdir(folder_lld_features[i]), '*.csv')\n",
    "        files.sort()\n",
    "\n",
    "        for file in tqdm(files):\n",
    "            inst = file.split('.')[0]\n",
    "            file_part = timing_data[inst]['Conversation_Part']\n",
    "            start_offset = timing_data[inst]['Start_Time']\n",
    "            a_annotations = annotations[0].get(file_part)\n",
    "            v_annotations = annotations[1].get(file_part)\n",
    "            d_annotations = annotations[2].get(file_part)\n",
    "            \n",
    "            df_arousal = []\n",
    "            df_valence = []\n",
    "            df_dominance = []\n",
    "            for anno in a_annotations:\n",
    "                pp = os.path.join(arouse_path, anno)\n",
    "                df = pd.read_csv(pp, header=8, names=['time', 'arousal'])\n",
    "                df_arousal.append(df)\n",
    "\n",
    "            for anno in v_annotations:\n",
    "                pp = os.path.join(valence_path, anno)\n",
    "                df = pd.read_csv(pp, header=8, names=['time', 'valence'])\n",
    "                df_valence.append(df)\n",
    "\n",
    "            for anno in d_annotations:\n",
    "                pp = os.path.join(dominance_path, anno)\n",
    "                df = pd.read_csv(pp, header=8, names=['time', 'dominance'])\n",
    "                if anno == 'MSP-Conversation_0047_2_001.csv':\n",
    "                    df = df.reset_index()\n",
    "                    df = df.drop(columns=['dominance'])\n",
    "                    df.columns = ['time', 'dominance']\n",
    "                df_dominance.append(df)\n",
    "\n",
    "            x = pd.read_csv(folder_lld_features[i] + file)\n",
    "            x = convert_timestamp(x)\n",
    "            start = -hop_size\n",
    "            end = start\n",
    "            last_timestamp = max(x.iloc[:,1])\n",
    "            while end < last_timestamp:\n",
    "\n",
    "                # init emotion dimensions\n",
    "                arousal = []\n",
    "                valence = []\n",
    "                dominance = []\n",
    "\n",
    "                start += hop_size\n",
    "                end = start + window_size\n",
    "                if end > last_timestamp:\n",
    "                    end = last_timestamp\n",
    "\n",
    "                # features.append(get_features(start, end, x))\n",
    "                # Processing labels\n",
    "                # arousal, valence, dominance = get_labels(start, end, annotations, file)\n",
    "                \n",
    "                for df in df_arousal:\n",
    "                    df = df[(start + start_offset <= df['time']) & (df['time'] <= start_offset + end)]\n",
    "                    if df.empty:\n",
    "                        continue                                            \n",
    "                    arousal.append(df['arousal'].mean())\n",
    "                for df in df_valence:\n",
    "                    df = df[(start + start_offset <= df['time']) & (df['time'] <= start_offset + end)]\n",
    "                    if df.empty:\n",
    "                        continue\n",
    "                    valence.append(df['valence'].mean())\n",
    "                for df in df_dominance:\n",
    "                    df = df[(start + start_offset <= df['time']) & (df['time'] <= start_offset + end)]\n",
    "                    if df.empty:\n",
    "                        continue\n",
    "                    dominance.append(df['dominance'].mean())\n",
    "\n",
    "                filenames.append(file.split('.')[0])\n",
    "                intervals.append(str(start) +'-'+str(end))\n",
    "                if len(arousal) == 0:\n",
    "                    arousal = 0                \n",
    "                arousal = np.mean(arousal)\n",
    "                arousal_label.append(arousal)\n",
    "                if len(valence) == 0:\n",
    "                    valence = 0\n",
    "                valence = np.mean(valence)\n",
    "                valence_label.append(valence)\n",
    "                if len(dominance) == 0:\n",
    "                    dominance = 0\n",
    "                dominance = np.mean(dominance)\n",
    "                dominance_label.append(dominance)\n",
    "                print(\"%s, %f, Arousal: %f, Valence: %f, Dominance: %f\" % (file.split('.')[0], end-start, arousal, valence, dominance))\n",
    "                \n",
    "        if i == 0:\n",
    "            train = features\n",
    "        elif i == 1:\n",
    "            validation = features\n",
    "        else:\n",
    "            test = features\n",
    "\n",
    "        # Save the labels\n",
    "        di = {'Filename': filenames, 'Time': intervals, 'Arousal': arousal_label, 'Valence': valence_label, 'Dominance': dominance_label}\n",
    "        df = pd.DataFrame(di)\n",
    "\n",
    "        # Generate the labels\n",
    "        save_labels(df, output_path + sections[i] + '_labels.txt')\n",
    "\n",
    "    return train, validation, test"
   ]
  },
  {
   "cell_type": "code",
   "execution_count": 77,
   "id": "0aa025a3",
   "metadata": {},
   "outputs": [
    {
     "name": "stderr",
     "output_type": "stream",
     "text": [
      "  0%|                                          | 1/2783 [00:00<19:48,  2.34it/s]"
     ]
    },
    {
     "name": "stdout",
     "output_type": "stream",
     "text": [
      "MSP-PODCAST_0021_0003, 4.000000, Arousal: 9.947854, Valence: 15.493055, Dominance: 12.135020\n",
      "MSP-PODCAST_0021_0003, 4.000000, Arousal: 8.615077, Valence: 14.748074, Dominance: 10.779516\n",
      "MSP-PODCAST_0021_0003, 4.000000, Arousal: 7.571877, Valence: 14.002566, Dominance: 10.166878\n",
      "MSP-PODCAST_0021_0003, 4.000000, Arousal: 7.137072, Valence: 13.258419, Dominance: 9.375872\n",
      "MSP-PODCAST_0021_0003, 4.000000, Arousal: 5.371213, Valence: 12.564915, Dominance: 8.867617\n",
      "MSP-PODCAST_0021_0003, 3.600000, Arousal: 5.033686, Valence: 12.190566, Dominance: 8.327429\n"
     ]
    },
    {
     "name": "stderr",
     "output_type": "stream",
     "text": [
      "\r",
      "  0%|                                          | 2/2783 [00:00<18:42,  2.48it/s]"
     ]
    },
    {
     "name": "stdout",
     "output_type": "stream",
     "text": [
      "MSP-PODCAST_0021_0004, 4.000000, Arousal: 17.432326, Valence: 18.442748, Dominance: 14.636859\n",
      "MSP-PODCAST_0021_0004, 4.000000, Arousal: 19.667667, Valence: 19.506459, Dominance: 16.702306\n",
      "MSP-PODCAST_0021_0004, 4.000000, Arousal: 21.330815, Valence: 19.787917, Dominance: 18.322286\n",
      "MSP-PODCAST_0021_0004, 3.700000, Arousal: 22.752601, Valence: 20.147964, Dominance: 19.686090\n"
     ]
    },
    {
     "name": "stderr",
     "output_type": "stream",
     "text": [
      "\r",
      "  0%|                                          | 3/2783 [00:01<16:47,  2.76it/s]"
     ]
    },
    {
     "name": "stdout",
     "output_type": "stream",
     "text": [
      "MSP-PODCAST_0021_0006, 4.000000, Arousal: 23.228467, Valence: 16.073439, Dominance: 20.346044\n",
      "MSP-PODCAST_0021_0006, 4.000000, Arousal: 23.999562, Valence: 17.232952, Dominance: 21.709004\n",
      "MSP-PODCAST_0021_0006, 3.730000, Arousal: 24.715800, Valence: 18.176485, Dominance: 22.391185\n"
     ]
    },
    {
     "name": "stderr",
     "output_type": "stream",
     "text": [
      "\r",
      "  0%|                                          | 4/2783 [00:01<15:21,  3.02it/s]"
     ]
    },
    {
     "name": "stdout",
     "output_type": "stream",
     "text": [
      "MSP-PODCAST_0021_0009, 4.000000, Arousal: 20.376502, Valence: 2.959607, Dominance: 27.451643\n",
      "MSP-PODCAST_0021_0009, 4.000000, Arousal: 20.280545, Valence: 1.368836, Dominance: 26.770333\n",
      "MSP-PODCAST_0021_0009, 3.570000, Arousal: 19.555599, Valence: 0.520938, Dominance: 26.137923\n"
     ]
    },
    {
     "name": "stderr",
     "output_type": "stream",
     "text": [
      "\r",
      "  0%|                                          | 5/2783 [00:01<15:53,  2.91it/s]"
     ]
    },
    {
     "name": "stdout",
     "output_type": "stream",
     "text": [
      "MSP-PODCAST_0021_0010, 4.000000, Arousal: 22.514361, Valence: 0.594299, Dominance: 25.977189\n",
      "MSP-PODCAST_0021_0010, 4.000000, Arousal: 21.462507, Valence: 0.925176, Dominance: 27.686509\n",
      "MSP-PODCAST_0021_0010, 4.000000, Arousal: 21.029545, Valence: 1.117671, Dominance: 28.972768\n",
      "MSP-PODCAST_0021_0010, 3.730000, Arousal: 20.643948, Valence: 1.390841, Dominance: 30.438542\n"
     ]
    },
    {
     "name": "stderr",
     "output_type": "stream",
     "text": [
      "\r",
      "  0%|                                          | 6/2783 [00:02<14:12,  3.26it/s]"
     ]
    },
    {
     "name": "stdout",
     "output_type": "stream",
     "text": [
      "MSP-PODCAST_0021_0013, 4.000000, Arousal: 19.199667, Valence: -0.971709, Dominance: 19.446467\n"
     ]
    },
    {
     "name": "stderr",
     "output_type": "stream",
     "text": [
      "\r",
      "  0%|                                          | 7/2783 [00:02<14:43,  3.14it/s]"
     ]
    },
    {
     "name": "stdout",
     "output_type": "stream",
     "text": [
      "MSP-PODCAST_0021_0015, 4.000000, Arousal: 8.936726, Valence: 19.672467, Dominance: 25.013792\n",
      "MSP-PODCAST_0021_0015, 4.000000, Arousal: 10.018232, Valence: 19.831475, Dominance: 26.499456\n",
      "MSP-PODCAST_0021_0015, 4.000000, Arousal: 11.202175, Valence: 19.938152, Dominance: 27.059669\n",
      "MSP-PODCAST_0021_0015, 3.940000, Arousal: 12.724763, Valence: 20.385747, Dominance: 27.734259\n"
     ]
    },
    {
     "name": "stderr",
     "output_type": "stream",
     "text": [
      "\r",
      "  0%|                                          | 8/2783 [00:02<14:31,  3.18it/s]"
     ]
    },
    {
     "name": "stdout",
     "output_type": "stream",
     "text": [
      "MSP-PODCAST_0021_0040, 3.940000, Arousal: 23.010092, Valence: 22.225522, Dominance: 29.869954\n"
     ]
    },
    {
     "name": "stderr",
     "output_type": "stream",
     "text": [
      "\r",
      "  0%|▏                                         | 9/2783 [00:03<15:17,  3.02it/s]"
     ]
    },
    {
     "name": "stdout",
     "output_type": "stream",
     "text": [
      "MSP-PODCAST_0021_0048, 4.000000, Arousal: 22.674926, Valence: 9.648945, Dominance: 35.272905\n",
      "MSP-PODCAST_0021_0048, 4.000000, Arousal: 23.355785, Valence: 9.862107, Dominance: 35.986402\n",
      "MSP-PODCAST_0021_0048, 4.000000, Arousal: 24.164036, Valence: 10.417622, Dominance: 36.957372\n",
      "MSP-PODCAST_0021_0048, 4.000000, Arousal: 25.162284, Valence: 10.445504, Dominance: 37.392889\n",
      "MSP-PODCAST_0021_0048, 3.770000, Arousal: 25.940499, Valence: 10.532524, Dominance: 37.230945\n"
     ]
    },
    {
     "name": "stderr",
     "output_type": "stream",
     "text": [
      "\r",
      "  0%|▏                                        | 10/2783 [00:03<13:54,  3.32it/s]"
     ]
    },
    {
     "name": "stdout",
     "output_type": "stream",
     "text": [
      "MSP-PODCAST_0021_0051, 4.000000, Arousal: 29.117887, Valence: 1.793261, Dominance: 29.127625\n",
      "MSP-PODCAST_0021_0051, 3.510000, Arousal: 28.529812, Valence: 4.026895, Dominance: 28.953972\n"
     ]
    },
    {
     "name": "stderr",
     "output_type": "stream",
     "text": [
      "\r",
      "  0%|▏                                        | 11/2783 [00:03<13:49,  3.34it/s]"
     ]
    },
    {
     "name": "stdout",
     "output_type": "stream",
     "text": [
      "MSP-PODCAST_0023_0318, 4.000000, Arousal: 0.469506, Valence: 6.466218, Dominance: 3.858782\n",
      "MSP-PODCAST_0023_0318, 3.820000, Arousal: 0.597705, Valence: 7.135202, Dominance: 5.020489\n"
     ]
    },
    {
     "name": "stderr",
     "output_type": "stream",
     "text": [
      "\r",
      "  0%|▏                                        | 12/2783 [00:04<17:55,  2.58it/s]"
     ]
    },
    {
     "name": "stdout",
     "output_type": "stream",
     "text": [
      "MSP-PODCAST_0023_0319, 4.000000, Arousal: 8.933150, Valence: 8.040935, Dominance: 17.432510\n",
      "MSP-PODCAST_0023_0319, 4.000000, Arousal: 9.701266, Valence: 8.622943, Dominance: 18.135227\n",
      "MSP-PODCAST_0023_0319, 4.000000, Arousal: 10.002509, Valence: 9.772635, Dominance: 17.941996\n",
      "MSP-PODCAST_0023_0319, 4.000000, Arousal: 10.754394, Valence: 11.011813, Dominance: 17.350778\n",
      "MSP-PODCAST_0023_0319, 4.000000, Arousal: 11.427736, Valence: 11.600756, Dominance: 17.085857\n",
      "MSP-PODCAST_0023_0319, 4.000000, Arousal: 12.121021, Valence: 12.650216, Dominance: 15.771435\n",
      "MSP-PODCAST_0023_0319, 4.000000, Arousal: 12.145327, Valence: 13.240064, Dominance: 14.683881\n",
      "MSP-PODCAST_0023_0319, 4.000000, Arousal: 11.985151, Valence: 13.699044, Dominance: 14.343405\n",
      "MSP-PODCAST_0023_0319, 4.000000, Arousal: 11.791428, Valence: 14.356716, Dominance: 13.760942\n",
      "MSP-PODCAST_0023_0319, 4.000000, Arousal: 12.206940, Valence: 14.409675, Dominance: 13.982960\n",
      "MSP-PODCAST_0023_0319, 3.600000, Arousal: 12.700644, Valence: 14.358457, Dominance: 14.341761\n"
     ]
    },
    {
     "name": "stderr",
     "output_type": "stream",
     "text": [
      "\r",
      "  0%|▏                                        | 13/2783 [00:04<21:11,  2.18it/s]"
     ]
    },
    {
     "name": "stdout",
     "output_type": "stream",
     "text": [
      "MSP-PODCAST_0023_0320, 4.000000, Arousal: 14.080696, Valence: 10.982173, Dominance: 13.953844\n",
      "MSP-PODCAST_0023_0320, 4.000000, Arousal: 13.898909, Valence: 11.057939, Dominance: 14.713007\n",
      "MSP-PODCAST_0023_0320, 4.000000, Arousal: 14.435251, Valence: 11.306426, Dominance: 14.749187\n",
      "MSP-PODCAST_0023_0320, 4.000000, Arousal: 14.798724, Valence: 11.060044, Dominance: 15.072870\n",
      "MSP-PODCAST_0023_0320, 4.000000, Arousal: 14.563072, Valence: 10.747751, Dominance: 15.674681\n",
      "MSP-PODCAST_0023_0320, 4.000000, Arousal: 13.947974, Valence: 10.332287, Dominance: 16.042587\n",
      "MSP-PODCAST_0023_0320, 4.000000, Arousal: 13.644909, Valence: 9.717214, Dominance: 15.784100\n",
      "MSP-PODCAST_0023_0320, 4.000000, Arousal: 13.777411, Valence: 9.016578, Dominance: 15.729878\n",
      "MSP-PODCAST_0023_0320, 3.940000, Arousal: 13.659259, Valence: 8.153285, Dominance: 15.150307\n"
     ]
    },
    {
     "name": "stderr",
     "output_type": "stream",
     "text": [
      "\r",
      "  1%|▏                                        | 14/2783 [00:05<21:16,  2.17it/s]"
     ]
    },
    {
     "name": "stdout",
     "output_type": "stream",
     "text": [
      "MSP-PODCAST_0023_0321, 4.000000, Arousal: 9.924969, Valence: 4.502909, Dominance: 12.122741\n",
      "MSP-PODCAST_0023_0321, 4.000000, Arousal: 10.174118, Valence: 5.148392, Dominance: 12.304728\n",
      "MSP-PODCAST_0023_0321, 4.000000, Arousal: 10.307174, Valence: 5.691080, Dominance: 12.430870\n",
      "MSP-PODCAST_0023_0321, 4.000000, Arousal: 10.822774, Valence: 5.900333, Dominance: 12.445168\n",
      "MSP-PODCAST_0023_0321, 4.000000, Arousal: 11.623341, Valence: 5.693867, Dominance: 12.641986\n",
      "MSP-PODCAST_0023_0321, 4.000000, Arousal: 12.136294, Valence: 5.636841, Dominance: 13.056489\n",
      "MSP-PODCAST_0023_0321, 3.820000, Arousal: 12.662258, Valence: 5.461486, Dominance: 13.139341\n"
     ]
    },
    {
     "name": "stderr",
     "output_type": "stream",
     "text": [
      "\r",
      "  1%|▏                                        | 15/2783 [00:05<21:49,  2.11it/s]"
     ]
    },
    {
     "name": "stdout",
     "output_type": "stream",
     "text": [
      "MSP-PODCAST_0023_0322, 4.000000, Arousal: 17.845354, Valence: 0.851238, Dominance: 16.283035\n",
      "MSP-PODCAST_0023_0322, 4.000000, Arousal: 17.703360, Valence: 0.941877, Dominance: 16.793570\n",
      "MSP-PODCAST_0023_0322, 4.000000, Arousal: 17.347179, Valence: 1.060945, Dominance: 16.988772\n",
      "MSP-PODCAST_0023_0322, 4.000000, Arousal: 17.068761, Valence: 1.462319, Dominance: 17.340440\n",
      "MSP-PODCAST_0023_0322, 4.000000, Arousal: 16.935937, Valence: 1.999227, Dominance: 17.380601\n",
      "MSP-PODCAST_0023_0322, 4.000000, Arousal: 16.968723, Valence: 2.730798, Dominance: 17.118525\n",
      "MSP-PODCAST_0023_0322, 4.000000, Arousal: 16.987275, Valence: 4.139822, Dominance: 16.948211\n",
      "MSP-PODCAST_0023_0322, 3.800000, Arousal: 17.704579, Valence: 4.802880, Dominance: 16.856633\n"
     ]
    },
    {
     "name": "stderr",
     "output_type": "stream",
     "text": [
      "\r",
      "  1%|▏                                        | 16/2783 [00:06<22:59,  2.01it/s]"
     ]
    },
    {
     "name": "stdout",
     "output_type": "stream",
     "text": [
      "MSP-PODCAST_0023_0323, 4.000000, Arousal: 19.491975, Valence: 12.286975, Dominance: 20.822790\n",
      "MSP-PODCAST_0023_0323, 4.000000, Arousal: 19.181218, Valence: 12.591963, Dominance: 21.008599\n",
      "MSP-PODCAST_0023_0323, 4.000000, Arousal: 18.501454, Valence: 12.815632, Dominance: 21.527823\n",
      "MSP-PODCAST_0023_0323, 4.000000, Arousal: 17.508522, Valence: 12.758773, Dominance: 22.083864\n",
      "MSP-PODCAST_0023_0323, 4.000000, Arousal: 17.223648, Valence: 12.637536, Dominance: 22.488985\n",
      "MSP-PODCAST_0023_0323, 4.000000, Arousal: 16.829682, Valence: 12.706521, Dominance: 22.741011\n",
      "MSP-PODCAST_0023_0323, 4.000000, Arousal: 16.509882, Valence: 12.765998, Dominance: 22.984448\n",
      "MSP-PODCAST_0023_0323, 3.710000, Arousal: 16.076455, Valence: 12.719339, Dominance: 23.040017\n"
     ]
    },
    {
     "name": "stderr",
     "output_type": "stream",
     "text": [
      "\r",
      "  1%|▎                                        | 17/2783 [00:06<23:23,  1.97it/s]"
     ]
    },
    {
     "name": "stdout",
     "output_type": "stream",
     "text": [
      "MSP-PODCAST_0023_0324, 4.000000, Arousal: 14.280419, Valence: 12.762182, Dominance: 18.995906\n",
      "MSP-PODCAST_0023_0324, 4.000000, Arousal: 13.900209, Valence: 11.824667, Dominance: 18.054389\n",
      "MSP-PODCAST_0023_0324, 4.000000, Arousal: 13.457252, Valence: 11.310870, Dominance: 17.301909\n",
      "MSP-PODCAST_0023_0324, 4.000000, Arousal: 13.814454, Valence: 10.790867, Dominance: 16.932744\n",
      "MSP-PODCAST_0023_0324, 4.000000, Arousal: 13.756369, Valence: 10.915112, Dominance: 16.250835\n",
      "MSP-PODCAST_0023_0324, 4.000000, Arousal: 14.273294, Valence: 11.677489, Dominance: 16.403206\n",
      "MSP-PODCAST_0023_0324, 3.590000, Arousal: 14.487195, Valence: 11.954328, Dominance: 16.304723\n"
     ]
    },
    {
     "name": "stderr",
     "output_type": "stream",
     "text": [
      "\r",
      "  1%|▎                                        | 18/2783 [00:07<24:34,  1.88it/s]"
     ]
    },
    {
     "name": "stdout",
     "output_type": "stream",
     "text": [
      "MSP-PODCAST_0023_0325, 4.000000, Arousal: 20.728080, Valence: 18.297896, Dominance: 19.475593\n",
      "MSP-PODCAST_0023_0325, 4.000000, Arousal: 19.286747, Valence: 17.417066, Dominance: 18.846863\n",
      "MSP-PODCAST_0023_0325, 4.000000, Arousal: 17.449903, Valence: 16.112766, Dominance: 17.923660\n",
      "MSP-PODCAST_0023_0325, 4.000000, Arousal: 15.438606, Valence: 15.299070, Dominance: 16.864671\n",
      "MSP-PODCAST_0023_0325, 4.000000, Arousal: 14.344198, Valence: 14.613350, Dominance: 16.399154\n",
      "MSP-PODCAST_0023_0325, 4.000000, Arousal: 12.880617, Valence: 14.442523, Dominance: 16.528982\n",
      "MSP-PODCAST_0023_0325, 4.000000, Arousal: 11.213936, Valence: 14.259686, Dominance: 16.033211\n",
      "MSP-PODCAST_0023_0325, 4.000000, Arousal: 10.243503, Valence: 13.857988, Dominance: 15.933021\n",
      "MSP-PODCAST_0023_0325, 4.000000, Arousal: 9.388523, Valence: 14.101545, Dominance: 16.231421\n",
      "MSP-PODCAST_0023_0325, 4.000000, Arousal: 8.509335, Valence: 14.515012, Dominance: 16.620950\n",
      "MSP-PODCAST_0023_0325, 3.770000, Arousal: 8.212517, Valence: 14.918718, Dominance: 16.713468\n"
     ]
    },
    {
     "name": "stderr",
     "output_type": "stream",
     "text": [
      "\r",
      "  1%|▎                                        | 19/2783 [00:07<23:33,  1.96it/s]"
     ]
    },
    {
     "name": "stdout",
     "output_type": "stream",
     "text": [
      "MSP-PODCAST_0023_0326, 4.000000, Arousal: 18.937088, Valence: 28.545370, Dominance: 22.923766\n",
      "MSP-PODCAST_0023_0326, 4.000000, Arousal: 19.555712, Valence: 28.645036, Dominance: 23.301575\n",
      "MSP-PODCAST_0023_0326, 4.000000, Arousal: 20.290510, Valence: 28.314903, Dominance: 23.416271\n",
      "MSP-PODCAST_0023_0326, 4.000000, Arousal: 21.277787, Valence: 27.611197, Dominance: 23.306146\n",
      "MSP-PODCAST_0023_0326, 4.000000, Arousal: 22.906659, Valence: 27.361994, Dominance: 23.271279\n",
      "MSP-PODCAST_0023_0326, 4.000000, Arousal: 25.853013, Valence: 27.487094, Dominance: 23.849687\n",
      "MSP-PODCAST_0023_0326, 4.000000, Arousal: 27.869182, Valence: 27.975825, Dominance: 24.209149\n",
      "MSP-PODCAST_0023_0326, 3.560000, Arousal: 28.884241, Valence: 27.779284, Dominance: 24.249341\n"
     ]
    },
    {
     "name": "stderr",
     "output_type": "stream",
     "text": [
      "\r",
      "  1%|▎                                        | 20/2783 [00:08<24:26,  1.88it/s]"
     ]
    },
    {
     "name": "stdout",
     "output_type": "stream",
     "text": [
      "MSP-PODCAST_0023_0327, 4.000000, Arousal: 28.205246, Valence: 27.905781, Dominance: 25.816305\n",
      "MSP-PODCAST_0023_0327, 4.000000, Arousal: 26.338492, Valence: 26.473157, Dominance: 25.398240\n",
      "MSP-PODCAST_0023_0327, 4.000000, Arousal: 24.438098, Valence: 24.906450, Dominance: 24.880092\n",
      "MSP-PODCAST_0023_0327, 4.000000, Arousal: 23.392033, Valence: 24.299460, Dominance: 24.384138\n",
      "MSP-PODCAST_0023_0327, 4.000000, Arousal: 21.951528, Valence: 23.408931, Dominance: 23.397430\n",
      "MSP-PODCAST_0023_0327, 4.000000, Arousal: 21.179635, Valence: 22.196145, Dominance: 22.796851\n",
      "MSP-PODCAST_0023_0327, 4.000000, Arousal: 21.178226, Valence: 21.548513, Dominance: 22.791251\n",
      "MSP-PODCAST_0023_0327, 4.000000, Arousal: 21.136045, Valence: 21.671011, Dominance: 23.245239\n",
      "MSP-PODCAST_0023_0327, 3.900000, Arousal: 21.408703, Valence: 21.874499, Dominance: 23.216413\n"
     ]
    },
    {
     "name": "stderr",
     "output_type": "stream",
     "text": [
      "\r",
      "  1%|▎                                        | 21/2783 [00:08<23:35,  1.95it/s]"
     ]
    },
    {
     "name": "stdout",
     "output_type": "stream",
     "text": [
      "MSP-PODCAST_0023_0328, 4.000000, Arousal: 14.988701, Valence: 26.562881, Dominance: 25.605988\n",
      "MSP-PODCAST_0023_0328, 4.000000, Arousal: 14.985626, Valence: 25.923758, Dominance: 25.030611\n",
      "MSP-PODCAST_0023_0328, 4.000000, Arousal: 15.030671, Valence: 25.938878, Dominance: 23.679284\n",
      "MSP-PODCAST_0023_0328, 4.000000, Arousal: 15.074982, Valence: 26.045972, Dominance: 22.971348\n",
      "MSP-PODCAST_0023_0328, 4.000000, Arousal: 15.292486, Valence: 25.658513, Dominance: 22.790464\n",
      "MSP-PODCAST_0023_0328, 3.780000, Arousal: 15.516089, Valence: 25.265661, Dominance: 22.994728\n"
     ]
    },
    {
     "name": "stderr",
     "output_type": "stream",
     "text": [
      "\r",
      "  1%|▎                                        | 22/2783 [00:09<22:42,  2.03it/s]"
     ]
    },
    {
     "name": "stdout",
     "output_type": "stream",
     "text": [
      "MSP-PODCAST_0023_0329, 4.000000, Arousal: 15.481763, Valence: 26.975329, Dominance: 25.953264\n",
      "MSP-PODCAST_0023_0329, 4.000000, Arousal: 16.770763, Valence: 26.591837, Dominance: 25.764365\n",
      "MSP-PODCAST_0023_0329, 4.000000, Arousal: 18.006904, Valence: 25.783728, Dominance: 26.440926\n",
      "MSP-PODCAST_0023_0329, 4.000000, Arousal: 18.737741, Valence: 25.002352, Dominance: 26.521871\n",
      "MSP-PODCAST_0023_0329, 3.760000, Arousal: 19.594551, Valence: 23.489242, Dominance: 26.011998\n"
     ]
    },
    {
     "name": "stderr",
     "output_type": "stream",
     "text": [
      "\r",
      "  1%|▎                                        | 23/2783 [00:09<23:19,  1.97it/s]"
     ]
    },
    {
     "name": "stdout",
     "output_type": "stream",
     "text": [
      "MSP-PODCAST_0023_0330, 4.000000, Arousal: 17.161215, Valence: 22.104575, Dominance: 15.279172\n",
      "MSP-PODCAST_0023_0330, 4.000000, Arousal: 16.756305, Valence: 21.547097, Dominance: 14.402060\n",
      "MSP-PODCAST_0023_0330, 4.000000, Arousal: 16.805410, Valence: 20.916693, Dominance: 13.421161\n",
      "MSP-PODCAST_0023_0330, 4.000000, Arousal: 16.686401, Valence: 20.523459, Dominance: 13.113295\n",
      "MSP-PODCAST_0023_0330, 4.000000, Arousal: 17.096327, Valence: 20.366573, Dominance: 12.804172\n",
      "MSP-PODCAST_0023_0330, 4.000000, Arousal: 17.063890, Valence: 20.339125, Dominance: 12.503095\n",
      "MSP-PODCAST_0023_0330, 3.800000, Arousal: 17.089813, Valence: 20.216283, Dominance: 12.173495\n"
     ]
    },
    {
     "name": "stderr",
     "output_type": "stream",
     "text": [
      "\r",
      "  1%|▎                                        | 24/2783 [00:10<23:53,  1.92it/s]"
     ]
    },
    {
     "name": "stdout",
     "output_type": "stream",
     "text": [
      "MSP-PODCAST_0023_0331, 4.000000, Arousal: 19.991648, Valence: 18.130940, Dominance: 10.481665\n",
      "MSP-PODCAST_0023_0331, 4.000000, Arousal: 20.109692, Valence: 17.584015, Dominance: 10.460922\n",
      "MSP-PODCAST_0023_0331, 4.000000, Arousal: 19.987609, Valence: 17.180991, Dominance: 9.987407\n",
      "MSP-PODCAST_0023_0331, 4.000000, Arousal: 20.002939, Valence: 16.392261, Dominance: 9.744077\n",
      "MSP-PODCAST_0023_0331, 4.000000, Arousal: 19.571716, Valence: 16.107296, Dominance: 10.412382\n",
      "MSP-PODCAST_0023_0331, 4.000000, Arousal: 19.216174, Valence: 16.102797, Dominance: 11.110220\n",
      "MSP-PODCAST_0023_0331, 3.640000, Arousal: 19.397060, Valence: 16.052423, Dominance: 11.513910\n"
     ]
    },
    {
     "name": "stderr",
     "output_type": "stream",
     "text": [
      "\r",
      "  1%|▎                                        | 25/2783 [00:10<23:59,  1.92it/s]"
     ]
    },
    {
     "name": "stdout",
     "output_type": "stream",
     "text": [
      "MSP-PODCAST_0023_0332, 4.000000, Arousal: 29.209824, Valence: 25.857347, Dominance: 18.809003\n",
      "MSP-PODCAST_0023_0332, 4.000000, Arousal: 28.994306, Valence: 25.573982, Dominance: 18.804797\n",
      "MSP-PODCAST_0023_0332, 4.000000, Arousal: 28.004611, Valence: 24.684236, Dominance: 18.641498\n",
      "MSP-PODCAST_0023_0332, 4.000000, Arousal: 26.588950, Valence: 23.348645, Dominance: 18.009070\n",
      "MSP-PODCAST_0023_0332, 4.000000, Arousal: 24.495731, Valence: 21.856778, Dominance: 16.779151\n",
      "MSP-PODCAST_0023_0332, 4.000000, Arousal: 22.954435, Valence: 20.625159, Dominance: 16.087907\n",
      "MSP-PODCAST_0023_0332, 4.000000, Arousal: 21.285126, Valence: 19.803805, Dominance: 15.083031\n",
      "MSP-PODCAST_0023_0332, 3.920000, Arousal: 18.731442, Valence: 19.324867, Dominance: 14.519412\n"
     ]
    },
    {
     "name": "stderr",
     "output_type": "stream",
     "text": [
      "\r",
      "  1%|▍                                        | 26/2783 [00:11<22:23,  2.05it/s]"
     ]
    },
    {
     "name": "stdout",
     "output_type": "stream",
     "text": [
      "MSP-PODCAST_0023_0333, 4.000000, Arousal: 16.452774, Valence: 19.274566, Dominance: 11.572901\n",
      "MSP-PODCAST_0023_0333, 4.000000, Arousal: 16.339967, Valence: 19.175793, Dominance: 11.655694\n",
      "MSP-PODCAST_0023_0333, 4.000000, Arousal: 16.261679, Valence: 18.945998, Dominance: 12.261852\n",
      "MSP-PODCAST_0023_0333, 4.000000, Arousal: 16.233773, Valence: 18.814961, Dominance: 12.538546\n",
      "MSP-PODCAST_0023_0333, 4.000000, Arousal: 16.658381, Valence: 18.683313, Dominance: 12.283735\n",
      "MSP-PODCAST_0023_0333, 3.580000, Arousal: 16.812682, Valence: 18.257160, Dominance: 12.210883\n"
     ]
    },
    {
     "name": "stderr",
     "output_type": "stream",
     "text": [
      "\r",
      "  1%|▍                                        | 27/2783 [00:12<24:28,  1.88it/s]"
     ]
    },
    {
     "name": "stdout",
     "output_type": "stream",
     "text": [
      "MSP-PODCAST_0023_0334, 4.000000, Arousal: 20.452800, Valence: 14.646604, Dominance: 13.054517\n",
      "MSP-PODCAST_0023_0334, 4.000000, Arousal: 20.806902, Valence: 14.724520, Dominance: 13.117536\n",
      "MSP-PODCAST_0023_0334, 4.000000, Arousal: 21.387798, Valence: 15.166759, Dominance: 13.551347\n",
      "MSP-PODCAST_0023_0334, 4.000000, Arousal: 21.920386, Valence: 15.660629, Dominance: 13.685182\n",
      "MSP-PODCAST_0023_0334, 4.000000, Arousal: 21.890197, Valence: 16.086479, Dominance: 12.882860\n",
      "MSP-PODCAST_0023_0334, 4.000000, Arousal: 21.354226, Valence: 16.628032, Dominance: 12.816791\n",
      "MSP-PODCAST_0023_0334, 4.000000, Arousal: 20.762032, Valence: 16.839800, Dominance: 12.714230\n",
      "MSP-PODCAST_0023_0334, 4.000000, Arousal: 20.166540, Valence: 16.993175, Dominance: 12.819749\n",
      "MSP-PODCAST_0023_0334, 4.000000, Arousal: 20.199729, Valence: 17.110341, Dominance: 13.485767\n",
      "MSP-PODCAST_0023_0334, 4.000000, Arousal: 19.839801, Valence: 17.288368, Dominance: 14.123426\n",
      "MSP-PODCAST_0023_0334, 3.610000, Arousal: 19.076294, Valence: 17.184044, Dominance: 14.062358\n"
     ]
    },
    {
     "name": "stderr",
     "output_type": "stream",
     "text": [
      "\r",
      "  1%|▍                                        | 28/2783 [00:12<22:48,  2.01it/s]"
     ]
    },
    {
     "name": "stdout",
     "output_type": "stream",
     "text": [
      "MSP-PODCAST_0023_0335, 4.000000, Arousal: 17.501681, Valence: 18.759268, Dominance: 19.840779\n",
      "MSP-PODCAST_0023_0335, 4.000000, Arousal: 17.250295, Valence: 19.394910, Dominance: 20.413770\n",
      "MSP-PODCAST_0023_0335, 4.000000, Arousal: 16.656738, Valence: 19.972642, Dominance: 20.218929\n",
      "MSP-PODCAST_0023_0335, 4.000000, Arousal: 15.671691, Valence: 20.658931, Dominance: 20.229603\n",
      "MSP-PODCAST_0023_0335, 4.000000, Arousal: 15.454418, Valence: 20.891869, Dominance: 20.436891\n",
      "MSP-PODCAST_0023_0335, 3.630000, Arousal: 15.835922, Valence: 20.962181, Dominance: 20.544314\n"
     ]
    },
    {
     "name": "stderr",
     "output_type": "stream",
     "text": [
      "\r",
      "  1%|▍                                        | 29/2783 [00:13<23:38,  1.94it/s]"
     ]
    },
    {
     "name": "stdout",
     "output_type": "stream",
     "text": [
      "MSP-PODCAST_0023_0336, 4.000000, Arousal: 19.034119, Valence: 20.211375, Dominance: 18.537479\n",
      "MSP-PODCAST_0023_0336, 4.000000, Arousal: 18.912783, Valence: 19.951525, Dominance: 18.500892\n",
      "MSP-PODCAST_0023_0336, 4.000000, Arousal: 18.442698, Valence: 19.674094, Dominance: 17.927524\n",
      "MSP-PODCAST_0023_0336, 4.000000, Arousal: 17.988894, Valence: 19.691671, Dominance: 18.129559\n",
      "MSP-PODCAST_0023_0336, 4.000000, Arousal: 18.096382, Valence: 19.767615, Dominance: 19.271701\n",
      "MSP-PODCAST_0023_0336, 4.000000, Arousal: 18.779114, Valence: 19.393388, Dominance: 19.759500\n",
      "MSP-PODCAST_0023_0336, 4.000000, Arousal: 19.070635, Valence: 18.707212, Dominance: 19.966399\n",
      "MSP-PODCAST_0023_0336, 3.510000, Arousal: 18.808362, Valence: 18.445053, Dominance: 20.105856\n"
     ]
    },
    {
     "name": "stderr",
     "output_type": "stream",
     "text": [
      "\r",
      "  1%|▍                                        | 30/2783 [00:13<23:17,  1.97it/s]"
     ]
    },
    {
     "name": "stdout",
     "output_type": "stream",
     "text": [
      "MSP-PODCAST_0023_0337, 4.000000, Arousal: 20.414937, Valence: 13.893500, Dominance: 21.407734\n",
      "MSP-PODCAST_0023_0337, 4.000000, Arousal: 19.600934, Valence: 13.996493, Dominance: 21.040637\n",
      "MSP-PODCAST_0023_0337, 4.000000, Arousal: 19.049087, Valence: 14.536191, Dominance: 21.056941\n",
      "MSP-PODCAST_0023_0337, 4.000000, Arousal: 18.588343, Valence: 15.151820, Dominance: 21.265739\n",
      "MSP-PODCAST_0023_0337, 4.000000, Arousal: 17.860440, Valence: 15.554059, Dominance: 21.629993\n",
      "MSP-PODCAST_0023_0337, 4.000000, Arousal: 17.385379, Valence: 16.011802, Dominance: 21.867949\n",
      "MSP-PODCAST_0023_0337, 3.750000, Arousal: 17.049990, Valence: 16.141033, Dominance: 21.599661\n"
     ]
    },
    {
     "name": "stderr",
     "output_type": "stream",
     "text": [
      "\r",
      "  1%|▍                                        | 31/2783 [00:14<24:16,  1.89it/s]"
     ]
    },
    {
     "name": "stdout",
     "output_type": "stream",
     "text": [
      "MSP-PODCAST_0023_0338, 4.000000, Arousal: 16.074191, Valence: 14.093458, Dominance: 19.676350\n",
      "MSP-PODCAST_0023_0338, 4.000000, Arousal: 16.563892, Valence: 13.753550, Dominance: 19.302390\n",
      "MSP-PODCAST_0023_0338, 4.000000, Arousal: 16.779025, Valence: 13.453132, Dominance: 18.744063\n",
      "MSP-PODCAST_0023_0338, 4.000000, Arousal: 16.538384, Valence: 12.449077, Dominance: 18.389860\n",
      "MSP-PODCAST_0023_0338, 4.000000, Arousal: 16.321588, Valence: 11.972054, Dominance: 17.957611\n",
      "MSP-PODCAST_0023_0338, 4.000000, Arousal: 16.084375, Valence: 12.008764, Dominance: 17.663439\n",
      "MSP-PODCAST_0023_0338, 4.000000, Arousal: 15.864324, Valence: 12.458786, Dominance: 17.524674\n",
      "MSP-PODCAST_0023_0338, 4.000000, Arousal: 15.339597, Valence: 12.809395, Dominance: 16.890457\n",
      "MSP-PODCAST_0023_0338, 4.000000, Arousal: 15.247535, Valence: 12.991376, Dominance: 16.592119\n",
      "MSP-PODCAST_0023_0338, 3.860000, Arousal: 14.789226, Valence: 13.088584, Dominance: 17.047202\n"
     ]
    },
    {
     "name": "stderr",
     "output_type": "stream",
     "text": [
      "\r",
      "  1%|▍                                        | 32/2783 [00:14<24:37,  1.86it/s]"
     ]
    },
    {
     "name": "stdout",
     "output_type": "stream",
     "text": [
      "MSP-PODCAST_0023_0339, 4.000000, Arousal: 15.192553, Valence: 12.586132, Dominance: 17.276641\n",
      "MSP-PODCAST_0023_0339, 4.000000, Arousal: 15.184867, Valence: 11.594347, Dominance: 16.950377\n",
      "MSP-PODCAST_0023_0339, 4.000000, Arousal: 14.891367, Valence: 10.015914, Dominance: 17.247374\n",
      "MSP-PODCAST_0023_0339, 4.000000, Arousal: 14.515361, Valence: 8.747533, Dominance: 17.769666\n",
      "MSP-PODCAST_0023_0339, 4.000000, Arousal: 14.479811, Valence: 8.064309, Dominance: 17.987853\n",
      "MSP-PODCAST_0023_0339, 4.000000, Arousal: 14.738538, Valence: 7.321069, Dominance: 18.116033\n",
      "MSP-PODCAST_0023_0339, 4.000000, Arousal: 14.523987, Valence: 6.266357, Dominance: 18.053769\n",
      "MSP-PODCAST_0023_0339, 3.970000, Arousal: 14.240391, Valence: 5.229082, Dominance: 18.016895\n"
     ]
    },
    {
     "name": "stderr",
     "output_type": "stream",
     "text": [
      "\r",
      "  1%|▍                                        | 33/2783 [00:15<26:02,  1.76it/s]"
     ]
    },
    {
     "name": "stdout",
     "output_type": "stream",
     "text": [
      "MSP-PODCAST_0023_0340, 4.000000, Arousal: 9.375666, Valence: 8.087818, Dominance: 14.149252\n",
      "MSP-PODCAST_0023_0340, 4.000000, Arousal: 8.484365, Valence: 8.330652, Dominance: 12.797887\n",
      "MSP-PODCAST_0023_0340, 4.000000, Arousal: 7.822802, Valence: 8.162511, Dominance: 12.070119\n",
      "MSP-PODCAST_0023_0340, 4.000000, Arousal: 7.429585, Valence: 8.029730, Dominance: 11.154215\n",
      "MSP-PODCAST_0023_0340, 4.000000, Arousal: 6.735222, Valence: 8.025125, Dominance: 10.475317\n",
      "MSP-PODCAST_0023_0340, 4.000000, Arousal: 6.208917, Valence: 7.871498, Dominance: 9.858505\n",
      "MSP-PODCAST_0023_0340, 4.000000, Arousal: 5.643053, Valence: 7.434059, Dominance: 8.774346\n",
      "MSP-PODCAST_0023_0340, 4.000000, Arousal: 5.506433, Valence: 7.276804, Dominance: 8.351808\n",
      "MSP-PODCAST_0023_0340, 4.000000, Arousal: 6.070215, Valence: 6.928410, Dominance: 8.512459\n",
      "MSP-PODCAST_0023_0340, 4.000000, Arousal: 7.145845, Valence: 6.873396, Dominance: 9.317070\n",
      "MSP-PODCAST_0023_0340, 3.610000, Arousal: 7.723853, Valence: 6.891738, Dominance: 9.196239\n"
     ]
    },
    {
     "name": "stderr",
     "output_type": "stream",
     "text": [
      "\r",
      "  1%|▌                                        | 34/2783 [00:15<27:24,  1.67it/s]"
     ]
    },
    {
     "name": "stdout",
     "output_type": "stream",
     "text": [
      "MSP-PODCAST_0023_0341, 4.000000, Arousal: 11.925508, Valence: 8.487784, Dominance: 8.595907\n",
      "MSP-PODCAST_0023_0341, 4.000000, Arousal: 11.936767, Valence: 8.768683, Dominance: 9.223015\n",
      "MSP-PODCAST_0023_0341, 4.000000, Arousal: 12.032275, Valence: 8.978691, Dominance: 9.916151\n",
      "MSP-PODCAST_0023_0341, 4.000000, Arousal: 12.257706, Valence: 9.089355, Dominance: 10.346522\n",
      "MSP-PODCAST_0023_0341, 4.000000, Arousal: 12.741003, Valence: 9.319785, Dominance: 11.636046\n",
      "MSP-PODCAST_0023_0341, 4.000000, Arousal: 13.668809, Valence: 9.214155, Dominance: 12.184204\n",
      "MSP-PODCAST_0023_0341, 4.000000, Arousal: 14.320727, Valence: 8.843248, Dominance: 12.062785\n",
      "MSP-PODCAST_0023_0341, 4.000000, Arousal: 14.541379, Valence: 7.748963, Dominance: 11.463353\n",
      "MSP-PODCAST_0023_0341, 4.000000, Arousal: 14.510701, Valence: 7.121824, Dominance: 10.942711\n",
      "MSP-PODCAST_0023_0341, 4.000000, Arousal: 14.225363, Valence: 6.490006, Dominance: 11.281447\n",
      "MSP-PODCAST_0023_0341, 4.000000, Arousal: 13.842405, Valence: 5.756788, Dominance: 11.497904\n",
      "MSP-PODCAST_0023_0341, 3.580000, Arousal: 13.645921, Valence: 5.208599, Dominance: 11.719662\n"
     ]
    },
    {
     "name": "stderr",
     "output_type": "stream",
     "text": [
      "\r",
      "  1%|▌                                        | 35/2783 [00:16<27:25,  1.67it/s]"
     ]
    },
    {
     "name": "stdout",
     "output_type": "stream",
     "text": [
      "MSP-PODCAST_0023_0342, 4.000000, Arousal: 12.124750, Valence: 4.959902, Dominance: 10.775853\n",
      "MSP-PODCAST_0023_0342, 4.000000, Arousal: 11.994257, Valence: 5.181194, Dominance: 10.586390\n",
      "MSP-PODCAST_0023_0342, 4.000000, Arousal: 12.277953, Valence: 4.876826, Dominance: 10.406615\n",
      "MSP-PODCAST_0023_0342, 4.000000, Arousal: 12.701416, Valence: 4.715461, Dominance: 10.141761\n",
      "MSP-PODCAST_0023_0342, 4.000000, Arousal: 12.890138, Valence: 4.842656, Dominance: 10.271633\n",
      "MSP-PODCAST_0023_0342, 4.000000, Arousal: 13.179695, Valence: 5.182668, Dominance: 11.113346\n",
      "MSP-PODCAST_0023_0342, 4.000000, Arousal: 14.097845, Valence: 5.397105, Dominance: 11.006409\n",
      "MSP-PODCAST_0023_0342, 4.000000, Arousal: 14.221585, Valence: 5.303965, Dominance: 10.741676\n",
      "MSP-PODCAST_0023_0342, 4.000000, Arousal: 14.462345, Valence: 5.530200, Dominance: 10.915955\n",
      "MSP-PODCAST_0023_0342, 4.000000, Arousal: 14.408274, Valence: 5.713643, Dominance: 11.024606\n",
      "MSP-PODCAST_0023_0342, 4.000000, Arousal: 14.180075, Valence: 6.269152, Dominance: 11.702634\n",
      "MSP-PODCAST_0023_0342, 3.840000, Arousal: 14.289255, Valence: 6.761242, Dominance: 12.142231\n"
     ]
    },
    {
     "name": "stderr",
     "output_type": "stream",
     "text": [
      "\r",
      "  1%|▌                                        | 36/2783 [00:16<25:29,  1.80it/s]"
     ]
    },
    {
     "name": "stdout",
     "output_type": "stream",
     "text": [
      "MSP-PODCAST_0023_0343, 4.000000, Arousal: 12.288060, Valence: 7.958432, Dominance: 18.510203\n",
      "MSP-PODCAST_0023_0343, 4.000000, Arousal: 12.363877, Valence: 7.548980, Dominance: 18.876398\n",
      "MSP-PODCAST_0023_0343, 4.000000, Arousal: 12.683456, Valence: 7.956682, Dominance: 19.274798\n",
      "MSP-PODCAST_0023_0343, 4.000000, Arousal: 13.083420, Valence: 8.148109, Dominance: 19.327568\n",
      "MSP-PODCAST_0023_0343, 4.000000, Arousal: 13.883383, Valence: 8.021701, Dominance: 19.250434\n",
      "MSP-PODCAST_0023_0343, 4.000000, Arousal: 14.152121, Valence: 8.016446, Dominance: 19.485311\n",
      "MSP-PODCAST_0023_0343, 4.000000, Arousal: 14.450520, Valence: 8.283179, Dominance: 19.660638\n",
      "MSP-PODCAST_0023_0343, 3.770000, Arousal: 14.962541, Valence: 8.473639, Dominance: 19.277064\n"
     ]
    },
    {
     "name": "stderr",
     "output_type": "stream",
     "text": [
      "\r",
      "  1%|▌                                        | 37/2783 [00:17<24:58,  1.83it/s]"
     ]
    },
    {
     "name": "stdout",
     "output_type": "stream",
     "text": [
      "MSP-PODCAST_0023_0344, 4.000000, Arousal: 15.979182, Valence: 11.318312, Dominance: 17.736518\n",
      "MSP-PODCAST_0023_0344, 4.000000, Arousal: 16.411172, Valence: 11.279118, Dominance: 18.475852\n",
      "MSP-PODCAST_0023_0344, 4.000000, Arousal: 16.397650, Valence: 11.175359, Dominance: 19.344850\n",
      "MSP-PODCAST_0023_0344, 4.000000, Arousal: 15.454507, Valence: 11.048937, Dominance: 19.677527\n",
      "MSP-PODCAST_0023_0344, 4.000000, Arousal: 14.650864, Valence: 10.889326, Dominance: 19.594862\n",
      "MSP-PODCAST_0023_0344, 4.000000, Arousal: 14.367914, Valence: 10.704890, Dominance: 19.531931\n",
      "MSP-PODCAST_0023_0344, 4.000000, Arousal: 15.145293, Valence: 10.139423, Dominance: 19.760308\n",
      "MSP-PODCAST_0023_0344, 3.920000, Arousal: 14.856333, Valence: 9.365217, Dominance: 19.221652\n"
     ]
    },
    {
     "name": "stderr",
     "output_type": "stream",
     "text": [
      "\r",
      "  1%|▌                                        | 38/2783 [00:18<25:58,  1.76it/s]"
     ]
    },
    {
     "name": "stdout",
     "output_type": "stream",
     "text": [
      "MSP-PODCAST_0023_0345, 4.000000, Arousal: 13.630112, Valence: 9.558039, Dominance: 20.331342\n",
      "MSP-PODCAST_0023_0345, 4.000000, Arousal: 14.568538, Valence: 9.545910, Dominance: 19.343026\n",
      "MSP-PODCAST_0023_0345, 4.000000, Arousal: 15.850608, Valence: 9.242502, Dominance: 17.821913\n",
      "MSP-PODCAST_0023_0345, 4.000000, Arousal: 16.431256, Valence: 9.071364, Dominance: 16.141638\n",
      "MSP-PODCAST_0023_0345, 4.000000, Arousal: 16.426114, Valence: 9.005907, Dominance: 14.709440\n",
      "MSP-PODCAST_0023_0345, 4.000000, Arousal: 16.066698, Valence: 9.139086, Dominance: 13.021646\n",
      "MSP-PODCAST_0023_0345, 4.000000, Arousal: 15.880636, Valence: 8.839998, Dominance: 11.989667\n",
      "MSP-PODCAST_0023_0345, 4.000000, Arousal: 15.821359, Valence: 8.915723, Dominance: 11.904687\n",
      "MSP-PODCAST_0023_0345, 3.680000, Arousal: 15.637242, Valence: 8.906033, Dominance: 12.277184\n"
     ]
    },
    {
     "name": "stderr",
     "output_type": "stream",
     "text": [
      "\r",
      "  1%|▌                                        | 39/2783 [00:18<25:12,  1.81it/s]"
     ]
    },
    {
     "name": "stdout",
     "output_type": "stream",
     "text": [
      "MSP-PODCAST_0023_0346, 4.000000, Arousal: 17.981971, Valence: 7.493746, Dominance: 17.696144\n",
      "MSP-PODCAST_0023_0346, 4.000000, Arousal: 17.836098, Valence: 7.215916, Dominance: 17.821109\n",
      "MSP-PODCAST_0023_0346, 4.000000, Arousal: 17.688313, Valence: 7.242476, Dominance: 17.824066\n",
      "MSP-PODCAST_0023_0346, 4.000000, Arousal: 17.281637, Valence: 7.566073, Dominance: 18.129372\n",
      "MSP-PODCAST_0023_0346, 4.000000, Arousal: 17.303392, Valence: 8.034985, Dominance: 18.679589\n",
      "MSP-PODCAST_0023_0346, 4.000000, Arousal: 17.159087, Valence: 8.185199, Dominance: 18.940578\n",
      "MSP-PODCAST_0023_0346, 4.000000, Arousal: 17.021419, Valence: 7.873167, Dominance: 19.086398\n",
      "MSP-PODCAST_0023_0346, 4.000000, Arousal: 16.384701, Valence: 7.627702, Dominance: 18.908348\n",
      "MSP-PODCAST_0023_0346, 3.630000, Arousal: 16.167668, Valence: 7.501406, Dominance: 18.558946\n"
     ]
    },
    {
     "name": "stderr",
     "output_type": "stream",
     "text": [
      "\r",
      "  1%|▌                                        | 40/2783 [00:19<25:24,  1.80it/s]"
     ]
    },
    {
     "name": "stdout",
     "output_type": "stream",
     "text": [
      "MSP-PODCAST_0023_0347, 4.000000, Arousal: 12.014151, Valence: -0.877883, Dominance: 15.691551\n",
      "MSP-PODCAST_0023_0347, 4.000000, Arousal: 11.897079, Valence: -2.411352, Dominance: 16.022352\n",
      "MSP-PODCAST_0023_0347, 4.000000, Arousal: 11.328460, Valence: -3.480784, Dominance: 16.066972\n",
      "MSP-PODCAST_0023_0347, 4.000000, Arousal: 10.666785, Valence: -4.756829, Dominance: 16.438249\n",
      "MSP-PODCAST_0023_0347, 4.000000, Arousal: 9.911880, Valence: -6.501689, Dominance: 17.763002\n",
      "MSP-PODCAST_0023_0347, 4.000000, Arousal: 10.389417, Valence: -7.739645, Dominance: 18.119265\n",
      "MSP-PODCAST_0023_0347, 4.000000, Arousal: 10.920668, Valence: -8.395416, Dominance: 18.265497\n",
      "MSP-PODCAST_0023_0347, 4.000000, Arousal: 10.720428, Valence: -8.424026, Dominance: 18.741043\n",
      "MSP-PODCAST_0023_0347, 3.890000, Arousal: 10.795653, Valence: -8.974880, Dominance: 18.805127\n"
     ]
    },
    {
     "name": "stderr",
     "output_type": "stream",
     "text": [
      "\r",
      "  1%|▌                                        | 41/2783 [00:19<23:33,  1.94it/s]"
     ]
    },
    {
     "name": "stdout",
     "output_type": "stream",
     "text": [
      "MSP-PODCAST_0023_0348, 4.000000, Arousal: 10.026355, Valence: -7.423859, Dominance: 16.416725\n",
      "MSP-PODCAST_0023_0348, 4.000000, Arousal: 10.787530, Valence: -6.438194, Dominance: 17.351419\n",
      "MSP-PODCAST_0023_0348, 4.000000, Arousal: 11.768718, Valence: -5.266336, Dominance: 18.113054\n",
      "MSP-PODCAST_0023_0348, 4.000000, Arousal: 12.291276, Valence: -4.264407, Dominance: 18.506309\n",
      "MSP-PODCAST_0023_0348, 4.000000, Arousal: 12.945696, Valence: -3.954179, Dominance: 18.568514\n",
      "MSP-PODCAST_0023_0348, 4.000000, Arousal: 13.614637, Valence: -3.891484, Dominance: 18.223537\n",
      "MSP-PODCAST_0023_0348, 3.590000, Arousal: 13.726974, Valence: -3.573936, Dominance: 17.822298\n"
     ]
    },
    {
     "name": "stderr",
     "output_type": "stream",
     "text": [
      "\r",
      "  2%|▌                                        | 42/2783 [00:20<23:56,  1.91it/s]"
     ]
    },
    {
     "name": "stdout",
     "output_type": "stream",
     "text": [
      "MSP-PODCAST_0023_0349, 4.000000, Arousal: 10.462767, Valence: -2.446635, Dominance: 16.822616\n",
      "MSP-PODCAST_0023_0349, 4.000000, Arousal: 10.013918, Valence: -2.100937, Dominance: 17.314967\n",
      "MSP-PODCAST_0023_0349, 4.000000, Arousal: 9.943839, Valence: -0.832136, Dominance: 17.634471\n",
      "MSP-PODCAST_0023_0349, 4.000000, Arousal: 10.073820, Valence: 0.468675, Dominance: 17.724776\n",
      "MSP-PODCAST_0023_0349, 4.000000, Arousal: 10.446302, Valence: 1.228178, Dominance: 17.452535\n",
      "MSP-PODCAST_0023_0349, 4.000000, Arousal: 10.579803, Valence: 2.066619, Dominance: 16.845264\n",
      "MSP-PODCAST_0023_0349, 4.000000, Arousal: 10.424967, Valence: 2.836578, Dominance: 16.264255\n",
      "MSP-PODCAST_0023_0349, 3.870000, Arousal: 10.132288, Valence: 3.912311, Dominance: 15.907422\n"
     ]
    },
    {
     "name": "stderr",
     "output_type": "stream",
     "text": [
      "\r",
      "  2%|▋                                        | 43/2783 [00:20<21:46,  2.10it/s]"
     ]
    },
    {
     "name": "stdout",
     "output_type": "stream",
     "text": [
      "MSP-PODCAST_0023_0350, 4.000000, Arousal: 6.795006, Valence: 6.098825, Dominance: 11.752579\n",
      "MSP-PODCAST_0023_0350, 4.000000, Arousal: 7.239663, Valence: 5.649871, Dominance: 11.393966\n",
      "MSP-PODCAST_0023_0350, 4.000000, Arousal: 7.160117, Valence: 5.060208, Dominance: 11.374644\n",
      "MSP-PODCAST_0023_0350, 3.900000, Arousal: 7.336090, Valence: 4.638446, Dominance: 11.426626\n"
     ]
    },
    {
     "name": "stderr",
     "output_type": "stream",
     "text": [
      "\r",
      "  2%|▋                                        | 44/2783 [00:20<20:10,  2.26it/s]"
     ]
    },
    {
     "name": "stdout",
     "output_type": "stream",
     "text": [
      "MSP-PODCAST_0023_0351, 4.000000, Arousal: 5.635865, Valence: 2.251469, Dominance: 9.532425\n",
      "MSP-PODCAST_0023_0351, 4.000000, Arousal: 5.552070, Valence: 1.315846, Dominance: 10.041221\n",
      "MSP-PODCAST_0023_0351, 4.000000, Arousal: 5.208690, Valence: -0.080277, Dominance: 11.093209\n",
      "MSP-PODCAST_0023_0351, 3.670000, Arousal: 5.035313, Valence: -0.779356, Dominance: 11.617917\n"
     ]
    },
    {
     "name": "stderr",
     "output_type": "stream",
     "text": [
      "\r",
      "  2%|▋                                        | 45/2783 [00:21<19:40,  2.32it/s]"
     ]
    },
    {
     "name": "stdout",
     "output_type": "stream",
     "text": [
      "MSP-PODCAST_0023_0352, 4.000000, Arousal: 4.872155, Valence: -0.805591, Dominance: 12.687112\n",
      "MSP-PODCAST_0023_0352, 4.000000, Arousal: 5.366223, Valence: -0.633263, Dominance: 13.173958\n",
      "MSP-PODCAST_0023_0352, 4.000000, Arousal: 6.109748, Valence: 0.018206, Dominance: 13.992706\n",
      "MSP-PODCAST_0023_0352, 4.000000, Arousal: 6.915561, Valence: 0.310957, Dominance: 14.130226\n",
      "MSP-PODCAST_0023_0352, 4.000000, Arousal: 7.390509, Valence: 0.971644, Dominance: 13.963975\n",
      "MSP-PODCAST_0023_0352, 3.640000, Arousal: 7.877181, Valence: 1.487247, Dominance: 14.030877\n"
     ]
    },
    {
     "name": "stderr",
     "output_type": "stream",
     "text": [
      "\r",
      "  2%|▋                                        | 46/2783 [00:21<22:11,  2.06it/s]"
     ]
    },
    {
     "name": "stdout",
     "output_type": "stream",
     "text": [
      "MSP-PODCAST_0023_0353, 4.000000, Arousal: 5.070525, Valence: 3.190610, Dominance: 15.269832\n",
      "MSP-PODCAST_0023_0353, 4.000000, Arousal: 4.821836, Valence: 2.952472, Dominance: 15.084987\n",
      "MSP-PODCAST_0023_0353, 4.000000, Arousal: 5.032755, Valence: 2.806455, Dominance: 14.152412\n",
      "MSP-PODCAST_0023_0353, 4.000000, Arousal: 6.238774, Valence: 2.284106, Dominance: 13.870683\n",
      "MSP-PODCAST_0023_0353, 4.000000, Arousal: 6.996041, Valence: 1.097859, Dominance: 13.540963\n",
      "MSP-PODCAST_0023_0353, 4.000000, Arousal: 7.678580, Valence: -0.005307, Dominance: 12.411182\n",
      "MSP-PODCAST_0023_0353, 4.000000, Arousal: 8.982245, Valence: -0.642540, Dominance: 11.015085\n",
      "MSP-PODCAST_0023_0353, 4.000000, Arousal: 9.959118, Valence: -0.903422, Dominance: 10.175316\n",
      "MSP-PODCAST_0023_0353, 4.000000, Arousal: 11.228807, Valence: -1.743213, Dominance: 10.559622\n",
      "MSP-PODCAST_0023_0353, 4.000000, Arousal: 12.021682, Valence: -2.554656, Dominance: 10.856162\n",
      "MSP-PODCAST_0023_0353, 4.000000, Arousal: 12.096889, Valence: -3.312406, Dominance: 11.104648\n",
      "MSP-PODCAST_0023_0353, 3.990000, Arousal: 11.172277, Valence: -3.480302, Dominance: 10.903137\n",
      "MSP-PODCAST_0023_0354, 4.000000, Arousal: 14.465518, Valence: -1.540812, Dominance: 13.249225\n",
      "MSP-PODCAST_0023_0354, 4.000000, Arousal: 13.984286, Valence: -0.722658, Dominance: 14.558825\n",
      "MSP-PODCAST_0023_0354, 4.000000, Arousal: 14.342837, Valence: -0.080275, Dominance: 15.596608\n",
      "MSP-PODCAST_0023_0354, 4.000000, Arousal: 14.299049, Valence: 0.537005, Dominance: 16.163811\n",
      "MSP-PODCAST_0023_0354, 4.000000, Arousal: 14.149458, Valence: 0.725025, Dominance: 17.014754\n",
      "MSP-PODCAST_0023_0354, 4.000000, Arousal: 13.660271, Valence: 1.054285, Dominance: 17.882879\n",
      "MSP-PODCAST_0023_0354, 4.000000, Arousal: 13.753771, Valence: 1.807212, Dominance: 18.927008\n",
      "MSP-PODCAST_0023_0354, 4.000000, Arousal: 13.989260, Valence: 2.331037, Dominance: 19.750677\n",
      "MSP-PODCAST_0023_0354, 4.000000, Arousal: 14.124462, Valence: 2.171353, Dominance: 19.776676\n",
      "MSP-PODCAST_0023_0354, 4.000000, Arousal: 14.703820, Valence: 2.202414, Dominance: 19.818675\n",
      "MSP-PODCAST_0023_0354, 4.000000, Arousal: 14.783178, Valence: 2.491808, Dominance: 20.117814\n",
      "MSP-PODCAST_0023_0354, 4.000000, Arousal: 15.181039, Valence: 2.595902, Dominance: 20.584839\n"
     ]
    },
    {
     "name": "stderr",
     "output_type": "stream",
     "text": [
      "\r",
      "  2%|▋                                        | 47/2783 [00:22<26:34,  1.72it/s]"
     ]
    },
    {
     "name": "stdout",
     "output_type": "stream",
     "text": [
      "MSP-PODCAST_0023_0354, 4.000000, Arousal: 16.161243, Valence: 2.693575, Dominance: 21.520638\n",
      "MSP-PODCAST_0023_0354, 3.840000, Arousal: 16.779836, Valence: 2.614405, Dominance: 21.756424\n"
     ]
    },
    {
     "name": "stderr",
     "output_type": "stream",
     "text": [
      "\r",
      "  2%|▋                                        | 48/2783 [00:23<22:47,  2.00it/s]"
     ]
    },
    {
     "name": "stdout",
     "output_type": "stream",
     "text": [
      "MSP-PODCAST_0023_0355, 4.000000, Arousal: 12.295454, Valence: -0.939052, Dominance: 21.598763\n",
      "MSP-PODCAST_0023_0355, 3.690000, Arousal: 11.960432, Valence: -0.942126, Dominance: 21.587294\n"
     ]
    },
    {
     "name": "stderr",
     "output_type": "stream",
     "text": [
      "\r",
      "  2%|▋                                        | 49/2783 [00:23<21:38,  2.11it/s]"
     ]
    },
    {
     "name": "stdout",
     "output_type": "stream",
     "text": [
      "MSP-PODCAST_0023_0356, 4.000000, Arousal: 14.386295, Valence: -1.423878, Dominance: 20.753449\n",
      "MSP-PODCAST_0023_0356, 4.000000, Arousal: 14.759774, Valence: -1.684539, Dominance: 21.871516\n",
      "MSP-PODCAST_0023_0356, 4.000000, Arousal: 14.492516, Valence: -1.626111, Dominance: 22.358270\n",
      "MSP-PODCAST_0023_0356, 3.760000, Arousal: 14.327280, Valence: -1.884553, Dominance: 22.559717\n"
     ]
    },
    {
     "name": "stderr",
     "output_type": "stream",
     "text": [
      "\r",
      "  2%|▋                                        | 50/2783 [00:23<20:29,  2.22it/s]"
     ]
    },
    {
     "name": "stdout",
     "output_type": "stream",
     "text": [
      "MSP-PODCAST_0023_0357, 4.000000, Arousal: 15.430575, Valence: -1.538029, Dominance: 16.881251\n",
      "MSP-PODCAST_0023_0357, 4.000000, Arousal: 15.894592, Valence: -2.469330, Dominance: 17.095639\n",
      "MSP-PODCAST_0023_0357, 4.000000, Arousal: 17.158182, Valence: -3.609636, Dominance: 17.550686\n"
     ]
    },
    {
     "name": "stderr",
     "output_type": "stream",
     "text": [
      "\r",
      "  2%|▊                                        | 51/2783 [00:24<18:57,  2.40it/s]"
     ]
    },
    {
     "name": "stdout",
     "output_type": "stream",
     "text": [
      "MSP-PODCAST_0023_0358, 4.000000, Arousal: 12.532744, Valence: -6.438914, Dominance: 24.808539\n",
      "MSP-PODCAST_0023_0358, 4.000000, Arousal: 11.854166, Valence: -5.939956, Dominance: 24.706832\n",
      "MSP-PODCAST_0023_0358, 4.000000, Arousal: 11.713193, Valence: -5.510912, Dominance: 24.770369\n"
     ]
    },
    {
     "name": "stderr",
     "output_type": "stream",
     "text": [
      "\r",
      "  2%|▊                                        | 52/2783 [00:24<19:06,  2.38it/s]"
     ]
    },
    {
     "name": "stdout",
     "output_type": "stream",
     "text": [
      "MSP-PODCAST_0023_0359, 4.000000, Arousal: 10.565275, Valence: -9.060902, Dominance: 22.225053\n",
      "MSP-PODCAST_0023_0359, 4.000000, Arousal: 11.303143, Valence: -10.532480, Dominance: 21.906337\n",
      "MSP-PODCAST_0023_0359, 4.000000, Arousal: 12.398549, Valence: -12.300274, Dominance: 22.890846\n",
      "MSP-PODCAST_0023_0359, 4.000000, Arousal: 13.160988, Valence: -13.776825, Dominance: 24.348774\n",
      "MSP-PODCAST_0023_0359, 4.000000, Arousal: 13.797919, Valence: -15.558406, Dominance: 25.128522\n",
      "MSP-PODCAST_0023_0359, 4.000000, Arousal: 14.298237, Valence: -16.665870, Dominance: 25.310403\n",
      "MSP-PODCAST_0023_0359, 3.630000, Arousal: 14.601492, Valence: -17.302045, Dominance: 25.843515\n"
     ]
    },
    {
     "name": "stderr",
     "output_type": "stream",
     "text": [
      "\r",
      "  2%|▊                                        | 53/2783 [00:25<18:39,  2.44it/s]"
     ]
    },
    {
     "name": "stdout",
     "output_type": "stream",
     "text": [
      "MSP-PODCAST_0023_0360, 4.000000, Arousal: 10.357796, Valence: -12.372122, Dominance: 21.906115\n",
      "MSP-PODCAST_0023_0360, 4.000000, Arousal: 11.203741, Valence: -11.044213, Dominance: 22.182049\n",
      "MSP-PODCAST_0023_0360, 4.000000, Arousal: 11.497764, Valence: -9.957387, Dominance: 21.077470\n",
      "MSP-PODCAST_0023_0360, 4.000000, Arousal: 12.062857, Valence: -8.515501, Dominance: 20.777729\n",
      "MSP-PODCAST_0023_0360, 3.770000, Arousal: 12.226077, Valence: -7.465810, Dominance: 20.853678\n"
     ]
    },
    {
     "name": "stderr",
     "output_type": "stream",
     "text": [
      "\r",
      "  2%|▊                                        | 54/2783 [00:25<21:07,  2.15it/s]"
     ]
    },
    {
     "name": "stdout",
     "output_type": "stream",
     "text": [
      "MSP-PODCAST_0023_0361, 4.000000, Arousal: 14.547960, Valence: 2.996438, Dominance: 7.139888\n",
      "MSP-PODCAST_0023_0361, 4.000000, Arousal: 17.250536, Valence: 2.389116, Dominance: 8.885794\n",
      "MSP-PODCAST_0023_0361, 4.000000, Arousal: 19.058255, Valence: 1.402454, Dominance: 10.817018\n",
      "MSP-PODCAST_0023_0361, 4.000000, Arousal: 20.140118, Valence: -0.086517, Dominance: 13.245561\n",
      "MSP-PODCAST_0023_0361, 4.000000, Arousal: 20.583140, Valence: -1.694600, Dominance: 15.553260\n",
      "MSP-PODCAST_0023_0361, 4.000000, Arousal: 20.137149, Valence: -3.021022, Dominance: 17.448769\n",
      "MSP-PODCAST_0023_0361, 4.000000, Arousal: 20.106138, Valence: -4.374017, Dominance: 18.211686\n",
      "MSP-PODCAST_0023_0361, 4.000000, Arousal: 19.650973, Valence: -5.559066, Dominance: 19.287173\n",
      "MSP-PODCAST_0023_0361, 4.000000, Arousal: 18.873438, Valence: -6.078283, Dominance: 20.234937\n",
      "MSP-PODCAST_0023_0361, 3.920000, Arousal: 18.162644, Valence: -6.329969, Dominance: 20.835466\n"
     ]
    },
    {
     "name": "stderr",
     "output_type": "stream",
     "text": [
      "\r",
      "  2%|▊                                        | 55/2783 [00:26<21:59,  2.07it/s]"
     ]
    },
    {
     "name": "stdout",
     "output_type": "stream",
     "text": [
      "MSP-PODCAST_0023_0362, 4.000000, Arousal: 21.389460, Valence: -4.763842, Dominance: 23.264150\n",
      "MSP-PODCAST_0023_0362, 4.000000, Arousal: 22.172989, Valence: -4.500685, Dominance: 23.350671\n",
      "MSP-PODCAST_0023_0362, 4.000000, Arousal: 23.055086, Valence: -4.976571, Dominance: 23.761042\n",
      "MSP-PODCAST_0023_0362, 4.000000, Arousal: 24.310752, Valence: -5.674195, Dominance: 24.332207\n",
      "MSP-PODCAST_0023_0362, 4.000000, Arousal: 24.302592, Valence: -5.829427, Dominance: 25.004067\n",
      "MSP-PODCAST_0023_0362, 4.000000, Arousal: 23.609433, Valence: -5.333227, Dominance: 25.538897\n",
      "MSP-PODCAST_0023_0362, 4.000000, Arousal: 22.775027, Valence: -4.816575, Dominance: 25.376853\n",
      "MSP-PODCAST_0023_0362, 4.000000, Arousal: 21.932810, Valence: -4.258005, Dominance: 25.000287\n",
      "MSP-PODCAST_0023_0362, 3.620000, Arousal: 21.381460, Valence: -3.701518, Dominance: 25.126874\n",
      "MSP-PODCAST_0023_0363, 4.000000, Arousal: 18.237320, Valence: -0.756904, Dominance: 15.192193\n",
      "MSP-PODCAST_0023_0363, 4.000000, Arousal: 18.263995, Valence: -1.612727, Dominance: 14.816557\n",
      "MSP-PODCAST_0023_0363, 4.000000, Arousal: 17.916260, Valence: -2.675923, Dominance: 14.754859\n",
      "MSP-PODCAST_0023_0363, 4.000000, Arousal: 17.477083, Valence: -3.789228, Dominance: 14.960912\n",
      "MSP-PODCAST_0023_0363, 4.000000, Arousal: 17.205706, Valence: -5.052710, Dominance: 15.386528\n",
      "MSP-PODCAST_0023_0363, 4.000000, Arousal: 17.266588, Valence: -6.123510, Dominance: 15.925758\n",
      "MSP-PODCAST_0023_0363, 4.000000, Arousal: 17.519073, Valence: -7.516954, Dominance: 17.179126\n",
      "MSP-PODCAST_0023_0363, 4.000000, Arousal: 17.543778, Valence: -8.707064, Dominance: 19.324130\n",
      "MSP-PODCAST_0023_0363, 4.000000, Arousal: 17.317660, Valence: -10.282723, Dominance: 20.530987\n",
      "MSP-PODCAST_0023_0363, 4.000000, Arousal: 17.018159, Valence: -11.661884, Dominance: 21.272884\n",
      "MSP-PODCAST_0023_0363, 4.000000, Arousal: 16.913226, Valence: -13.005613, Dominance: 21.143801\n",
      "MSP-PODCAST_0023_0363, 4.000000, Arousal: 17.303461, Valence: -13.802496, Dominance: 21.045408\n"
     ]
    },
    {
     "name": "stderr",
     "output_type": "stream",
     "text": [
      "\r",
      "  2%|▊                                        | 56/2783 [00:26<25:21,  1.79it/s]"
     ]
    },
    {
     "name": "stdout",
     "output_type": "stream",
     "text": [
      "MSP-PODCAST_0023_0363, 4.000000, Arousal: 17.378545, Valence: -14.443057, Dominance: 21.211389\n",
      "MSP-PODCAST_0023_0363, 4.000000, Arousal: 17.116247, Valence: -14.995672, Dominance: 21.311726\n",
      "MSP-PODCAST_0023_0363, 3.570000, Arousal: 17.204670, Valence: -15.505640, Dominance: 21.000999\n"
     ]
    },
    {
     "name": "stderr",
     "output_type": "stream",
     "text": [
      "\r",
      "  2%|▊                                        | 57/2783 [00:27<23:40,  1.92it/s]"
     ]
    },
    {
     "name": "stdout",
     "output_type": "stream",
     "text": [
      "MSP-PODCAST_0023_0364, 4.000000, Arousal: 19.896701, Valence: 1.238299, Dominance: 23.504665\n",
      "MSP-PODCAST_0023_0364, 4.000000, Arousal: 20.989005, Valence: 5.411309, Dominance: 24.767197\n",
      "MSP-PODCAST_0023_0364, 4.000000, Arousal: 22.066481, Valence: 9.298524, Dominance: 26.255152\n",
      "MSP-PODCAST_0023_0364, 4.000000, Arousal: 22.236179, Valence: 12.491390, Dominance: 27.197244\n",
      "MSP-PODCAST_0023_0364, 4.000000, Arousal: 22.188413, Valence: 15.295330, Dominance: 27.407177\n",
      "MSP-PODCAST_0023_0364, 3.690000, Arousal: 22.712482, Valence: 17.229312, Dominance: 28.000788\n",
      "MSP-PODCAST_0023_0365, 4.000000, Arousal: 22.424508, Valence: 14.188748, Dominance: 31.607842\n",
      "MSP-PODCAST_0023_0365, 4.000000, Arousal: 23.226907, Valence: 14.592368, Dominance: 31.488437\n",
      "MSP-PODCAST_0023_0365, 4.000000, Arousal: 23.959268, Valence: 14.737734, Dominance: 30.958453\n",
      "MSP-PODCAST_0023_0365, 4.000000, Arousal: 24.626576, Valence: 15.666276, Dominance: 30.459591\n",
      "MSP-PODCAST_0023_0365, 4.000000, Arousal: 25.248655, Valence: 16.460305, Dominance: 30.080182\n",
      "MSP-PODCAST_0023_0365, 4.000000, Arousal: 24.718863, Valence: 17.320330, Dominance: 29.803030\n",
      "MSP-PODCAST_0023_0365, 4.000000, Arousal: 23.545022, Valence: 17.040435, Dominance: 28.906033\n",
      "MSP-PODCAST_0023_0365, 4.000000, Arousal: 22.948770, Valence: 17.397841, Dominance: 27.671098\n",
      "MSP-PODCAST_0023_0365, 4.000000, Arousal: 22.861458, Valence: 16.351702, Dominance: 26.742514\n",
      "MSP-PODCAST_0023_0365, 4.000000, Arousal: 22.538477, Valence: 15.866860, Dominance: 26.154944\n"
     ]
    },
    {
     "name": "stderr",
     "output_type": "stream",
     "text": [
      "\r",
      "  2%|▊                                        | 58/2783 [00:28<27:20,  1.66it/s]"
     ]
    },
    {
     "name": "stdout",
     "output_type": "stream",
     "text": [
      "MSP-PODCAST_0023_0365, 4.000000, Arousal: 21.793792, Valence: 15.440721, Dominance: 25.386170\n",
      "MSP-PODCAST_0023_0365, 4.000000, Arousal: 20.542983, Valence: 14.380359, Dominance: 24.619816\n",
      "MSP-PODCAST_0023_0365, 4.000000, Arousal: 18.801246, Valence: 13.617140, Dominance: 23.920500\n",
      "MSP-PODCAST_0023_0365, 3.730000, Arousal: 18.150480, Valence: 13.106222, Dominance: 23.424555\n",
      "MSP-PODCAST_0023_0366, 4.000000, Arousal: 11.404106, Valence: 11.426565, Dominance: 24.122664\n",
      "MSP-PODCAST_0023_0366, 4.000000, Arousal: 11.294175, Valence: 11.529444, Dominance: 24.151240\n",
      "MSP-PODCAST_0023_0366, 4.000000, Arousal: 11.953260, Valence: 11.509573, Dominance: 25.092692\n",
      "MSP-PODCAST_0023_0366, 4.000000, Arousal: 12.763680, Valence: 11.752007, Dominance: 25.883769\n",
      "MSP-PODCAST_0023_0366, 4.000000, Arousal: 14.264173, Valence: 12.637700, Dominance: 26.019426\n",
      "MSP-PODCAST_0023_0366, 4.000000, Arousal: 15.606604, Valence: 13.499315, Dominance: 25.968598\n",
      "MSP-PODCAST_0023_0366, 4.000000, Arousal: 15.561809, Valence: 13.940183, Dominance: 26.055697\n",
      "MSP-PODCAST_0023_0366, 4.000000, Arousal: 15.674442, Valence: 15.100663, Dominance: 26.025023\n",
      "MSP-PODCAST_0023_0366, 4.000000, Arousal: 16.431473, Valence: 15.578638, Dominance: 25.786503\n",
      "MSP-PODCAST_0023_0366, 4.000000, Arousal: 16.868882, Valence: 16.547977, Dominance: 26.055922\n",
      "MSP-PODCAST_0023_0366, 4.000000, Arousal: 17.105829, Valence: 18.277463, Dominance: 25.780812\n",
      "MSP-PODCAST_0023_0366, 4.000000, Arousal: 16.956664, Valence: 19.281984, Dominance: 25.328998\n"
     ]
    },
    {
     "name": "stderr",
     "output_type": "stream",
     "text": [
      "\r",
      "  2%|▊                                        | 59/2783 [00:28<29:21,  1.55it/s]"
     ]
    },
    {
     "name": "stdout",
     "output_type": "stream",
     "text": [
      "MSP-PODCAST_0023_0366, 4.000000, Arousal: 15.900483, Valence: 19.335125, Dominance: 25.662626\n",
      "MSP-PODCAST_0023_0366, 3.650000, Arousal: 14.729866, Valence: 19.689919, Dominance: 25.904203\n"
     ]
    },
    {
     "name": "stderr",
     "output_type": "stream",
     "text": [
      "\r",
      "  2%|▉                                        | 60/2783 [00:29<26:03,  1.74it/s]"
     ]
    },
    {
     "name": "stdout",
     "output_type": "stream",
     "text": [
      "MSP-PODCAST_0023_0367, 4.000000, Arousal: 16.157210, Valence: 19.021622, Dominance: 28.304254\n",
      "MSP-PODCAST_0023_0367, 4.000000, Arousal: 16.903633, Valence: 19.018997, Dominance: 28.107340\n",
      "MSP-PODCAST_0023_0367, 4.000000, Arousal: 17.585647, Valence: 19.647156, Dominance: 28.123838\n",
      "MSP-PODCAST_0023_0367, 4.000000, Arousal: 17.973586, Valence: 19.707744, Dominance: 27.845680\n",
      "MSP-PODCAST_0023_0367, 3.570000, Arousal: 18.434625, Valence: 19.930470, Dominance: 27.704265\n"
     ]
    },
    {
     "name": "stderr",
     "output_type": "stream",
     "text": [
      "\r",
      "  2%|▉                                        | 61/2783 [00:29<24:39,  1.84it/s]"
     ]
    },
    {
     "name": "stdout",
     "output_type": "stream",
     "text": [
      "MSP-PODCAST_0023_0368, 4.000000, Arousal: 21.173308, Valence: 17.286140, Dominance: 29.833805\n",
      "MSP-PODCAST_0023_0368, 4.000000, Arousal: 21.848989, Valence: 15.750989, Dominance: 30.298552\n",
      "MSP-PODCAST_0023_0368, 4.000000, Arousal: 22.851320, Valence: 14.718524, Dominance: 30.408112\n",
      "MSP-PODCAST_0023_0368, 4.000000, Arousal: 23.152954, Valence: 14.031064, Dominance: 30.075663\n",
      "MSP-PODCAST_0023_0368, 4.000000, Arousal: 22.788919, Valence: 14.321169, Dominance: 29.845993\n",
      "MSP-PODCAST_0023_0368, 3.830000, Arousal: 22.667616, Valence: 14.159730, Dominance: 29.311121\n"
     ]
    },
    {
     "name": "stderr",
     "output_type": "stream",
     "text": [
      "\r",
      "  2%|▉                                        | 62/2783 [00:30<23:18,  1.95it/s]"
     ]
    },
    {
     "name": "stdout",
     "output_type": "stream",
     "text": [
      "MSP-PODCAST_0023_0369, 4.000000, Arousal: 15.482270, Valence: 14.022141, Dominance: 26.830954\n",
      "MSP-PODCAST_0023_0369, 4.000000, Arousal: 16.126326, Valence: 13.145769, Dominance: 26.988844\n",
      "MSP-PODCAST_0023_0369, 4.000000, Arousal: 17.092196, Valence: 12.891133, Dominance: 27.353561\n",
      "MSP-PODCAST_0023_0369, 4.000000, Arousal: 18.325614, Valence: 11.911209, Dominance: 27.573867\n",
      "MSP-PODCAST_0023_0369, 4.000000, Arousal: 18.671903, Valence: 10.814490, Dominance: 28.453407\n",
      "MSP-PODCAST_0023_0369, 3.920000, Arousal: 18.771686, Valence: 9.910137, Dominance: 29.166562\n"
     ]
    },
    {
     "name": "stderr",
     "output_type": "stream",
     "text": [
      "\r",
      "  2%|▉                                        | 63/2783 [00:30<23:41,  1.91it/s]"
     ]
    },
    {
     "name": "stdout",
     "output_type": "stream",
     "text": [
      "MSP-PODCAST_0023_0370, 4.000000, Arousal: 20.395533, Valence: 4.645599, Dominance: 27.161626\n",
      "MSP-PODCAST_0023_0370, 4.000000, Arousal: 20.519114, Valence: 4.471038, Dominance: 26.670088\n",
      "MSP-PODCAST_0023_0370, 4.000000, Arousal: 20.039846, Valence: 3.545725, Dominance: 26.352067\n",
      "MSP-PODCAST_0023_0370, 4.000000, Arousal: 19.404259, Valence: 1.692617, Dominance: 25.751602\n",
      "MSP-PODCAST_0023_0370, 4.000000, Arousal: 18.835914, Valence: -0.319646, Dominance: 24.470519\n",
      "MSP-PODCAST_0023_0370, 4.000000, Arousal: 18.449330, Valence: -2.194866, Dominance: 22.923589\n",
      "MSP-PODCAST_0023_0370, 4.000000, Arousal: 18.525164, Valence: -3.481886, Dominance: 20.837942\n",
      "MSP-PODCAST_0023_0370, 4.000000, Arousal: 19.305523, Valence: -4.275033, Dominance: 19.598663\n",
      "MSP-PODCAST_0023_0370, 3.950000, Arousal: 19.592004, Valence: -4.977790, Dominance: 18.738519\n"
     ]
    },
    {
     "name": "stderr",
     "output_type": "stream",
     "text": [
      "\r",
      "  2%|▉                                        | 64/2783 [00:30<20:36,  2.20it/s]"
     ]
    },
    {
     "name": "stdout",
     "output_type": "stream",
     "text": [
      "MSP-PODCAST_0023_0371, 4.000000, Arousal: 23.119567, Valence: 6.343032, Dominance: 14.369790\n",
      "MSP-PODCAST_0023_0371, 4.000000, Arousal: 22.888162, Valence: 7.614466, Dominance: 14.087724\n",
      "MSP-PODCAST_0023_0371, 3.610000, Arousal: 23.032974, Valence: 8.329231, Dominance: 14.308593\n"
     ]
    },
    {
     "name": "stderr",
     "output_type": "stream",
     "text": [
      "\r",
      "  2%|▉                                        | 65/2783 [00:31<20:15,  2.24it/s]"
     ]
    },
    {
     "name": "stdout",
     "output_type": "stream",
     "text": [
      "MSP-PODCAST_0023_0372, 4.000000, Arousal: 22.632048, Valence: 12.148586, Dominance: 17.807024\n",
      "MSP-PODCAST_0023_0372, 4.000000, Arousal: 23.794304, Valence: 12.528215, Dominance: 18.553670\n",
      "MSP-PODCAST_0023_0372, 4.000000, Arousal: 25.068753, Valence: 13.004400, Dominance: 19.060640\n",
      "MSP-PODCAST_0023_0372, 4.000000, Arousal: 25.673339, Valence: 12.741466, Dominance: 19.465033\n",
      "MSP-PODCAST_0023_0372, 3.910000, Arousal: 25.616978, Valence: 12.446157, Dominance: 20.148098\n"
     ]
    },
    {
     "name": "stderr",
     "output_type": "stream",
     "text": [
      "\r",
      "  2%|▉                                        | 66/2783 [00:31<18:21,  2.47it/s]"
     ]
    },
    {
     "name": "stdout",
     "output_type": "stream",
     "text": [
      "MSP-PODCAST_0023_0373, 4.000000, Arousal: 20.945465, Valence: 6.906373, Dominance: 24.813434\n",
      "MSP-PODCAST_0023_0373, 4.000000, Arousal: 20.438047, Valence: 5.718732, Dominance: 24.546194\n",
      "MSP-PODCAST_0023_0373, 3.790000, Arousal: 20.682470, Valence: 4.641764, Dominance: 24.525440\n"
     ]
    },
    {
     "name": "stderr",
     "output_type": "stream",
     "text": [
      "\r",
      "  2%|▉                                        | 67/2783 [00:32<18:34,  2.44it/s]"
     ]
    },
    {
     "name": "stdout",
     "output_type": "stream",
     "text": [
      "MSP-PODCAST_0023_0374, 4.000000, Arousal: 20.419677, Valence: -1.964491, Dominance: 22.953097\n",
      "MSP-PODCAST_0023_0374, 4.000000, Arousal: 20.793795, Valence: -2.218534, Dominance: 23.169789\n",
      "MSP-PODCAST_0023_0374, 4.000000, Arousal: 21.061674, Valence: -2.451758, Dominance: 23.997225\n",
      "MSP-PODCAST_0023_0374, 4.000000, Arousal: 21.140736, Valence: -2.567170, Dominance: 24.042513\n",
      "MSP-PODCAST_0023_0374, 4.000000, Arousal: 21.467404, Valence: -2.207968, Dominance: 23.828571\n",
      "MSP-PODCAST_0023_0374, 3.870000, Arousal: 21.797258, Valence: -1.373148, Dominance: 23.809537\n"
     ]
    },
    {
     "name": "stderr",
     "output_type": "stream",
     "text": [
      "\r",
      "  2%|█                                        | 68/2783 [00:32<20:19,  2.23it/s]"
     ]
    },
    {
     "name": "stdout",
     "output_type": "stream",
     "text": [
      "MSP-PODCAST_0023_0375, 4.000000, Arousal: 16.532888, Valence: 8.097853, Dominance: 26.467576\n",
      "MSP-PODCAST_0023_0375, 4.000000, Arousal: 15.590603, Valence: 9.263756, Dominance: 27.327564\n",
      "MSP-PODCAST_0023_0375, 4.000000, Arousal: 15.106375, Valence: 10.273750, Dominance: 27.510963\n",
      "MSP-PODCAST_0023_0375, 4.000000, Arousal: 15.026505, Valence: 11.008687, Dominance: 27.144785\n",
      "MSP-PODCAST_0023_0375, 4.000000, Arousal: 14.848794, Valence: 11.636404, Dominance: 26.635232\n",
      "MSP-PODCAST_0023_0375, 4.000000, Arousal: 14.977625, Valence: 11.441150, Dominance: 26.140371\n",
      "MSP-PODCAST_0023_0375, 3.650000, Arousal: 14.988688, Valence: 11.437340, Dominance: 26.062256\n"
     ]
    },
    {
     "name": "stderr",
     "output_type": "stream",
     "text": [
      "\r",
      "  2%|█                                        | 69/2783 [00:33<21:26,  2.11it/s]"
     ]
    },
    {
     "name": "stdout",
     "output_type": "stream",
     "text": [
      "MSP-PODCAST_0023_0376, 4.000000, Arousal: 14.341241, Valence: 7.836668, Dominance: 24.107545\n",
      "MSP-PODCAST_0023_0376, 4.000000, Arousal: 14.614055, Valence: 7.103326, Dominance: 24.853221\n",
      "MSP-PODCAST_0023_0376, 4.000000, Arousal: 15.488607, Valence: 6.776070, Dominance: 25.229720\n",
      "MSP-PODCAST_0023_0376, 4.000000, Arousal: 15.811974, Valence: 6.846770, Dominance: 25.382658\n",
      "MSP-PODCAST_0023_0376, 4.000000, Arousal: 16.550522, Valence: 6.693966, Dominance: 25.801352\n",
      "MSP-PODCAST_0023_0376, 4.000000, Arousal: 17.149555, Valence: 7.320953, Dominance: 26.517382\n",
      "MSP-PODCAST_0023_0376, 4.000000, Arousal: 17.636191, Valence: 8.026097, Dominance: 26.078626\n",
      "MSP-PODCAST_0023_0376, 4.000000, Arousal: 17.776049, Valence: 8.668890, Dominance: 25.911455\n",
      "MSP-PODCAST_0023_0376, 3.860000, Arousal: 17.650451, Valence: 8.914143, Dominance: 25.647012\n",
      "MSP-PODCAST_0023_0377, 4.000000, Arousal: 16.773197, Valence: 10.412816, Dominance: 23.822688\n",
      "MSP-PODCAST_0023_0377, 4.000000, Arousal: 16.972182, Valence: 10.770255, Dominance: 23.787407\n",
      "MSP-PODCAST_0023_0377, 4.000000, Arousal: 17.426334, Valence: 11.383602, Dominance: 23.888111\n",
      "MSP-PODCAST_0023_0377, 4.000000, Arousal: 18.088723, Valence: 11.784926, Dominance: 24.256938\n",
      "MSP-PODCAST_0023_0377, 4.000000, Arousal: 18.789414, Valence: 11.486787, Dominance: 24.194560\n",
      "MSP-PODCAST_0023_0377, 4.000000, Arousal: 18.785558, Valence: 10.556723, Dominance: 23.762827\n",
      "MSP-PODCAST_0023_0377, 4.000000, Arousal: 19.553508, Valence: 9.669180, Dominance: 23.091655\n",
      "MSP-PODCAST_0023_0377, 4.000000, Arousal: 21.009010, Valence: 8.444888, Dominance: 22.887442\n",
      "MSP-PODCAST_0023_0377, 4.000000, Arousal: 21.825969, Valence: 7.405899, Dominance: 23.289136\n",
      "MSP-PODCAST_0023_0377, 4.000000, Arousal: 22.913524, Valence: 5.896311, Dominance: 23.903209\n",
      "MSP-PODCAST_0023_0377, 4.000000, Arousal: 23.841690, Valence: 3.909014, Dominance: 24.028667\n"
     ]
    },
    {
     "name": "stderr",
     "output_type": "stream",
     "text": [
      "\r",
      "  3%|█                                        | 70/2783 [00:34<25:49,  1.75it/s]"
     ]
    },
    {
     "name": "stdout",
     "output_type": "stream",
     "text": [
      "MSP-PODCAST_0023_0377, 4.000000, Arousal: 24.622700, Valence: 1.870438, Dominance: 24.018631\n",
      "MSP-PODCAST_0023_0377, 3.950000, Arousal: 25.248587, Valence: 0.779659, Dominance: 24.700474\n",
      "MSP-PODCAST_0023_0378, 4.000000, Arousal: 28.368670, Valence: -0.138647, Dominance: 30.565616\n",
      "MSP-PODCAST_0023_0378, 4.000000, Arousal: 27.423082, Valence: -0.297391, Dominance: 30.160884\n",
      "MSP-PODCAST_0023_0378, 4.000000, Arousal: 26.122744, Valence: -0.044015, Dominance: 29.776587\n",
      "MSP-PODCAST_0023_0378, 4.000000, Arousal: 25.012211, Valence: -0.142764, Dominance: 30.118675\n",
      "MSP-PODCAST_0023_0378, 4.000000, Arousal: 23.903054, Valence: 0.188377, Dominance: 30.436651\n",
      "MSP-PODCAST_0023_0378, 4.000000, Arousal: 21.946821, Valence: 0.567489, Dominance: 29.832651\n",
      "MSP-PODCAST_0023_0378, 4.000000, Arousal: 20.402228, Valence: 0.852935, Dominance: 28.972092\n",
      "MSP-PODCAST_0023_0378, 4.000000, Arousal: 19.209964, Valence: 1.720776, Dominance: 27.814664\n",
      "MSP-PODCAST_0023_0378, 4.000000, Arousal: 18.274893, Valence: 2.205112, Dominance: 26.806159\n",
      "MSP-PODCAST_0023_0378, 4.000000, Arousal: 18.275936, Valence: 3.154668, Dominance: 26.465184\n",
      "MSP-PODCAST_0023_0378, 4.000000, Arousal: 18.861950, Valence: 3.902639, Dominance: 26.584876\n"
     ]
    },
    {
     "name": "stderr",
     "output_type": "stream",
     "text": [
      "\r",
      "  3%|█                                        | 71/2783 [00:34<28:13,  1.60it/s]"
     ]
    },
    {
     "name": "stdout",
     "output_type": "stream",
     "text": [
      "MSP-PODCAST_0023_0378, 3.940000, Arousal: 19.699849, Valence: 4.921101, Dominance: 26.160077\n"
     ]
    },
    {
     "name": "stderr",
     "output_type": "stream",
     "text": [
      "\r",
      "  3%|█                                        | 72/2783 [00:35<30:20,  1.49it/s]"
     ]
    },
    {
     "name": "stdout",
     "output_type": "stream",
     "text": [
      "MSP-PODCAST_0023_0379, 4.000000, Arousal: 20.083046, Valence: 1.605538, Dominance: 29.761050\n",
      "MSP-PODCAST_0023_0379, 4.000000, Arousal: 19.946826, Valence: 1.327546, Dominance: 30.277130\n",
      "MSP-PODCAST_0023_0379, 4.000000, Arousal: 20.784532, Valence: 0.933574, Dominance: 30.646672\n",
      "MSP-PODCAST_0023_0379, 4.000000, Arousal: 21.684172, Valence: 1.084660, Dominance: 31.091494\n",
      "MSP-PODCAST_0023_0379, 4.000000, Arousal: 22.880537, Valence: 1.267666, Dominance: 31.815199\n",
      "MSP-PODCAST_0023_0379, 4.000000, Arousal: 23.757773, Valence: 1.608586, Dominance: 32.603852\n",
      "MSP-PODCAST_0023_0379, 4.000000, Arousal: 25.171611, Valence: 2.573941, Dominance: 32.682356\n",
      "MSP-PODCAST_0023_0379, 4.000000, Arousal: 26.267348, Valence: 3.411363, Dominance: 32.906060\n",
      "MSP-PODCAST_0023_0379, 4.000000, Arousal: 27.497011, Valence: 4.098380, Dominance: 33.305978\n",
      "MSP-PODCAST_0023_0379, 4.000000, Arousal: 28.455713, Valence: 4.926726, Dominance: 33.680691\n",
      "MSP-PODCAST_0023_0379, 4.000000, Arousal: 28.970742, Valence: 5.493607, Dominance: 34.373422\n",
      "MSP-PODCAST_0023_0379, 4.000000, Arousal: 29.432077, Valence: 5.767210, Dominance: 34.204348\n",
      "MSP-PODCAST_0023_0379, 3.900000, Arousal: 29.455197, Valence: 6.591539, Dominance: 33.859007\n",
      "MSP-PODCAST_0023_0380, 4.000000, Arousal: 25.461073, Valence: -0.535215, Dominance: 35.290794\n",
      "MSP-PODCAST_0023_0380, 4.000000, Arousal: 24.888132, Valence: 0.090882, Dominance: 34.420856\n",
      "MSP-PODCAST_0023_0380, 4.000000, Arousal: 24.711884, Valence: 0.887663, Dominance: 33.256358\n",
      "MSP-PODCAST_0023_0380, 4.000000, Arousal: 24.505185, Valence: 1.402013, Dominance: 31.836789\n",
      "MSP-PODCAST_0023_0380, 4.000000, Arousal: 24.334901, Valence: 1.915898, Dominance: 30.740519\n",
      "MSP-PODCAST_0023_0380, 4.000000, Arousal: 24.314924, Valence: 2.352596, Dominance: 30.707771\n",
      "MSP-PODCAST_0023_0380, 4.000000, Arousal: 24.481008, Valence: 2.912273, Dominance: 31.133814\n",
      "MSP-PODCAST_0023_0380, 4.000000, Arousal: 24.871525, Valence: 3.219789, Dominance: 31.368525\n",
      "MSP-PODCAST_0023_0380, 4.000000, Arousal: 24.903775, Valence: 3.635959, Dominance: 30.985426\n",
      "MSP-PODCAST_0023_0380, 4.000000, Arousal: 24.956188, Valence: 3.377274, Dominance: 30.378010\n",
      "MSP-PODCAST_0023_0380, 4.000000, Arousal: 25.205672, Valence: 2.936195, Dominance: 29.930578\n",
      "MSP-PODCAST_0023_0380, 4.000000, Arousal: 25.256188, Valence: 2.252782, Dominance: 29.964520\n",
      "MSP-PODCAST_0023_0380, 4.000000, Arousal: 24.998312, Valence: 1.867423, Dominance: 29.739404\n",
      "MSP-PODCAST_0023_0380, 3.910000, Arousal: 24.193162, Valence: 1.487561, Dominance: 29.022809\n"
     ]
    },
    {
     "name": "stderr",
     "output_type": "stream",
     "text": [
      "  3%|█                                        | 74/2783 [00:36<29:00,  1.56it/s]"
     ]
    },
    {
     "name": "stdout",
     "output_type": "stream",
     "text": [
      "MSP-PODCAST_0023_0381, 4.000000, Arousal: 19.690331, Valence: 1.292041, Dominance: 24.190242\n",
      "MSP-PODCAST_0023_0381, 4.000000, Arousal: 19.993884, Valence: 1.008222, Dominance: 24.343308\n",
      "MSP-PODCAST_0023_0381, 4.000000, Arousal: 19.869986, Valence: 0.260102, Dominance: 24.174862\n",
      "MSP-PODCAST_0023_0381, 4.000000, Arousal: 20.090555, Valence: -0.088329, Dominance: 24.655227\n",
      "MSP-PODCAST_0023_0381, 4.000000, Arousal: 20.347958, Valence: -0.543969, Dominance: 24.690730\n",
      "MSP-PODCAST_0023_0381, 4.000000, Arousal: 20.754367, Valence: -0.833055, Dominance: 24.705090\n",
      "MSP-PODCAST_0023_0381, 4.000000, Arousal: 21.504003, Valence: -0.934074, Dominance: 25.209583\n",
      "MSP-PODCAST_0023_0381, 4.000000, Arousal: 22.695890, Valence: -0.560200, Dominance: 26.077521\n",
      "MSP-PODCAST_0023_0381, 3.710000, Arousal: 22.546850, Valence: -0.604707, Dominance: 26.499716\n"
     ]
    },
    {
     "name": "stderr",
     "output_type": "stream",
     "text": [
      "\r",
      "  3%|█                                        | 75/2783 [00:37<26:56,  1.68it/s]"
     ]
    },
    {
     "name": "stdout",
     "output_type": "stream",
     "text": [
      "MSP-PODCAST_0023_0382, 4.000000, Arousal: 21.367398, Valence: 1.322818, Dominance: 32.737057\n",
      "MSP-PODCAST_0023_0382, 4.000000, Arousal: 21.331938, Valence: 0.069444, Dominance: 32.867082\n",
      "MSP-PODCAST_0023_0382, 4.000000, Arousal: 21.243223, Valence: -0.665312, Dominance: 32.792352\n",
      "MSP-PODCAST_0023_0382, 4.000000, Arousal: 21.277598, Valence: -1.400440, Dominance: 32.342191\n",
      "MSP-PODCAST_0023_0382, 4.000000, Arousal: 21.199929, Valence: -2.247446, Dominance: 31.939685\n",
      "MSP-PODCAST_0023_0382, 4.000000, Arousal: 20.791701, Valence: -2.573066, Dominance: 30.852235\n",
      "MSP-PODCAST_0023_0382, 3.530000, Arousal: 20.532952, Valence: -2.980351, Dominance: 30.303814\n"
     ]
    },
    {
     "name": "stderr",
     "output_type": "stream",
     "text": [
      "\r",
      "  3%|█                                        | 76/2783 [00:37<25:40,  1.76it/s]"
     ]
    },
    {
     "name": "stdout",
     "output_type": "stream",
     "text": [
      "MSP-PODCAST_0023_0383, 4.000000, Arousal: 15.525804, Valence: -1.165443, Dominance: 23.114848\n",
      "MSP-PODCAST_0023_0383, 4.000000, Arousal: 16.562224, Valence: -1.293859, Dominance: 22.528355\n",
      "MSP-PODCAST_0023_0383, 4.000000, Arousal: 17.240768, Valence: -1.134245, Dominance: 22.213628\n",
      "MSP-PODCAST_0023_0383, 4.000000, Arousal: 17.771460, Valence: -0.363704, Dominance: 21.627769\n",
      "MSP-PODCAST_0023_0383, 4.000000, Arousal: 18.008421, Valence: 0.204993, Dominance: 20.553046\n",
      "MSP-PODCAST_0023_0383, 4.000000, Arousal: 18.123555, Valence: 0.551756, Dominance: 20.036801\n",
      "MSP-PODCAST_0023_0383, 3.510000, Arousal: 18.412946, Valence: 0.790881, Dominance: 20.027182\n"
     ]
    },
    {
     "name": "stderr",
     "output_type": "stream",
     "text": [
      "\r",
      "  3%|█▏                                       | 77/2783 [00:38<23:12,  1.94it/s]"
     ]
    },
    {
     "name": "stdout",
     "output_type": "stream",
     "text": [
      "MSP-PODCAST_0023_0384, 4.000000, Arousal: 16.464717, Valence: -4.531892, Dominance: 23.779817\n",
      "MSP-PODCAST_0023_0384, 4.000000, Arousal: 17.386371, Valence: -4.329941, Dominance: 24.830130\n",
      "MSP-PODCAST_0023_0384, 3.770000, Arousal: 18.298170, Valence: -4.279842, Dominance: 25.508211\n"
     ]
    },
    {
     "name": "stderr",
     "output_type": "stream",
     "text": [
      "\r",
      "  3%|█▏                                       | 78/2783 [00:38<20:10,  2.24it/s]"
     ]
    },
    {
     "name": "stdout",
     "output_type": "stream",
     "text": [
      "MSP-PODCAST_0023_0385, 3.050000, Arousal: 19.999904, Valence: 1.749081, Dominance: 32.481873\n"
     ]
    },
    {
     "name": "stderr",
     "output_type": "stream",
     "text": [
      "\r",
      "  3%|█▏                                       | 79/2783 [00:39<22:37,  1.99it/s]"
     ]
    },
    {
     "name": "stdout",
     "output_type": "stream",
     "text": [
      "MSP-PODCAST_0023_0386, 4.000000, Arousal: 17.176981, Valence: 6.381099, Dominance: 28.205721\n",
      "MSP-PODCAST_0023_0386, 4.000000, Arousal: 16.244021, Valence: 6.247573, Dominance: 25.207789\n",
      "MSP-PODCAST_0023_0386, 4.000000, Arousal: 15.790417, Valence: 6.084595, Dominance: 22.475520\n",
      "MSP-PODCAST_0023_0386, 4.000000, Arousal: 15.214196, Valence: 6.483913, Dominance: 20.026527\n",
      "MSP-PODCAST_0023_0386, 4.000000, Arousal: 14.695865, Valence: 6.637087, Dominance: 18.310094\n",
      "MSP-PODCAST_0023_0386, 4.000000, Arousal: 14.446285, Valence: 6.253733, Dominance: 16.907679\n",
      "MSP-PODCAST_0023_0386, 4.000000, Arousal: 14.355341, Valence: 6.682962, Dominance: 15.472466\n",
      "MSP-PODCAST_0023_0386, 4.000000, Arousal: 14.889199, Valence: 7.090821, Dominance: 14.480186\n",
      "MSP-PODCAST_0023_0386, 4.000000, Arousal: 14.979965, Valence: 7.261709, Dominance: 14.256711\n",
      "MSP-PODCAST_0023_0386, 3.960000, Arousal: 15.623065, Valence: 7.125262, Dominance: 15.004062\n"
     ]
    },
    {
     "name": "stderr",
     "output_type": "stream",
     "text": [
      "\r",
      "  3%|█▏                                       | 80/2783 [00:39<20:10,  2.23it/s]"
     ]
    },
    {
     "name": "stdout",
     "output_type": "stream",
     "text": [
      "MSP-PODCAST_0023_0387, 4.000000, Arousal: 17.267501, Valence: 7.059433, Dominance: 28.688427\n",
      "MSP-PODCAST_0023_0387, 4.000000, Arousal: 17.308188, Valence: 7.622706, Dominance: 28.825889\n",
      "MSP-PODCAST_0023_0387, 3.560000, Arousal: 17.368849, Valence: 7.834749, Dominance: 29.120052\n",
      "MSP-PODCAST_0023_0388, 4.000000, Arousal: 15.358040, Valence: 5.101478, Dominance: 23.085673\n",
      "MSP-PODCAST_0023_0388, 4.000000, Arousal: 14.891942, Valence: 4.743923, Dominance: 21.421290\n",
      "MSP-PODCAST_0023_0388, 4.000000, Arousal: 15.134214, Valence: 4.549878, Dominance: 20.047615\n",
      "MSP-PODCAST_0023_0388, 4.000000, Arousal: 15.718057, Valence: 4.906917, Dominance: 17.995496\n",
      "MSP-PODCAST_0023_0388, 4.000000, Arousal: 16.288229, Valence: 5.137115, Dominance: 15.366655\n",
      "MSP-PODCAST_0023_0388, 4.000000, Arousal: 16.860311, Valence: 5.204178, Dominance: 13.625566\n",
      "MSP-PODCAST_0023_0388, 4.000000, Arousal: 18.498263, Valence: 4.745886, Dominance: 12.986128\n",
      "MSP-PODCAST_0023_0388, 4.000000, Arousal: 21.119566, Valence: 4.589621, Dominance: 13.331087\n",
      "MSP-PODCAST_0023_0388, 4.000000, Arousal: 23.183026, Valence: 4.000251, Dominance: 14.195004\n",
      "MSP-PODCAST_0023_0388, 4.000000, Arousal: 23.902887, Valence: 3.799547, Dominance: 14.935709\n",
      "MSP-PODCAST_0023_0388, 4.000000, Arousal: 24.042110, Valence: 3.750417, Dominance: 15.589627\n"
     ]
    },
    {
     "name": "stderr",
     "output_type": "stream",
     "text": [
      "\r",
      "  3%|█▏                                       | 81/2783 [00:40<23:21,  1.93it/s]"
     ]
    },
    {
     "name": "stdout",
     "output_type": "stream",
     "text": [
      "MSP-PODCAST_0023_0388, 3.940000, Arousal: 23.582688, Valence: 3.574879, Dominance: 16.878881\n"
     ]
    },
    {
     "name": "stderr",
     "output_type": "stream",
     "text": [
      "\r",
      "  3%|█▏                                       | 82/2783 [00:40<19:38,  2.29it/s]"
     ]
    },
    {
     "name": "stdout",
     "output_type": "stream",
     "text": [
      "MSP-PODCAST_0023_0389, 2.840000, Arousal: 18.913202, Valence: 3.152252, Dominance: 19.450418\n"
     ]
    },
    {
     "name": "stderr",
     "output_type": "stream",
     "text": [
      "\r",
      "  3%|█▏                                       | 83/2783 [00:40<20:51,  2.16it/s]"
     ]
    },
    {
     "name": "stdout",
     "output_type": "stream",
     "text": [
      "MSP-PODCAST_0023_0390, 4.000000, Arousal: 20.282658, Valence: 5.690504, Dominance: 21.917439\n",
      "MSP-PODCAST_0023_0390, 4.000000, Arousal: 21.266405, Valence: 5.831373, Dominance: 21.760882\n",
      "MSP-PODCAST_0023_0390, 4.000000, Arousal: 22.067855, Valence: 5.760525, Dominance: 21.300716\n",
      "MSP-PODCAST_0023_0390, 4.000000, Arousal: 22.531797, Valence: 5.585326, Dominance: 21.775928\n",
      "MSP-PODCAST_0023_0390, 4.000000, Arousal: 22.274181, Valence: 4.786405, Dominance: 22.614938\n",
      "MSP-PODCAST_0023_0390, 4.000000, Arousal: 21.845971, Valence: 3.779173, Dominance: 22.930654\n",
      "MSP-PODCAST_0023_0390, 4.000000, Arousal: 21.455070, Valence: 2.775947, Dominance: 23.395892\n",
      "MSP-PODCAST_0023_0390, 3.850000, Arousal: 21.116874, Valence: 2.052433, Dominance: 23.741733\n",
      "MSP-PODCAST_0023_0391, 4.000000, Arousal: 16.599022, Valence: 11.237684, Dominance: 20.131581\n",
      "MSP-PODCAST_0023_0391, 4.000000, Arousal: 15.957552, Valence: 10.758342, Dominance: 20.134823\n",
      "MSP-PODCAST_0023_0391, 4.000000, Arousal: 15.429129, Valence: 10.332368, Dominance: 20.567114\n",
      "MSP-PODCAST_0023_0391, 4.000000, Arousal: 15.505386, Valence: 10.405101, Dominance: 21.273123\n",
      "MSP-PODCAST_0023_0391, 4.000000, Arousal: 15.933192, Valence: 9.763294, Dominance: 21.996522\n",
      "MSP-PODCAST_0023_0391, 4.000000, Arousal: 16.644216, Valence: 9.223115, Dominance: 22.699668\n",
      "MSP-PODCAST_0023_0391, 4.000000, Arousal: 17.473590, Valence: 8.479020, Dominance: 23.090110\n",
      "MSP-PODCAST_0023_0391, 4.000000, Arousal: 17.964315, Valence: 7.110570, Dominance: 23.022754\n",
      "MSP-PODCAST_0023_0391, 4.000000, Arousal: 18.503935, Valence: 6.246659, Dominance: 23.633467\n"
     ]
    },
    {
     "name": "stderr",
     "output_type": "stream",
     "text": [
      "\r",
      "  3%|█▏                                       | 84/2783 [00:41<24:04,  1.87it/s]"
     ]
    },
    {
     "name": "stdout",
     "output_type": "stream",
     "text": [
      "MSP-PODCAST_0023_0391, 4.000000, Arousal: 19.029935, Valence: 5.579178, Dominance: 24.057263\n",
      "MSP-PODCAST_0023_0391, 3.930000, Arousal: 19.045739, Valence: 4.556333, Dominance: 24.369772\n"
     ]
    },
    {
     "name": "stderr",
     "output_type": "stream",
     "text": [
      "\r",
      "  3%|█▎                                       | 85/2783 [00:42<25:00,  1.80it/s]"
     ]
    },
    {
     "name": "stdout",
     "output_type": "stream",
     "text": [
      "MSP-PODCAST_0023_0392, 4.000000, Arousal: 19.139981, Valence: 1.984572, Dominance: 24.460662\n",
      "MSP-PODCAST_0023_0392, 4.000000, Arousal: 19.395816, Valence: 1.777023, Dominance: 23.744965\n",
      "MSP-PODCAST_0023_0392, 4.000000, Arousal: 19.496534, Valence: 2.302108, Dominance: 22.420199\n",
      "MSP-PODCAST_0023_0392, 4.000000, Arousal: 19.135416, Valence: 2.806596, Dominance: 21.136045\n",
      "MSP-PODCAST_0023_0392, 4.000000, Arousal: 18.919031, Valence: 3.186788, Dominance: 20.364127\n",
      "MSP-PODCAST_0023_0392, 4.000000, Arousal: 18.780241, Valence: 3.580108, Dominance: 20.363954\n",
      "MSP-PODCAST_0023_0392, 4.000000, Arousal: 18.495467, Valence: 3.414760, Dominance: 20.522818\n",
      "MSP-PODCAST_0023_0392, 3.660000, Arousal: 18.811934, Valence: 3.148672, Dominance: 20.319947\n"
     ]
    },
    {
     "name": "stderr",
     "output_type": "stream",
     "text": [
      "\r",
      "  3%|█▎                                       | 86/2783 [00:42<22:40,  1.98it/s]"
     ]
    },
    {
     "name": "stdout",
     "output_type": "stream",
     "text": [
      "MSP-PODCAST_0023_0393, 4.000000, Arousal: 21.198780, Valence: 1.042912, Dominance: 24.352078\n",
      "MSP-PODCAST_0023_0393, 4.000000, Arousal: 21.522764, Valence: 1.580364, Dominance: 24.113485\n",
      "MSP-PODCAST_0023_0393, 4.000000, Arousal: 21.769429, Valence: 2.230736, Dominance: 24.118336\n",
      "MSP-PODCAST_0023_0393, 3.850000, Arousal: 21.818184, Valence: 2.951214, Dominance: 23.699220\n"
     ]
    },
    {
     "name": "stderr",
     "output_type": "stream",
     "text": [
      "\r",
      "  3%|█▎                                       | 87/2783 [00:42<21:07,  2.13it/s]"
     ]
    },
    {
     "name": "stdout",
     "output_type": "stream",
     "text": [
      "MSP-PODCAST_0023_0394, 4.000000, Arousal: 11.942965, Valence: 7.699578, Dominance: 22.210138\n",
      "MSP-PODCAST_0023_0394, 4.000000, Arousal: 11.580652, Valence: 7.887793, Dominance: 23.221466\n",
      "MSP-PODCAST_0023_0394, 4.000000, Arousal: 11.946774, Valence: 7.967787, Dominance: 24.221459\n",
      "MSP-PODCAST_0023_0394, 3.710000, Arousal: 12.073990, Valence: 7.445268, Dominance: 25.126897\n"
     ]
    },
    {
     "name": "stderr",
     "output_type": "stream",
     "text": [
      "\r",
      "  3%|█▎                                       | 88/2783 [00:43<21:03,  2.13it/s]"
     ]
    },
    {
     "name": "stdout",
     "output_type": "stream",
     "text": [
      "MSP-PODCAST_0023_0395, 4.000000, Arousal: 20.980118, Valence: 6.735273, Dominance: 32.038342\n",
      "MSP-PODCAST_0023_0395, 4.000000, Arousal: 21.169928, Valence: 7.346807, Dominance: 31.347734\n",
      "MSP-PODCAST_0023_0395, 4.000000, Arousal: 21.463490, Valence: 8.041675, Dominance: 30.407651\n",
      "MSP-PODCAST_0023_0395, 4.000000, Arousal: 22.181824, Valence: 8.431441, Dominance: 29.103084\n",
      "MSP-PODCAST_0023_0395, 4.000000, Arousal: 21.724793, Valence: 8.837412, Dominance: 28.458671\n",
      "MSP-PODCAST_0023_0395, 4.000000, Arousal: 20.964944, Valence: 8.947590, Dominance: 28.284158\n",
      "MSP-PODCAST_0023_0395, 3.560000, Arousal: 20.462209, Valence: 9.116972, Dominance: 27.868339\n",
      "MSP-PODCAST_0035_0022, 4.000000, Arousal: -4.105610, Valence: 2.621930, Dominance: 5.238474\n",
      "MSP-PODCAST_0035_0022, 4.000000, Arousal: -4.291622, Valence: 2.859909, Dominance: 6.020726\n",
      "MSP-PODCAST_0035_0022, 4.000000, Arousal: -4.271809, Valence: 2.908338, Dominance: 6.658939\n",
      "MSP-PODCAST_0035_0022, 4.000000, Arousal: -4.258350, Valence: 3.059984, Dominance: 7.732551\n",
      "MSP-PODCAST_0035_0022, 4.000000, Arousal: -4.472769, Valence: 3.228493, Dominance: 8.007262\n",
      "MSP-PODCAST_0035_0022, 4.000000, Arousal: -3.832409, Valence: 2.791966, Dominance: 8.450267\n",
      "MSP-PODCAST_0035_0022, 4.000000, Arousal: -2.888700, Valence: 2.351429, Dominance: 9.441128\n",
      "MSP-PODCAST_0035_0022, 4.000000, Arousal: -1.722930, Valence: 1.157009, Dominance: 9.650422\n",
      "MSP-PODCAST_0035_0022, 4.000000, Arousal: -1.081861, Valence: 0.047366, Dominance: 9.878060\n",
      "MSP-PODCAST_0035_0022, 4.000000, Arousal: -0.537192, Valence: -0.269548, Dominance: 10.418187\n",
      "MSP-PODCAST_0035_0022, 4.000000, Arousal: -0.442097, Valence: -0.287688, Dominance: 11.557074\n",
      "MSP-PODCAST_0035_0022, 4.000000, Arousal: 0.390979, Valence: 0.220177, Dominance: 12.537175\n",
      "MSP-PODCAST_0035_0022, 4.000000, Arousal: 0.730677, Valence: 0.262218, Dominance: 13.079336\n",
      "MSP-PODCAST_0035_0022, 4.000000, Arousal: 1.111054, Valence: 0.700109, Dominance: 13.460877\n",
      "MSP-PODCAST_0035_0022, 4.000000, Arousal: 1.585543, Valence: 0.979922, Dominance: 14.022036\n",
      "MSP-PODCAST_0035_0022, 4.000000, Arousal: 1.592443, Valence: 0.931624, Dominance: 14.723910\n",
      "MSP-PODCAST_0035_0022, 4.000000, Arousal: 1.849890, Valence: 0.619455, Dominance: 15.219291\n"
     ]
    },
    {
     "name": "stderr",
     "output_type": "stream",
     "text": [
      "\r",
      "  3%|█▎                                       | 89/2783 [00:44<27:21,  1.64it/s]"
     ]
    },
    {
     "name": "stdout",
     "output_type": "stream",
     "text": [
      "MSP-PODCAST_0035_0022, 4.000000, Arousal: 1.701203, Valence: 0.495927, Dominance: 15.610024\n",
      "MSP-PODCAST_0035_0022, 4.000000, Arousal: 1.440123, Valence: -0.204636, Dominance: 16.111948\n",
      "MSP-PODCAST_0035_0022, 4.000000, Arousal: 0.483941, Valence: -1.380083, Dominance: 16.317773\n",
      "MSP-PODCAST_0035_0022, 4.000000, Arousal: -0.072519, Valence: -1.642867, Dominance: 17.094356\n",
      "MSP-PODCAST_0035_0022, 4.000000, Arousal: -0.761925, Valence: -1.561115, Dominance: 17.362595\n",
      "MSP-PODCAST_0035_0022, 3.710000, Arousal: -1.207421, Valence: -1.773025, Dominance: 17.404513\n"
     ]
    },
    {
     "name": "stderr",
     "output_type": "stream",
     "text": [
      "\r",
      "  3%|█▎                                       | 90/2783 [00:44<23:56,  1.88it/s]"
     ]
    },
    {
     "name": "stdout",
     "output_type": "stream",
     "text": [
      "MSP-PODCAST_0035_0023, 4.000000, Arousal: -9.402524, Valence: -5.809693, Dominance: 20.748310\n",
      "MSP-PODCAST_0035_0023, 4.000000, Arousal: -8.897565, Valence: -6.360440, Dominance: 21.287961\n",
      "MSP-PODCAST_0035_0023, 4.000000, Arousal: -8.763434, Valence: -6.932113, Dominance: 22.357889\n",
      "MSP-PODCAST_0035_0023, 3.620000, Arousal: -8.544201, Valence: -7.787231, Dominance: 23.066149\n"
     ]
    },
    {
     "name": "stderr",
     "output_type": "stream",
     "text": [
      "\r",
      "  3%|█▎                                       | 91/2783 [00:45<22:42,  1.98it/s]"
     ]
    },
    {
     "name": "stdout",
     "output_type": "stream",
     "text": [
      "MSP-PODCAST_0035_0024, 4.000000, Arousal: -9.657887, Valence: -20.931753, Dominance: 22.327942\n",
      "MSP-PODCAST_0035_0024, 4.000000, Arousal: -10.386965, Valence: -21.892101, Dominance: 22.927503\n",
      "MSP-PODCAST_0035_0024, 4.000000, Arousal: -11.405137, Valence: -22.915989, Dominance: 22.957274\n",
      "MSP-PODCAST_0035_0024, 4.000000, Arousal: -11.636149, Valence: -23.078696, Dominance: 22.848188\n",
      "MSP-PODCAST_0035_0024, 4.000000, Arousal: -11.435249, Valence: -23.097616, Dominance: 23.161699\n",
      "MSP-PODCAST_0035_0024, 4.000000, Arousal: -10.720372, Valence: -23.261709, Dominance: 23.624250\n",
      "MSP-PODCAST_0035_0024, 3.920000, Arousal: -10.305712, Valence: -23.259145, Dominance: 24.325283\n"
     ]
    },
    {
     "name": "stderr",
     "output_type": "stream",
     "text": [
      "\r",
      "  3%|█▎                                       | 92/2783 [00:45<22:45,  1.97it/s]"
     ]
    },
    {
     "name": "stdout",
     "output_type": "stream",
     "text": [
      "MSP-PODCAST_0035_0025, 4.000000, Arousal: -12.362655, Valence: -14.280003, Dominance: 17.530685\n",
      "MSP-PODCAST_0035_0025, 4.000000, Arousal: -11.366937, Valence: -14.199744, Dominance: 17.398056\n",
      "MSP-PODCAST_0035_0025, 4.000000, Arousal: -10.212747, Valence: -15.119642, Dominance: 17.184551\n",
      "MSP-PODCAST_0035_0025, 4.000000, Arousal: -10.263660, Valence: -15.866007, Dominance: 17.083876\n",
      "MSP-PODCAST_0035_0025, 4.000000, Arousal: -10.497471, Valence: -16.236070, Dominance: 16.640374\n",
      "MSP-PODCAST_0035_0025, 4.000000, Arousal: -11.001808, Valence: -17.229966, Dominance: 17.377178\n",
      "MSP-PODCAST_0035_0025, 4.000000, Arousal: -11.111972, Valence: -18.517797, Dominance: 18.143104\n",
      "MSP-PODCAST_0035_0025, 4.000000, Arousal: -10.004870, Valence: -19.366322, Dominance: 18.413976\n",
      "MSP-PODCAST_0035_0025, 4.000000, Arousal: -8.668882, Valence: -20.247355, Dominance: 18.464178\n",
      "MSP-PODCAST_0035_0025, 3.900000, Arousal: -7.266903, Valence: -20.407014, Dominance: 18.754334\n"
     ]
    },
    {
     "name": "stderr",
     "output_type": "stream",
     "text": [
      "\r",
      "  3%|█▎                                       | 93/2783 [00:45<19:48,  2.26it/s]"
     ]
    },
    {
     "name": "stdout",
     "output_type": "stream",
     "text": [
      "MSP-PODCAST_0035_0026, 4.000000, Arousal: -10.975440, Valence: -22.643297, Dominance: 19.887627\n",
      "MSP-PODCAST_0035_0026, 4.000000, Arousal: -11.969387, Valence: -22.669454, Dominance: 21.142832\n",
      "MSP-PODCAST_0035_0026, 4.000000, Arousal: -11.549444, Valence: -22.070778, Dominance: 21.912218\n",
      "MSP-PODCAST_0035_0026, 3.830000, Arousal: -11.655494, Valence: -21.438010, Dominance: 21.948250\n"
     ]
    },
    {
     "name": "stderr",
     "output_type": "stream",
     "text": [
      "\r",
      "  3%|█▍                                       | 94/2783 [00:46<20:22,  2.20it/s]"
     ]
    },
    {
     "name": "stdout",
     "output_type": "stream",
     "text": [
      "MSP-PODCAST_0035_0027, 4.000000, Arousal: -12.836492, Valence: -18.419473, Dominance: 17.784395\n",
      "MSP-PODCAST_0035_0027, 4.000000, Arousal: -12.178636, Valence: -18.406873, Dominance: 17.896702\n",
      "MSP-PODCAST_0035_0027, 4.000000, Arousal: -12.376305, Valence: -18.449202, Dominance: 17.670721\n",
      "MSP-PODCAST_0035_0027, 4.000000, Arousal: -12.499384, Valence: -18.495174, Dominance: 17.840490\n",
      "MSP-PODCAST_0035_0027, 4.000000, Arousal: -11.796685, Valence: -18.580598, Dominance: 17.793261\n",
      "MSP-PODCAST_0035_0027, 4.000000, Arousal: -11.202649, Valence: -18.359741, Dominance: 17.915691\n",
      "MSP-PODCAST_0035_0027, 4.000000, Arousal: -9.906993, Valence: -17.616745, Dominance: 18.193136\n",
      "MSP-PODCAST_0035_0027, 4.000000, Arousal: -9.168045, Valence: -17.226878, Dominance: 17.286432\n",
      "MSP-PODCAST_0035_0027, 4.000000, Arousal: -8.755939, Valence: -18.212095, Dominance: 15.407104\n",
      "MSP-PODCAST_0035_0027, 4.000000, Arousal: -8.405514, Valence: -19.293171, Dominance: 13.846480\n",
      "MSP-PODCAST_0035_0027, 3.580000, Arousal: -7.337656, Valence: -19.665399, Dominance: 13.324450\n"
     ]
    },
    {
     "name": "stderr",
     "output_type": "stream",
     "text": [
      "\r",
      "  3%|█▍                                       | 95/2783 [00:46<17:37,  2.54it/s]"
     ]
    },
    {
     "name": "stdout",
     "output_type": "stream",
     "text": [
      "MSP-PODCAST_0035_0028, 4.000000, Arousal: -6.876343, Valence: -18.497402, Dominance: 11.187890\n",
      "MSP-PODCAST_0035_0028, 3.730000, Arousal: -6.627340, Valence: -19.354889, Dominance: 11.596114\n"
     ]
    },
    {
     "name": "stderr",
     "output_type": "stream",
     "text": [
      "\r",
      "  3%|█▍                                       | 96/2783 [00:46<15:00,  2.98it/s]"
     ]
    },
    {
     "name": "stdout",
     "output_type": "stream",
     "text": [
      "MSP-PODCAST_0035_0029, 3.300000, Arousal: -6.272791, Valence: -23.767488, Dominance: 16.405290\n"
     ]
    },
    {
     "name": "stderr",
     "output_type": "stream",
     "text": [
      "\r",
      "  3%|█▍                                       | 97/2783 [00:47<20:22,  2.20it/s]"
     ]
    },
    {
     "name": "stdout",
     "output_type": "stream",
     "text": [
      "MSP-PODCAST_0035_0030, 4.000000, Arousal: -6.046841, Valence: -22.256739, Dominance: 18.828340\n",
      "MSP-PODCAST_0035_0030, 4.000000, Arousal: -5.020976, Valence: -22.292389, Dominance: 19.226099\n",
      "MSP-PODCAST_0035_0030, 4.000000, Arousal: -4.137805, Valence: -21.375061, Dominance: 19.536448\n",
      "MSP-PODCAST_0035_0030, 4.000000, Arousal: -4.200861, Valence: -20.663923, Dominance: 19.834294\n",
      "MSP-PODCAST_0035_0030, 4.000000, Arousal: -4.219155, Valence: -19.871162, Dominance: 19.854458\n",
      "MSP-PODCAST_0035_0030, 4.000000, Arousal: -2.763261, Valence: -18.671371, Dominance: 19.789496\n",
      "MSP-PODCAST_0035_0030, 4.000000, Arousal: -2.101103, Valence: -16.563259, Dominance: 19.811766\n",
      "MSP-PODCAST_0035_0030, 4.000000, Arousal: -2.146068, Valence: -13.850023, Dominance: 19.207000\n",
      "MSP-PODCAST_0035_0030, 4.000000, Arousal: -2.099321, Valence: -11.886358, Dominance: 18.757246\n",
      "MSP-PODCAST_0035_0030, 4.000000, Arousal: -1.508545, Valence: -10.612239, Dominance: 18.150115\n",
      "MSP-PODCAST_0035_0030, 4.000000, Arousal: -1.518036, Valence: -10.103877, Dominance: 18.163017\n",
      "MSP-PODCAST_0035_0030, 4.000000, Arousal: -1.902667, Valence: -9.833251, Dominance: 18.321972\n",
      "MSP-PODCAST_0035_0030, 4.000000, Arousal: -3.122599, Valence: -9.884387, Dominance: 18.552976\n",
      "MSP-PODCAST_0035_0030, 4.000000, Arousal: -5.730910, Valence: -10.080500, Dominance: 18.503209\n",
      "MSP-PODCAST_0035_0030, 4.000000, Arousal: -7.435454, Valence: -10.605491, Dominance: 17.710376\n",
      "MSP-PODCAST_0035_0030, 4.000000, Arousal: -7.872848, Valence: -11.592554, Dominance: 17.722145\n",
      "MSP-PODCAST_0035_0030, 4.000000, Arousal: -8.714622, Valence: -12.174260, Dominance: 18.266223\n",
      "MSP-PODCAST_0035_0030, 4.000000, Arousal: -9.283339, Valence: -12.342063, Dominance: 18.616126\n",
      "MSP-PODCAST_0035_0030, 3.980000, Arousal: -9.381460, Valence: -12.462093, Dominance: 18.070109\n"
     ]
    },
    {
     "name": "stderr",
     "output_type": "stream",
     "text": [
      "\r",
      "  4%|█▍                                       | 98/2783 [00:48<22:07,  2.02it/s]"
     ]
    },
    {
     "name": "stdout",
     "output_type": "stream",
     "text": [
      "MSP-PODCAST_0035_0031, 4.000000, Arousal: -4.690148, Valence: -10.165447, Dominance: 15.522645\n",
      "MSP-PODCAST_0035_0031, 4.000000, Arousal: -3.703469, Valence: -10.961444, Dominance: 15.551858\n",
      "MSP-PODCAST_0035_0031, 4.000000, Arousal: -2.858222, Valence: -11.778372, Dominance: 15.650161\n",
      "MSP-PODCAST_0035_0031, 4.000000, Arousal: -2.555585, Valence: -12.491394, Dominance: 15.586104\n",
      "MSP-PODCAST_0035_0031, 4.000000, Arousal: -2.207773, Valence: -13.348947, Dominance: 15.831682\n",
      "MSP-PODCAST_0035_0031, 4.000000, Arousal: -2.555851, Valence: -13.795399, Dominance: 16.675971\n",
      "MSP-PODCAST_0035_0031, 4.000000, Arousal: -2.807178, Valence: -14.278760, Dominance: 17.554919\n",
      "MSP-PODCAST_0035_0031, 4.000000, Arousal: -4.047134, Valence: -14.711721, Dominance: 17.852756\n",
      "MSP-PODCAST_0035_0031, 4.000000, Arousal: -5.321918, Valence: -14.947272, Dominance: 19.034816\n",
      "MSP-PODCAST_0035_0031, 4.000000, Arousal: -6.467138, Valence: -15.016134, Dominance: 19.514797\n",
      "MSP-PODCAST_0035_0031, 4.000000, Arousal: -7.248508, Valence: -14.898332, Dominance: 19.407082\n",
      "MSP-PODCAST_0035_0031, 4.000000, Arousal: -6.961835, Valence: -14.479662, Dominance: 19.074233\n",
      "MSP-PODCAST_0035_0031, 4.000000, Arousal: -6.299040, Valence: -13.837318, Dominance: 18.449290\n",
      "MSP-PODCAST_0035_0031, 3.660000, Arousal: -5.781466, Valence: -13.471322, Dominance: 17.773322\n"
     ]
    },
    {
     "name": "stderr",
     "output_type": "stream",
     "text": [
      "\r",
      "  4%|█▍                                       | 99/2783 [00:48<22:36,  1.98it/s]"
     ]
    },
    {
     "name": "stdout",
     "output_type": "stream",
     "text": [
      "MSP-PODCAST_0035_0032, 4.000000, Arousal: -2.590511, Valence: -13.034208, Dominance: 17.458015\n",
      "MSP-PODCAST_0035_0032, 4.000000, Arousal: -2.913373, Valence: -13.281788, Dominance: 17.614669\n",
      "MSP-PODCAST_0035_0032, 4.000000, Arousal: -2.806447, Valence: -12.986233, Dominance: 17.374627\n",
      "MSP-PODCAST_0035_0032, 4.000000, Arousal: -3.102187, Valence: -12.843295, Dominance: 17.402319\n",
      "MSP-PODCAST_0035_0032, 4.000000, Arousal: -3.830508, Valence: -12.938115, Dominance: 17.410268\n",
      "MSP-PODCAST_0035_0032, 4.000000, Arousal: -4.695010, Valence: -13.187584, Dominance: 16.774063\n",
      "MSP-PODCAST_0035_0032, 4.000000, Arousal: -5.205251, Valence: -13.340600, Dominance: 16.169505\n",
      "MSP-PODCAST_0035_0032, 4.000000, Arousal: -5.680345, Valence: -14.210059, Dominance: 16.098633\n",
      "MSP-PODCAST_0035_0032, 4.000000, Arousal: -5.968041, Valence: -15.333192, Dominance: 16.083687\n",
      "MSP-PODCAST_0035_0032, 4.000000, Arousal: -6.038644, Valence: -17.084075, Dominance: 15.378414\n",
      "MSP-PODCAST_0035_0032, 4.000000, Arousal: -5.865389, Valence: -18.747160, Dominance: 14.670462\n",
      "MSP-PODCAST_0035_0032, 3.990000, Arousal: -5.808041, Valence: -19.210731, Dominance: 13.504356\n"
     ]
    },
    {
     "name": "stderr",
     "output_type": "stream",
     "text": [
      "\r",
      "  4%|█▍                                      | 100/2783 [00:49<22:00,  2.03it/s]"
     ]
    },
    {
     "name": "stdout",
     "output_type": "stream",
     "text": [
      "MSP-PODCAST_0035_0033, 4.000000, Arousal: 3.024277, Valence: -13.624590, Dominance: 12.085035\n",
      "MSP-PODCAST_0035_0033, 4.000000, Arousal: 5.009564, Valence: -13.893210, Dominance: 13.526975\n",
      "MSP-PODCAST_0035_0033, 4.000000, Arousal: 6.122259, Valence: -14.220804, Dominance: 14.854026\n",
      "MSP-PODCAST_0035_0033, 4.000000, Arousal: 7.346078, Valence: -14.302517, Dominance: 15.490332\n",
      "MSP-PODCAST_0035_0033, 4.000000, Arousal: 8.038057, Valence: -14.516113, Dominance: 16.056038\n",
      "MSP-PODCAST_0035_0033, 4.000000, Arousal: 7.450094, Valence: -15.223603, Dominance: 17.262792\n",
      "MSP-PODCAST_0035_0033, 4.000000, Arousal: 7.078828, Valence: -15.982448, Dominance: 18.402528\n",
      "MSP-PODCAST_0035_0033, 4.000000, Arousal: 6.421977, Valence: -16.245508, Dominance: 18.548554\n",
      "MSP-PODCAST_0035_0033, 4.000000, Arousal: 5.435564, Valence: -16.285081, Dominance: 18.368869\n",
      "MSP-PODCAST_0035_0033, 3.740000, Arousal: 4.985799, Valence: -16.299131, Dominance: 18.166772\n"
     ]
    },
    {
     "name": "stderr",
     "output_type": "stream",
     "text": [
      "\r",
      "  4%|█▍                                      | 101/2783 [00:49<22:49,  1.96it/s]"
     ]
    },
    {
     "name": "stdout",
     "output_type": "stream",
     "text": [
      "MSP-PODCAST_0035_0034, 4.000000, Arousal: 2.733629, Valence: -16.334868, Dominance: 18.473186\n",
      "MSP-PODCAST_0035_0034, 4.000000, Arousal: 2.364442, Valence: -16.480940, Dominance: 18.476045\n",
      "MSP-PODCAST_0035_0034, 4.000000, Arousal: 2.209980, Valence: -16.459222, Dominance: 19.059789\n",
      "MSP-PODCAST_0035_0034, 4.000000, Arousal: 1.511320, Valence: -16.436505, Dominance: 19.743053\n",
      "MSP-PODCAST_0035_0034, 4.000000, Arousal: -0.106437, Valence: -16.408831, Dominance: 19.884121\n",
      "MSP-PODCAST_0035_0034, 4.000000, Arousal: -1.477584, Valence: -16.360004, Dominance: 20.106597\n",
      "MSP-PODCAST_0035_0034, 4.000000, Arousal: -3.139495, Valence: -16.010882, Dominance: 19.736035\n",
      "MSP-PODCAST_0035_0034, 4.000000, Arousal: -4.522254, Valence: -15.607165, Dominance: 19.811794\n",
      "MSP-PODCAST_0035_0034, 4.000000, Arousal: -5.157789, Valence: -15.081413, Dominance: 20.357186\n",
      "MSP-PODCAST_0035_0034, 4.000000, Arousal: -5.472933, Valence: -14.823839, Dominance: 20.958249\n",
      "MSP-PODCAST_0035_0034, 4.000000, Arousal: -5.478182, Valence: -14.756258, Dominance: 21.154286\n",
      "MSP-PODCAST_0035_0034, 4.000000, Arousal: -5.120319, Valence: -14.671142, Dominance: 20.637540\n",
      "MSP-PODCAST_0035_0034, 3.600000, Arousal: -4.600014, Valence: -14.530663, Dominance: 20.335061\n"
     ]
    },
    {
     "name": "stderr",
     "output_type": "stream",
     "text": [
      "\r",
      "  4%|█▍                                      | 102/2783 [00:50<23:16,  1.92it/s]"
     ]
    },
    {
     "name": "stdout",
     "output_type": "stream",
     "text": [
      "MSP-PODCAST_0035_0035, 4.000000, Arousal: 3.610582, Valence: -17.427033, Dominance: 19.702321\n",
      "MSP-PODCAST_0035_0035, 4.000000, Arousal: 4.177310, Valence: -17.338227, Dominance: 20.271207\n",
      "MSP-PODCAST_0035_0035, 4.000000, Arousal: 3.927217, Valence: -17.007612, Dominance: 20.657752\n",
      "MSP-PODCAST_0035_0035, 4.000000, Arousal: 3.833122, Valence: -16.389927, Dominance: 20.353531\n",
      "MSP-PODCAST_0035_0035, 4.000000, Arousal: 3.782197, Valence: -16.230089, Dominance: 19.673364\n",
      "MSP-PODCAST_0035_0035, 3.710000, Arousal: 2.742447, Valence: -16.067320, Dominance: 19.259490\n"
     ]
    },
    {
     "name": "stderr",
     "output_type": "stream",
     "text": [
      "\r",
      "  4%|█▍                                      | 103/2783 [00:51<25:45,  1.73it/s]"
     ]
    },
    {
     "name": "stdout",
     "output_type": "stream",
     "text": [
      "MSP-PODCAST_0035_0036, 4.000000, Arousal: -2.718133, Valence: -13.637334, Dominance: 19.775031\n",
      "MSP-PODCAST_0035_0036, 4.000000, Arousal: -2.210008, Valence: -12.406735, Dominance: 20.690720\n",
      "MSP-PODCAST_0035_0036, 4.000000, Arousal: -1.380668, Valence: -11.778707, Dominance: 21.422273\n",
      "MSP-PODCAST_0035_0036, 4.000000, Arousal: -0.318590, Valence: -11.401921, Dominance: 21.849499\n",
      "MSP-PODCAST_0035_0036, 4.000000, Arousal: 1.250150, Valence: -11.457857, Dominance: 22.971579\n",
      "MSP-PODCAST_0035_0036, 4.000000, Arousal: 2.268537, Valence: -12.092645, Dominance: 24.557235\n",
      "MSP-PODCAST_0035_0036, 4.000000, Arousal: 3.364718, Valence: -12.908327, Dominance: 25.390974\n",
      "MSP-PODCAST_0035_0036, 4.000000, Arousal: 3.577902, Valence: -13.620698, Dominance: 25.158156\n",
      "MSP-PODCAST_0035_0036, 4.000000, Arousal: 3.992455, Valence: -14.452986, Dominance: 25.206949\n",
      "MSP-PODCAST_0035_0036, 4.000000, Arousal: 4.566630, Valence: -15.165792, Dominance: 25.748300\n",
      "MSP-PODCAST_0035_0036, 4.000000, Arousal: 5.805592, Valence: -14.976301, Dominance: 26.434276\n",
      "MSP-PODCAST_0035_0036, 4.000000, Arousal: 6.833487, Valence: -14.721574, Dominance: 26.575376\n",
      "MSP-PODCAST_0035_0036, 4.000000, Arousal: 7.192516, Valence: -14.748297, Dominance: 26.622777\n",
      "MSP-PODCAST_0035_0036, 4.000000, Arousal: 8.223887, Valence: -14.437018, Dominance: 26.216490\n",
      "MSP-PODCAST_0035_0036, 4.000000, Arousal: 8.647974, Valence: -14.016643, Dominance: 25.670722\n",
      "MSP-PODCAST_0035_0036, 4.000000, Arousal: 9.151296, Valence: -14.033175, Dominance: 26.280301\n",
      "MSP-PODCAST_0035_0036, 3.960000, Arousal: 9.134844, Valence: -14.131184, Dominance: 26.324756\n"
     ]
    },
    {
     "name": "stderr",
     "output_type": "stream",
     "text": [
      "\r",
      "  4%|█▍                                      | 104/2783 [00:51<23:02,  1.94it/s]"
     ]
    },
    {
     "name": "stdout",
     "output_type": "stream",
     "text": [
      "MSP-PODCAST_0035_0037, 4.000000, Arousal: 11.694867, Valence: -15.397055, Dominance: 20.936120\n",
      "MSP-PODCAST_0035_0037, 4.000000, Arousal: 11.036852, Valence: -15.460278, Dominance: 20.613557\n",
      "MSP-PODCAST_0035_0037, 4.000000, Arousal: 10.443072, Valence: -15.662932, Dominance: 20.781366\n",
      "MSP-PODCAST_0035_0037, 4.000000, Arousal: 9.451413, Valence: -16.122917, Dominance: 20.611675\n",
      "MSP-PODCAST_0035_0037, 4.000000, Arousal: 7.591087, Valence: -16.572470, Dominance: 19.569485\n",
      "MSP-PODCAST_0035_0037, 3.530000, Arousal: 6.364311, Valence: -16.781492, Dominance: 19.354811\n"
     ]
    },
    {
     "name": "stderr",
     "output_type": "stream",
     "text": [
      "\r",
      "  4%|█▌                                      | 105/2783 [00:51<19:44,  2.26it/s]"
     ]
    },
    {
     "name": "stdout",
     "output_type": "stream",
     "text": [
      "MSP-PODCAST_0035_0038, 4.000000, Arousal: 4.143205, Valence: -13.968833, Dominance: 21.632480\n",
      "MSP-PODCAST_0035_0038, 4.000000, Arousal: 4.710930, Valence: -13.820496, Dominance: 21.860321\n",
      "MSP-PODCAST_0035_0038, 3.870000, Arousal: 4.962870, Valence: -14.076711, Dominance: 22.015203\n"
     ]
    },
    {
     "name": "stderr",
     "output_type": "stream",
     "text": [
      "\r",
      "  4%|█▌                                      | 106/2783 [00:52<20:21,  2.19it/s]"
     ]
    },
    {
     "name": "stdout",
     "output_type": "stream",
     "text": [
      "MSP-PODCAST_0035_0039, 4.000000, Arousal: -6.299673, Valence: -16.988532, Dominance: 20.256868\n",
      "MSP-PODCAST_0035_0039, 4.000000, Arousal: -7.472348, Valence: -17.096551, Dominance: 20.053311\n",
      "MSP-PODCAST_0035_0039, 4.000000, Arousal: -7.665532, Valence: -16.798527, Dominance: 19.906903\n",
      "MSP-PODCAST_0035_0039, 4.000000, Arousal: -7.159216, Valence: -15.901341, Dominance: 19.274653\n",
      "MSP-PODCAST_0035_0039, 4.000000, Arousal: -6.698919, Valence: -15.826631, Dominance: 19.202375\n",
      "MSP-PODCAST_0035_0039, 4.000000, Arousal: -5.913144, Valence: -16.266825, Dominance: 19.685745\n",
      "MSP-PODCAST_0035_0039, 4.000000, Arousal: -4.974743, Valence: -16.301125, Dominance: 20.095793\n",
      "MSP-PODCAST_0035_0039, 4.000000, Arousal: -3.242820, Valence: -16.423789, Dominance: 21.087581\n",
      "MSP-PODCAST_0035_0039, 4.000000, Arousal: -0.979825, Valence: -16.287809, Dominance: 21.621362\n",
      "MSP-PODCAST_0035_0039, 3.740000, Arousal: 0.690521, Valence: -16.045409, Dominance: 22.026916\n"
     ]
    },
    {
     "name": "stderr",
     "output_type": "stream",
     "text": [
      "\r",
      "  4%|█▌                                      | 107/2783 [00:52<18:06,  2.46it/s]"
     ]
    },
    {
     "name": "stdout",
     "output_type": "stream",
     "text": [
      "MSP-PODCAST_0035_0040, 4.000000, Arousal: 2.114880, Valence: -15.922606, Dominance: 19.700865\n",
      "MSP-PODCAST_0035_0040, 4.000000, Arousal: 1.079808, Valence: -16.017598, Dominance: 19.258077\n",
      "MSP-PODCAST_0035_0040, 4.000000, Arousal: -0.712192, Valence: -16.860357, Dominance: 19.373379\n",
      "MSP-PODCAST_0035_0040, 3.670000, Arousal: -1.274190, Valence: -17.401474, Dominance: 18.979770\n"
     ]
    },
    {
     "name": "stderr",
     "output_type": "stream",
     "text": [
      "\r",
      "  4%|█▌                                      | 108/2783 [00:52<16:22,  2.72it/s]"
     ]
    },
    {
     "name": "stdout",
     "output_type": "stream",
     "text": [
      "MSP-PODCAST_0035_0041, 4.000000, Arousal: -1.340497, Valence: -17.626432, Dominance: 13.513096\n",
      "MSP-PODCAST_0035_0041, 4.000000, Arousal: -0.972401, Valence: -17.074409, Dominance: 13.656413\n",
      "MSP-PODCAST_0035_0041, 4.000000, Arousal: -0.001676, Valence: -16.359458, Dominance: 14.736193\n",
      "MSP-PODCAST_0035_0041, 3.570000, Arousal: 0.244920, Valence: -16.189386, Dominance: 15.002355\n",
      "MSP-PODCAST_0035_0042, 4.000000, Arousal: 10.510167, Valence: -16.109317, Dominance: 19.387169\n",
      "MSP-PODCAST_0035_0042, 4.000000, Arousal: 12.304401, Valence: -16.658151, Dominance: 19.856082\n",
      "MSP-PODCAST_0035_0042, 4.000000, Arousal: 13.812058, Valence: -16.930950, Dominance: 20.010691\n",
      "MSP-PODCAST_0035_0042, 4.000000, Arousal: 14.719941, Valence: -16.905654, Dominance: 19.359277\n",
      "MSP-PODCAST_0035_0042, 4.000000, Arousal: 16.046369, Valence: -16.981613, Dominance: 18.580525\n",
      "MSP-PODCAST_0035_0042, 4.000000, Arousal: 16.423412, Valence: -17.086169, Dominance: 18.592197\n",
      "MSP-PODCAST_0035_0042, 4.000000, Arousal: 16.333170, Valence: -16.531662, Dominance: 17.891169\n",
      "MSP-PODCAST_0035_0042, 4.000000, Arousal: 15.130479, Valence: -16.501062, Dominance: 17.611577\n",
      "MSP-PODCAST_0035_0042, 4.000000, Arousal: 14.179270, Valence: -16.209206, Dominance: 17.267423\n",
      "MSP-PODCAST_0035_0042, 4.000000, Arousal: 13.061448, Valence: -15.354961, Dominance: 17.429790\n",
      "MSP-PODCAST_0035_0042, 4.000000, Arousal: 12.606262, Valence: -14.139601, Dominance: 17.928268\n",
      "MSP-PODCAST_0035_0042, 4.000000, Arousal: 12.223440, Valence: -13.067693, Dominance: 17.904021\n",
      "MSP-PODCAST_0035_0042, 4.000000, Arousal: 11.771218, Valence: -12.243104, Dominance: 18.758868\n",
      "MSP-PODCAST_0035_0042, 4.000000, Arousal: 11.150607, Valence: -11.144494, Dominance: 19.025639\n",
      "MSP-PODCAST_0035_0042, 4.000000, Arousal: 10.562090, Valence: -11.049798, Dominance: 19.629502\n",
      "MSP-PODCAST_0035_0042, 4.000000, Arousal: 10.972881, Valence: -11.325348, Dominance: 19.980270\n",
      "MSP-PODCAST_0035_0042, 4.000000, Arousal: 11.343091, Valence: -11.690083, Dominance: 19.736578\n",
      "MSP-PODCAST_0035_0042, 4.000000, Arousal: 11.439187, Valence: -12.067630, Dominance: 19.306238\n"
     ]
    },
    {
     "name": "stderr",
     "output_type": "stream",
     "text": [
      "\r",
      "  4%|█▌                                      | 109/2783 [00:53<22:54,  1.95it/s]"
     ]
    },
    {
     "name": "stdout",
     "output_type": "stream",
     "text": [
      "MSP-PODCAST_0035_0042, 4.000000, Arousal: 11.385521, Valence: -13.262776, Dominance: 19.100342\n",
      "MSP-PODCAST_0035_0042, 4.000000, Arousal: 11.617798, Valence: -14.212939, Dominance: 19.059569\n",
      "MSP-PODCAST_0035_0042, 4.000000, Arousal: 11.692935, Valence: -14.839524, Dominance: 19.031374\n",
      "MSP-PODCAST_0035_0042, 4.000000, Arousal: 11.835830, Valence: -15.259464, Dominance: 19.128136\n",
      "MSP-PODCAST_0035_0042, 3.630000, Arousal: 11.843795, Valence: -15.182941, Dominance: 19.200803\n"
     ]
    },
    {
     "name": "stderr",
     "output_type": "stream",
     "text": [
      "\r",
      "  4%|█▌                                      | 110/2783 [00:53<19:30,  2.28it/s]"
     ]
    },
    {
     "name": "stdout",
     "output_type": "stream",
     "text": [
      "MSP-PODCAST_0035_0043, 2.850000, Arousal: 2.656698, Valence: -15.482824, Dominance: 27.776974\n"
     ]
    },
    {
     "name": "stderr",
     "output_type": "stream",
     "text": [
      "\r",
      "  4%|█▌                                      | 111/2783 [00:54<16:27,  2.70it/s]"
     ]
    },
    {
     "name": "stdout",
     "output_type": "stream",
     "text": [
      "MSP-PODCAST_0035_0044, 3.370000, Arousal: 6.022792, Valence: -13.827743, Dominance: 21.346568\n",
      "MSP-PODCAST_0035_0045, 4.000000, Arousal: 3.079808, Valence: -17.792906, Dominance: 23.160786\n",
      "MSP-PODCAST_0035_0045, 4.000000, Arousal: 2.845691, Valence: -18.476858, Dominance: 24.064380\n",
      "MSP-PODCAST_0035_0045, 4.000000, Arousal: 2.376148, Valence: -19.598357, Dominance: 24.951112\n",
      "MSP-PODCAST_0035_0045, 4.000000, Arousal: 1.925928, Valence: -20.410465, Dominance: 24.333016\n",
      "MSP-PODCAST_0035_0045, 4.000000, Arousal: 2.004513, Valence: -20.920537, Dominance: 24.161756\n",
      "MSP-PODCAST_0035_0045, 4.000000, Arousal: 2.849962, Valence: -20.975119, Dominance: 23.564588\n",
      "MSP-PODCAST_0035_0045, 4.000000, Arousal: 3.530867, Valence: -20.920524, Dominance: 23.743613\n",
      "MSP-PODCAST_0035_0045, 4.000000, Arousal: 3.868313, Valence: -21.458331, Dominance: 24.648967\n",
      "MSP-PODCAST_0035_0045, 4.000000, Arousal: 3.728709, Valence: -21.141729, Dominance: 24.840382\n",
      "MSP-PODCAST_0035_0045, 4.000000, Arousal: 3.693004, Valence: -20.667935, Dominance: 25.104847\n",
      "MSP-PODCAST_0035_0045, 4.000000, Arousal: 3.491722, Valence: -19.473528, Dominance: 26.144633\n",
      "MSP-PODCAST_0035_0045, 4.000000, Arousal: 3.579738, Valence: -18.336323, Dominance: 27.558286\n",
      "MSP-PODCAST_0035_0045, 4.000000, Arousal: 4.105374, Valence: -17.736548, Dominance: 29.416622\n",
      "MSP-PODCAST_0035_0045, 4.000000, Arousal: 4.734029, Valence: -17.383960, Dominance: 30.622711\n"
     ]
    },
    {
     "name": "stderr",
     "output_type": "stream",
     "text": [
      "\r",
      "  4%|█▌                                      | 112/2783 [00:54<23:16,  1.91it/s]"
     ]
    },
    {
     "name": "stdout",
     "output_type": "stream",
     "text": [
      "MSP-PODCAST_0035_0045, 4.000000, Arousal: 5.095631, Valence: -16.938543, Dominance: 31.272534\n",
      "MSP-PODCAST_0035_0045, 4.000000, Arousal: 6.360974, Valence: -16.692065, Dominance: 31.818067\n",
      "MSP-PODCAST_0035_0045, 4.000000, Arousal: 7.398833, Valence: -16.784336, Dominance: 32.569663\n",
      "MSP-PODCAST_0035_0045, 4.000000, Arousal: 8.025545, Valence: -16.776249, Dominance: 33.506642\n",
      "MSP-PODCAST_0035_0045, 3.620000, Arousal: 9.133227, Valence: -16.921723, Dominance: 33.409464\n"
     ]
    },
    {
     "name": "stderr",
     "output_type": "stream",
     "text": [
      "\r",
      "  4%|█▌                                      | 113/2783 [00:55<19:35,  2.27it/s]"
     ]
    },
    {
     "name": "stdout",
     "output_type": "stream",
     "text": [
      "MSP-PODCAST_0035_0046, 3.300000, Arousal: 6.925017, Valence: -15.586440, Dominance: 27.342291\n"
     ]
    },
    {
     "name": "stderr",
     "output_type": "stream",
     "text": [
      "\r",
      "  4%|█▋                                      | 114/2783 [00:55<18:41,  2.38it/s]"
     ]
    },
    {
     "name": "stdout",
     "output_type": "stream",
     "text": [
      "MSP-PODCAST_0035_0047, 4.000000, Arousal: 13.836188, Valence: -24.523999, Dominance: 30.959649\n",
      "MSP-PODCAST_0035_0047, 4.000000, Arousal: 14.940030, Valence: -24.777020, Dominance: 30.888302\n",
      "MSP-PODCAST_0035_0047, 4.000000, Arousal: 15.504546, Valence: -24.087406, Dominance: 31.998792\n",
      "MSP-PODCAST_0035_0047, 4.000000, Arousal: 16.141194, Valence: -24.142906, Dominance: 32.846051\n",
      "MSP-PODCAST_0035_0047, 4.000000, Arousal: 15.959277, Valence: -23.976631, Dominance: 32.415123\n",
      "MSP-PODCAST_0035_0047, 3.640000, Arousal: 15.772518, Valence: -23.934959, Dominance: 31.932193\n",
      "MSP-PODCAST_0035_0048, 4.000000, Arousal: 11.594531, Valence: -20.632325, Dominance: 32.601287\n",
      "MSP-PODCAST_0035_0048, 4.000000, Arousal: 11.221435, Valence: -20.705935, Dominance: 34.150329\n",
      "MSP-PODCAST_0035_0048, 4.000000, Arousal: 11.364481, Valence: -21.278774, Dominance: 35.031294\n",
      "MSP-PODCAST_0035_0048, 4.000000, Arousal: 11.703574, Valence: -21.967051, Dominance: 35.256592\n",
      "MSP-PODCAST_0035_0048, 4.000000, Arousal: 11.509685, Valence: -22.328530, Dominance: 34.966044\n",
      "MSP-PODCAST_0035_0048, 4.000000, Arousal: 11.227006, Valence: -22.150705, Dominance: 34.675696\n",
      "MSP-PODCAST_0035_0048, 4.000000, Arousal: 10.368356, Valence: -21.357501, Dominance: 34.919384\n",
      "MSP-PODCAST_0035_0048, 4.000000, Arousal: 9.408279, Valence: -21.769867, Dominance: 34.781915\n",
      "MSP-PODCAST_0035_0048, 4.000000, Arousal: 9.091736, Valence: -22.556934, Dominance: 34.934056\n"
     ]
    },
    {
     "name": "stderr",
     "output_type": "stream",
     "text": [
      "\r",
      "  4%|█▋                                      | 115/2783 [00:56<21:40,  2.05it/s]"
     ]
    },
    {
     "name": "stdout",
     "output_type": "stream",
     "text": [
      "MSP-PODCAST_0035_0048, 4.000000, Arousal: 9.023993, Valence: -22.726615, Dominance: 34.729796\n",
      "MSP-PODCAST_0035_0048, 3.700000, Arousal: 8.721246, Valence: -22.550062, Dominance: 34.416056\n"
     ]
    },
    {
     "name": "stderr",
     "output_type": "stream",
     "text": [
      "\r",
      "  4%|█▋                                      | 116/2783 [00:56<20:58,  2.12it/s]"
     ]
    },
    {
     "name": "stdout",
     "output_type": "stream",
     "text": [
      "MSP-PODCAST_0035_0049, 4.000000, Arousal: 1.501159, Valence: -17.590312, Dominance: 32.923626\n",
      "MSP-PODCAST_0035_0049, 4.000000, Arousal: 0.739571, Valence: -17.504222, Dominance: 32.728366\n",
      "MSP-PODCAST_0035_0049, 4.000000, Arousal: 0.705194, Valence: -18.206108, Dominance: 32.445768\n",
      "MSP-PODCAST_0035_0049, 4.000000, Arousal: 0.713793, Valence: -18.989496, Dominance: 31.435061\n",
      "MSP-PODCAST_0035_0049, 4.000000, Arousal: 1.770436, Valence: -19.646413, Dominance: 31.201481\n",
      "MSP-PODCAST_0035_0049, 3.850000, Arousal: 2.732917, Valence: -20.083105, Dominance: 31.309069\n"
     ]
    },
    {
     "name": "stderr",
     "output_type": "stream",
     "text": [
      "\r",
      "  4%|█▋                                      | 117/2783 [00:56<18:33,  2.40it/s]"
     ]
    },
    {
     "name": "stdout",
     "output_type": "stream",
     "text": [
      "MSP-PODCAST_0035_0050, 2.990000, Arousal: 5.926977, Valence: -21.883783, Dominance: 33.918428\n"
     ]
    },
    {
     "name": "stderr",
     "output_type": "stream",
     "text": [
      "\r",
      "  4%|█▋                                      | 118/2783 [00:57<22:43,  1.95it/s]"
     ]
    },
    {
     "name": "stdout",
     "output_type": "stream",
     "text": [
      "MSP-PODCAST_0035_0051, 4.000000, Arousal: 1.524097, Valence: -24.742377, Dominance: 27.824224\n",
      "MSP-PODCAST_0035_0051, 4.000000, Arousal: 0.861194, Valence: -24.162290, Dominance: 27.002596\n",
      "MSP-PODCAST_0035_0051, 4.000000, Arousal: 0.482318, Valence: -23.347497, Dominance: 26.560523\n",
      "MSP-PODCAST_0035_0051, 4.000000, Arousal: 0.447622, Valence: -23.160319, Dominance: 26.615920\n",
      "MSP-PODCAST_0035_0051, 4.000000, Arousal: 0.934978, Valence: -22.923998, Dominance: 26.772684\n",
      "MSP-PODCAST_0035_0051, 4.000000, Arousal: 1.303096, Valence: -22.352678, Dominance: 26.427778\n",
      "MSP-PODCAST_0035_0051, 4.000000, Arousal: 1.706056, Valence: -21.620061, Dominance: 26.472130\n",
      "MSP-PODCAST_0035_0051, 4.000000, Arousal: 2.377338, Valence: -21.086343, Dominance: 26.457157\n",
      "MSP-PODCAST_0035_0051, 4.000000, Arousal: 3.885983, Valence: -21.021706, Dominance: 26.097365\n",
      "MSP-PODCAST_0035_0051, 4.000000, Arousal: 5.337360, Valence: -21.309337, Dominance: 26.615871\n",
      "MSP-PODCAST_0035_0051, 4.000000, Arousal: 6.581684, Valence: -21.379545, Dominance: 27.121271\n",
      "MSP-PODCAST_0035_0051, 4.000000, Arousal: 7.445860, Valence: -21.746800, Dominance: 27.158510\n",
      "MSP-PODCAST_0035_0051, 4.000000, Arousal: 7.265922, Valence: -22.475380, Dominance: 27.226668\n",
      "MSP-PODCAST_0035_0051, 4.000000, Arousal: 7.124149, Valence: -23.686043, Dominance: 28.174541\n",
      "MSP-PODCAST_0035_0051, 4.000000, Arousal: 7.326686, Valence: -24.045197, Dominance: 29.029597\n",
      "MSP-PODCAST_0035_0051, 4.000000, Arousal: 7.650597, Valence: -23.302720, Dominance: 29.764682\n",
      "MSP-PODCAST_0035_0051, 3.670000, Arousal: 7.061796, Valence: -23.105869, Dominance: 30.401402\n"
     ]
    },
    {
     "name": "stderr",
     "output_type": "stream",
     "text": [
      "\r",
      "  4%|█▋                                      | 119/2783 [00:58<25:06,  1.77it/s]"
     ]
    },
    {
     "name": "stdout",
     "output_type": "stream",
     "text": [
      "MSP-PODCAST_0035_0052, 4.000000, Arousal: 1.683027, Valence: -16.658633, Dominance: 24.086961\n",
      "MSP-PODCAST_0035_0052, 4.000000, Arousal: 0.439347, Valence: -16.913648, Dominance: 24.612687\n",
      "MSP-PODCAST_0035_0052, 4.000000, Arousal: -0.857932, Valence: -17.275129, Dominance: 26.157219\n",
      "MSP-PODCAST_0035_0052, 4.000000, Arousal: -1.708353, Valence: -17.531144, Dominance: 27.379970\n",
      "MSP-PODCAST_0035_0052, 4.000000, Arousal: -2.478751, Valence: -17.358619, Dominance: 28.919257\n",
      "MSP-PODCAST_0035_0052, 4.000000, Arousal: -2.636536, Valence: -17.440670, Dominance: 29.729815\n",
      "MSP-PODCAST_0035_0052, 4.000000, Arousal: -2.962729, Valence: -17.413321, Dominance: 30.119957\n",
      "MSP-PODCAST_0035_0052, 4.000000, Arousal: -3.236408, Valence: -16.814814, Dominance: 29.867513\n",
      "MSP-PODCAST_0035_0052, 4.000000, Arousal: -2.870446, Valence: -16.310568, Dominance: 30.129530\n",
      "MSP-PODCAST_0035_0052, 4.000000, Arousal: -2.326630, Valence: -16.523634, Dominance: 30.084075\n",
      "MSP-PODCAST_0035_0052, 4.000000, Arousal: -2.221273, Valence: -16.842974, Dominance: 29.102650\n",
      "MSP-PODCAST_0035_0052, 4.000000, Arousal: -2.259420, Valence: -17.820676, Dominance: 28.144406\n",
      "MSP-PODCAST_0035_0052, 4.000000, Arousal: -1.655693, Valence: -18.530020, Dominance: 26.376036\n",
      "MSP-PODCAST_0035_0052, 4.000000, Arousal: -1.623303, Valence: -18.230892, Dominance: 25.295506\n",
      "MSP-PODCAST_0035_0052, 4.000000, Arousal: -1.582611, Valence: -18.204494, Dominance: 25.285543\n",
      "MSP-PODCAST_0035_0052, 4.000000, Arousal: -1.334007, Valence: -18.383346, Dominance: 24.911327\n",
      "MSP-PODCAST_0035_0052, 4.000000, Arousal: -1.504836, Valence: -18.512372, Dominance: 24.063493\n",
      "MSP-PODCAST_0035_0052, 4.000000, Arousal: -1.707297, Valence: -18.725085, Dominance: 22.762648\n",
      "MSP-PODCAST_0035_0052, 3.580000, Arousal: -1.654313, Valence: -18.578648, Dominance: 22.257581\n"
     ]
    },
    {
     "name": "stderr",
     "output_type": "stream",
     "text": [
      "\r",
      "  4%|█▋                                      | 120/2783 [00:58<20:36,  2.15it/s]"
     ]
    },
    {
     "name": "stdout",
     "output_type": "stream",
     "text": [
      "MSP-PODCAST_0035_0053, 2.810000, Arousal: 4.734578, Valence: 0.285051, Dominance: 9.989117\n"
     ]
    },
    {
     "name": "stderr",
     "output_type": "stream",
     "text": [
      "\r",
      "  4%|█▋                                      | 121/2783 [00:58<17:19,  2.56it/s]"
     ]
    },
    {
     "name": "stdout",
     "output_type": "stream",
     "text": [
      "MSP-PODCAST_0035_0054, 3.300000, Arousal: -5.696759, Valence: -14.611765, Dominance: 1.277648\n"
     ]
    },
    {
     "name": "stderr",
     "output_type": "stream",
     "text": [
      "\r",
      "  4%|█▊                                      | 122/2783 [00:59<15:48,  2.80it/s]"
     ]
    },
    {
     "name": "stdout",
     "output_type": "stream",
     "text": [
      "MSP-PODCAST_0035_0055, 4.000000, Arousal: -5.826581, Valence: -12.475666, Dominance: 0.876485\n",
      "MSP-PODCAST_0035_0055, 3.800000, Arousal: -5.993186, Valence: -12.516441, Dominance: 2.628550\n"
     ]
    },
    {
     "name": "stderr",
     "output_type": "stream",
     "text": [
      "\r",
      "  4%|█▊                                      | 123/2783 [00:59<14:25,  3.07it/s]"
     ]
    },
    {
     "name": "stdout",
     "output_type": "stream",
     "text": [
      "MSP-PODCAST_0035_0056, 3.850000, Arousal: -9.739270, Valence: -14.278358, Dominance: 7.541789\n"
     ]
    },
    {
     "name": "stderr",
     "output_type": "stream",
     "text": [
      "\r",
      "  4%|█▊                                      | 124/2783 [00:59<18:25,  2.41it/s]"
     ]
    },
    {
     "name": "stdout",
     "output_type": "stream",
     "text": [
      "MSP-PODCAST_0035_0057, 4.000000, Arousal: -4.510139, Valence: -13.078413, Dominance: 9.542522\n",
      "MSP-PODCAST_0035_0057, 4.000000, Arousal: -3.436737, Valence: -12.562782, Dominance: 10.113638\n",
      "MSP-PODCAST_0035_0057, 4.000000, Arousal: -2.279330, Valence: -12.295034, Dominance: 10.028151\n",
      "MSP-PODCAST_0035_0057, 4.000000, Arousal: -1.402794, Valence: -11.739972, Dominance: 9.370796\n",
      "MSP-PODCAST_0035_0057, 4.000000, Arousal: -0.841730, Valence: -11.364370, Dominance: 9.825140\n",
      "MSP-PODCAST_0035_0057, 4.000000, Arousal: -0.356243, Valence: -10.858304, Dominance: 10.608194\n",
      "MSP-PODCAST_0035_0057, 4.000000, Arousal: -0.321812, Valence: -10.588137, Dominance: 11.292506\n",
      "MSP-PODCAST_0035_0057, 4.000000, Arousal: 0.234099, Valence: -10.553130, Dominance: 11.307571\n",
      "MSP-PODCAST_0035_0057, 4.000000, Arousal: 0.495422, Valence: -10.932572, Dominance: 11.866873\n",
      "MSP-PODCAST_0035_0057, 4.000000, Arousal: 1.089623, Valence: -11.177677, Dominance: 12.180709\n",
      "MSP-PODCAST_0035_0057, 4.000000, Arousal: 1.676438, Valence: -11.143370, Dominance: 12.611990\n",
      "MSP-PODCAST_0035_0057, 3.750000, Arousal: 1.577631, Valence: -11.043431, Dominance: 13.186249\n"
     ]
    },
    {
     "name": "stderr",
     "output_type": "stream",
     "text": [
      "\r",
      "  4%|█▊                                      | 125/2783 [01:00<17:07,  2.59it/s]"
     ]
    },
    {
     "name": "stdout",
     "output_type": "stream",
     "text": [
      "MSP-PODCAST_0035_0058, 4.000000, Arousal: -0.234144, Valence: -11.595629, Dominance: 16.929375\n",
      "MSP-PODCAST_0035_0058, 4.000000, Arousal: -0.366360, Valence: -12.056768, Dominance: 17.210996\n",
      "MSP-PODCAST_0035_0058, 3.810000, Arousal: -0.410705, Valence: -13.017858, Dominance: 17.260747\n"
     ]
    },
    {
     "name": "stderr",
     "output_type": "stream",
     "text": [
      "\r",
      "  5%|█▊                                      | 126/2783 [01:00<18:22,  2.41it/s]"
     ]
    },
    {
     "name": "stdout",
     "output_type": "stream",
     "text": [
      "MSP-PODCAST_0035_0059, 4.000000, Arousal: -9.055011, Valence: -10.187492, Dominance: 9.884544\n",
      "MSP-PODCAST_0035_0059, 4.000000, Arousal: -10.073953, Valence: -9.152618, Dominance: 9.701301\n",
      "MSP-PODCAST_0035_0059, 4.000000, Arousal: -10.615225, Valence: -7.904906, Dominance: 10.146543\n",
      "MSP-PODCAST_0035_0059, 4.000000, Arousal: -11.583134, Valence: -6.899545, Dominance: 9.820907\n",
      "MSP-PODCAST_0035_0059, 4.000000, Arousal: -12.191926, Valence: -6.208867, Dominance: 9.174829\n",
      "MSP-PODCAST_0035_0059, 4.000000, Arousal: -12.717699, Valence: -6.238330, Dominance: 9.195188\n",
      "MSP-PODCAST_0035_0059, 4.000000, Arousal: -12.399332, Valence: -5.954803, Dominance: 9.408569\n",
      "MSP-PODCAST_0035_0059, 3.720000, Arousal: -12.173026, Valence: -5.277077, Dominance: 9.127474\n",
      "MSP-PODCAST_0035_0060, 4.000000, Arousal: -5.976321, Valence: -11.576280, Dominance: 4.324252\n",
      "MSP-PODCAST_0035_0060, 4.000000, Arousal: -5.906387, Valence: -12.373228, Dominance: 4.158558\n",
      "MSP-PODCAST_0035_0060, 4.000000, Arousal: -6.035958, Valence: -12.844542, Dominance: 4.016102\n",
      "MSP-PODCAST_0035_0060, 4.000000, Arousal: -5.731892, Valence: -13.086764, Dominance: 4.121822\n",
      "MSP-PODCAST_0035_0060, 4.000000, Arousal: -4.958235, Valence: -13.424379, Dominance: 4.176839\n",
      "MSP-PODCAST_0035_0060, 4.000000, Arousal: -4.069522, Valence: -13.174613, Dominance: 4.274571\n",
      "MSP-PODCAST_0035_0060, 4.000000, Arousal: -3.249339, Valence: -12.155928, Dominance: 4.948752\n",
      "MSP-PODCAST_0035_0060, 4.000000, Arousal: -2.418603, Valence: -10.608239, Dominance: 6.133855\n",
      "MSP-PODCAST_0035_0060, 4.000000, Arousal: -1.855030, Valence: -9.379747, Dominance: 6.581276\n",
      "MSP-PODCAST_0035_0060, 4.000000, Arousal: -1.616152, Valence: -8.643553, Dominance: 6.878941\n",
      "MSP-PODCAST_0035_0060, 4.000000, Arousal: -0.725602, Valence: -7.991031, Dominance: 7.610846\n",
      "MSP-PODCAST_0035_0060, 4.000000, Arousal: -0.804659, Valence: -6.970524, Dominance: 7.865740\n"
     ]
    },
    {
     "name": "stderr",
     "output_type": "stream",
     "text": [
      "\r",
      "  5%|█▊                                      | 127/2783 [01:01<22:12,  1.99it/s]"
     ]
    },
    {
     "name": "stdout",
     "output_type": "stream",
     "text": [
      "MSP-PODCAST_0035_0060, 4.000000, Arousal: -1.196322, Valence: -5.857469, Dominance: 8.483510\n",
      "MSP-PODCAST_0035_0060, 3.660000, Arousal: -1.496585, Valence: -5.164009, Dominance: 8.721051\n"
     ]
    },
    {
     "name": "stderr",
     "output_type": "stream",
     "text": [
      "\r",
      "  5%|█▊                                      | 128/2783 [01:01<22:07,  2.00it/s]"
     ]
    },
    {
     "name": "stdout",
     "output_type": "stream",
     "text": [
      "MSP-PODCAST_0035_0061, 4.000000, Arousal: -3.411898, Valence: -12.075950, Dominance: 4.209840\n",
      "MSP-PODCAST_0035_0061, 4.000000, Arousal: -2.236376, Valence: -13.536057, Dominance: 4.556040\n",
      "MSP-PODCAST_0035_0061, 4.000000, Arousal: -1.177444, Valence: -14.709144, Dominance: 4.141119\n",
      "MSP-PODCAST_0035_0061, 4.000000, Arousal: -0.507796, Valence: -15.796742, Dominance: 2.919932\n",
      "MSP-PODCAST_0035_0061, 4.000000, Arousal: -0.239532, Valence: -16.687022, Dominance: 1.725376\n",
      "MSP-PODCAST_0035_0061, 3.880000, Arousal: -0.224059, Valence: -16.791940, Dominance: 1.376220\n"
     ]
    },
    {
     "name": "stderr",
     "output_type": "stream",
     "text": [
      "\r",
      "  5%|█▊                                      | 129/2783 [01:02<23:49,  1.86it/s]"
     ]
    },
    {
     "name": "stdout",
     "output_type": "stream",
     "text": [
      "MSP-PODCAST_0035_0062, 4.000000, Arousal: -8.787828, Valence: -14.414525, Dominance: -3.395169\n",
      "MSP-PODCAST_0035_0062, 4.000000, Arousal: -9.808592, Valence: -14.386125, Dominance: -3.975831\n",
      "MSP-PODCAST_0035_0062, 4.000000, Arousal: -11.128923, Valence: -14.396394, Dominance: -5.164848\n",
      "MSP-PODCAST_0035_0062, 4.000000, Arousal: -11.696542, Valence: -14.689649, Dominance: -6.115346\n",
      "MSP-PODCAST_0035_0062, 4.000000, Arousal: -11.491169, Valence: -14.351603, Dominance: -5.620333\n",
      "MSP-PODCAST_0035_0062, 4.000000, Arousal: -10.484913, Valence: -14.543431, Dominance: -5.839901\n",
      "MSP-PODCAST_0035_0062, 4.000000, Arousal: -9.261756, Valence: -14.679272, Dominance: -5.766687\n",
      "MSP-PODCAST_0035_0062, 4.000000, Arousal: -7.477123, Valence: -15.285063, Dominance: -5.416718\n",
      "MSP-PODCAST_0035_0062, 4.000000, Arousal: -6.433599, Valence: -16.187617, Dominance: -4.616973\n",
      "MSP-PODCAST_0035_0062, 3.620000, Arousal: -5.608578, Valence: -17.101650, Dominance: -4.455088\n"
     ]
    },
    {
     "name": "stderr",
     "output_type": "stream",
     "text": [
      "\r",
      "  5%|█▊                                      | 130/2783 [01:03<23:49,  1.86it/s]"
     ]
    },
    {
     "name": "stdout",
     "output_type": "stream",
     "text": [
      "MSP-PODCAST_0035_0063, 4.000000, Arousal: -14.105945, Valence: -29.053330, Dominance: -3.440636\n",
      "MSP-PODCAST_0035_0063, 4.000000, Arousal: -15.643435, Valence: -29.117245, Dominance: -4.249805\n",
      "MSP-PODCAST_0035_0063, 4.000000, Arousal: -16.555626, Valence: -30.330884, Dominance: -4.422864\n",
      "MSP-PODCAST_0035_0063, 4.000000, Arousal: -16.720413, Valence: -32.108141, Dominance: -4.409349\n",
      "MSP-PODCAST_0035_0063, 4.000000, Arousal: -16.473565, Valence: -33.141412, Dominance: -3.481607\n",
      "MSP-PODCAST_0035_0063, 4.000000, Arousal: -16.216354, Valence: -33.457699, Dominance: -2.298522\n",
      "MSP-PODCAST_0035_0063, 4.000000, Arousal: -15.840978, Valence: -33.526777, Dominance: -1.666344\n",
      "MSP-PODCAST_0035_0063, 4.000000, Arousal: -14.817852, Valence: -32.667799, Dominance: -1.490485\n",
      "MSP-PODCAST_0035_0063, 4.000000, Arousal: -13.700441, Valence: -31.470483, Dominance: -0.725141\n",
      "MSP-PODCAST_0035_0063, 4.000000, Arousal: -11.908480, Valence: -30.911123, Dominance: 0.110638\n",
      "MSP-PODCAST_0035_0063, 3.960000, Arousal: -10.803335, Valence: -29.597052, Dominance: 0.777748\n"
     ]
    },
    {
     "name": "stderr",
     "output_type": "stream",
     "text": [
      "\r",
      "  5%|█▉                                      | 131/2783 [01:03<23:19,  1.89it/s]"
     ]
    },
    {
     "name": "stdout",
     "output_type": "stream",
     "text": [
      "MSP-PODCAST_0035_0064, 4.000000, Arousal: -8.895278, Valence: -31.386169, Dominance: -2.928808\n",
      "MSP-PODCAST_0035_0064, 4.000000, Arousal: -7.448287, Valence: -32.743230, Dominance: -1.892920\n",
      "MSP-PODCAST_0035_0064, 4.000000, Arousal: -6.596607, Valence: -33.978416, Dominance: -1.425402\n",
      "MSP-PODCAST_0035_0064, 4.000000, Arousal: -7.202145, Valence: -34.576653, Dominance: -1.780001\n",
      "MSP-PODCAST_0035_0064, 4.000000, Arousal: -8.190879, Valence: -34.677694, Dominance: -2.022462\n",
      "MSP-PODCAST_0035_0064, 4.000000, Arousal: -9.808990, Valence: -34.339832, Dominance: -1.970303\n",
      "MSP-PODCAST_0035_0064, 4.000000, Arousal: -10.986147, Valence: -33.671964, Dominance: -2.003488\n",
      "MSP-PODCAST_0035_0064, 4.000000, Arousal: -11.149437, Valence: -33.775859, Dominance: -2.487139\n",
      "MSP-PODCAST_0035_0064, 3.530000, Arousal: -11.793028, Valence: -33.900529, Dominance: -3.141775\n"
     ]
    },
    {
     "name": "stderr",
     "output_type": "stream",
     "text": [
      "\r",
      "  5%|█▉                                      | 132/2783 [01:03<21:06,  2.09it/s]"
     ]
    },
    {
     "name": "stdout",
     "output_type": "stream",
     "text": [
      "MSP-PODCAST_0035_0065, 4.000000, Arousal: -10.911586, Valence: -22.979844, Dominance: 4.987350\n",
      "MSP-PODCAST_0035_0065, 4.000000, Arousal: -10.205658, Valence: -24.114611, Dominance: 5.821841\n",
      "MSP-PODCAST_0035_0065, 4.000000, Arousal: -9.938176, Valence: -24.258955, Dominance: 6.339961\n",
      "MSP-PODCAST_0035_0065, 3.580000, Arousal: -9.775785, Valence: -23.965784, Dominance: 6.817214\n"
     ]
    },
    {
     "name": "stderr",
     "output_type": "stream",
     "text": [
      "\r",
      "  5%|█▉                                      | 133/2783 [01:04<22:31,  1.96it/s]"
     ]
    },
    {
     "name": "stdout",
     "output_type": "stream",
     "text": [
      "MSP-PODCAST_0035_0066, 4.000000, Arousal: -13.032971, Valence: -28.068879, Dominance: 4.037970\n",
      "MSP-PODCAST_0035_0066, 4.000000, Arousal: -14.649435, Valence: -28.154074, Dominance: 4.418336\n",
      "MSP-PODCAST_0035_0066, 4.000000, Arousal: -16.537524, Valence: -28.310819, Dominance: 4.314478\n",
      "MSP-PODCAST_0035_0066, 4.000000, Arousal: -18.961186, Valence: -29.067100, Dominance: 3.945579\n",
      "MSP-PODCAST_0035_0066, 4.000000, Arousal: -21.454172, Valence: -28.766391, Dominance: 3.885368\n",
      "MSP-PODCAST_0035_0066, 4.000000, Arousal: -23.516361, Valence: -28.661772, Dominance: 3.543396\n",
      "MSP-PODCAST_0035_0066, 4.000000, Arousal: -23.881522, Valence: -28.352060, Dominance: 4.111139\n",
      "MSP-PODCAST_0035_0066, 4.000000, Arousal: -23.360742, Valence: -27.866428, Dominance: 3.944300\n",
      "MSP-PODCAST_0035_0066, 3.650000, Arousal: -22.648125, Valence: -27.485534, Dominance: 3.629433\n"
     ]
    },
    {
     "name": "stderr",
     "output_type": "stream",
     "text": [
      "\r",
      "  5%|█▉                                      | 134/2783 [01:05<25:20,  1.74it/s]"
     ]
    },
    {
     "name": "stdout",
     "output_type": "stream",
     "text": [
      "MSP-PODCAST_0035_0067, 4.000000, Arousal: -12.173251, Valence: -28.436413, Dominance: 3.495397\n",
      "MSP-PODCAST_0035_0067, 4.000000, Arousal: -11.495694, Valence: -29.116147, Dominance: 3.033692\n",
      "MSP-PODCAST_0035_0067, 4.000000, Arousal: -11.692082, Valence: -29.737068, Dominance: 2.294752\n",
      "MSP-PODCAST_0035_0067, 4.000000, Arousal: -12.474542, Valence: -29.574329, Dominance: 1.682335\n",
      "MSP-PODCAST_0035_0067, 4.000000, Arousal: -12.693142, Valence: -29.078367, Dominance: 1.715712\n",
      "MSP-PODCAST_0035_0067, 4.000000, Arousal: -13.538704, Valence: -29.573317, Dominance: 1.654876\n",
      "MSP-PODCAST_0035_0067, 4.000000, Arousal: -13.961389, Valence: -29.609994, Dominance: 1.788253\n",
      "MSP-PODCAST_0035_0067, 4.000000, Arousal: -14.749189, Valence: -29.628569, Dominance: 1.496058\n",
      "MSP-PODCAST_0035_0067, 4.000000, Arousal: -15.712471, Valence: -30.156285, Dominance: 1.846723\n",
      "MSP-PODCAST_0035_0067, 4.000000, Arousal: -16.543038, Valence: -30.583737, Dominance: 2.116943\n",
      "MSP-PODCAST_0035_0067, 4.000000, Arousal: -16.460240, Valence: -30.518148, Dominance: 2.458761\n",
      "MSP-PODCAST_0035_0067, 4.000000, Arousal: -15.031026, Valence: -30.190675, Dominance: 1.940850\n",
      "MSP-PODCAST_0035_0067, 3.590000, Arousal: -14.518248, Valence: -30.312297, Dominance: 1.659216\n"
     ]
    },
    {
     "name": "stderr",
     "output_type": "stream",
     "text": [
      "\r",
      "  5%|█▉                                      | 135/2783 [01:05<22:57,  1.92it/s]"
     ]
    },
    {
     "name": "stdout",
     "output_type": "stream",
     "text": [
      "MSP-PODCAST_0035_0068, 4.000000, Arousal: -15.659014, Valence: -26.953667, Dominance: 6.534124\n",
      "MSP-PODCAST_0035_0068, 4.000000, Arousal: -14.163633, Valence: -27.731396, Dominance: 6.975815\n",
      "MSP-PODCAST_0035_0068, 4.000000, Arousal: -13.347083, Valence: -28.985668, Dominance: 7.140885\n",
      "MSP-PODCAST_0035_0068, 3.830000, Arousal: -13.117624, Valence: -29.713065, Dominance: 6.304134\n",
      "MSP-PODCAST_0035_0069, 4.000000, Arousal: -20.991703, Valence: -30.906441, Dominance: 8.780061\n",
      "MSP-PODCAST_0035_0069, 4.000000, Arousal: -21.135709, Valence: -31.948277, Dominance: 9.216880\n",
      "MSP-PODCAST_0035_0069, 4.000000, Arousal: -20.369227, Valence: -32.968195, Dominance: 8.663806\n",
      "MSP-PODCAST_0035_0069, 4.000000, Arousal: -19.380117, Valence: -33.522478, Dominance: 8.461103\n",
      "MSP-PODCAST_0035_0069, 4.000000, Arousal: -18.290417, Valence: -32.937999, Dominance: 8.402290\n",
      "MSP-PODCAST_0035_0069, 4.000000, Arousal: -17.633528, Valence: -33.277147, Dominance: 8.605424\n",
      "MSP-PODCAST_0035_0069, 4.000000, Arousal: -16.192383, Valence: -33.490137, Dominance: 9.105985\n",
      "MSP-PODCAST_0035_0069, 4.000000, Arousal: -15.740859, Valence: -34.735140, Dominance: 9.371409\n",
      "MSP-PODCAST_0035_0069, 4.000000, Arousal: -15.512462, Valence: -35.490177, Dominance: 9.566597\n",
      "MSP-PODCAST_0035_0069, 4.000000, Arousal: -15.775037, Valence: -35.419223, Dominance: 9.708170\n",
      "MSP-PODCAST_0035_0069, 4.000000, Arousal: -15.741832, Valence: -34.640459, Dominance: 10.278294\n",
      "MSP-PODCAST_0035_0069, 4.000000, Arousal: -16.208462, Valence: -34.431257, Dominance: 10.590216\n",
      "MSP-PODCAST_0035_0069, 4.000000, Arousal: -16.675884, Valence: -34.882966, Dominance: 10.692050\n",
      "MSP-PODCAST_0035_0069, 4.000000, Arousal: -16.841252, Valence: -35.604440, Dominance: 10.874321\n"
     ]
    },
    {
     "name": "stderr",
     "output_type": "stream",
     "text": [
      "\r",
      "  5%|█▉                                      | 136/2783 [01:06<27:58,  1.58it/s]"
     ]
    },
    {
     "name": "stdout",
     "output_type": "stream",
     "text": [
      "MSP-PODCAST_0035_0069, 4.000000, Arousal: -17.545471, Valence: -35.136228, Dominance: 10.020751\n",
      "MSP-PODCAST_0035_0069, 4.000000, Arousal: -17.530948, Valence: -33.745019, Dominance: 9.505997\n",
      "MSP-PODCAST_0035_0069, 4.000000, Arousal: -17.171179, Valence: -33.574483, Dominance: 8.964484\n",
      "MSP-PODCAST_0035_0069, 4.000000, Arousal: -16.852389, Valence: -33.739547, Dominance: 8.746721\n",
      "MSP-PODCAST_0035_0069, 4.000000, Arousal: -16.550962, Valence: -33.788722, Dominance: 8.358715\n",
      "MSP-PODCAST_0035_0069, 3.900000, Arousal: -16.345936, Valence: -33.384544, Dominance: 8.601792\n"
     ]
    },
    {
     "name": "stderr",
     "output_type": "stream",
     "text": [
      "\r",
      "  5%|█▉                                      | 137/2783 [01:07<28:47,  1.53it/s]"
     ]
    },
    {
     "name": "stdout",
     "output_type": "stream",
     "text": [
      "MSP-PODCAST_0035_0070, 4.000000, Arousal: -9.336103, Valence: -30.627297, Dominance: 10.627114\n",
      "MSP-PODCAST_0035_0070, 4.000000, Arousal: -8.395551, Valence: -31.149120, Dominance: 10.877809\n",
      "MSP-PODCAST_0035_0070, 4.000000, Arousal: -8.259527, Valence: -31.007986, Dominance: 10.959863\n",
      "MSP-PODCAST_0035_0070, 4.000000, Arousal: -8.568347, Valence: -30.302748, Dominance: 10.944224\n",
      "MSP-PODCAST_0035_0070, 4.000000, Arousal: -9.106242, Valence: -29.275343, Dominance: 10.664308\n",
      "MSP-PODCAST_0035_0070, 4.000000, Arousal: -9.630636, Valence: -27.529814, Dominance: 9.885265\n",
      "MSP-PODCAST_0035_0070, 4.000000, Arousal: -9.868574, Valence: -26.405842, Dominance: 8.612356\n",
      "MSP-PODCAST_0035_0070, 4.000000, Arousal: -10.094120, Valence: -25.042836, Dominance: 7.244458\n",
      "MSP-PODCAST_0035_0070, 4.000000, Arousal: -9.458413, Valence: -23.956027, Dominance: 6.306015\n",
      "MSP-PODCAST_0035_0070, 4.000000, Arousal: -9.919356, Valence: -23.000286, Dominance: 5.829887\n",
      "MSP-PODCAST_0035_0070, 4.000000, Arousal: -10.615448, Valence: -22.713561, Dominance: 6.349941\n",
      "MSP-PODCAST_0035_0070, 4.000000, Arousal: -11.364462, Valence: -23.007984, Dominance: 6.666643\n",
      "MSP-PODCAST_0035_0070, 3.730000, Arousal: -11.574675, Valence: -23.192789, Dominance: 6.557654\n"
     ]
    },
    {
     "name": "stderr",
     "output_type": "stream",
     "text": [
      "\r",
      "  5%|█▉                                      | 138/2783 [01:07<26:17,  1.68it/s]"
     ]
    },
    {
     "name": "stdout",
     "output_type": "stream",
     "text": [
      "MSP-PODCAST_0035_0071, 4.000000, Arousal: -15.219017, Valence: -23.174694, Dominance: 4.040268\n",
      "MSP-PODCAST_0035_0071, 4.000000, Arousal: -15.383803, Valence: -22.823924, Dominance: 4.845158\n",
      "MSP-PODCAST_0035_0071, 4.000000, Arousal: -15.514942, Valence: -22.378942, Dominance: 6.491616\n",
      "MSP-PODCAST_0035_0071, 4.000000, Arousal: -15.927709, Valence: -21.325433, Dominance: 8.348339\n",
      "MSP-PODCAST_0035_0071, 4.000000, Arousal: -16.491036, Valence: -19.930548, Dominance: 8.966184\n",
      "MSP-PODCAST_0035_0071, 3.970000, Arousal: -17.246586, Valence: -19.681467, Dominance: 9.745216\n"
     ]
    },
    {
     "name": "stderr",
     "output_type": "stream",
     "text": [
      "\r",
      "  5%|█▉                                      | 139/2783 [01:08<24:53,  1.77it/s]"
     ]
    },
    {
     "name": "stdout",
     "output_type": "stream",
     "text": [
      "MSP-PODCAST_0035_0072, 4.000000, Arousal: -15.968523, Valence: -25.374572, Dominance: 15.112982\n",
      "MSP-PODCAST_0035_0072, 4.000000, Arousal: -15.389572, Valence: -25.621917, Dominance: 14.845074\n",
      "MSP-PODCAST_0035_0072, 4.000000, Arousal: -13.937665, Valence: -25.961278, Dominance: 14.516343\n",
      "MSP-PODCAST_0035_0072, 4.000000, Arousal: -12.218064, Valence: -26.126336, Dominance: 13.964441\n",
      "MSP-PODCAST_0035_0072, 4.000000, Arousal: -11.493176, Valence: -25.593166, Dominance: 13.554605\n",
      "MSP-PODCAST_0035_0072, 4.000000, Arousal: -11.070997, Valence: -24.650891, Dominance: 12.268617\n",
      "MSP-PODCAST_0035_0072, 3.590000, Arousal: -10.280887, Valence: -24.376067, Dominance: 11.416302\n"
     ]
    },
    {
     "name": "stderr",
     "output_type": "stream",
     "text": [
      "\r",
      "  5%|██                                      | 140/2783 [01:08<20:32,  2.14it/s]"
     ]
    },
    {
     "name": "stdout",
     "output_type": "stream",
     "text": [
      "MSP-PODCAST_0035_0073, 2.370000, Arousal: -3.375733, Valence: -21.088712, Dominance: 10.855953\n"
     ]
    },
    {
     "name": "stderr",
     "output_type": "stream",
     "text": [
      "\r",
      "  5%|██                                      | 141/2783 [01:08<20:50,  2.11it/s]"
     ]
    },
    {
     "name": "stdout",
     "output_type": "stream",
     "text": [
      "MSP-PODCAST_0035_0074, 4.000000, Arousal: -3.571430, Valence: -18.210947, Dominance: 11.478640\n",
      "MSP-PODCAST_0035_0074, 4.000000, Arousal: -1.420724, Valence: -17.376263, Dominance: 12.079838\n",
      "MSP-PODCAST_0035_0074, 4.000000, Arousal: -0.236298, Valence: -15.776767, Dominance: 11.948941\n",
      "MSP-PODCAST_0035_0074, 4.000000, Arousal: 1.226090, Valence: -13.704854, Dominance: 11.238503\n",
      "MSP-PODCAST_0035_0074, 4.000000, Arousal: 2.429943, Valence: -12.396365, Dominance: 11.165894\n",
      "MSP-PODCAST_0035_0074, 3.930000, Arousal: 3.720900, Valence: -10.902771, Dominance: 11.605432\n"
     ]
    },
    {
     "name": "stderr",
     "output_type": "stream",
     "text": [
      "\r",
      "  5%|██                                      | 142/2783 [01:09<18:45,  2.35it/s]"
     ]
    },
    {
     "name": "stdout",
     "output_type": "stream",
     "text": [
      "MSP-PODCAST_0035_0075, 4.000000, Arousal: 0.054527, Valence: -16.765696, Dominance: 8.659006\n",
      "MSP-PODCAST_0035_0075, 4.000000, Arousal: 0.842636, Valence: -18.233279, Dominance: 8.928487\n",
      "MSP-PODCAST_0035_0075, 3.640000, Arousal: 1.029775, Valence: -19.064439, Dominance: 8.711670\n"
     ]
    },
    {
     "name": "stderr",
     "output_type": "stream",
     "text": [
      "\r",
      "  5%|██                                      | 143/2783 [01:09<19:01,  2.31it/s]"
     ]
    },
    {
     "name": "stdout",
     "output_type": "stream",
     "text": [
      "MSP-PODCAST_0035_0076, 4.000000, Arousal: 2.639623, Valence: -16.232052, Dominance: 12.698531\n",
      "MSP-PODCAST_0035_0076, 4.000000, Arousal: 4.076117, Valence: -15.468567, Dominance: 13.299598\n",
      "MSP-PODCAST_0035_0076, 4.000000, Arousal: 6.687121, Valence: -15.055822, Dominance: 14.243323\n",
      "MSP-PODCAST_0035_0076, 4.000000, Arousal: 8.700205, Valence: -14.255127, Dominance: 16.313443\n",
      "MSP-PODCAST_0035_0076, 4.000000, Arousal: 9.776843, Valence: -12.938930, Dominance: 16.868821\n",
      "MSP-PODCAST_0035_0076, 4.000000, Arousal: 10.914715, Valence: -12.804675, Dominance: 18.531328\n",
      "MSP-PODCAST_0035_0076, 3.680000, Arousal: 11.154490, Valence: -12.808471, Dominance: 18.867692\n"
     ]
    },
    {
     "name": "stderr",
     "output_type": "stream",
     "text": [
      "\r",
      "  5%|██                                      | 144/2783 [01:09<15:41,  2.80it/s]"
     ]
    },
    {
     "name": "stdout",
     "output_type": "stream",
     "text": [
      "MSP-PODCAST_0035_0077, 1.720000, Arousal: 9.543691, Valence: -16.151816, Dominance: 22.507115\n",
      "MSP-PODCAST_0035_0078, 4.000000, Arousal: 3.691252, Valence: -17.624362, Dominance: 15.800104\n",
      "MSP-PODCAST_0035_0078, 4.000000, Arousal: 4.360802, Valence: -19.405432, Dominance: 15.697063\n",
      "MSP-PODCAST_0035_0078, 4.000000, Arousal: 5.279473, Valence: -21.659832, Dominance: 15.981120\n",
      "MSP-PODCAST_0035_0078, 4.000000, Arousal: 6.498647, Valence: -23.770895, Dominance: 15.988075\n",
      "MSP-PODCAST_0035_0078, 4.000000, Arousal: 7.306370, Valence: -25.570574, Dominance: 16.401233\n",
      "MSP-PODCAST_0035_0078, 4.000000, Arousal: 8.261362, Valence: -26.616401, Dominance: 15.865308\n",
      "MSP-PODCAST_0035_0078, 4.000000, Arousal: 8.649164, Valence: -28.103699, Dominance: 15.496749\n",
      "MSP-PODCAST_0035_0078, 4.000000, Arousal: 9.328625, Valence: -28.806778, Dominance: 15.817292\n",
      "MSP-PODCAST_0035_0078, 4.000000, Arousal: 9.622175, Valence: -29.348453, Dominance: 16.064861\n",
      "MSP-PODCAST_0035_0078, 4.000000, Arousal: 10.069423, Valence: -29.197447, Dominance: 16.579419\n",
      "MSP-PODCAST_0035_0078, 4.000000, Arousal: 9.868441, Valence: -28.493611, Dominance: 17.416608\n",
      "MSP-PODCAST_0035_0078, 4.000000, Arousal: 9.391945, Valence: -28.615069, Dominance: 18.158774\n",
      "MSP-PODCAST_0035_0078, 4.000000, Arousal: 9.889261, Valence: -28.940120, Dominance: 17.783271\n"
     ]
    },
    {
     "name": "stderr",
     "output_type": "stream",
     "text": [
      "\r",
      "  5%|██                                      | 145/2783 [01:11<26:00,  1.69it/s]"
     ]
    },
    {
     "name": "stdout",
     "output_type": "stream",
     "text": [
      "MSP-PODCAST_0035_0078, 4.000000, Arousal: 10.293079, Valence: -28.840526, Dominance: 18.421677\n",
      "MSP-PODCAST_0035_0078, 4.000000, Arousal: 11.434709, Valence: -28.733392, Dominance: 19.760226\n",
      "MSP-PODCAST_0035_0078, 4.000000, Arousal: 12.520061, Valence: -28.616537, Dominance: 20.809767\n",
      "MSP-PODCAST_0035_0078, 4.000000, Arousal: 13.561139, Valence: -28.086470, Dominance: 21.648969\n",
      "MSP-PODCAST_0035_0078, 4.000000, Arousal: 14.206221, Valence: -27.369088, Dominance: 22.663273\n",
      "MSP-PODCAST_0035_0078, 4.000000, Arousal: 14.512708, Valence: -26.511884, Dominance: 23.228322\n",
      "MSP-PODCAST_0035_0078, 4.000000, Arousal: 13.263144, Valence: -25.506463, Dominance: 23.028497\n",
      "MSP-PODCAST_0035_0078, 4.000000, Arousal: 11.684045, Valence: -23.746270, Dominance: 23.058215\n",
      "MSP-PODCAST_0035_0078, 4.000000, Arousal: 10.329258, Valence: -22.807721, Dominance: 23.259050\n",
      "MSP-PODCAST_0035_0078, 4.000000, Arousal: 8.528279, Valence: -21.869492, Dominance: 22.968227\n",
      "MSP-PODCAST_0035_0078, 4.000000, Arousal: 7.647315, Valence: -21.483940, Dominance: 21.969716\n",
      "MSP-PODCAST_0035_0078, 4.000000, Arousal: 6.059882, Valence: -21.117970, Dominance: 20.806385\n",
      "MSP-PODCAST_0035_0078, 4.000000, Arousal: 5.251035, Valence: -21.386714, Dominance: 19.418815\n",
      "MSP-PODCAST_0035_0078, 3.990000, Arousal: 4.720949, Valence: -21.590314, Dominance: 18.411372\n"
     ]
    },
    {
     "name": "stderr",
     "output_type": "stream",
     "text": [
      "\r",
      "  5%|██                                      | 146/2783 [01:11<21:00,  2.09it/s]"
     ]
    },
    {
     "name": "stdout",
     "output_type": "stream",
     "text": [
      "MSP-PODCAST_0035_0079, 1.760000, Arousal: -0.690631, Valence: -16.922703, Dominance: 15.614307\n"
     ]
    },
    {
     "name": "stderr",
     "output_type": "stream",
     "text": [
      "\r",
      "  5%|██                                      | 147/2783 [01:11<21:58,  2.00it/s]"
     ]
    },
    {
     "name": "stdout",
     "output_type": "stream",
     "text": [
      "MSP-PODCAST_0035_0080, 4.000000, Arousal: 5.888709, Valence: -18.333740, Dominance: 11.789018\n",
      "MSP-PODCAST_0035_0080, 4.000000, Arousal: 6.749982, Valence: -19.066677, Dominance: 12.066761\n",
      "MSP-PODCAST_0035_0080, 4.000000, Arousal: 7.837199, Valence: -19.998197, Dominance: 11.730724\n",
      "MSP-PODCAST_0035_0080, 4.000000, Arousal: 7.789520, Valence: -21.247352, Dominance: 11.155158\n",
      "MSP-PODCAST_0035_0080, 4.000000, Arousal: 6.913571, Valence: -22.904850, Dominance: 11.275045\n",
      "MSP-PODCAST_0035_0080, 4.000000, Arousal: 5.738939, Valence: -24.439851, Dominance: 12.185484\n",
      "MSP-PODCAST_0035_0080, 4.000000, Arousal: 4.464173, Valence: -25.386427, Dominance: 12.933478\n",
      "MSP-PODCAST_0035_0080, 3.630000, Arousal: 4.129959, Valence: -26.718549, Dominance: 13.285003\n"
     ]
    },
    {
     "name": "stderr",
     "output_type": "stream",
     "text": [
      "\r",
      "  5%|██▏                                     | 148/2783 [01:12<25:32,  1.72it/s]"
     ]
    },
    {
     "name": "stdout",
     "output_type": "stream",
     "text": [
      "MSP-PODCAST_0035_0081, 4.000000, Arousal: 2.328306, Valence: -27.044559, Dominance: 20.886177\n",
      "MSP-PODCAST_0035_0081, 4.000000, Arousal: 2.602070, Valence: -27.130000, Dominance: 20.882699\n",
      "MSP-PODCAST_0035_0081, 4.000000, Arousal: 3.673493, Valence: -26.478847, Dominance: 20.692975\n",
      "MSP-PODCAST_0035_0081, 4.000000, Arousal: 5.022903, Valence: -26.066150, Dominance: 20.913664\n",
      "MSP-PODCAST_0035_0081, 4.000000, Arousal: 6.244312, Valence: -26.123961, Dominance: 20.097204\n",
      "MSP-PODCAST_0035_0081, 4.000000, Arousal: 6.670135, Valence: -26.325590, Dominance: 19.289099\n",
      "MSP-PODCAST_0035_0081, 4.000000, Arousal: 6.882020, Valence: -26.302011, Dominance: 18.821890\n",
      "MSP-PODCAST_0035_0081, 4.000000, Arousal: 7.320412, Valence: -25.870230, Dominance: 19.615045\n",
      "MSP-PODCAST_0035_0081, 4.000000, Arousal: 8.225356, Valence: -24.892056, Dominance: 20.077563\n",
      "MSP-PODCAST_0035_0081, 4.000000, Arousal: 8.228615, Valence: -24.431593, Dominance: 20.209901\n",
      "MSP-PODCAST_0035_0081, 4.000000, Arousal: 7.322507, Valence: -24.397059, Dominance: 20.490399\n",
      "MSP-PODCAST_0035_0081, 4.000000, Arousal: 6.805934, Valence: -24.334328, Dominance: 20.683991\n",
      "MSP-PODCAST_0035_0081, 4.000000, Arousal: 5.847310, Valence: -23.737469, Dominance: 20.759588\n",
      "MSP-PODCAST_0035_0081, 4.000000, Arousal: 5.412756, Valence: -23.838671, Dominance: 21.657189\n",
      "MSP-PODCAST_0035_0081, 3.890000, Arousal: 5.253335, Valence: -23.823212, Dominance: 22.559567\n",
      "MSP-PODCAST_0035_0082, 4.000000, Arousal: 10.398517, Valence: -17.031825, Dominance: 18.075862\n",
      "MSP-PODCAST_0035_0082, 4.000000, Arousal: 10.191556, Valence: -17.601639, Dominance: 18.468157\n",
      "MSP-PODCAST_0035_0082, 4.000000, Arousal: 9.676779, Valence: -17.610540, Dominance: 18.569475\n",
      "MSP-PODCAST_0035_0082, 4.000000, Arousal: 8.109289, Valence: -17.538506, Dominance: 18.548798\n",
      "MSP-PODCAST_0035_0082, 4.000000, Arousal: 7.126380, Valence: -17.753606, Dominance: 19.832496\n",
      "MSP-PODCAST_0035_0082, 4.000000, Arousal: 6.417511, Valence: -18.196668, Dominance: 19.566151\n",
      "MSP-PODCAST_0035_0082, 4.000000, Arousal: 6.494396, Valence: -18.577438, Dominance: 19.317186\n",
      "MSP-PODCAST_0035_0082, 4.000000, Arousal: 7.357536, Valence: -18.783130, Dominance: 18.596735\n",
      "MSP-PODCAST_0035_0082, 4.000000, Arousal: 7.991758, Valence: -19.105948, Dominance: 18.343395\n",
      "MSP-PODCAST_0035_0082, 4.000000, Arousal: 8.760793, Valence: -19.291538, Dominance: 18.770739\n",
      "MSP-PODCAST_0035_0082, 4.000000, Arousal: 9.404656, Valence: -20.295996, Dominance: 19.404984\n",
      "MSP-PODCAST_0035_0082, 4.000000, Arousal: 10.249800, Valence: -21.325145, Dominance: 19.695045\n",
      "MSP-PODCAST_0035_0082, 4.000000, Arousal: 10.365744, Valence: -21.826867, Dominance: 19.197133\n",
      "MSP-PODCAST_0035_0082, 4.000000, Arousal: 10.152296, Valence: -22.004138, Dominance: 19.341326\n",
      "MSP-PODCAST_0035_0082, 4.000000, Arousal: 9.861772, Valence: -21.859966, Dominance: 19.738764\n",
      "MSP-PODCAST_0035_0082, 4.000000, Arousal: 9.151286, Valence: -22.074113, Dominance: 20.322575\n",
      "MSP-PODCAST_0035_0082, 4.000000, Arousal: 8.780546, Valence: -22.153349, Dominance: 21.023825\n",
      "MSP-PODCAST_0035_0082, 4.000000, Arousal: 8.727880, Valence: -22.580273, Dominance: 21.066320\n",
      "MSP-PODCAST_0035_0082, 4.000000, Arousal: 9.085198, Valence: -22.663912, Dominance: 20.911483\n",
      "MSP-PODCAST_0035_0082, 4.000000, Arousal: 9.787624, Valence: -22.892363, Dominance: 21.153495\n",
      "MSP-PODCAST_0035_0082, 4.000000, Arousal: 10.238659, Valence: -22.563427, Dominance: 21.647683\n",
      "MSP-PODCAST_0035_0082, 4.000000, Arousal: 10.681861, Valence: -22.293724, Dominance: 21.725874\n",
      "MSP-PODCAST_0035_0082, 4.000000, Arousal: 11.357372, Valence: -22.491678, Dominance: 22.024443\n",
      "MSP-PODCAST_0035_0082, 4.000000, Arousal: 11.955041, Valence: -22.842633, Dominance: 22.134789\n",
      "MSP-PODCAST_0035_0082, 4.000000, Arousal: 11.970977, Valence: -22.590524, Dominance: 22.318391\n"
     ]
    },
    {
     "name": "stderr",
     "output_type": "stream",
     "text": [
      "\r",
      "  5%|██▏                                     | 149/2783 [01:14<38:12,  1.15it/s]"
     ]
    },
    {
     "name": "stdout",
     "output_type": "stream",
     "text": [
      "MSP-PODCAST_0035_0082, 4.000000, Arousal: 11.358078, Valence: -21.922961, Dominance: 22.304836\n",
      "MSP-PODCAST_0035_0082, 4.000000, Arousal: 10.909053, Valence: -21.585103, Dominance: 22.083499\n",
      "MSP-PODCAST_0035_0082, 4.000000, Arousal: 11.123460, Valence: -21.139291, Dominance: 21.848168\n",
      "MSP-PODCAST_0035_0082, 4.000000, Arousal: 12.237101, Valence: -21.407311, Dominance: 21.666066\n",
      "MSP-PODCAST_0035_0082, 4.000000, Arousal: 12.910069, Valence: -21.876017, Dominance: 21.835356\n",
      "MSP-PODCAST_0035_0082, 4.000000, Arousal: 13.400069, Valence: -22.142359, Dominance: 22.034018\n",
      "MSP-PODCAST_0035_0082, 3.900000, Arousal: 13.958026, Valence: -21.503680, Dominance: 21.930700\n"
     ]
    },
    {
     "name": "stderr",
     "output_type": "stream",
     "text": [
      "\r",
      "  5%|██▏                                     | 150/2783 [01:14<31:10,  1.41it/s]"
     ]
    },
    {
     "name": "stdout",
     "output_type": "stream",
     "text": [
      "MSP-PODCAST_0035_0083, 4.000000, Arousal: 15.256172, Valence: -16.436422, Dominance: 16.935756\n",
      "MSP-PODCAST_0035_0083, 4.000000, Arousal: 14.185950, Valence: -16.241550, Dominance: 16.030024\n",
      "MSP-PODCAST_0035_0083, 3.770000, Arousal: 13.960518, Valence: -16.052178, Dominance: 15.277269\n"
     ]
    },
    {
     "name": "stderr",
     "output_type": "stream",
     "text": [
      "\r",
      "  5%|██▏                                     | 151/2783 [01:14<27:23,  1.60it/s]"
     ]
    },
    {
     "name": "stdout",
     "output_type": "stream",
     "text": [
      "MSP-PODCAST_0035_0084, 4.000000, Arousal: 13.787956, Valence: -21.867806, Dominance: 15.918808\n",
      "MSP-PODCAST_0035_0084, 4.000000, Arousal: 14.205035, Valence: -22.216481, Dominance: 17.284077\n",
      "MSP-PODCAST_0035_0084, 3.570000, Arousal: 14.160861, Valence: -22.693654, Dominance: 18.248337\n"
     ]
    },
    {
     "name": "stderr",
     "output_type": "stream",
     "text": [
      "\r",
      "  5%|██▏                                     | 152/2783 [01:15<25:58,  1.69it/s]"
     ]
    },
    {
     "name": "stdout",
     "output_type": "stream",
     "text": [
      "MSP-PODCAST_0035_0085, 4.000000, Arousal: 7.133081, Valence: -21.351845, Dominance: 7.003366\n",
      "MSP-PODCAST_0035_0085, 4.000000, Arousal: 6.390762, Valence: -21.747458, Dominance: 7.305952\n",
      "MSP-PODCAST_0035_0085, 4.000000, Arousal: 5.174514, Valence: -22.133358, Dominance: 7.125713\n",
      "MSP-PODCAST_0035_0085, 4.000000, Arousal: 4.324420, Valence: -21.719246, Dominance: 6.838838\n",
      "MSP-PODCAST_0035_0085, 4.000000, Arousal: 4.680180, Valence: -21.617088, Dominance: 7.427920\n",
      "MSP-PODCAST_0035_0085, 3.940000, Arousal: 4.914050, Valence: -21.338853, Dominance: 8.375487\n"
     ]
    },
    {
     "name": "stderr",
     "output_type": "stream",
     "text": [
      "\r",
      "  5%|██▏                                     | 153/2783 [01:15<21:42,  2.02it/s]"
     ]
    },
    {
     "name": "stdout",
     "output_type": "stream",
     "text": [
      "MSP-PODCAST_0035_0086, 3.510000, Arousal: 5.336389, Valence: -23.190147, Dominance: 9.674690\n"
     ]
    },
    {
     "name": "stderr",
     "output_type": "stream",
     "text": [
      "\r",
      "  6%|██▏                                     | 154/2783 [01:16<22:31,  1.95it/s]"
     ]
    },
    {
     "name": "stdout",
     "output_type": "stream",
     "text": [
      "MSP-PODCAST_0035_0087, 4.000000, Arousal: 2.193072, Valence: -22.604795, Dominance: 4.789986\n",
      "MSP-PODCAST_0035_0087, 4.000000, Arousal: 3.020150, Valence: -23.361780, Dominance: 4.660556\n",
      "MSP-PODCAST_0035_0087, 4.000000, Arousal: 3.222723, Valence: -23.607664, Dominance: 3.840143\n",
      "MSP-PODCAST_0035_0087, 4.000000, Arousal: 2.499604, Valence: -23.266495, Dominance: 2.652752\n",
      "MSP-PODCAST_0035_0087, 4.000000, Arousal: 1.365338, Valence: -23.346893, Dominance: 2.321761\n",
      "MSP-PODCAST_0035_0087, 4.000000, Arousal: 0.809359, Valence: -23.097481, Dominance: 2.271467\n",
      "MSP-PODCAST_0035_0087, 4.000000, Arousal: 0.232665, Valence: -22.039826, Dominance: 2.656116\n",
      "MSP-PODCAST_0035_0087, 4.000000, Arousal: -0.250488, Valence: -21.392722, Dominance: 2.865791\n",
      "MSP-PODCAST_0035_0087, 3.820000, Arousal: -0.648218, Valence: -21.044779, Dominance: 3.253012\n"
     ]
    },
    {
     "name": "stderr",
     "output_type": "stream",
     "text": [
      "\r",
      "  6%|██▏                                     | 155/2783 [01:16<20:04,  2.18it/s]"
     ]
    },
    {
     "name": "stdout",
     "output_type": "stream",
     "text": [
      "MSP-PODCAST_0035_0088, 4.000000, Arousal: 1.813735, Valence: -27.452109, Dominance: 1.544228\n",
      "MSP-PODCAST_0035_0088, 4.000000, Arousal: 1.749858, Valence: -28.577033, Dominance: 1.643201\n",
      "MSP-PODCAST_0035_0088, 4.000000, Arousal: 1.409166, Valence: -29.534765, Dominance: 0.799593\n",
      "MSP-PODCAST_0035_0088, 3.520000, Arousal: 0.848833, Valence: -30.234366, Dominance: -0.067644\n"
     ]
    },
    {
     "name": "stderr",
     "output_type": "stream",
     "text": [
      "\r",
      "  6%|██▏                                     | 156/2783 [01:16<19:05,  2.29it/s]"
     ]
    },
    {
     "name": "stdout",
     "output_type": "stream",
     "text": [
      "MSP-PODCAST_0035_0089, 4.000000, Arousal: 2.091940, Valence: -23.023416, Dominance: 2.917440\n",
      "MSP-PODCAST_0035_0089, 3.590000, Arousal: 2.722062, Valence: -22.600961, Dominance: 3.228661\n"
     ]
    },
    {
     "name": "stderr",
     "output_type": "stream",
     "text": [
      "\r",
      "  6%|██▎                                     | 157/2783 [01:17<18:34,  2.36it/s]"
     ]
    },
    {
     "name": "stdout",
     "output_type": "stream",
     "text": [
      "MSP-PODCAST_0035_0090, 4.000000, Arousal: 9.539857, Valence: -14.665410, Dominance: 11.997941\n",
      "MSP-PODCAST_0035_0090, 4.000000, Arousal: 10.779848, Valence: -13.196283, Dominance: 12.438512\n",
      "MSP-PODCAST_0035_0090, 4.000000, Arousal: 12.222326, Valence: -11.599381, Dominance: 13.742341\n",
      "MSP-PODCAST_0035_0090, 4.000000, Arousal: 12.613471, Valence: -10.013871, Dominance: 14.486340\n",
      "MSP-PODCAST_0035_0090, 3.630000, Arousal: 13.444998, Valence: -9.027633, Dominance: 15.135596\n"
     ]
    },
    {
     "name": "stderr",
     "output_type": "stream",
     "text": [
      "\r",
      "  6%|██▎                                     | 158/2783 [01:17<20:39,  2.12it/s]"
     ]
    },
    {
     "name": "stdout",
     "output_type": "stream",
     "text": [
      "MSP-PODCAST_0035_0091, 4.000000, Arousal: 15.976319, Valence: -10.105454, Dominance: 13.659372\n",
      "MSP-PODCAST_0035_0091, 4.000000, Arousal: 15.160990, Valence: -10.871397, Dominance: 14.361634\n",
      "MSP-PODCAST_0035_0091, 4.000000, Arousal: 14.592850, Valence: -11.358386, Dominance: 15.562999\n",
      "MSP-PODCAST_0035_0091, 4.000000, Arousal: 13.340775, Valence: -12.692530, Dominance: 15.121810\n",
      "MSP-PODCAST_0035_0091, 4.000000, Arousal: 12.477076, Valence: -14.111783, Dominance: 14.747670\n",
      "MSP-PODCAST_0035_0091, 4.000000, Arousal: 11.593485, Valence: -14.760797, Dominance: 14.283435\n",
      "MSP-PODCAST_0035_0091, 4.000000, Arousal: 11.373990, Valence: -14.479089, Dominance: 14.075392\n",
      "MSP-PODCAST_0035_0091, 4.000000, Arousal: 10.726111, Valence: -13.529971, Dominance: 13.548925\n",
      "MSP-PODCAST_0035_0091, 4.000000, Arousal: 10.182945, Valence: -13.393393, Dominance: 13.219164\n",
      "MSP-PODCAST_0035_0091, 4.000000, Arousal: 9.777589, Valence: -13.082102, Dominance: 12.878106\n",
      "MSP-PODCAST_0035_0091, 3.720000, Arousal: 9.480012, Valence: -13.048005, Dominance: 12.784522\n"
     ]
    },
    {
     "name": "stderr",
     "output_type": "stream",
     "text": [
      "\r",
      "  6%|██▎                                     | 159/2783 [01:18<22:40,  1.93it/s]"
     ]
    },
    {
     "name": "stdout",
     "output_type": "stream",
     "text": [
      "MSP-PODCAST_0035_0092, 4.000000, Arousal: 10.852900, Valence: -7.891763, Dominance: 13.141143\n",
      "MSP-PODCAST_0035_0092, 4.000000, Arousal: 10.551698, Valence: -8.472516, Dominance: 13.146018\n",
      "MSP-PODCAST_0035_0092, 4.000000, Arousal: 11.078197, Valence: -9.549798, Dominance: 14.047262\n",
      "MSP-PODCAST_0035_0092, 4.000000, Arousal: 11.285793, Valence: -10.085753, Dominance: 15.361088\n",
      "MSP-PODCAST_0035_0092, 4.000000, Arousal: 11.875783, Valence: -10.674949, Dominance: 15.949961\n",
      "MSP-PODCAST_0035_0092, 4.000000, Arousal: 11.898661, Valence: -11.378194, Dominance: 16.534634\n",
      "MSP-PODCAST_0035_0092, 4.000000, Arousal: 12.289032, Valence: -12.422852, Dominance: 16.793220\n",
      "MSP-PODCAST_0035_0092, 4.000000, Arousal: 13.111053, Valence: -14.127099, Dominance: 17.337580\n",
      "MSP-PODCAST_0035_0092, 4.000000, Arousal: 13.421431, Valence: -14.658133, Dominance: 17.831212\n",
      "MSP-PODCAST_0035_0092, 4.000000, Arousal: 13.415809, Valence: -14.474040, Dominance: 17.678711\n",
      "MSP-PODCAST_0035_0092, 4.000000, Arousal: 12.339777, Valence: -14.284002, Dominance: 16.976889\n",
      "MSP-PODCAST_0035_0092, 4.000000, Arousal: 11.484895, Valence: -16.205076, Dominance: 16.463497\n",
      "MSP-PODCAST_0035_0092, 3.740000, Arousal: 10.782755, Valence: -17.041244, Dominance: 16.117841\n"
     ]
    },
    {
     "name": "stderr",
     "output_type": "stream",
     "text": [
      "\r",
      "  6%|██▎                                     | 160/2783 [01:18<21:27,  2.04it/s]"
     ]
    },
    {
     "name": "stdout",
     "output_type": "stream",
     "text": [
      "MSP-PODCAST_0035_0093, 4.000000, Arousal: 11.364919, Valence: -11.686086, Dominance: 9.047519\n",
      "MSP-PODCAST_0035_0093, 4.000000, Arousal: 12.383257, Valence: -9.866947, Dominance: 9.669526\n",
      "MSP-PODCAST_0035_0093, 4.000000, Arousal: 13.463203, Valence: -8.229182, Dominance: 10.065831\n",
      "MSP-PODCAST_0035_0093, 4.000000, Arousal: 13.869754, Valence: -6.161883, Dominance: 9.915515\n",
      "MSP-PODCAST_0035_0093, 4.000000, Arousal: 14.418951, Valence: -5.012565, Dominance: 10.146719\n",
      "MSP-PODCAST_0035_0093, 3.810000, Arousal: 14.736968, Valence: -4.203702, Dominance: 10.306014\n"
     ]
    },
    {
     "name": "stderr",
     "output_type": "stream",
     "text": [
      "\r",
      "  6%|██▎                                     | 161/2783 [01:19<19:42,  2.22it/s]"
     ]
    },
    {
     "name": "stdout",
     "output_type": "stream",
     "text": [
      "MSP-PODCAST_0035_0094, 4.000000, Arousal: 4.204751, Valence: -0.293859, Dominance: 3.306834\n",
      "MSP-PODCAST_0035_0094, 4.000000, Arousal: 4.927299, Valence: 0.781367, Dominance: 3.627348\n",
      "MSP-PODCAST_0035_0094, 4.000000, Arousal: 5.314153, Valence: 2.445499, Dominance: 4.222265\n",
      "MSP-PODCAST_0035_0094, 3.830000, Arousal: 5.318799, Valence: 3.067961, Dominance: 3.902883\n"
     ]
    },
    {
     "name": "stderr",
     "output_type": "stream",
     "text": [
      "\r",
      "  6%|██▎                                     | 162/2783 [01:19<18:14,  2.39it/s]"
     ]
    },
    {
     "name": "stdout",
     "output_type": "stream",
     "text": [
      "MSP-PODCAST_0035_0095, 4.000000, Arousal: 3.692906, Valence: 3.798737, Dominance: 9.469026\n",
      "MSP-PODCAST_0035_0095, 4.000000, Arousal: 2.982921, Valence: 3.656059, Dominance: 11.206248\n",
      "MSP-PODCAST_0035_0095, 4.000000, Arousal: 2.590952, Valence: 3.838563, Dominance: 12.818949\n",
      "MSP-PODCAST_0035_0095, 3.640000, Arousal: 1.786545, Valence: 3.562991, Dominance: 13.757818\n",
      "MSP-PODCAST_0035_0096, 4.000000, Arousal: -1.072200, Valence: -12.077660, Dominance: 2.454438\n",
      "MSP-PODCAST_0035_0096, 4.000000, Arousal: -0.435549, Valence: -12.394682, Dominance: 2.187041\n",
      "MSP-PODCAST_0035_0096, 4.000000, Arousal: -0.406179, Valence: -12.315245, Dominance: 1.582006\n",
      "MSP-PODCAST_0035_0096, 4.000000, Arousal: -0.573068, Valence: -12.475806, Dominance: 0.882139\n",
      "MSP-PODCAST_0035_0096, 4.000000, Arousal: -0.388193, Valence: -12.730253, Dominance: 0.350766\n",
      "MSP-PODCAST_0035_0096, 4.000000, Arousal: -0.256505, Valence: -13.344260, Dominance: 0.388995\n",
      "MSP-PODCAST_0035_0096, 4.000000, Arousal: 0.037811, Valence: -14.661576, Dominance: 0.311256\n",
      "MSP-PODCAST_0035_0096, 4.000000, Arousal: 0.190012, Valence: -15.616998, Dominance: 0.314249\n",
      "MSP-PODCAST_0035_0096, 4.000000, Arousal: 0.347307, Valence: -16.351946, Dominance: 0.481167\n",
      "MSP-PODCAST_0035_0096, 4.000000, Arousal: 0.338369, Valence: -16.859861, Dominance: 0.450342\n",
      "MSP-PODCAST_0035_0096, 4.000000, Arousal: 0.462631, Valence: -17.966608, Dominance: 0.825171\n",
      "MSP-PODCAST_0035_0096, 4.000000, Arousal: 0.769191, Valence: -18.699230, Dominance: 1.105871\n",
      "MSP-PODCAST_0035_0096, 4.000000, Arousal: 1.398372, Valence: -19.443472, Dominance: 1.415716\n",
      "MSP-PODCAST_0035_0096, 4.000000, Arousal: 1.720889, Valence: -19.749883, Dominance: 1.428718\n"
     ]
    },
    {
     "name": "stderr",
     "output_type": "stream",
     "text": [
      "\r",
      "  6%|██▎                                     | 163/2783 [01:20<23:08,  1.89it/s]"
     ]
    },
    {
     "name": "stdout",
     "output_type": "stream",
     "text": [
      "MSP-PODCAST_0035_0096, 4.000000, Arousal: 1.716278, Valence: -19.594598, Dominance: 1.242918\n",
      "MSP-PODCAST_0035_0096, 4.000000, Arousal: 2.287976, Valence: -20.299811, Dominance: 1.235757\n",
      "MSP-PODCAST_0035_0096, 3.550000, Arousal: 2.545779, Valence: -21.020273, Dominance: 1.198883\n"
     ]
    },
    {
     "name": "stderr",
     "output_type": "stream",
     "text": [
      "\r",
      "  6%|██▎                                     | 164/2783 [01:20<19:59,  2.18it/s]"
     ]
    },
    {
     "name": "stdout",
     "output_type": "stream",
     "text": [
      "MSP-PODCAST_0035_0097, 4.000000, Arousal: 4.025308, Valence: -20.196921, Dominance: 6.673323\n",
      "MSP-PODCAST_0035_0097, 4.000000, Arousal: 4.534609, Valence: -19.570631, Dominance: 6.304754\n",
      "MSP-PODCAST_0035_0097, 3.630000, Arousal: 5.230850, Valence: -19.288552, Dominance: 6.361893\n"
     ]
    },
    {
     "name": "stderr",
     "output_type": "stream",
     "text": [
      "\r",
      "  6%|██▎                                     | 165/2783 [01:21<19:29,  2.24it/s]"
     ]
    },
    {
     "name": "stdout",
     "output_type": "stream",
     "text": [
      "MSP-PODCAST_0035_0098, 4.000000, Arousal: 7.347434, Valence: -15.781656, Dominance: 11.968896\n",
      "MSP-PODCAST_0035_0098, 4.000000, Arousal: 8.318687, Valence: -15.108369, Dominance: 11.390125\n",
      "MSP-PODCAST_0035_0098, 4.000000, Arousal: 9.449568, Valence: -14.212514, Dominance: 11.570900\n",
      "MSP-PODCAST_0035_0098, 4.000000, Arousal: 9.304332, Valence: -13.193671, Dominance: 11.537289\n",
      "MSP-PODCAST_0035_0098, 3.950000, Arousal: 8.456085, Valence: -12.873253, Dominance: 11.333229\n"
     ]
    },
    {
     "name": "stderr",
     "output_type": "stream",
     "text": [
      "\r",
      "  6%|██▍                                     | 166/2783 [01:21<18:17,  2.38it/s]"
     ]
    },
    {
     "name": "stdout",
     "output_type": "stream",
     "text": [
      "MSP-PODCAST_0035_0099, 4.000000, Arousal: 1.518164, Valence: -15.624845, Dominance: 8.915088\n",
      "MSP-PODCAST_0035_0099, 4.000000, Arousal: 1.413811, Valence: -16.423391, Dominance: 8.614176\n",
      "MSP-PODCAST_0035_0099, 4.000000, Arousal: 1.537601, Valence: -17.434755, Dominance: 8.343463\n",
      "MSP-PODCAST_0035_0099, 4.000000, Arousal: 1.284670, Valence: -17.877649, Dominance: 7.344775\n",
      "MSP-PODCAST_0035_0099, 3.620000, Arousal: 0.895719, Valence: -18.335374, Dominance: 6.405481\n"
     ]
    },
    {
     "name": "stderr",
     "output_type": "stream",
     "text": [
      "\r",
      "  6%|██▍                                     | 167/2783 [01:22<19:01,  2.29it/s]"
     ]
    },
    {
     "name": "stdout",
     "output_type": "stream",
     "text": [
      "MSP-PODCAST_0035_0100, 4.000000, Arousal: 0.350650, Valence: -17.137420, Dominance: 6.206415\n",
      "MSP-PODCAST_0035_0100, 4.000000, Arousal: 0.317286, Valence: -17.514863, Dominance: 7.553545\n",
      "MSP-PODCAST_0035_0100, 4.000000, Arousal: 0.255769, Valence: -17.716016, Dominance: 8.005704\n",
      "MSP-PODCAST_0035_0100, 4.000000, Arousal: 0.219742, Valence: -18.204876, Dominance: 7.764797\n",
      "MSP-PODCAST_0035_0100, 4.000000, Arousal: 0.409859, Valence: -18.889590, Dominance: 8.081898\n",
      "MSP-PODCAST_0035_0100, 4.000000, Arousal: 0.306011, Valence: -19.244174, Dominance: 8.565456\n",
      "MSP-PODCAST_0035_0100, 3.830000, Arousal: -0.213985, Valence: -19.308954, Dominance: 8.655077\n"
     ]
    },
    {
     "name": "stderr",
     "output_type": "stream",
     "text": [
      "\r",
      "  6%|██▍                                     | 168/2783 [01:22<16:21,  2.66it/s]"
     ]
    },
    {
     "name": "stdout",
     "output_type": "stream",
     "text": [
      "MSP-PODCAST_0035_0101, 1.910000, Arousal: -1.523769, Valence: -15.262842, Dominance: 8.441757\n"
     ]
    },
    {
     "name": "stderr",
     "output_type": "stream",
     "text": [
      "\r",
      "  6%|██▍                                     | 169/2783 [01:22<15:31,  2.81it/s]"
     ]
    },
    {
     "name": "stdout",
     "output_type": "stream",
     "text": [
      "MSP-PODCAST_0061_0001, 4.000000, Arousal: 1.445964, Valence: 1.539932, Dominance: 3.273740\n",
      "MSP-PODCAST_0061_0001, 3.690000, Arousal: 1.434127, Valence: 1.896054, Dominance: 3.682011\n"
     ]
    },
    {
     "name": "stderr",
     "output_type": "stream",
     "text": [
      "\r",
      "  6%|██▍                                     | 170/2783 [01:23<18:18,  2.38it/s]"
     ]
    },
    {
     "name": "stdout",
     "output_type": "stream",
     "text": [
      "MSP-PODCAST_0061_0002, 4.000000, Arousal: -0.771839, Valence: 4.283099, Dominance: 0.833441\n",
      "MSP-PODCAST_0061_0002, 4.000000, Arousal: -0.010746, Valence: 6.478901, Dominance: -0.126395\n",
      "MSP-PODCAST_0061_0002, 4.000000, Arousal: -0.001857, Valence: 8.832603, Dominance: -0.632126\n",
      "MSP-PODCAST_0061_0002, 4.000000, Arousal: 0.036273, Valence: 10.919262, Dominance: -1.330320\n",
      "MSP-PODCAST_0061_0002, 4.000000, Arousal: 1.111914, Valence: 12.008361, Dominance: -1.986589\n",
      "MSP-PODCAST_0061_0002, 4.000000, Arousal: 1.873836, Valence: 12.731455, Dominance: -1.890950\n",
      "MSP-PODCAST_0061_0002, 4.000000, Arousal: 2.444519, Valence: 13.078584, Dominance: -2.171191\n",
      "MSP-PODCAST_0061_0002, 4.000000, Arousal: 2.759021, Valence: 12.854622, Dominance: -2.447063\n",
      "MSP-PODCAST_0061_0002, 4.000000, Arousal: 3.054112, Valence: 11.854386, Dominance: -2.366650\n",
      "MSP-PODCAST_0061_0002, 4.000000, Arousal: 3.895018, Valence: 11.219401, Dominance: -2.002326\n",
      "MSP-PODCAST_0061_0002, 3.620000, Arousal: 4.678873, Valence: 10.207192, Dominance: -2.089437\n"
     ]
    },
    {
     "name": "stderr",
     "output_type": "stream",
     "text": [
      "\r",
      "  6%|██▍                                     | 171/2783 [01:23<19:12,  2.27it/s]"
     ]
    },
    {
     "name": "stdout",
     "output_type": "stream",
     "text": [
      "MSP-PODCAST_0061_0003, 4.000000, Arousal: 4.196595, Valence: 10.756029, Dominance: 2.903059\n",
      "MSP-PODCAST_0061_0003, 4.000000, Arousal: 3.545347, Valence: 10.844455, Dominance: 2.715459\n",
      "MSP-PODCAST_0061_0003, 4.000000, Arousal: 2.758907, Valence: 10.251730, Dominance: 2.583267\n",
      "MSP-PODCAST_0061_0003, 4.000000, Arousal: 2.233765, Valence: 10.506838, Dominance: 2.408442\n",
      "MSP-PODCAST_0061_0003, 4.000000, Arousal: 1.897849, Valence: 10.619146, Dominance: 1.727066\n",
      "MSP-PODCAST_0061_0003, 4.000000, Arousal: 1.843122, Valence: 10.598115, Dominance: 0.815696\n",
      "MSP-PODCAST_0061_0003, 4.000000, Arousal: 1.129373, Valence: 10.900119, Dominance: 0.094467\n",
      "MSP-PODCAST_0061_0003, 3.850000, Arousal: 0.215406, Valence: 11.121071, Dominance: -0.215740\n"
     ]
    },
    {
     "name": "stderr",
     "output_type": "stream",
     "text": [
      "\r",
      "  6%|██▍                                     | 172/2783 [01:23<16:41,  2.61it/s]"
     ]
    },
    {
     "name": "stdout",
     "output_type": "stream",
     "text": [
      "MSP-PODCAST_0061_0004, 2.730000, Arousal: -2.848268, Valence: 10.432903, Dominance: -2.698069\n"
     ]
    },
    {
     "name": "stderr",
     "output_type": "stream",
     "text": [
      "\r",
      "  6%|██▍                                     | 173/2783 [01:24<16:37,  2.62it/s]"
     ]
    },
    {
     "name": "stdout",
     "output_type": "stream",
     "text": [
      "MSP-PODCAST_0061_0005, 4.000000, Arousal: -2.737775, Valence: 7.117764, Dominance: -0.855073\n",
      "MSP-PODCAST_0061_0005, 4.000000, Arousal: -2.416506, Valence: 6.971213, Dominance: -0.260154\n",
      "MSP-PODCAST_0061_0005, 4.000000, Arousal: -2.016760, Valence: 7.218637, Dominance: -0.111034\n",
      "MSP-PODCAST_0061_0005, 3.650000, Arousal: -1.943982, Valence: 7.735635, Dominance: 0.343072\n"
     ]
    },
    {
     "name": "stderr",
     "output_type": "stream",
     "text": [
      "\r",
      "  6%|██▌                                     | 174/2783 [01:24<15:24,  2.82it/s]"
     ]
    },
    {
     "name": "stdout",
     "output_type": "stream",
     "text": [
      "MSP-PODCAST_0061_0006, 3.300000, Arousal: -1.706268, Valence: -0.202636, Dominance: -1.818311\n"
     ]
    },
    {
     "name": "stderr",
     "output_type": "stream",
     "text": [
      "\r",
      "  6%|██▌                                     | 175/2783 [01:25<18:37,  2.33it/s]"
     ]
    },
    {
     "name": "stdout",
     "output_type": "stream",
     "text": [
      "MSP-PODCAST_0061_0007, 4.000000, Arousal: 0.164697, Valence: -6.889633, Dominance: -2.163753\n",
      "MSP-PODCAST_0061_0007, 4.000000, Arousal: 0.528303, Valence: -7.729138, Dominance: -2.009325\n",
      "MSP-PODCAST_0061_0007, 4.000000, Arousal: 0.447813, Valence: -8.764068, Dominance: -1.740583\n",
      "MSP-PODCAST_0061_0007, 4.000000, Arousal: 0.545797, Valence: -9.916075, Dominance: -1.451092\n",
      "MSP-PODCAST_0061_0007, 4.000000, Arousal: 1.046576, Valence: -10.585344, Dominance: -1.495576\n",
      "MSP-PODCAST_0061_0007, 4.000000, Arousal: 1.315600, Valence: -11.336328, Dominance: -1.301086\n",
      "MSP-PODCAST_0061_0007, 4.000000, Arousal: 1.663801, Valence: -12.185497, Dominance: -0.430507\n",
      "MSP-PODCAST_0061_0007, 4.000000, Arousal: 1.785492, Valence: -13.026000, Dominance: 0.223683\n",
      "MSP-PODCAST_0061_0007, 3.700000, Arousal: 1.730021, Valence: -13.922922, Dominance: 0.603331\n"
     ]
    },
    {
     "name": "stderr",
     "output_type": "stream",
     "text": [
      "\r",
      "  6%|██▌                                     | 176/2783 [01:25<19:19,  2.25it/s]"
     ]
    },
    {
     "name": "stdout",
     "output_type": "stream",
     "text": [
      "MSP-PODCAST_0061_0008, 4.000000, Arousal: 1.992016, Valence: -23.852404, Dominance: 4.371318\n",
      "MSP-PODCAST_0061_0008, 4.000000, Arousal: 2.177494, Valence: -24.947237, Dominance: 3.957291\n",
      "MSP-PODCAST_0061_0008, 4.000000, Arousal: 1.849215, Valence: -25.676789, Dominance: 3.212341\n",
      "MSP-PODCAST_0061_0008, 4.000000, Arousal: 1.330025, Valence: -26.392009, Dominance: 2.820157\n",
      "MSP-PODCAST_0061_0008, 4.000000, Arousal: 0.923022, Valence: -27.161138, Dominance: 2.658309\n",
      "MSP-PODCAST_0061_0008, 4.000000, Arousal: 0.183762, Valence: -27.915983, Dominance: 2.220626\n",
      "MSP-PODCAST_0061_0008, 4.000000, Arousal: -0.535116, Valence: -29.176190, Dominance: 1.324252\n",
      "MSP-PODCAST_0061_0008, 3.850000, Arousal: -1.258072, Valence: -30.684409, Dominance: 1.035097\n"
     ]
    },
    {
     "name": "stderr",
     "output_type": "stream",
     "text": [
      "\r",
      "  6%|██▌                                     | 177/2783 [01:25<18:02,  2.41it/s]"
     ]
    },
    {
     "name": "stdout",
     "output_type": "stream",
     "text": [
      "MSP-PODCAST_0061_0009, 4.000000, Arousal: -4.505261, Valence: -38.486221, Dominance: -1.305094\n",
      "MSP-PODCAST_0061_0009, 4.000000, Arousal: -4.948027, Valence: -38.331496, Dominance: -1.616417\n",
      "MSP-PODCAST_0061_0009, 4.000000, Arousal: -5.294542, Valence: -38.643875, Dominance: -1.617852\n",
      "MSP-PODCAST_0061_0009, 4.000000, Arousal: -5.511642, Valence: -39.043340, Dominance: -1.346976\n"
     ]
    },
    {
     "name": "stderr",
     "output_type": "stream",
     "text": [
      "\r",
      "  6%|██▌                                     | 178/2783 [01:26<16:17,  2.67it/s]"
     ]
    },
    {
     "name": "stdout",
     "output_type": "stream",
     "text": [
      "MSP-PODCAST_0061_0010, 4.000000, Arousal: -4.727332, Valence: -29.244630, Dominance: -1.962913\n",
      "MSP-PODCAST_0061_0010, 3.930000, Arousal: -3.571317, Valence: -28.544826, Dominance: -1.695485\n"
     ]
    },
    {
     "name": "stderr",
     "output_type": "stream",
     "text": [
      "\r",
      "  6%|██▌                                     | 179/2783 [01:26<16:28,  2.63it/s]"
     ]
    },
    {
     "name": "stdout",
     "output_type": "stream",
     "text": [
      "MSP-PODCAST_0061_0011, 4.000000, Arousal: 0.431007, Valence: -28.441764, Dominance: 2.137263\n",
      "MSP-PODCAST_0061_0011, 4.000000, Arousal: 0.506314, Valence: -27.312788, Dominance: 2.419485\n",
      "MSP-PODCAST_0061_0011, 4.000000, Arousal: 1.483708, Valence: -26.633796, Dominance: 2.764312\n",
      "MSP-PODCAST_0061_0011, 4.000000, Arousal: 2.462642, Valence: -24.828935, Dominance: 3.009698\n",
      "MSP-PODCAST_0061_0011, 4.000000, Arousal: 2.685574, Valence: -23.177080, Dominance: 2.810724\n",
      "MSP-PODCAST_0061_0011, 3.890000, Arousal: 2.404154, Valence: -21.778452, Dominance: 2.603483\n"
     ]
    },
    {
     "name": "stderr",
     "output_type": "stream",
     "text": [
      "\r",
      "  6%|██▌                                     | 180/2783 [01:26<15:05,  2.88it/s]"
     ]
    },
    {
     "name": "stdout",
     "output_type": "stream",
     "text": [
      "MSP-PODCAST_0061_0012, 4.000000, Arousal: 3.832914, Valence: -22.268685, Dominance: -1.192480\n",
      "MSP-PODCAST_0061_0012, 4.000000, Arousal: 4.080447, Valence: -23.493767, Dominance: -1.242080\n",
      "MSP-PODCAST_0061_0012, 3.770000, Arousal: 4.459090, Valence: -24.358933, Dominance: -1.162331\n"
     ]
    },
    {
     "name": "stderr",
     "output_type": "stream",
     "text": [
      "\r",
      "  7%|██▌                                     | 181/2783 [01:27<14:11,  3.06it/s]"
     ]
    },
    {
     "name": "stdout",
     "output_type": "stream",
     "text": [
      "MSP-PODCAST_0061_0013, 3.870000, Arousal: 2.072193, Valence: -25.759054, Dominance: -1.373620\n"
     ]
    },
    {
     "name": "stderr",
     "output_type": "stream",
     "text": [
      "\r",
      "  7%|██▌                                     | 182/2783 [01:27<17:22,  2.49it/s]"
     ]
    },
    {
     "name": "stdout",
     "output_type": "stream",
     "text": [
      "MSP-PODCAST_0061_0014, 4.000000, Arousal: 3.316732, Valence: -15.785051, Dominance: -2.163297\n",
      "MSP-PODCAST_0061_0014, 4.000000, Arousal: 3.493544, Valence: -16.164042, Dominance: -2.308130\n",
      "MSP-PODCAST_0061_0014, 4.000000, Arousal: 3.670474, Valence: -17.428211, Dominance: -1.960912\n",
      "MSP-PODCAST_0061_0014, 4.000000, Arousal: 3.515038, Valence: -18.860546, Dominance: -1.576085\n",
      "MSP-PODCAST_0061_0014, 4.000000, Arousal: 3.542516, Valence: -20.636858, Dominance: -0.868564\n",
      "MSP-PODCAST_0061_0014, 4.000000, Arousal: 3.612588, Valence: -22.316937, Dominance: -0.195737\n",
      "MSP-PODCAST_0061_0014, 4.000000, Arousal: 3.263404, Valence: -23.856015, Dominance: 0.259926\n",
      "MSP-PODCAST_0061_0014, 4.000000, Arousal: 3.247077, Valence: -25.624739, Dominance: 1.038404\n",
      "MSP-PODCAST_0061_0014, 4.000000, Arousal: 3.681824, Valence: -26.698665, Dominance: 1.772824\n",
      "MSP-PODCAST_0061_0014, 4.000000, Arousal: 3.435871, Valence: -27.357704, Dominance: 2.197134\n",
      "MSP-PODCAST_0061_0014, 4.000000, Arousal: 3.161140, Valence: -28.337041, Dominance: 2.827802\n",
      "MSP-PODCAST_0061_0014, 3.840000, Arousal: 3.010282, Valence: -28.550320, Dominance: 3.072985\n"
     ]
    },
    {
     "name": "stderr",
     "output_type": "stream",
     "text": [
      "\r",
      "  7%|██▋                                     | 183/2783 [01:28<16:31,  2.62it/s]"
     ]
    },
    {
     "name": "stdout",
     "output_type": "stream",
     "text": [
      "MSP-PODCAST_0061_0015, 4.000000, Arousal: 2.093312, Valence: -34.518128, Dominance: 6.909727\n",
      "MSP-PODCAST_0061_0015, 4.000000, Arousal: 1.814863, Valence: -34.860942, Dominance: 7.541435\n",
      "MSP-PODCAST_0061_0015, 4.000000, Arousal: 1.761119, Valence: -34.982150, Dominance: 8.285563\n",
      "MSP-PODCAST_0061_0015, 4.000000, Arousal: 1.589959, Valence: -35.264566, Dominance: 8.863736\n",
      "MSP-PODCAST_0061_0015, 3.600000, Arousal: 1.126217, Valence: -35.844670, Dominance: 9.317805\n"
     ]
    },
    {
     "name": "stderr",
     "output_type": "stream",
     "text": [
      "\r",
      "  7%|██▋                                     | 184/2783 [01:28<15:53,  2.73it/s]"
     ]
    },
    {
     "name": "stdout",
     "output_type": "stream",
     "text": [
      "MSP-PODCAST_0061_0016, 4.000000, Arousal: -3.389566, Valence: -32.324637, Dominance: 9.571778\n",
      "MSP-PODCAST_0061_0016, 4.000000, Arousal: -4.124336, Valence: -32.026520, Dominance: 9.566211\n",
      "MSP-PODCAST_0061_0016, 4.000000, Arousal: -4.952301, Valence: -32.361267, Dominance: 9.153254\n",
      "MSP-PODCAST_0061_0016, 4.000000, Arousal: -5.765313, Valence: -32.728849, Dominance: 8.625443\n",
      "MSP-PODCAST_0061_0016, 3.620000, Arousal: -6.210629, Valence: -33.168273, Dominance: 8.543983\n"
     ]
    },
    {
     "name": "stderr",
     "output_type": "stream",
     "text": [
      "\r",
      "  7%|██▋                                     | 185/2783 [01:28<14:11,  3.05it/s]"
     ]
    },
    {
     "name": "stdout",
     "output_type": "stream",
     "text": [
      "MSP-PODCAST_0061_0017, 3.470000, Arousal: -11.730954, Valence: -36.573876, Dominance: 4.669024\n"
     ]
    },
    {
     "name": "stderr",
     "output_type": "stream",
     "text": [
      "\r",
      "  7%|██▋                                     | 186/2783 [01:29<16:34,  2.61it/s]"
     ]
    },
    {
     "name": "stdout",
     "output_type": "stream",
     "text": [
      "MSP-PODCAST_0061_0018, 4.000000, Arousal: -8.999464, Valence: -30.179112, Dominance: 2.280236\n",
      "MSP-PODCAST_0061_0018, 4.000000, Arousal: -8.443659, Valence: -28.788322, Dominance: 2.015733\n",
      "MSP-PODCAST_0061_0018, 4.000000, Arousal: -8.264631, Valence: -28.014590, Dominance: 1.787054\n",
      "MSP-PODCAST_0061_0018, 4.000000, Arousal: -8.194898, Valence: -27.169146, Dominance: 2.016050\n",
      "MSP-PODCAST_0061_0018, 4.000000, Arousal: -8.203773, Valence: -26.294404, Dominance: 2.267427\n",
      "MSP-PODCAST_0061_0018, 4.000000, Arousal: -8.410453, Valence: -25.150109, Dominance: 2.313461\n",
      "MSP-PODCAST_0061_0018, 4.000000, Arousal: -8.533219, Valence: -23.737836, Dominance: 2.659446\n",
      "MSP-PODCAST_0061_0018, 4.000000, Arousal: -8.158632, Valence: -22.743779, Dominance: 2.670349\n",
      "MSP-PODCAST_0061_0018, 4.000000, Arousal: -7.628446, Valence: -22.178058, Dominance: 2.361253\n",
      "MSP-PODCAST_0061_0018, 4.000000, Arousal: -7.318977, Valence: -21.863092, Dominance: 2.566302\n",
      "MSP-PODCAST_0061_0018, 4.000000, Arousal: -6.741163, Valence: -21.445089, Dominance: 2.746386\n",
      "MSP-PODCAST_0061_0018, 3.690000, Arousal: -6.435721, Valence: -20.834233, Dominance: 2.589095\n"
     ]
    },
    {
     "name": "stderr",
     "output_type": "stream",
     "text": [
      "\r",
      "  7%|██▋                                     | 187/2783 [01:29<15:01,  2.88it/s]"
     ]
    },
    {
     "name": "stdout",
     "output_type": "stream",
     "text": [
      "MSP-PODCAST_0061_0019, 4.000000, Arousal: -2.742393, Valence: -18.782352, Dominance: 4.236910\n",
      "MSP-PODCAST_0061_0019, 3.960000, Arousal: -2.679762, Valence: -19.066669, Dominance: 4.185830\n"
     ]
    },
    {
     "name": "stderr",
     "output_type": "stream",
     "text": [
      "\r",
      "  7%|██▋                                     | 188/2783 [01:29<14:12,  3.04it/s]"
     ]
    },
    {
     "name": "stdout",
     "output_type": "stream",
     "text": [
      "MSP-PODCAST_0061_0020, 4.000000, Arousal: -0.594780, Valence: -18.131958, Dominance: 3.527989\n",
      "MSP-PODCAST_0061_0020, 4.000000, Arousal: -0.457227, Valence: -18.001098, Dominance: 2.673025\n",
      "MSP-PODCAST_0061_0020, 3.990000, Arousal: -0.423091, Valence: -17.180709, Dominance: 2.043901\n"
     ]
    },
    {
     "name": "stderr",
     "output_type": "stream",
     "text": [
      "\r",
      "  7%|██▋                                     | 189/2783 [01:30<16:05,  2.69it/s]"
     ]
    },
    {
     "name": "stdout",
     "output_type": "stream",
     "text": [
      "MSP-PODCAST_0061_0021, 4.000000, Arousal: 1.704456, Valence: -8.352792, Dominance: 2.284480\n",
      "MSP-PODCAST_0061_0021, 4.000000, Arousal: 2.556114, Valence: -6.540481, Dominance: 2.145423\n",
      "MSP-PODCAST_0061_0021, 4.000000, Arousal: 3.407707, Valence: -4.375478, Dominance: 2.426837\n",
      "MSP-PODCAST_0061_0021, 4.000000, Arousal: 4.165070, Valence: -3.647199, Dominance: 2.780809\n",
      "MSP-PODCAST_0061_0021, 4.000000, Arousal: 4.354498, Valence: -2.499693, Dominance: 3.285513\n",
      "MSP-PODCAST_0061_0021, 4.000000, Arousal: 5.378841, Valence: -2.906637, Dominance: 4.013453\n",
      "MSP-PODCAST_0061_0021, 4.000000, Arousal: 6.665656, Valence: -3.223507, Dominance: 4.644523\n",
      "MSP-PODCAST_0061_0021, 4.000000, Arousal: 7.974325, Valence: -3.093087, Dominance: 5.301962\n",
      "MSP-PODCAST_0061_0021, 4.000000, Arousal: 9.610431, Valence: -3.497399, Dominance: 6.861040\n",
      "MSP-PODCAST_0061_0021, 3.690000, Arousal: 10.792973, Valence: -3.908004, Dominance: 8.401994\n"
     ]
    },
    {
     "name": "stderr",
     "output_type": "stream",
     "text": [
      "\r",
      "  7%|██▋                                     | 190/2783 [01:30<14:57,  2.89it/s]"
     ]
    },
    {
     "name": "stdout",
     "output_type": "stream",
     "text": [
      "MSP-PODCAST_0061_0022, 4.000000, Arousal: 15.761831, Valence: -1.055284, Dominance: 13.605896\n",
      "MSP-PODCAST_0061_0022, 4.000000, Arousal: 15.073346, Valence: -0.189168, Dominance: 13.180705\n",
      "MSP-PODCAST_0061_0022, 3.630000, Arousal: 14.925160, Valence: 0.300481, Dominance: 12.847755\n"
     ]
    },
    {
     "name": "stderr",
     "output_type": "stream",
     "text": [
      "\r",
      "  7%|██▋                                     | 191/2783 [01:30<15:56,  2.71it/s]"
     ]
    },
    {
     "name": "stdout",
     "output_type": "stream",
     "text": [
      "MSP-PODCAST_0061_0023, 4.000000, Arousal: 10.480716, Valence: 1.883988, Dominance: 10.243331\n",
      "MSP-PODCAST_0061_0023, 4.000000, Arousal: 10.492503, Valence: 2.063936, Dominance: 10.699357\n",
      "MSP-PODCAST_0061_0023, 4.000000, Arousal: 10.816823, Valence: 2.708210, Dominance: 10.943532\n",
      "MSP-PODCAST_0061_0023, 4.000000, Arousal: 11.073261, Valence: 3.884510, Dominance: 11.031273\n",
      "MSP-PODCAST_0061_0023, 4.000000, Arousal: 11.289047, Valence: 4.641177, Dominance: 11.559511\n",
      "MSP-PODCAST_0061_0023, 4.000000, Arousal: 11.197471, Valence: 6.007252, Dominance: 12.201760\n",
      "MSP-PODCAST_0061_0023, 4.000000, Arousal: 10.955268, Valence: 7.419854, Dominance: 12.447992\n",
      "MSP-PODCAST_0061_0023, 3.580000, Arousal: 10.705186, Valence: 8.727425, Dominance: 12.420060\n"
     ]
    },
    {
     "name": "stderr",
     "output_type": "stream",
     "text": [
      "\r",
      "  7%|██▊                                     | 192/2783 [01:31<14:08,  3.05it/s]"
     ]
    },
    {
     "name": "stdout",
     "output_type": "stream",
     "text": [
      "MSP-PODCAST_0061_0024, 3.460000, Arousal: 9.814114, Valence: 9.823736, Dominance: 12.544867\n"
     ]
    },
    {
     "name": "stderr",
     "output_type": "stream",
     "text": [
      "\r",
      "  7%|██▊                                     | 193/2783 [01:31<14:40,  2.94it/s]"
     ]
    },
    {
     "name": "stdout",
     "output_type": "stream",
     "text": [
      "MSP-PODCAST_0061_0025, 4.000000, Arousal: 5.340582, Valence: -1.354568, Dominance: 9.631043\n",
      "MSP-PODCAST_0061_0025, 4.000000, Arousal: 4.864777, Valence: -1.760942, Dominance: 9.056652\n",
      "MSP-PODCAST_0061_0025, 4.000000, Arousal: 4.588656, Valence: -1.977906, Dominance: 8.432948\n",
      "MSP-PODCAST_0061_0025, 4.000000, Arousal: 4.374809, Valence: -2.257680, Dominance: 7.980741\n",
      "MSP-PODCAST_0061_0025, 3.900000, Arousal: 3.421746, Valence: -2.293218, Dominance: 7.551697\n"
     ]
    },
    {
     "name": "stderr",
     "output_type": "stream",
     "text": [
      "\r",
      "  7%|██▊                                     | 194/2783 [01:31<13:29,  3.20it/s]"
     ]
    },
    {
     "name": "stdout",
     "output_type": "stream",
     "text": [
      "MSP-PODCAST_0061_0026, 3.800000, Arousal: -0.335543, Valence: -3.731725, Dominance: 4.927659\n"
     ]
    },
    {
     "name": "stderr",
     "output_type": "stream",
     "text": [
      "\r",
      "  7%|██▊                                     | 195/2783 [01:32<14:19,  3.01it/s]"
     ]
    },
    {
     "name": "stdout",
     "output_type": "stream",
     "text": [
      "MSP-PODCAST_0061_0027, 4.000000, Arousal: -3.881480, Valence: -17.027147, Dominance: 4.520177\n",
      "MSP-PODCAST_0061_0027, 4.000000, Arousal: -4.930943, Valence: -17.876387, Dominance: 4.444148\n",
      "MSP-PODCAST_0061_0027, 4.000000, Arousal: -5.641787, Valence: -17.487889, Dominance: 4.295035\n",
      "MSP-PODCAST_0061_0027, 4.000000, Arousal: -6.408189, Valence: -16.472330, Dominance: 3.991045\n",
      "MSP-PODCAST_0061_0027, 4.000000, Arousal: -6.689719, Valence: -15.495096, Dominance: 3.927395\n",
      "MSP-PODCAST_0061_0027, 3.860000, Arousal: -6.530665, Valence: -15.128227, Dominance: 3.709040\n"
     ]
    },
    {
     "name": "stderr",
     "output_type": "stream",
     "text": [
      "\r",
      "  7%|██▊                                     | 196/2783 [01:32<16:42,  2.58it/s]"
     ]
    },
    {
     "name": "stdout",
     "output_type": "stream",
     "text": [
      "MSP-PODCAST_0061_0028, 4.000000, Arousal: -6.614546, Valence: -14.389377, Dominance: 4.118818\n",
      "MSP-PODCAST_0061_0028, 4.000000, Arousal: -5.736356, Valence: -15.117499, Dominance: 4.478591\n",
      "MSP-PODCAST_0061_0028, 4.000000, Arousal: -4.679347, Valence: -15.746951, Dominance: 4.516825\n",
      "MSP-PODCAST_0061_0028, 4.000000, Arousal: -4.003493, Valence: -16.737349, Dominance: 4.560306\n",
      "MSP-PODCAST_0061_0028, 4.000000, Arousal: -3.568056, Valence: -17.516793, Dominance: 4.728280\n",
      "MSP-PODCAST_0061_0028, 4.000000, Arousal: -3.572179, Valence: -18.491875, Dominance: 4.600082\n",
      "MSP-PODCAST_0061_0028, 4.000000, Arousal: -3.872975, Valence: -19.036157, Dominance: 4.862599\n",
      "MSP-PODCAST_0061_0028, 4.000000, Arousal: -4.055885, Valence: -19.319393, Dominance: 5.346861\n",
      "MSP-PODCAST_0061_0028, 4.000000, Arousal: -4.270270, Valence: -19.137795, Dominance: 5.402903\n",
      "MSP-PODCAST_0061_0028, 3.690000, Arousal: -4.702718, Valence: -19.211741, Dominance: 5.153668\n"
     ]
    },
    {
     "name": "stderr",
     "output_type": "stream",
     "text": [
      "\r",
      "  7%|██▊                                     | 197/2783 [01:32<13:46,  3.13it/s]"
     ]
    },
    {
     "name": "stdout",
     "output_type": "stream",
     "text": [
      "MSP-PODCAST_0061_0029, 1.460000, Arousal: -9.833960, Valence: -15.872446, Dominance: 5.788039\n"
     ]
    },
    {
     "name": "stderr",
     "output_type": "stream",
     "text": [
      "\r",
      "  7%|██▊                                     | 198/2783 [01:33<19:12,  2.24it/s]"
     ]
    },
    {
     "name": "stdout",
     "output_type": "stream",
     "text": [
      "MSP-PODCAST_0061_0030, 4.000000, Arousal: -8.585295, Valence: -20.671556, Dominance: 1.793186\n",
      "MSP-PODCAST_0061_0030, 4.000000, Arousal: -8.070109, Valence: -21.530711, Dominance: 1.677418\n",
      "MSP-PODCAST_0061_0030, 4.000000, Arousal: -7.079172, Valence: -22.884199, Dominance: 1.973676\n",
      "MSP-PODCAST_0061_0030, 4.000000, Arousal: -5.997973, Valence: -23.356462, Dominance: 2.766481\n",
      "MSP-PODCAST_0061_0030, 4.000000, Arousal: -5.287005, Valence: -23.912681, Dominance: 3.619155\n",
      "MSP-PODCAST_0061_0030, 4.000000, Arousal: -4.719565, Valence: -24.327420, Dominance: 4.324870\n",
      "MSP-PODCAST_0061_0030, 4.000000, Arousal: -3.756520, Valence: -24.521049, Dominance: 4.845622\n",
      "MSP-PODCAST_0061_0030, 4.000000, Arousal: -1.945256, Valence: -24.747496, Dominance: 5.591324\n",
      "MSP-PODCAST_0061_0030, 4.000000, Arousal: -1.012410, Valence: -24.480017, Dominance: 6.456044\n",
      "MSP-PODCAST_0061_0030, 4.000000, Arousal: -0.178955, Valence: -24.089661, Dominance: 6.906668\n",
      "MSP-PODCAST_0061_0030, 4.000000, Arousal: 0.785439, Valence: -23.357480, Dominance: 6.670808\n",
      "MSP-PODCAST_0061_0030, 4.000000, Arousal: 1.367171, Valence: -23.282581, Dominance: 6.160080\n",
      "MSP-PODCAST_0061_0030, 4.000000, Arousal: 1.346320, Valence: -22.782589, Dominance: 5.796084\n",
      "MSP-PODCAST_0061_0030, 4.000000, Arousal: 2.075922, Valence: -22.625274, Dominance: 5.483589\n",
      "MSP-PODCAST_0061_0030, 4.000000, Arousal: 2.964156, Valence: -22.637384, Dominance: 5.318343\n",
      "MSP-PODCAST_0061_0030, 4.000000, Arousal: 3.107389, Valence: -22.336459, Dominance: 5.414674\n",
      "MSP-PODCAST_0061_0030, 4.000000, Arousal: 3.439515, Valence: -22.245234, Dominance: 5.551437\n",
      "MSP-PODCAST_0061_0030, 3.700000, Arousal: 3.627464, Valence: -22.454319, Dominance: 5.608700\n"
     ]
    },
    {
     "name": "stderr",
     "output_type": "stream",
     "text": [
      "\r",
      "  7%|██▊                                     | 199/2783 [01:33<16:29,  2.61it/s]"
     ]
    },
    {
     "name": "stdout",
     "output_type": "stream",
     "text": [
      "MSP-PODCAST_0061_0031, 3.870000, Arousal: 2.970485, Valence: -17.837412, Dominance: 7.451839\n"
     ]
    },
    {
     "name": "stderr",
     "output_type": "stream",
     "text": [
      "\r",
      "  7%|██▊                                     | 200/2783 [01:34<18:38,  2.31it/s]"
     ]
    },
    {
     "name": "stdout",
     "output_type": "stream",
     "text": [
      "MSP-PODCAST_0061_0032, 4.000000, Arousal: 5.077284, Valence: -18.004505, Dominance: 10.192682\n",
      "MSP-PODCAST_0061_0032, 4.000000, Arousal: 5.057479, Valence: -19.689878, Dominance: 10.434080\n",
      "MSP-PODCAST_0061_0032, 4.000000, Arousal: 5.220578, Valence: -21.748772, Dominance: 10.964237\n",
      "MSP-PODCAST_0061_0032, 4.000000, Arousal: 4.857323, Valence: -23.154050, Dominance: 11.403067\n",
      "MSP-PODCAST_0061_0032, 4.000000, Arousal: 4.559529, Valence: -24.308105, Dominance: 12.201953\n",
      "MSP-PODCAST_0061_0032, 4.000000, Arousal: 4.776227, Valence: -24.848739, Dominance: 12.668735\n",
      "MSP-PODCAST_0061_0032, 4.000000, Arousal: 4.547771, Valence: -25.891833, Dominance: 12.903286\n",
      "MSP-PODCAST_0061_0032, 4.000000, Arousal: 4.227237, Valence: -26.692894, Dominance: 13.057078\n",
      "MSP-PODCAST_0061_0032, 4.000000, Arousal: 4.157154, Valence: -27.177424, Dominance: 12.973145\n",
      "MSP-PODCAST_0061_0032, 4.000000, Arousal: 4.477272, Valence: -26.559867, Dominance: 12.438941\n",
      "MSP-PODCAST_0061_0032, 4.000000, Arousal: 4.663758, Valence: -25.220283, Dominance: 11.735580\n",
      "MSP-PODCAST_0061_0032, 3.580000, Arousal: 5.061651, Valence: -24.921140, Dominance: 11.361469\n"
     ]
    },
    {
     "name": "stderr",
     "output_type": "stream",
     "text": [
      "\r",
      "  7%|██▉                                     | 201/2783 [01:34<16:23,  2.63it/s]"
     ]
    },
    {
     "name": "stdout",
     "output_type": "stream",
     "text": [
      "MSP-PODCAST_0061_0033, 4.000000, Arousal: 1.520531, Valence: -24.655463, Dominance: 13.521109\n",
      "MSP-PODCAST_0061_0033, 3.780000, Arousal: 1.645807, Valence: -24.978946, Dominance: 13.713739\n"
     ]
    },
    {
     "name": "stderr",
     "output_type": "stream",
     "text": [
      "\r",
      "  7%|██▉                                     | 202/2783 [01:34<14:36,  2.94it/s]"
     ]
    },
    {
     "name": "stdout",
     "output_type": "stream",
     "text": [
      "MSP-PODCAST_0061_0034, 3.770000, Arousal: 7.326253, Valence: -30.411634, Dominance: 13.098446\n"
     ]
    },
    {
     "name": "stderr",
     "output_type": "stream",
     "text": [
      "\r",
      "  7%|██▉                                     | 203/2783 [01:35<13:56,  3.09it/s]"
     ]
    },
    {
     "name": "stdout",
     "output_type": "stream",
     "text": [
      "MSP-PODCAST_0061_0035, 4.000000, Arousal: 1.793548, Valence: -23.561115, Dominance: 8.031845\n",
      "MSP-PODCAST_0061_0035, 3.530000, Arousal: 1.318489, Valence: -23.001347, Dominance: 7.678661\n"
     ]
    },
    {
     "name": "stderr",
     "output_type": "stream",
     "text": [
      "\r",
      "  7%|██▉                                     | 204/2783 [01:35<12:38,  3.40it/s]"
     ]
    },
    {
     "name": "stdout",
     "output_type": "stream",
     "text": [
      "MSP-PODCAST_0061_0036, 2.770000, Arousal: -0.517201, Valence: -19.811179, Dominance: 7.453420\n"
     ]
    },
    {
     "name": "stderr",
     "output_type": "stream",
     "text": [
      "\r",
      "  7%|██▉                                     | 205/2783 [01:36<17:40,  2.43it/s]"
     ]
    },
    {
     "name": "stdout",
     "output_type": "stream",
     "text": [
      "MSP-PODCAST_0061_0037, 4.000000, Arousal: -2.024962, Valence: -16.195651, Dominance: 10.450573\n",
      "MSP-PODCAST_0061_0037, 4.000000, Arousal: -1.821257, Valence: -16.099413, Dominance: 10.861340\n",
      "MSP-PODCAST_0061_0037, 4.000000, Arousal: -1.321615, Valence: -15.817988, Dominance: 10.966400\n",
      "MSP-PODCAST_0061_0037, 4.000000, Arousal: -0.564955, Valence: -15.186947, Dominance: 11.201976\n",
      "MSP-PODCAST_0061_0037, 4.000000, Arousal: 0.021945, Valence: -14.801970, Dominance: 11.245320\n",
      "MSP-PODCAST_0061_0037, 4.000000, Arousal: 0.663940, Valence: -14.554270, Dominance: 11.129796\n",
      "MSP-PODCAST_0061_0037, 4.000000, Arousal: 1.201246, Valence: -14.250135, Dominance: 10.859060\n",
      "MSP-PODCAST_0061_0037, 4.000000, Arousal: 1.904043, Valence: -13.926999, Dominance: 9.972578\n",
      "MSP-PODCAST_0061_0037, 4.000000, Arousal: 2.528607, Valence: -14.496160, Dominance: 9.497740\n",
      "MSP-PODCAST_0061_0037, 4.000000, Arousal: 3.070910, Valence: -14.574519, Dominance: 9.523247\n",
      "MSP-PODCAST_0061_0037, 4.000000, Arousal: 3.558866, Valence: -14.997531, Dominance: 10.172481\n",
      "MSP-PODCAST_0061_0037, 4.000000, Arousal: 3.707095, Valence: -15.376441, Dominance: 10.507976\n",
      "MSP-PODCAST_0061_0037, 4.000000, Arousal: 3.949113, Valence: -14.794986, Dominance: 10.744787\n",
      "MSP-PODCAST_0061_0037, 4.000000, Arousal: 4.396054, Valence: -13.974210, Dominance: 10.710424\n",
      "MSP-PODCAST_0061_0037, 4.000000, Arousal: 4.620242, Valence: -13.018066, Dominance: 10.445765\n",
      "MSP-PODCAST_0061_0037, 3.730000, Arousal: 4.884523, Valence: -12.777111, Dominance: 10.537604\n"
     ]
    },
    {
     "name": "stderr",
     "output_type": "stream",
     "text": [
      "\r",
      "  7%|██▉                                     | 206/2783 [01:36<17:58,  2.39it/s]"
     ]
    },
    {
     "name": "stdout",
     "output_type": "stream",
     "text": [
      "MSP-PODCAST_0061_0038, 4.000000, Arousal: 4.465030, Valence: -4.960864, Dominance: 9.911632\n",
      "MSP-PODCAST_0061_0038, 4.000000, Arousal: 4.899254, Valence: -5.652036, Dominance: 9.885024\n",
      "MSP-PODCAST_0061_0038, 4.000000, Arousal: 5.603869, Valence: -6.399078, Dominance: 9.879997\n",
      "MSP-PODCAST_0061_0038, 4.000000, Arousal: 6.392904, Valence: -7.769928, Dominance: 9.890753\n",
      "MSP-PODCAST_0061_0038, 4.000000, Arousal: 6.802359, Valence: -9.870007, Dominance: 9.910867\n",
      "MSP-PODCAST_0061_0038, 4.000000, Arousal: 7.564755, Valence: -11.528279, Dominance: 10.220993\n",
      "MSP-PODCAST_0061_0038, 4.000000, Arousal: 8.179284, Valence: -13.340780, Dominance: 10.285627\n",
      "MSP-PODCAST_0061_0038, 3.900000, Arousal: 8.716880, Valence: -15.107782, Dominance: 10.194083\n"
     ]
    },
    {
     "name": "stderr",
     "output_type": "stream",
     "text": [
      "\r",
      "  7%|██▉                                     | 207/2783 [01:36<17:16,  2.49it/s]"
     ]
    },
    {
     "name": "stdout",
     "output_type": "stream",
     "text": [
      "MSP-PODCAST_0061_0039, 4.000000, Arousal: 10.199384, Valence: -17.464619, Dominance: 5.853681\n",
      "MSP-PODCAST_0061_0039, 4.000000, Arousal: 10.755911, Valence: -17.626548, Dominance: 4.962567\n",
      "MSP-PODCAST_0061_0039, 4.000000, Arousal: 11.232187, Valence: -17.105245, Dominance: 3.859581\n",
      "MSP-PODCAST_0061_0039, 4.000000, Arousal: 11.926895, Valence: -17.278353, Dominance: 2.815225\n",
      "MSP-PODCAST_0061_0039, 4.000000, Arousal: 13.284944, Valence: -17.362685, Dominance: 2.022116\n",
      "MSP-PODCAST_0061_0039, 3.730000, Arousal: 14.170709, Valence: -17.472903, Dominance: 1.461752\n"
     ]
    },
    {
     "name": "stderr",
     "output_type": "stream",
     "text": [
      "\r",
      "  7%|██▉                                     | 208/2783 [01:37<20:29,  2.09it/s]"
     ]
    },
    {
     "name": "stdout",
     "output_type": "stream",
     "text": [
      "MSP-PODCAST_0061_0040, 4.000000, Arousal: 10.095824, Valence: -18.465117, Dominance: 0.413871\n",
      "MSP-PODCAST_0061_0040, 4.000000, Arousal: 7.562298, Valence: -17.527357, Dominance: 0.549780\n",
      "MSP-PODCAST_0061_0040, 4.000000, Arousal: 6.756474, Valence: -17.059461, Dominance: 1.323777\n",
      "MSP-PODCAST_0061_0040, 4.000000, Arousal: 7.112950, Valence: -16.597297, Dominance: 2.123846\n",
      "MSP-PODCAST_0061_0040, 4.000000, Arousal: 7.000689, Valence: -15.757366, Dominance: 3.000070\n",
      "MSP-PODCAST_0061_0040, 4.000000, Arousal: 7.458576, Valence: -14.777680, Dominance: 3.966798\n",
      "MSP-PODCAST_0061_0040, 4.000000, Arousal: 8.174917, Valence: -14.060913, Dominance: 5.052647\n",
      "MSP-PODCAST_0061_0040, 4.000000, Arousal: 8.156852, Valence: -13.879455, Dominance: 6.085156\n",
      "MSP-PODCAST_0061_0040, 4.000000, Arousal: 9.676001, Valence: -13.411684, Dominance: 7.729414\n",
      "MSP-PODCAST_0061_0040, 4.000000, Arousal: 10.771531, Valence: -13.525210, Dominance: 9.692708\n",
      "MSP-PODCAST_0061_0040, 4.000000, Arousal: 10.838239, Valence: -12.926241, Dominance: 10.912109\n",
      "MSP-PODCAST_0061_0040, 4.000000, Arousal: 10.111443, Valence: -12.716586, Dominance: 11.631339\n",
      "MSP-PODCAST_0061_0040, 4.000000, Arousal: 9.717476, Valence: -12.712853, Dominance: 11.873992\n",
      "MSP-PODCAST_0061_0040, 4.000000, Arousal: 9.236762, Valence: -12.830428, Dominance: 11.644109\n",
      "MSP-PODCAST_0061_0040, 4.000000, Arousal: 9.006419, Valence: -13.527095, Dominance: 11.553793\n",
      "MSP-PODCAST_0061_0040, 3.610000, Arousal: 8.659865, Valence: -13.608236, Dominance: 11.835378\n"
     ]
    },
    {
     "name": "stderr",
     "output_type": "stream",
     "text": [
      "\r",
      "  8%|███                                     | 209/2783 [01:37<17:42,  2.42it/s]"
     ]
    },
    {
     "name": "stdout",
     "output_type": "stream",
     "text": [
      "MSP-PODCAST_0061_0041, 4.000000, Arousal: 5.581433, Valence: -16.157456, Dominance: 9.014955\n",
      "MSP-PODCAST_0061_0041, 3.910000, Arousal: 4.668218, Valence: -15.949133, Dominance: 9.206625\n"
     ]
    },
    {
     "name": "stderr",
     "output_type": "stream",
     "text": [
      "\r",
      "  8%|███                                     | 210/2783 [01:38<16:50,  2.55it/s]"
     ]
    },
    {
     "name": "stdout",
     "output_type": "stream",
     "text": [
      "MSP-PODCAST_0061_0042, 4.000000, Arousal: 0.850647, Valence: -11.124692, Dominance: 12.168227\n",
      "MSP-PODCAST_0061_0042, 4.000000, Arousal: 0.646355, Valence: -11.559324, Dominance: 12.676236\n",
      "MSP-PODCAST_0061_0042, 4.000000, Arousal: 0.805239, Valence: -12.062150, Dominance: 13.004210\n",
      "MSP-PODCAST_0061_0042, 4.000000, Arousal: 1.140804, Valence: -12.832034, Dominance: 13.100455\n",
      "MSP-PODCAST_0061_0042, 4.000000, Arousal: 1.431522, Valence: -13.976780, Dominance: 13.190381\n",
      "MSP-PODCAST_0061_0042, 3.560000, Arousal: 1.454777, Valence: -14.305360, Dominance: 13.189648\n"
     ]
    },
    {
     "name": "stderr",
     "output_type": "stream",
     "text": [
      "\r",
      "  8%|███                                     | 211/2783 [01:38<16:48,  2.55it/s]"
     ]
    },
    {
     "name": "stdout",
     "output_type": "stream",
     "text": [
      "MSP-PODCAST_0061_0043, 4.000000, Arousal: 0.421231, Valence: -8.828283, Dominance: 12.621595\n",
      "MSP-PODCAST_0061_0043, 4.000000, Arousal: 1.236713, Valence: -8.930870, Dominance: 12.560204\n",
      "MSP-PODCAST_0061_0043, 4.000000, Arousal: 1.440384, Valence: -9.253148, Dominance: 12.472365\n",
      "MSP-PODCAST_0061_0043, 4.000000, Arousal: 1.712773, Valence: -9.968634, Dominance: 12.262911\n",
      "MSP-PODCAST_0061_0043, 4.000000, Arousal: 2.017553, Valence: -10.824641, Dominance: 12.009896\n",
      "MSP-PODCAST_0061_0043, 4.000000, Arousal: 2.942732, Valence: -11.541944, Dominance: 11.814836\n",
      "MSP-PODCAST_0061_0043, 3.680000, Arousal: 3.429363, Valence: -12.128623, Dominance: 11.578747\n"
     ]
    },
    {
     "name": "stderr",
     "output_type": "stream",
     "text": [
      "\r",
      "  8%|███                                     | 212/2783 [01:39<20:47,  2.06it/s]"
     ]
    },
    {
     "name": "stdout",
     "output_type": "stream",
     "text": [
      "MSP-PODCAST_0061_0044, 4.000000, Arousal: 0.894537, Valence: -11.533125, Dominance: 10.302207\n",
      "MSP-PODCAST_0061_0044, 4.000000, Arousal: 0.073871, Valence: -11.305471, Dominance: 9.621202\n",
      "MSP-PODCAST_0061_0044, 4.000000, Arousal: -0.444954, Valence: -11.555360, Dominance: 9.008633\n",
      "MSP-PODCAST_0061_0044, 4.000000, Arousal: -1.357133, Valence: -11.776903, Dominance: 8.628014\n",
      "MSP-PODCAST_0061_0044, 4.000000, Arousal: -2.083368, Valence: -12.530916, Dominance: 7.850750\n",
      "MSP-PODCAST_0061_0044, 4.000000, Arousal: -2.944206, Valence: -13.408763, Dominance: 7.069814\n",
      "MSP-PODCAST_0061_0044, 4.000000, Arousal: -3.282222, Valence: -14.224800, Dominance: 6.789240\n",
      "MSP-PODCAST_0061_0044, 4.000000, Arousal: -3.073752, Valence: -15.413124, Dominance: 6.827595\n",
      "MSP-PODCAST_0061_0044, 4.000000, Arousal: -3.138947, Valence: -16.128874, Dominance: 7.080898\n",
      "MSP-PODCAST_0061_0044, 4.000000, Arousal: -3.028552, Valence: -16.385409, Dominance: 7.350454\n",
      "MSP-PODCAST_0061_0044, 4.000000, Arousal: -2.828520, Valence: -16.393632, Dominance: 7.532755\n",
      "MSP-PODCAST_0061_0044, 4.000000, Arousal: -2.510891, Valence: -16.021841, Dominance: 7.886700\n",
      "MSP-PODCAST_0061_0044, 4.000000, Arousal: -2.476190, Valence: -15.587734, Dominance: 8.278508\n",
      "MSP-PODCAST_0061_0044, 4.000000, Arousal: -2.381424, Valence: -15.138055, Dominance: 8.794269\n",
      "MSP-PODCAST_0061_0044, 4.000000, Arousal: -2.618863, Valence: -14.948176, Dominance: 9.294156\n",
      "MSP-PODCAST_0061_0044, 4.000000, Arousal: -3.505168, Valence: -14.466566, Dominance: 9.662256\n",
      "MSP-PODCAST_0061_0044, 3.750000, Arousal: -3.705378, Valence: -14.332924, Dominance: 9.738637\n"
     ]
    },
    {
     "name": "stderr",
     "output_type": "stream",
     "text": [
      "\r",
      "  8%|███                                     | 213/2783 [01:39<20:29,  2.09it/s]"
     ]
    },
    {
     "name": "stdout",
     "output_type": "stream",
     "text": [
      "MSP-PODCAST_0061_0045, 4.000000, Arousal: -5.591212, Valence: -14.193797, Dominance: 11.007602\n",
      "MSP-PODCAST_0061_0045, 4.000000, Arousal: -5.505658, Valence: -14.397128, Dominance: 10.428973\n",
      "MSP-PODCAST_0061_0045, 4.000000, Arousal: -5.093845, Valence: -14.611452, Dominance: 10.084159\n",
      "MSP-PODCAST_0061_0045, 4.000000, Arousal: -4.928570, Valence: -15.155716, Dominance: 9.719577\n",
      "MSP-PODCAST_0061_0045, 4.000000, Arousal: -4.874707, Valence: -15.684500, Dominance: 9.040173\n",
      "MSP-PODCAST_0061_0045, 4.000000, Arousal: -4.529984, Valence: -16.256054, Dominance: 8.521657\n",
      "MSP-PODCAST_0061_0045, 4.000000, Arousal: -4.468805, Valence: -15.928192, Dominance: 8.047133\n",
      "MSP-PODCAST_0061_0045, 4.000000, Arousal: -4.722520, Valence: -16.024331, Dominance: 7.907816\n",
      "MSP-PODCAST_0061_0045, 3.510000, Arousal: -5.011122, Valence: -16.308275, Dominance: 7.946440\n"
     ]
    },
    {
     "name": "stderr",
     "output_type": "stream",
     "text": [
      "\r",
      "  8%|███                                     | 214/2783 [01:39<17:28,  2.45it/s]"
     ]
    },
    {
     "name": "stdout",
     "output_type": "stream",
     "text": [
      "MSP-PODCAST_0061_0046, 3.660000, Arousal: -4.046920, Valence: -12.908732, Dominance: 12.102593\n"
     ]
    },
    {
     "name": "stderr",
     "output_type": "stream",
     "text": [
      "\r",
      "  8%|███                                     | 215/2783 [01:40<15:14,  2.81it/s]"
     ]
    },
    {
     "name": "stdout",
     "output_type": "stream",
     "text": [
      "MSP-PODCAST_0061_0047, 3.630000, Arousal: -1.289932, Valence: -14.574667, Dominance: 11.129223\n"
     ]
    },
    {
     "name": "stderr",
     "output_type": "stream",
     "text": [
      "\r",
      "  8%|███                                     | 216/2783 [01:40<13:49,  3.09it/s]"
     ]
    },
    {
     "name": "stdout",
     "output_type": "stream",
     "text": [
      "MSP-PODCAST_0061_0048, 4.000000, Arousal: -0.147018, Valence: -11.370032, Dominance: 8.273928\n",
      "MSP-PODCAST_0061_0048, 3.780000, Arousal: 0.226144, Valence: -10.741376, Dominance: 8.143603\n"
     ]
    },
    {
     "name": "stderr",
     "output_type": "stream",
     "text": [
      "\r",
      "  8%|███                                     | 217/2783 [01:40<13:50,  3.09it/s]"
     ]
    },
    {
     "name": "stdout",
     "output_type": "stream",
     "text": [
      "MSP-PODCAST_0061_0049, 4.000000, Arousal: 0.693153, Valence: -7.084643, Dominance: 7.282721\n",
      "MSP-PODCAST_0061_0049, 4.000000, Arousal: 0.832110, Valence: -7.048592, Dominance: 7.520726\n",
      "MSP-PODCAST_0061_0049, 4.000000, Arousal: 0.886026, Valence: -7.335950, Dominance: 7.869590\n",
      "MSP-PODCAST_0061_0049, 4.000000, Arousal: 0.262991, Valence: -7.464209, Dominance: 8.279649\n",
      "MSP-PODCAST_0061_0049, 3.730000, Arousal: -0.412142, Valence: -7.911176, Dominance: 8.671666\n"
     ]
    },
    {
     "name": "stderr",
     "output_type": "stream",
     "text": [
      "\r",
      "  8%|███▏                                    | 218/2783 [01:41<16:36,  2.57it/s]"
     ]
    },
    {
     "name": "stdout",
     "output_type": "stream",
     "text": [
      "MSP-PODCAST_0061_0050, 4.000000, Arousal: -0.959374, Valence: -9.865558, Dominance: 9.461621\n",
      "MSP-PODCAST_0061_0050, 4.000000, Arousal: -0.729218, Valence: -10.171020, Dominance: 9.324546\n",
      "MSP-PODCAST_0061_0050, 4.000000, Arousal: 0.167115, Valence: -11.116668, Dominance: 9.044610\n",
      "MSP-PODCAST_0061_0050, 4.000000, Arousal: 0.725893, Valence: -11.725569, Dominance: 8.450657\n",
      "MSP-PODCAST_0061_0050, 4.000000, Arousal: 0.932911, Valence: -12.323761, Dominance: 7.723823\n",
      "MSP-PODCAST_0061_0050, 4.000000, Arousal: 1.024212, Valence: -12.609544, Dominance: 6.671816\n",
      "MSP-PODCAST_0061_0050, 4.000000, Arousal: 1.236906, Valence: -12.654697, Dominance: 5.796674\n",
      "MSP-PODCAST_0061_0050, 4.000000, Arousal: 1.928496, Valence: -13.067104, Dominance: 5.399451\n",
      "MSP-PODCAST_0061_0050, 4.000000, Arousal: 2.342179, Valence: -13.097296, Dominance: 5.611369\n",
      "MSP-PODCAST_0061_0050, 4.000000, Arousal: 2.269942, Valence: -12.894322, Dominance: 5.598183\n",
      "MSP-PODCAST_0061_0050, 3.610000, Arousal: 2.193258, Valence: -12.449532, Dominance: 5.497013\n"
     ]
    },
    {
     "name": "stderr",
     "output_type": "stream",
     "text": [
      "\r",
      "  8%|███▏                                    | 219/2783 [01:41<15:39,  2.73it/s]"
     ]
    },
    {
     "name": "stdout",
     "output_type": "stream",
     "text": [
      "MSP-PODCAST_0061_0051, 4.000000, Arousal: -2.078215, Valence: -8.113036, Dominance: 8.352156\n",
      "MSP-PODCAST_0061_0051, 4.000000, Arousal: -2.714374, Valence: -8.285408, Dominance: 8.539207\n",
      "MSP-PODCAST_0061_0051, 4.000000, Arousal: -3.279584, Valence: -8.813125, Dominance: 8.829386\n",
      "MSP-PODCAST_0061_0051, 3.610000, Arousal: -3.607929, Valence: -9.532094, Dominance: 8.979804\n"
     ]
    },
    {
     "name": "stderr",
     "output_type": "stream",
     "text": [
      "\r",
      "  8%|███▏                                    | 220/2783 [01:42<16:39,  2.56it/s]"
     ]
    },
    {
     "name": "stdout",
     "output_type": "stream",
     "text": [
      "MSP-PODCAST_0061_0052, 4.000000, Arousal: -5.850431, Valence: -9.444920, Dominance: 6.720503\n",
      "MSP-PODCAST_0061_0052, 4.000000, Arousal: -5.966322, Valence: -9.481116, Dominance: 6.349341\n",
      "MSP-PODCAST_0061_0052, 4.000000, Arousal: -6.144668, Valence: -9.681402, Dominance: 6.133246\n",
      "MSP-PODCAST_0061_0052, 4.000000, Arousal: -6.209675, Valence: -9.684957, Dominance: 6.108171\n",
      "MSP-PODCAST_0061_0052, 4.000000, Arousal: -6.621625, Valence: -9.723197, Dominance: 6.327289\n",
      "MSP-PODCAST_0061_0052, 4.000000, Arousal: -6.972064, Valence: -9.709208, Dominance: 6.660564\n",
      "MSP-PODCAST_0061_0052, 4.000000, Arousal: -6.996188, Valence: -9.640327, Dominance: 7.309077\n",
      "MSP-PODCAST_0061_0052, 3.950000, Arousal: -7.066450, Valence: -9.707737, Dominance: 7.928600\n"
     ]
    },
    {
     "name": "stderr",
     "output_type": "stream",
     "text": [
      "\r",
      "  8%|███▏                                    | 221/2783 [01:42<16:42,  2.56it/s]"
     ]
    },
    {
     "name": "stdout",
     "output_type": "stream",
     "text": [
      "MSP-PODCAST_0061_0053, 4.000000, Arousal: -5.768597, Valence: -5.174104, Dominance: 6.858258\n",
      "MSP-PODCAST_0061_0053, 4.000000, Arousal: -4.938551, Valence: -4.700127, Dominance: 6.722188\n",
      "MSP-PODCAST_0061_0053, 4.000000, Arousal: -4.745872, Valence: -4.860331, Dominance: 6.667314\n",
      "MSP-PODCAST_0061_0053, 4.000000, Arousal: -4.528754, Valence: -5.376667, Dominance: 6.688841\n",
      "MSP-PODCAST_0061_0053, 4.000000, Arousal: -4.028171, Valence: -5.849281, Dominance: 6.811377\n",
      "MSP-PODCAST_0061_0053, 3.650000, Arousal: -3.515192, Valence: -6.338428, Dominance: 6.888882\n"
     ]
    },
    {
     "name": "stderr",
     "output_type": "stream",
     "text": [
      "\r",
      "  8%|███▏                                    | 222/2783 [01:42<16:25,  2.60it/s]"
     ]
    },
    {
     "name": "stdout",
     "output_type": "stream",
     "text": [
      "MSP-PODCAST_0061_0054, 4.000000, Arousal: 0.535457, Valence: -9.553302, Dominance: 9.207723\n",
      "MSP-PODCAST_0061_0054, 4.000000, Arousal: 1.497659, Valence: -8.998584, Dominance: 9.041342\n",
      "MSP-PODCAST_0061_0054, 4.000000, Arousal: 2.537577, Valence: -8.856911, Dominance: 9.059569\n",
      "MSP-PODCAST_0061_0054, 4.000000, Arousal: 2.731484, Valence: -8.044078, Dominance: 9.057140\n",
      "MSP-PODCAST_0061_0054, 4.000000, Arousal: 2.921665, Valence: -6.943440, Dominance: 8.654483\n",
      "MSP-PODCAST_0061_0054, 3.820000, Arousal: 3.381067, Valence: -5.975967, Dominance: 8.406818\n"
     ]
    },
    {
     "name": "stderr",
     "output_type": "stream",
     "text": [
      "\r",
      "  8%|███▏                                    | 223/2783 [01:43<15:50,  2.69it/s]"
     ]
    },
    {
     "name": "stdout",
     "output_type": "stream",
     "text": [
      "MSP-PODCAST_0061_0055, 4.000000, Arousal: 2.428011, Valence: -2.532085, Dominance: 10.543554\n",
      "MSP-PODCAST_0061_0055, 4.000000, Arousal: 2.701555, Valence: -2.163529, Dominance: 11.014636\n",
      "MSP-PODCAST_0061_0055, 4.000000, Arousal: 2.655052, Valence: -1.596157, Dominance: 11.069252\n",
      "MSP-PODCAST_0061_0055, 4.000000, Arousal: 2.469087, Valence: -0.892617, Dominance: 10.912897\n",
      "MSP-PODCAST_0061_0055, 3.660000, Arousal: 2.446282, Valence: -0.462401, Dominance: 10.887121\n"
     ]
    },
    {
     "name": "stderr",
     "output_type": "stream",
     "text": [
      "\r",
      "  8%|███▏                                    | 224/2783 [01:43<16:04,  2.65it/s]"
     ]
    },
    {
     "name": "stdout",
     "output_type": "stream",
     "text": [
      "MSP-PODCAST_0061_0056, 4.000000, Arousal: -1.797262, Valence: -3.330013, Dominance: 8.371429\n",
      "MSP-PODCAST_0061_0056, 4.000000, Arousal: -2.023000, Valence: -3.684705, Dominance: 8.734334\n",
      "MSP-PODCAST_0061_0056, 4.000000, Arousal: -1.977711, Valence: -3.381446, Dominance: 9.533439\n",
      "MSP-PODCAST_0061_0056, 4.000000, Arousal: -2.129809, Valence: -3.406441, Dominance: 10.227179\n",
      "MSP-PODCAST_0061_0056, 4.000000, Arousal: -2.471600, Valence: -3.194330, Dominance: 11.009091\n",
      "MSP-PODCAST_0061_0056, 3.840000, Arousal: -2.795600, Valence: -3.237525, Dominance: 11.880787\n"
     ]
    },
    {
     "name": "stderr",
     "output_type": "stream",
     "text": [
      "\r",
      "  8%|███▏                                    | 225/2783 [01:43<14:02,  3.03it/s]"
     ]
    },
    {
     "name": "stdout",
     "output_type": "stream",
     "text": [
      "MSP-PODCAST_0061_0057, 3.210000, Arousal: -3.443271, Valence: -0.928831, Dominance: 10.718519\n"
     ]
    },
    {
     "name": "stderr",
     "output_type": "stream",
     "text": [
      "\r",
      "  8%|███▏                                    | 226/2783 [01:44<16:39,  2.56it/s]"
     ]
    },
    {
     "name": "stdout",
     "output_type": "stream",
     "text": [
      "MSP-PODCAST_0061_0058, 4.000000, Arousal: -1.880403, Valence: -0.218271, Dominance: 12.242252\n",
      "MSP-PODCAST_0061_0058, 4.000000, Arousal: -1.902820, Valence: -0.739202, Dominance: 12.656310\n",
      "MSP-PODCAST_0061_0058, 4.000000, Arousal: -1.772520, Valence: -1.092704, Dominance: 13.022264\n",
      "MSP-PODCAST_0061_0058, 4.000000, Arousal: -1.432705, Valence: -1.652786, Dominance: 13.494498\n",
      "MSP-PODCAST_0061_0058, 4.000000, Arousal: -1.086560, Valence: -2.751140, Dominance: 14.136164\n",
      "MSP-PODCAST_0061_0058, 4.000000, Arousal: -0.602999, Valence: -3.349052, Dominance: 14.813017\n",
      "MSP-PODCAST_0061_0058, 4.000000, Arousal: -0.331217, Valence: -3.924938, Dominance: 15.252081\n",
      "MSP-PODCAST_0061_0058, 4.000000, Arousal: -0.372783, Valence: -4.531379, Dominance: 15.759204\n",
      "MSP-PODCAST_0061_0058, 4.000000, Arousal: -0.747443, Valence: -4.854044, Dominance: 16.068322\n",
      "MSP-PODCAST_0061_0058, 4.000000, Arousal: -1.266376, Valence: -5.829092, Dominance: 15.930222\n",
      "MSP-PODCAST_0061_0058, 4.000000, Arousal: -1.727132, Valence: -7.299575, Dominance: 15.291229\n"
     ]
    },
    {
     "name": "stderr",
     "output_type": "stream",
     "text": [
      "\r",
      "  8%|███▎                                    | 227/2783 [01:44<14:59,  2.84it/s]"
     ]
    },
    {
     "name": "stdout",
     "output_type": "stream",
     "text": [
      "MSP-PODCAST_0061_0059, 4.000000, Arousal: -1.545756, Valence: -10.162071, Dominance: 7.791052\n",
      "MSP-PODCAST_0061_0059, 3.640000, Arousal: -0.797201, Valence: -10.889063, Dominance: 7.404117\n"
     ]
    },
    {
     "name": "stderr",
     "output_type": "stream",
     "text": [
      "\r",
      "  8%|███▎                                    | 228/2783 [01:44<13:25,  3.17it/s]"
     ]
    },
    {
     "name": "stdout",
     "output_type": "stream",
     "text": [
      "MSP-PODCAST_0061_0060, 3.670000, Arousal: 3.789049, Valence: -14.176276, Dominance: 4.545144\n"
     ]
    },
    {
     "name": "stderr",
     "output_type": "stream",
     "text": [
      "\r",
      "  8%|███▎                                    | 229/2783 [01:45<12:42,  3.35it/s]"
     ]
    },
    {
     "name": "stdout",
     "output_type": "stream",
     "text": [
      "MSP-PODCAST_0061_0061, 4.000000, Arousal: 0.973806, Valence: -14.666389, Dominance: 4.052468\n",
      "MSP-PODCAST_0061_0061, 3.820000, Arousal: 0.205626, Valence: -14.420890, Dominance: 4.465919\n"
     ]
    },
    {
     "name": "stderr",
     "output_type": "stream",
     "text": [
      "\r",
      "  8%|███▎                                    | 230/2783 [01:45<13:44,  3.09it/s]"
     ]
    },
    {
     "name": "stdout",
     "output_type": "stream",
     "text": [
      "MSP-PODCAST_0061_0062, 4.000000, Arousal: 0.077610, Valence: -8.336918, Dominance: 4.907860\n",
      "MSP-PODCAST_0061_0062, 4.000000, Arousal: 0.424939, Valence: -7.018729, Dominance: 5.539786\n",
      "MSP-PODCAST_0061_0062, 4.000000, Arousal: 0.906388, Valence: -6.152952, Dominance: 6.229693\n",
      "MSP-PODCAST_0061_0062, 3.900000, Arousal: 1.235973, Valence: -5.570143, Dominance: 6.921118\n"
     ]
    },
    {
     "name": "stderr",
     "output_type": "stream",
     "text": [
      "\r",
      "  8%|███▎                                    | 231/2783 [01:45<15:35,  2.73it/s]"
     ]
    },
    {
     "name": "stdout",
     "output_type": "stream",
     "text": [
      "MSP-PODCAST_0061_0063, 4.000000, Arousal: 0.731168, Valence: -5.731189, Dominance: 9.182476\n",
      "MSP-PODCAST_0061_0063, 4.000000, Arousal: 1.144558, Valence: -6.373304, Dominance: 8.654127\n",
      "MSP-PODCAST_0061_0063, 4.000000, Arousal: 1.707798, Valence: -6.822116, Dominance: 8.199014\n",
      "MSP-PODCAST_0061_0063, 4.000000, Arousal: 2.248622, Valence: -6.780263, Dominance: 7.976203\n",
      "MSP-PODCAST_0061_0063, 4.000000, Arousal: 2.557905, Valence: -6.842484, Dominance: 7.682170\n",
      "MSP-PODCAST_0061_0063, 4.000000, Arousal: 2.583789, Valence: -7.074145, Dominance: 7.619167\n",
      "MSP-PODCAST_0061_0063, 4.000000, Arousal: 2.951442, Valence: -7.947833, Dominance: 7.640379\n",
      "MSP-PODCAST_0061_0063, 4.000000, Arousal: 2.995096, Valence: -8.569599, Dominance: 7.866851\n",
      "MSP-PODCAST_0061_0063, 3.580000, Arousal: 2.945139, Valence: -8.748771, Dominance: 8.229812\n"
     ]
    },
    {
     "name": "stderr",
     "output_type": "stream",
     "text": [
      "\r",
      "  8%|███▎                                    | 232/2783 [01:46<15:33,  2.73it/s]"
     ]
    },
    {
     "name": "stdout",
     "output_type": "stream",
     "text": [
      "MSP-PODCAST_0061_0064, 4.000000, Arousal: 2.471935, Valence: -17.005526, Dominance: 7.243033\n",
      "MSP-PODCAST_0061_0064, 4.000000, Arousal: 2.266637, Valence: -16.681503, Dominance: 7.027327\n",
      "MSP-PODCAST_0061_0064, 4.000000, Arousal: 1.950931, Valence: -16.130769, Dominance: 6.608675\n",
      "MSP-PODCAST_0061_0064, 3.810000, Arousal: 2.039102, Valence: -15.647079, Dominance: 6.183886\n"
     ]
    },
    {
     "name": "stderr",
     "output_type": "stream",
     "text": [
      "\r",
      "  8%|███▎                                    | 233/2783 [01:46<14:17,  2.97it/s]"
     ]
    },
    {
     "name": "stdout",
     "output_type": "stream",
     "text": [
      "MSP-PODCAST_0061_0065, 3.960000, Arousal: 0.860476, Valence: -5.118173, Dominance: 2.700236\n"
     ]
    },
    {
     "name": "stderr",
     "output_type": "stream",
     "text": [
      "\r",
      "  8%|███▎                                    | 234/2783 [01:46<14:27,  2.94it/s]"
     ]
    },
    {
     "name": "stdout",
     "output_type": "stream",
     "text": [
      "MSP-PODCAST_0061_0067, 4.000000, Arousal: 5.006388, Valence: -0.398212, Dominance: 12.280620\n",
      "MSP-PODCAST_0061_0067, 4.000000, Arousal: 4.201300, Valence: -0.176594, Dominance: 12.425561\n",
      "MSP-PODCAST_0061_0067, 4.000000, Arousal: 4.224721, Valence: -0.232475, Dominance: 12.141291\n",
      "MSP-PODCAST_0061_0067, 4.000000, Arousal: 3.768568, Valence: -0.424518, Dominance: 11.793427\n",
      "MSP-PODCAST_0061_0067, 4.000000, Arousal: 2.846303, Valence: -1.341436, Dominance: 11.799834\n",
      "MSP-PODCAST_0061_0067, 3.650000, Arousal: 2.323334, Valence: -2.054569, Dominance: 11.710453\n"
     ]
    },
    {
     "name": "stderr",
     "output_type": "stream",
     "text": [
      "\r",
      "  8%|███▍                                    | 235/2783 [01:47<12:48,  3.32it/s]"
     ]
    },
    {
     "name": "stdout",
     "output_type": "stream",
     "text": [
      "MSP-PODCAST_0061_0068, 3.720000, Arousal: 7.227040, Valence: -4.202229, Dominance: 15.258348\n"
     ]
    },
    {
     "name": "stderr",
     "output_type": "stream",
     "text": [
      "\r",
      "  8%|███▍                                    | 236/2783 [01:47<16:22,  2.59it/s]"
     ]
    },
    {
     "name": "stdout",
     "output_type": "stream",
     "text": [
      "MSP-PODCAST_0061_0069, 4.000000, Arousal: 9.710178, Valence: -1.661947, Dominance: 23.581072\n",
      "MSP-PODCAST_0061_0069, 4.000000, Arousal: 9.065402, Valence: -1.568554, Dominance: 24.759726\n",
      "MSP-PODCAST_0061_0069, 4.000000, Arousal: 8.586824, Valence: -1.606171, Dominance: 25.538081\n",
      "MSP-PODCAST_0061_0069, 4.000000, Arousal: 9.029747, Valence: -1.356291, Dominance: 26.269753\n",
      "MSP-PODCAST_0061_0069, 4.000000, Arousal: 9.211864, Valence: -1.039674, Dominance: 27.176400\n",
      "MSP-PODCAST_0061_0069, 4.000000, Arousal: 9.534031, Valence: -1.049298, Dominance: 28.043428\n",
      "MSP-PODCAST_0061_0069, 4.000000, Arousal: 10.179432, Valence: -1.354499, Dominance: 26.868005\n",
      "MSP-PODCAST_0061_0069, 4.000000, Arousal: 10.302184, Valence: -2.653839, Dominance: 24.966250\n",
      "MSP-PODCAST_0061_0069, 4.000000, Arousal: 10.249114, Valence: -3.941027, Dominance: 23.197103\n",
      "MSP-PODCAST_0061_0069, 4.000000, Arousal: 10.719209, Valence: -5.081581, Dominance: 21.633447\n",
      "MSP-PODCAST_0061_0069, 4.000000, Arousal: 10.933729, Valence: -6.298626, Dominance: 20.006514\n",
      "MSP-PODCAST_0061_0069, 4.000000, Arousal: 10.182672, Valence: -7.475796, Dominance: 18.429178\n",
      "MSP-PODCAST_0061_0069, 3.690000, Arousal: 9.896441, Valence: -8.438359, Dominance: 17.093249\n"
     ]
    },
    {
     "name": "stderr",
     "output_type": "stream",
     "text": [
      "\r",
      "  9%|███▍                                    | 237/2783 [01:48<17:55,  2.37it/s]"
     ]
    },
    {
     "name": "stdout",
     "output_type": "stream",
     "text": [
      "MSP-PODCAST_0061_0070, 4.000000, Arousal: 8.412819, Valence: -10.192099, Dominance: 24.026160\n",
      "MSP-PODCAST_0061_0070, 4.000000, Arousal: 8.733209, Valence: -10.630757, Dominance: 25.351451\n",
      "MSP-PODCAST_0061_0070, 4.000000, Arousal: 9.142737, Valence: -10.949642, Dominance: 25.794156\n",
      "MSP-PODCAST_0061_0070, 4.000000, Arousal: 8.902102, Valence: -11.109579, Dominance: 25.770140\n",
      "MSP-PODCAST_0061_0070, 4.000000, Arousal: 8.519013, Valence: -11.638029, Dominance: 25.959370\n",
      "MSP-PODCAST_0061_0070, 4.000000, Arousal: 8.826822, Valence: -12.456900, Dominance: 25.669885\n",
      "MSP-PODCAST_0061_0070, 4.000000, Arousal: 9.571752, Valence: -13.873216, Dominance: 25.568182\n",
      "MSP-PODCAST_0061_0070, 4.000000, Arousal: 10.027311, Valence: -15.481801, Dominance: 25.324994\n",
      "MSP-PODCAST_0061_0070, 4.000000, Arousal: 9.899999, Valence: -16.780800, Dominance: 24.999597\n",
      "MSP-PODCAST_0061_0070, 4.000000, Arousal: 9.631380, Valence: -17.959590, Dominance: 24.626071\n",
      "MSP-PODCAST_0061_0070, 4.000000, Arousal: 9.445022, Valence: -18.953029, Dominance: 24.282249\n",
      "MSP-PODCAST_0061_0070, 4.000000, Arousal: 9.127395, Valence: -20.009062, Dominance: 24.248355\n",
      "MSP-PODCAST_0061_0070, 3.520000, Arousal: 8.874201, Valence: -21.003603, Dominance: 23.867525\n"
     ]
    },
    {
     "name": "stderr",
     "output_type": "stream",
     "text": [
      "\r",
      "  9%|███▍                                    | 238/2783 [01:48<18:25,  2.30it/s]"
     ]
    },
    {
     "name": "stdout",
     "output_type": "stream",
     "text": [
      "MSP-PODCAST_0061_0071, 4.000000, Arousal: 2.539691, Valence: -20.341632, Dominance: 18.498642\n",
      "MSP-PODCAST_0061_0071, 4.000000, Arousal: 2.973117, Valence: -20.598714, Dominance: 19.023886\n",
      "MSP-PODCAST_0061_0071, 4.000000, Arousal: 3.524102, Valence: -21.250145, Dominance: 20.070296\n",
      "MSP-PODCAST_0061_0071, 4.000000, Arousal: 3.457083, Valence: -21.903286, Dominance: 21.227478\n",
      "MSP-PODCAST_0061_0071, 4.000000, Arousal: 2.575987, Valence: -22.203375, Dominance: 22.356282\n",
      "MSP-PODCAST_0061_0071, 4.000000, Arousal: 2.245044, Valence: -22.726724, Dominance: 23.424882\n",
      "MSP-PODCAST_0061_0071, 4.000000, Arousal: 2.037341, Valence: -23.371492, Dominance: 24.471139\n",
      "MSP-PODCAST_0061_0071, 4.000000, Arousal: 2.332502, Valence: -23.818927, Dominance: 25.413247\n",
      "MSP-PODCAST_0061_0071, 4.000000, Arousal: 2.028479, Valence: -24.371499, Dominance: 25.704640\n",
      "MSP-PODCAST_0061_0071, 3.830000, Arousal: 1.508286, Valence: -24.882124, Dominance: 25.983390\n"
     ]
    },
    {
     "name": "stderr",
     "output_type": "stream",
     "text": [
      "  9%|███▍                                    | 240/2783 [01:49<13:23,  3.17it/s]"
     ]
    },
    {
     "name": "stdout",
     "output_type": "stream",
     "text": [
      "MSP-PODCAST_0061_0072, 3.960000, Arousal: 1.225354, Valence: -24.445080, Dominance: 22.813994\n",
      "MSP-PODCAST_0061_0073, 2.060000, Arousal: 4.114454, Valence: -24.420862, Dominance: 26.525779\n"
     ]
    },
    {
     "name": "stderr",
     "output_type": "stream",
     "text": [
      "\r",
      "  9%|███▍                                    | 241/2783 [01:49<15:59,  2.65it/s]"
     ]
    },
    {
     "name": "stdout",
     "output_type": "stream",
     "text": [
      "MSP-PODCAST_0061_0074, 4.000000, Arousal: 6.479874, Valence: -24.493007, Dominance: 24.865097\n",
      "MSP-PODCAST_0061_0074, 4.000000, Arousal: 6.691635, Valence: -24.353445, Dominance: 25.116232\n",
      "MSP-PODCAST_0061_0074, 4.000000, Arousal: 7.165505, Valence: -24.228492, Dominance: 25.701101\n",
      "MSP-PODCAST_0061_0074, 4.000000, Arousal: 8.013724, Valence: -24.258950, Dominance: 27.273070\n",
      "MSP-PODCAST_0061_0074, 4.000000, Arousal: 8.845902, Valence: -24.401861, Dominance: 29.086804\n",
      "MSP-PODCAST_0061_0074, 4.000000, Arousal: 9.529660, Valence: -24.193193, Dominance: 30.109526\n",
      "MSP-PODCAST_0061_0074, 4.000000, Arousal: 10.113720, Valence: -24.039750, Dominance: 31.023841\n",
      "MSP-PODCAST_0061_0074, 4.000000, Arousal: 10.618384, Valence: -24.057518, Dominance: 30.464013\n",
      "MSP-PODCAST_0061_0074, 4.000000, Arousal: 11.290227, Valence: -24.337738, Dominance: 29.970599\n",
      "MSP-PODCAST_0061_0074, 4.000000, Arousal: 12.203425, Valence: -24.337585, Dominance: 28.842384\n",
      "MSP-PODCAST_0061_0074, 4.000000, Arousal: 11.743839, Valence: -24.159682, Dominance: 27.789087\n",
      "MSP-PODCAST_0061_0074, 3.810000, Arousal: 11.134540, Valence: -24.002010, Dominance: 26.673208\n"
     ]
    },
    {
     "name": "stderr",
     "output_type": "stream",
     "text": [
      "\r",
      "  9%|███▍                                    | 242/2783 [01:50<18:27,  2.30it/s]"
     ]
    },
    {
     "name": "stdout",
     "output_type": "stream",
     "text": [
      "MSP-PODCAST_0061_0075, 4.000000, Arousal: 7.495872, Valence: -21.119219, Dominance: 25.212048\n",
      "MSP-PODCAST_0061_0075, 4.000000, Arousal: 7.928443, Valence: -20.452882, Dominance: 26.292994\n",
      "MSP-PODCAST_0061_0075, 4.000000, Arousal: 8.142247, Valence: -20.140438, Dominance: 26.799237\n",
      "MSP-PODCAST_0061_0075, 4.000000, Arousal: 8.522459, Valence: -20.307440, Dominance: 27.154931\n",
      "MSP-PODCAST_0061_0075, 4.000000, Arousal: 8.922920, Valence: -20.026199, Dominance: 27.910663\n",
      "MSP-PODCAST_0061_0075, 4.000000, Arousal: 8.990145, Valence: -20.069744, Dominance: 28.384535\n",
      "MSP-PODCAST_0061_0075, 4.000000, Arousal: 8.553517, Valence: -20.331919, Dominance: 28.776586\n",
      "MSP-PODCAST_0061_0075, 4.000000, Arousal: 8.303745, Valence: -20.557743, Dominance: 29.140506\n",
      "MSP-PODCAST_0061_0075, 4.000000, Arousal: 8.281697, Valence: -20.792939, Dominance: 28.661189\n",
      "MSP-PODCAST_0061_0075, 4.000000, Arousal: 8.264167, Valence: -21.048016, Dominance: 28.377576\n",
      "MSP-PODCAST_0061_0075, 4.000000, Arousal: 7.987255, Valence: -21.120581, Dominance: 27.484956\n",
      "MSP-PODCAST_0061_0075, 4.000000, Arousal: 7.686267, Valence: -20.674106, Dominance: 26.614634\n",
      "MSP-PODCAST_0061_0075, 4.000000, Arousal: 7.543767, Valence: -20.519264, Dominance: 25.835386\n",
      "MSP-PODCAST_0061_0075, 3.910000, Arousal: 6.770364, Valence: -20.156985, Dominance: 24.812547\n"
     ]
    },
    {
     "name": "stderr",
     "output_type": "stream",
     "text": [
      "\r",
      "  9%|███▍                                    | 243/2783 [01:50<18:33,  2.28it/s]"
     ]
    },
    {
     "name": "stdout",
     "output_type": "stream",
     "text": [
      "MSP-PODCAST_0061_0076, 4.000000, Arousal: 5.886671, Valence: -16.402656, Dominance: 15.720236\n",
      "MSP-PODCAST_0061_0076, 4.000000, Arousal: 6.322351, Valence: -16.895616, Dominance: 14.913497\n",
      "MSP-PODCAST_0061_0076, 4.000000, Arousal: 6.482490, Valence: -17.625629, Dominance: 13.901274\n",
      "MSP-PODCAST_0061_0076, 4.000000, Arousal: 7.078147, Valence: -18.593179, Dominance: 13.499129\n",
      "MSP-PODCAST_0061_0076, 4.000000, Arousal: 7.921613, Valence: -19.411802, Dominance: 14.405399\n",
      "MSP-PODCAST_0061_0076, 4.000000, Arousal: 8.641635, Valence: -20.001107, Dominance: 14.943181\n",
      "MSP-PODCAST_0061_0076, 4.000000, Arousal: 8.881784, Valence: -20.707423, Dominance: 15.016563\n",
      "MSP-PODCAST_0061_0076, 4.000000, Arousal: 8.476866, Valence: -21.137246, Dominance: 15.751823\n",
      "MSP-PODCAST_0061_0076, 4.000000, Arousal: 8.150450, Valence: -21.134896, Dominance: 16.694568\n",
      "MSP-PODCAST_0061_0076, 3.600000, Arousal: 8.433452, Valence: -21.264724, Dominance: 17.608997\n"
     ]
    },
    {
     "name": "stderr",
     "output_type": "stream",
     "text": [
      "\r",
      "  9%|███▌                                    | 244/2783 [01:50<17:38,  2.40it/s]"
     ]
    },
    {
     "name": "stdout",
     "output_type": "stream",
     "text": [
      "MSP-PODCAST_0061_0077, 4.000000, Arousal: 12.832057, Valence: -19.687701, Dominance: 22.830875\n",
      "MSP-PODCAST_0061_0077, 4.000000, Arousal: 13.208878, Valence: -19.417453, Dominance: 24.204458\n",
      "MSP-PODCAST_0061_0077, 4.000000, Arousal: 13.011162, Valence: -18.951065, Dominance: 25.403777\n",
      "MSP-PODCAST_0061_0077, 4.000000, Arousal: 13.170576, Valence: -17.968937, Dominance: 25.957068\n",
      "MSP-PODCAST_0061_0077, 4.000000, Arousal: 13.926952, Valence: -17.141885, Dominance: 25.972587\n",
      "MSP-PODCAST_0061_0077, 4.000000, Arousal: 14.343626, Valence: -16.494281, Dominance: 26.291199\n",
      "MSP-PODCAST_0061_0077, 3.770000, Arousal: 14.373280, Valence: -16.411688, Dominance: 26.806668\n"
     ]
    },
    {
     "name": "stderr",
     "output_type": "stream",
     "text": [
      "  9%|███▌                                    | 246/2783 [01:51<12:19,  3.43it/s]"
     ]
    },
    {
     "name": "stdout",
     "output_type": "stream",
     "text": [
      "MSP-PODCAST_0061_0078, 2.700000, Arousal: 12.135913, Valence: -17.259990, Dominance: 28.064076\n",
      "MSP-PODCAST_0061_0079, 1.940000, Arousal: 14.733439, Valence: -21.999996, Dominance: 30.985070\n"
     ]
    },
    {
     "name": "stderr",
     "output_type": "stream",
     "text": [
      "\r",
      "  9%|███▌                                    | 247/2783 [01:51<16:00,  2.64it/s]"
     ]
    },
    {
     "name": "stdout",
     "output_type": "stream",
     "text": [
      "MSP-PODCAST_0061_0080, 4.000000, Arousal: 12.933955, Valence: -17.748361, Dominance: 24.509838\n",
      "MSP-PODCAST_0061_0080, 4.000000, Arousal: 13.938069, Valence: -17.044605, Dominance: 23.442316\n",
      "MSP-PODCAST_0061_0080, 4.000000, Arousal: 15.053270, Valence: -16.183562, Dominance: 22.503308\n",
      "MSP-PODCAST_0061_0080, 4.000000, Arousal: 16.104507, Valence: -15.676723, Dominance: 22.172031\n",
      "MSP-PODCAST_0061_0080, 4.000000, Arousal: 16.856721, Valence: -15.256124, Dominance: 23.109537\n",
      "MSP-PODCAST_0061_0080, 4.000000, Arousal: 17.813791, Valence: -14.401568, Dominance: 23.908542\n",
      "MSP-PODCAST_0061_0080, 4.000000, Arousal: 18.318780, Valence: -13.368123, Dominance: 24.118120\n",
      "MSP-PODCAST_0061_0080, 4.000000, Arousal: 17.728631, Valence: -12.520065, Dominance: 23.667452\n",
      "MSP-PODCAST_0061_0080, 4.000000, Arousal: 17.222380, Valence: -11.882236, Dominance: 23.458596\n",
      "MSP-PODCAST_0061_0080, 4.000000, Arousal: 16.660078, Valence: -11.061566, Dominance: 23.425270\n",
      "MSP-PODCAST_0061_0080, 4.000000, Arousal: 16.249079, Valence: -10.788412, Dominance: 23.221679\n",
      "MSP-PODCAST_0061_0080, 4.000000, Arousal: 16.518432, Valence: -10.463873, Dominance: 23.098406\n",
      "MSP-PODCAST_0061_0080, 4.000000, Arousal: 16.522349, Valence: -10.230516, Dominance: 22.639998\n",
      "MSP-PODCAST_0061_0080, 3.900000, Arousal: 15.721817, Valence: -10.602961, Dominance: 22.481871\n"
     ]
    },
    {
     "name": "stderr",
     "output_type": "stream",
     "text": [
      "\r",
      "  9%|███▌                                    | 248/2783 [01:52<15:30,  2.72it/s]"
     ]
    },
    {
     "name": "stdout",
     "output_type": "stream",
     "text": [
      "MSP-PODCAST_0061_0081, 4.000000, Arousal: 18.785571, Valence: -19.348326, Dominance: 19.609325\n",
      "MSP-PODCAST_0061_0081, 4.000000, Arousal: 19.631262, Valence: -19.730743, Dominance: 19.672413\n",
      "MSP-PODCAST_0061_0081, 4.000000, Arousal: 19.943516, Valence: -19.706178, Dominance: 19.696397\n",
      "MSP-PODCAST_0061_0081, 4.000000, Arousal: 19.757783, Valence: -18.872255, Dominance: 19.629103\n",
      "MSP-PODCAST_0061_0081, 3.540000, Arousal: 19.712976, Valence: -18.458981, Dominance: 19.159773\n"
     ]
    },
    {
     "name": "stderr",
     "output_type": "stream",
     "text": [
      "\r",
      "  9%|███▌                                    | 249/2783 [01:52<13:14,  3.19it/s]"
     ]
    },
    {
     "name": "stdout",
     "output_type": "stream",
     "text": [
      "MSP-PODCAST_0061_0082, 2.680000, Arousal: 16.355178, Valence: -12.923253, Dominance: 25.553851\n"
     ]
    },
    {
     "name": "stderr",
     "output_type": "stream",
     "text": [
      "\r",
      "  9%|███▌                                    | 250/2783 [01:52<13:35,  3.10it/s]"
     ]
    },
    {
     "name": "stdout",
     "output_type": "stream",
     "text": [
      "MSP-PODCAST_0061_0083, 4.000000, Arousal: 19.158361, Valence: -19.085005, Dominance: 30.008707\n",
      "MSP-PODCAST_0061_0083, 4.000000, Arousal: 20.007015, Valence: -19.511916, Dominance: 30.203995\n",
      "MSP-PODCAST_0061_0083, 4.000000, Arousal: 21.000634, Valence: -19.715415, Dominance: 30.674508\n",
      "MSP-PODCAST_0061_0083, 4.000000, Arousal: 21.293063, Valence: -19.732645, Dominance: 31.494971\n",
      "MSP-PODCAST_0061_0083, 4.000000, Arousal: 20.922125, Valence: -19.784148, Dominance: 31.776939\n",
      "MSP-PODCAST_0061_0083, 3.680000, Arousal: 20.726413, Valence: -19.678805, Dominance: 31.632539\n"
     ]
    },
    {
     "name": "stderr",
     "output_type": "stream",
     "text": [
      "\r",
      "  9%|███▌                                    | 251/2783 [01:52<11:52,  3.55it/s]"
     ]
    },
    {
     "name": "stdout",
     "output_type": "stream",
     "text": [
      "MSP-PODCAST_0061_0084, 2.570000, Arousal: 19.255559, Valence: -18.424038, Dominance: 36.045812\n"
     ]
    },
    {
     "name": "stderr",
     "output_type": "stream",
     "text": [
      "  9%|███▋                                    | 253/2783 [01:53<11:03,  3.81it/s]"
     ]
    },
    {
     "name": "stdout",
     "output_type": "stream",
     "text": [
      "MSP-PODCAST_0061_0085, 4.000000, Arousal: 22.986322, Valence: -14.641148, Dominance: 37.298851\n",
      "MSP-PODCAST_0061_0085, 4.000000, Arousal: 22.893549, Valence: -14.363277, Dominance: 37.386223\n",
      "MSP-PODCAST_0061_0085, 3.990000, Arousal: 24.086110, Valence: -14.509131, Dominance: 37.741437\n",
      "MSP-PODCAST_0061_0086, 2.760000, Arousal: 24.577481, Valence: -19.364667, Dominance: 35.673938\n"
     ]
    },
    {
     "name": "stderr",
     "output_type": "stream",
     "text": [
      "\r",
      "  9%|███▋                                    | 254/2783 [01:53<09:59,  4.22it/s]"
     ]
    },
    {
     "name": "stdout",
     "output_type": "stream",
     "text": [
      "MSP-PODCAST_0061_0087, 2.860000, Arousal: 22.998609, Valence: -23.901214, Dominance: 26.714217\n"
     ]
    },
    {
     "name": "stderr",
     "output_type": "stream",
     "text": [
      "  9%|███▋                                    | 256/2783 [01:53<09:04,  4.64it/s]"
     ]
    },
    {
     "name": "stdout",
     "output_type": "stream",
     "text": [
      "MSP-PODCAST_0061_0088, 3.910000, Arousal: 20.657006, Valence: -22.760482, Dominance: 31.919176\n",
      "MSP-PODCAST_0061_0089, 2.600000, Arousal: 24.747163, Valence: -25.348117, Dominance: 40.100751\n"
     ]
    },
    {
     "name": "stderr",
     "output_type": "stream",
     "text": [
      "\r",
      "  9%|███▋                                    | 257/2783 [01:54<08:39,  4.86it/s]"
     ]
    },
    {
     "name": "stdout",
     "output_type": "stream",
     "text": [
      "MSP-PODCAST_0061_0090, 1.810000, Arousal: 24.037834, Valence: -25.679389, Dominance: 39.986483\n"
     ]
    },
    {
     "name": "stderr",
     "output_type": "stream",
     "text": [
      "\r",
      "  9%|███▋                                    | 258/2783 [01:54<09:55,  4.24it/s]"
     ]
    },
    {
     "name": "stdout",
     "output_type": "stream",
     "text": [
      "MSP-PODCAST_0061_0091, 4.000000, Arousal: 17.414363, Valence: -24.592005, Dominance: 33.499017\n",
      "MSP-PODCAST_0061_0091, 4.000000, Arousal: 16.853762, Valence: -24.375558, Dominance: 31.807754\n",
      "MSP-PODCAST_0061_0091, 4.000000, Arousal: 16.040473, Valence: -23.807389, Dominance: 29.953327\n",
      "MSP-PODCAST_0061_0091, 3.610000, Arousal: 15.454545, Valence: -23.444062, Dominance: 29.001206\n"
     ]
    },
    {
     "name": "stderr",
     "output_type": "stream",
     "text": [
      "\r",
      "  9%|███▋                                    | 259/2783 [01:54<13:22,  3.14it/s]"
     ]
    },
    {
     "name": "stdout",
     "output_type": "stream",
     "text": [
      "MSP-PODCAST_0061_0092, 4.000000, Arousal: 13.903885, Valence: -21.450193, Dominance: 26.386000\n",
      "MSP-PODCAST_0061_0092, 4.000000, Arousal: 14.579463, Valence: -21.795658, Dominance: 26.959980\n",
      "MSP-PODCAST_0061_0092, 4.000000, Arousal: 15.301384, Valence: -21.865361, Dominance: 27.371267\n",
      "MSP-PODCAST_0061_0092, 4.000000, Arousal: 15.631545, Valence: -22.022713, Dominance: 27.557637\n",
      "MSP-PODCAST_0061_0092, 4.000000, Arousal: 15.912940, Valence: -22.345184, Dominance: 27.451320\n",
      "MSP-PODCAST_0061_0092, 4.000000, Arousal: 16.652737, Valence: -22.659775, Dominance: 27.472968\n",
      "MSP-PODCAST_0061_0092, 4.000000, Arousal: 17.076023, Valence: -22.903105, Dominance: 27.664492\n",
      "MSP-PODCAST_0061_0092, 4.000000, Arousal: 17.678505, Valence: -23.517632, Dominance: 27.195602\n",
      "MSP-PODCAST_0061_0092, 4.000000, Arousal: 18.441695, Valence: -24.258237, Dominance: 26.715990\n",
      "MSP-PODCAST_0061_0092, 4.000000, Arousal: 19.085110, Valence: -25.081411, Dominance: 26.352288\n",
      "MSP-PODCAST_0061_0092, 3.590000, Arousal: 19.040635, Valence: -25.409176, Dominance: 25.931213\n"
     ]
    },
    {
     "name": "stderr",
     "output_type": "stream",
     "text": [
      "\r",
      "  9%|███▋                                    | 260/2783 [01:55<12:31,  3.36it/s]"
     ]
    },
    {
     "name": "stdout",
     "output_type": "stream",
     "text": [
      "MSP-PODCAST_0061_0093, 4.000000, Arousal: 17.145918, Valence: -26.798902, Dominance: 26.411453\n",
      "MSP-PODCAST_0061_0093, 3.800000, Arousal: 17.417124, Valence: -26.064749, Dominance: 26.602230\n"
     ]
    },
    {
     "name": "stderr",
     "output_type": "stream",
     "text": [
      "\r",
      "  9%|███▊                                    | 261/2783 [01:55<11:14,  3.74it/s]"
     ]
    },
    {
     "name": "stdout",
     "output_type": "stream",
     "text": [
      "MSP-PODCAST_0061_0094, 3.200000, Arousal: 16.224255, Valence: -20.502743, Dominance: 31.299999\n"
     ]
    },
    {
     "name": "stderr",
     "output_type": "stream",
     "text": [
      "\r",
      "  9%|███▊                                    | 262/2783 [01:55<12:04,  3.48it/s]"
     ]
    },
    {
     "name": "stdout",
     "output_type": "stream",
     "text": [
      "MSP-PODCAST_0061_0095, 4.000000, Arousal: 15.579242, Valence: -18.023313, Dominance: 31.501036\n",
      "MSP-PODCAST_0061_0095, 4.000000, Arousal: 16.168365, Valence: -18.830699, Dominance: 32.115422\n",
      "MSP-PODCAST_0061_0095, 4.000000, Arousal: 16.301554, Valence: -19.529711, Dominance: 33.231302\n",
      "MSP-PODCAST_0061_0095, 4.000000, Arousal: 16.184529, Valence: -20.175535, Dominance: 34.201481\n",
      "MSP-PODCAST_0061_0095, 3.650000, Arousal: 15.935682, Valence: -20.758741, Dominance: 35.167094\n"
     ]
    },
    {
     "name": "stderr",
     "output_type": "stream",
     "text": [
      "\r",
      "  9%|███▊                                    | 263/2783 [01:56<12:47,  3.29it/s]"
     ]
    },
    {
     "name": "stdout",
     "output_type": "stream",
     "text": [
      "MSP-PODCAST_0061_0096, 4.000000, Arousal: 16.728584, Valence: -20.938653, Dominance: 29.472276\n",
      "MSP-PODCAST_0061_0096, 4.000000, Arousal: 15.912001, Valence: -20.026157, Dominance: 28.517091\n",
      "MSP-PODCAST_0061_0096, 4.000000, Arousal: 15.203065, Valence: -20.010133, Dominance: 27.619957\n",
      "MSP-PODCAST_0061_0096, 4.000000, Arousal: 15.159953, Valence: -19.900668, Dominance: 26.809982\n",
      "MSP-PODCAST_0061_0096, 4.000000, Arousal: 15.075008, Valence: -19.673517, Dominance: 26.488760\n",
      "MSP-PODCAST_0061_0096, 3.800000, Arousal: 15.030380, Valence: -19.163766, Dominance: 26.490671\n"
     ]
    },
    {
     "name": "stderr",
     "output_type": "stream",
     "text": [
      "\r",
      "  9%|███▊                                    | 264/2783 [01:56<11:26,  3.67it/s]"
     ]
    },
    {
     "name": "stdout",
     "output_type": "stream",
     "text": [
      "MSP-PODCAST_0061_0097, 3.110000, Arousal: 14.537845, Valence: -15.866397, Dominance: 31.309067\n"
     ]
    },
    {
     "name": "stderr",
     "output_type": "stream",
     "text": [
      "\r",
      " 10%|███▊                                    | 265/2783 [01:56<14:53,  2.82it/s]"
     ]
    },
    {
     "name": "stdout",
     "output_type": "stream",
     "text": [
      "MSP-PODCAST_0061_0098, 4.000000, Arousal: 16.867507, Valence: -11.709266, Dominance: 31.612204\n",
      "MSP-PODCAST_0061_0098, 4.000000, Arousal: 17.976159, Valence: -11.081333, Dominance: 31.911063\n",
      "MSP-PODCAST_0061_0098, 4.000000, Arousal: 17.892556, Valence: -11.334386, Dominance: 32.824357\n",
      "MSP-PODCAST_0061_0098, 4.000000, Arousal: 17.405062, Valence: -11.240229, Dominance: 33.224969\n",
      "MSP-PODCAST_0061_0098, 4.000000, Arousal: 17.434500, Valence: -11.254726, Dominance: 33.445627\n",
      "MSP-PODCAST_0061_0098, 4.000000, Arousal: 17.682190, Valence: -11.307115, Dominance: 33.676976\n",
      "MSP-PODCAST_0061_0098, 4.000000, Arousal: 17.822251, Valence: -11.405009, Dominance: 34.114395\n",
      "MSP-PODCAST_0061_0098, 4.000000, Arousal: 18.052241, Valence: -11.534979, Dominance: 34.735251\n",
      "MSP-PODCAST_0061_0098, 4.000000, Arousal: 17.679939, Valence: -11.609592, Dominance: 34.709229\n",
      "MSP-PODCAST_0061_0098, 4.000000, Arousal: 17.471642, Valence: -11.804663, Dominance: 34.829762\n",
      "MSP-PODCAST_0061_0098, 4.000000, Arousal: 18.110539, Valence: -11.629897, Dominance: 34.196685\n",
      "MSP-PODCAST_0061_0098, 3.850000, Arousal: 18.414866, Valence: -11.643191, Dominance: 33.253940\n"
     ]
    },
    {
     "name": "stderr",
     "output_type": "stream",
     "text": [
      "\r",
      " 10%|███▊                                    | 266/2783 [01:57<14:56,  2.81it/s]"
     ]
    },
    {
     "name": "stdout",
     "output_type": "stream",
     "text": [
      "MSP-PODCAST_0061_0099, 4.000000, Arousal: 18.389575, Valence: -9.430349, Dominance: 33.818591\n",
      "MSP-PODCAST_0061_0099, 4.000000, Arousal: 19.045951, Valence: -9.357885, Dominance: 34.356030\n",
      "MSP-PODCAST_0061_0099, 4.000000, Arousal: 19.342064, Valence: -9.839097, Dominance: 34.334020\n",
      "MSP-PODCAST_0061_0099, 4.000000, Arousal: 19.432671, Valence: -9.880293, Dominance: 34.358548\n",
      "MSP-PODCAST_0061_0099, 3.870000, Arousal: 19.428275, Valence: -9.805365, Dominance: 34.430722\n"
     ]
    },
    {
     "name": "stderr",
     "output_type": "stream",
     "text": [
      "\r",
      " 10%|███▊                                    | 267/2783 [01:57<13:35,  3.09it/s]"
     ]
    },
    {
     "name": "stdout",
     "output_type": "stream",
     "text": [
      "MSP-PODCAST_0061_0100, 4.000000, Arousal: 15.069306, Valence: -17.004197, Dominance: 27.594695\n",
      "MSP-PODCAST_0061_0100, 3.850000, Arousal: 15.143306, Valence: -17.488837, Dominance: 26.648271\n",
      "MSP-PODCAST_0061_0101, 4.000000, Arousal: 10.736821, Valence: -19.304752, Dominance: 26.076298\n",
      "MSP-PODCAST_0061_0101, 4.000000, Arousal: 10.332346, Valence: -18.912522, Dominance: 27.030500\n",
      "MSP-PODCAST_0061_0101, 4.000000, Arousal: 10.467581, Valence: -18.615628, Dominance: 28.003287\n",
      "MSP-PODCAST_0061_0101, 4.000000, Arousal: 10.892653, Valence: -18.534290, Dominance: 28.483033\n",
      "MSP-PODCAST_0061_0101, 4.000000, Arousal: 10.189942, Valence: -18.440702, Dominance: 28.430820\n",
      "MSP-PODCAST_0061_0101, 4.000000, Arousal: 10.215969, Valence: -17.832692, Dominance: 28.303110\n",
      "MSP-PODCAST_0061_0101, 4.000000, Arousal: 10.248524, Valence: -17.021449, Dominance: 28.600575\n",
      "MSP-PODCAST_0061_0101, 4.000000, Arousal: 10.337379, Valence: -16.055256, Dominance: 28.842861\n",
      "MSP-PODCAST_0061_0101, 4.000000, Arousal: 10.185735, Valence: -15.181652, Dominance: 28.891877\n",
      "MSP-PODCAST_0061_0101, 4.000000, Arousal: 10.379889, Valence: -14.515722, Dominance: 29.055105\n",
      "MSP-PODCAST_0061_0101, 4.000000, Arousal: 10.120102, Valence: -13.611903, Dominance: 28.958674\n",
      "MSP-PODCAST_0061_0101, 4.000000, Arousal: 9.103308, Valence: -12.729153, Dominance: 29.509550\n",
      "MSP-PODCAST_0061_0101, 4.000000, Arousal: 8.821954, Valence: -12.241217, Dominance: 30.431746\n"
     ]
    },
    {
     "name": "stderr",
     "output_type": "stream",
     "text": [
      "\r",
      " 10%|███▊                                    | 268/2783 [01:58<18:39,  2.25it/s]"
     ]
    },
    {
     "name": "stdout",
     "output_type": "stream",
     "text": [
      "MSP-PODCAST_0061_0101, 4.000000, Arousal: 8.322046, Valence: -11.981127, Dominance: 31.136454\n",
      "MSP-PODCAST_0061_0101, 4.000000, Arousal: 8.344294, Valence: -11.704163, Dominance: 31.860725\n",
      "MSP-PODCAST_0061_0101, 3.770000, Arousal: 8.531209, Valence: -11.321008, Dominance: 32.350477\n"
     ]
    },
    {
     "name": "stderr",
     "output_type": "stream",
     "text": [
      "\r",
      " 10%|███▊                                    | 269/2783 [01:58<19:54,  2.10it/s]"
     ]
    },
    {
     "name": "stdout",
     "output_type": "stream",
     "text": [
      "MSP-PODCAST_0061_0102, 4.000000, Arousal: 10.665346, Valence: -10.803992, Dominance: 32.051454\n",
      "MSP-PODCAST_0061_0102, 4.000000, Arousal: 12.358928, Valence: -10.922461, Dominance: 31.661200\n",
      "MSP-PODCAST_0061_0102, 4.000000, Arousal: 13.802551, Valence: -11.014457, Dominance: 31.246986\n",
      "MSP-PODCAST_0061_0102, 4.000000, Arousal: 15.479531, Valence: -11.354976, Dominance: 30.657397\n",
      "MSP-PODCAST_0061_0102, 4.000000, Arousal: 16.896078, Valence: -11.478828, Dominance: 30.022028\n",
      "MSP-PODCAST_0061_0102, 4.000000, Arousal: 17.763149, Valence: -11.433145, Dominance: 29.630212\n",
      "MSP-PODCAST_0061_0102, 4.000000, Arousal: 17.930455, Valence: -11.466351, Dominance: 29.683978\n",
      "MSP-PODCAST_0061_0102, 4.000000, Arousal: 18.031348, Valence: -11.448343, Dominance: 30.498742\n",
      "MSP-PODCAST_0061_0102, 4.000000, Arousal: 18.239410, Valence: -11.101807, Dominance: 31.298969\n",
      "MSP-PODCAST_0061_0102, 4.000000, Arousal: 18.129039, Valence: -10.838027, Dominance: 31.831037\n",
      "MSP-PODCAST_0061_0102, 4.000000, Arousal: 17.064238, Valence: -10.662739, Dominance: 32.054386\n",
      "MSP-PODCAST_0061_0102, 3.840000, Arousal: 16.395884, Valence: -10.293154, Dominance: 32.823285\n"
     ]
    },
    {
     "name": "stderr",
     "output_type": "stream",
     "text": [
      "\r",
      " 10%|███▉                                    | 270/2783 [01:59<18:58,  2.21it/s]"
     ]
    },
    {
     "name": "stdout",
     "output_type": "stream",
     "text": [
      "MSP-PODCAST_0061_0103, 4.000000, Arousal: 20.453652, Valence: -7.753218, Dominance: 25.794994\n",
      "MSP-PODCAST_0061_0103, 4.000000, Arousal: 21.363778, Valence: -7.732097, Dominance: 22.906875\n",
      "MSP-PODCAST_0061_0103, 4.000000, Arousal: 21.917320, Valence: -7.990127, Dominance: 20.122224\n",
      "MSP-PODCAST_0061_0103, 4.000000, Arousal: 22.132718, Valence: -8.543733, Dominance: 17.893370\n",
      "MSP-PODCAST_0061_0103, 4.000000, Arousal: 22.254161, Valence: -9.381168, Dominance: 15.764433\n",
      "MSP-PODCAST_0061_0103, 3.650000, Arousal: 22.518949, Valence: -10.078091, Dominance: 14.667037\n"
     ]
    },
    {
     "name": "stderr",
     "output_type": "stream",
     "text": [
      "\r",
      " 10%|███▉                                    | 271/2783 [01:59<16:55,  2.47it/s]"
     ]
    },
    {
     "name": "stdout",
     "output_type": "stream",
     "text": [
      "MSP-PODCAST_0061_0104, 4.000000, Arousal: 17.780848, Valence: -14.624419, Dominance: 10.660569\n",
      "MSP-PODCAST_0061_0104, 4.000000, Arousal: 17.816713, Valence: -14.274411, Dominance: 11.277483\n",
      "MSP-PODCAST_0061_0104, 3.770000, Arousal: 17.596523, Valence: -13.931942, Dominance: 12.437727\n"
     ]
    },
    {
     "name": "stderr",
     "output_type": "stream",
     "text": [
      "\r",
      " 10%|███▉                                    | 272/2783 [02:00<19:04,  2.19it/s]"
     ]
    },
    {
     "name": "stdout",
     "output_type": "stream",
     "text": [
      "MSP-PODCAST_0061_0105, 4.000000, Arousal: 9.920324, Valence: -14.616142, Dominance: 20.489936\n",
      "MSP-PODCAST_0061_0105, 4.000000, Arousal: 9.937584, Valence: -14.904323, Dominance: 20.983384\n",
      "MSP-PODCAST_0061_0105, 4.000000, Arousal: 9.988885, Valence: -15.178266, Dominance: 22.318736\n",
      "MSP-PODCAST_0061_0105, 4.000000, Arousal: 9.845743, Valence: -15.030697, Dominance: 23.132522\n",
      "MSP-PODCAST_0061_0105, 4.000000, Arousal: 10.042620, Valence: -14.957522, Dominance: 23.607943\n",
      "MSP-PODCAST_0061_0105, 4.000000, Arousal: 10.384454, Valence: -15.372865, Dominance: 24.202476\n",
      "MSP-PODCAST_0061_0105, 4.000000, Arousal: 11.177764, Valence: -15.623029, Dominance: 25.259254\n",
      "MSP-PODCAST_0061_0105, 4.000000, Arousal: 12.669111, Valence: -15.418091, Dominance: 25.999146\n",
      "MSP-PODCAST_0061_0105, 4.000000, Arousal: 14.001704, Valence: -15.572207, Dominance: 26.984919\n",
      "MSP-PODCAST_0061_0105, 4.000000, Arousal: 15.034451, Valence: -15.985784, Dominance: 28.043068\n",
      "MSP-PODCAST_0061_0105, 4.000000, Arousal: 16.175682, Valence: -16.750386, Dominance: 28.772094\n",
      "MSP-PODCAST_0061_0105, 3.520000, Arousal: 16.729996, Valence: -17.210505, Dominance: 28.943422\n"
     ]
    },
    {
     "name": "stderr",
     "output_type": "stream",
     "text": [
      "\r",
      " 10%|███▉                                    | 273/2783 [02:00<17:46,  2.35it/s]"
     ]
    },
    {
     "name": "stdout",
     "output_type": "stream",
     "text": [
      "MSP-PODCAST_0061_0106, 4.000000, Arousal: 17.534672, Valence: -16.420146, Dominance: 33.092705\n",
      "MSP-PODCAST_0061_0106, 4.000000, Arousal: 17.856742, Valence: -16.050482, Dominance: 33.872073\n",
      "MSP-PODCAST_0061_0106, 4.000000, Arousal: 18.705494, Valence: -15.550055, Dominance: 34.687488\n",
      "MSP-PODCAST_0061_0106, 4.000000, Arousal: 19.045074, Valence: -15.163909, Dominance: 35.255608\n",
      "MSP-PODCAST_0061_0106, 3.950000, Arousal: 19.205513, Valence: -15.137922, Dominance: 35.557417\n",
      "MSP-PODCAST_0061_0107, 4.000000, Arousal: 21.533170, Valence: -8.745793, Dominance: 28.614049\n",
      "MSP-PODCAST_0061_0107, 4.000000, Arousal: 22.450943, Valence: -7.699844, Dominance: 28.478502\n",
      "MSP-PODCAST_0061_0107, 4.000000, Arousal: 23.435056, Valence: -7.096026, Dominance: 29.117755\n",
      "MSP-PODCAST_0061_0107, 4.000000, Arousal: 23.645522, Valence: -7.446086, Dominance: 29.863594\n",
      "MSP-PODCAST_0061_0107, 4.000000, Arousal: 23.574412, Valence: -7.441272, Dominance: 30.177844\n",
      "MSP-PODCAST_0061_0107, 4.000000, Arousal: 23.285558, Valence: -7.535580, Dominance: 30.066553\n",
      "MSP-PODCAST_0061_0107, 4.000000, Arousal: 22.345211, Valence: -7.931872, Dominance: 29.788361\n",
      "MSP-PODCAST_0061_0107, 4.000000, Arousal: 21.119092, Valence: -8.499308, Dominance: 29.324883\n",
      "MSP-PODCAST_0061_0107, 4.000000, Arousal: 20.650223, Valence: -9.134117, Dominance: 29.212956\n",
      "MSP-PODCAST_0061_0107, 4.000000, Arousal: 20.026825, Valence: -10.139997, Dominance: 29.549646\n",
      "MSP-PODCAST_0061_0107, 4.000000, Arousal: 18.879300, Valence: -11.147492, Dominance: 29.361197\n",
      "MSP-PODCAST_0061_0107, 4.000000, Arousal: 17.870144, Valence: -11.505593, Dominance: 29.029863\n",
      "MSP-PODCAST_0061_0107, 4.000000, Arousal: 16.869540, Valence: -11.958096, Dominance: 29.203897\n",
      "MSP-PODCAST_0061_0107, 4.000000, Arousal: 16.320381, Valence: -12.372041, Dominance: 29.473319\n",
      "MSP-PODCAST_0061_0107, 4.000000, Arousal: 16.340402, Valence: -13.274667, Dominance: 29.740052\n",
      "MSP-PODCAST_0061_0107, 4.000000, Arousal: 16.053052, Valence: -14.219535, Dominance: 30.106284\n",
      "MSP-PODCAST_0061_0107, 4.000000, Arousal: 15.490795, Valence: -14.984532, Dominance: 29.951477\n",
      "MSP-PODCAST_0061_0107, 4.000000, Arousal: 14.738687, Valence: -15.536761, Dominance: 29.933860\n"
     ]
    },
    {
     "name": "stderr",
     "output_type": "stream",
     "text": [
      "\r",
      " 10%|███▉                                    | 274/2783 [02:01<22:37,  1.85it/s]"
     ]
    },
    {
     "name": "stdout",
     "output_type": "stream",
     "text": [
      "MSP-PODCAST_0061_0107, 4.000000, Arousal: 14.868805, Valence: -15.563301, Dominance: 30.187682\n",
      "MSP-PODCAST_0061_0107, 4.000000, Arousal: 14.793552, Valence: -15.411104, Dominance: 30.709038\n",
      "MSP-PODCAST_0061_0107, 3.880000, Arousal: 14.590025, Valence: -15.423448, Dominance: 30.748698\n"
     ]
    },
    {
     "name": "stderr",
     "output_type": "stream",
     "text": [
      "\r",
      " 10%|███▉                                    | 275/2783 [02:01<24:18,  1.72it/s]"
     ]
    },
    {
     "name": "stdout",
     "output_type": "stream",
     "text": [
      "MSP-PODCAST_0061_0108, 4.000000, Arousal: 16.812825, Valence: -16.234644, Dominance: 31.234517\n",
      "MSP-PODCAST_0061_0108, 4.000000, Arousal: 18.123811, Valence: -16.522914, Dominance: 31.202583\n",
      "MSP-PODCAST_0061_0108, 4.000000, Arousal: 18.591146, Valence: -16.879768, Dominance: 31.187347\n",
      "MSP-PODCAST_0061_0108, 4.000000, Arousal: 18.739136, Valence: -16.581725, Dominance: 30.822755\n",
      "MSP-PODCAST_0061_0108, 4.000000, Arousal: 18.523655, Valence: -16.341009, Dominance: 30.505074\n",
      "MSP-PODCAST_0061_0108, 4.000000, Arousal: 17.421465, Valence: -16.325659, Dominance: 30.208134\n",
      "MSP-PODCAST_0061_0108, 4.000000, Arousal: 15.992005, Valence: -16.958345, Dominance: 29.423017\n",
      "MSP-PODCAST_0061_0108, 4.000000, Arousal: 14.905775, Valence: -17.570750, Dominance: 28.952732\n",
      "MSP-PODCAST_0061_0108, 4.000000, Arousal: 13.796480, Valence: -17.654659, Dominance: 28.670222\n",
      "MSP-PODCAST_0061_0108, 4.000000, Arousal: 12.237013, Valence: -17.688883, Dominance: 28.935900\n",
      "MSP-PODCAST_0061_0108, 4.000000, Arousal: 11.335158, Valence: -17.450799, Dominance: 29.417558\n",
      "MSP-PODCAST_0061_0108, 4.000000, Arousal: 10.414996, Valence: -17.437183, Dominance: 30.389349\n",
      "MSP-PODCAST_0061_0108, 4.000000, Arousal: 10.136377, Valence: -17.620095, Dominance: 31.272005\n",
      "MSP-PODCAST_0061_0108, 4.000000, Arousal: 10.505434, Valence: -18.005742, Dominance: 32.140696\n",
      "MSP-PODCAST_0061_0108, 3.560000, Arousal: 10.944054, Valence: -18.101607, Dominance: 32.844354\n"
     ]
    },
    {
     "name": "stderr",
     "output_type": "stream",
     "text": [
      "\r",
      " 10%|███▉                                    | 276/2783 [02:02<24:32,  1.70it/s]"
     ]
    },
    {
     "name": "stdout",
     "output_type": "stream",
     "text": [
      "MSP-PODCAST_0061_0109, 4.000000, Arousal: 9.916417, Valence: -16.433306, Dominance: 27.931554\n",
      "MSP-PODCAST_0061_0109, 4.000000, Arousal: 10.373522, Valence: -15.718681, Dominance: 27.540099\n",
      "MSP-PODCAST_0061_0109, 4.000000, Arousal: 10.524755, Valence: -14.905909, Dominance: 27.559237\n",
      "MSP-PODCAST_0061_0109, 4.000000, Arousal: 10.255416, Valence: -14.338187, Dominance: 27.946522\n",
      "MSP-PODCAST_0061_0109, 4.000000, Arousal: 9.183003, Valence: -14.334442, Dominance: 28.546114\n",
      "MSP-PODCAST_0061_0109, 4.000000, Arousal: 8.305995, Valence: -14.462033, Dominance: 28.558739\n",
      "MSP-PODCAST_0061_0109, 4.000000, Arousal: 8.105988, Valence: -14.389320, Dominance: 28.332264\n",
      "MSP-PODCAST_0061_0109, 4.000000, Arousal: 7.991631, Valence: -14.363658, Dominance: 28.589140\n",
      "MSP-PODCAST_0061_0109, 4.000000, Arousal: 7.533967, Valence: -14.397678, Dominance: 29.401675\n",
      "MSP-PODCAST_0061_0109, 4.000000, Arousal: 7.409591, Valence: -14.403420, Dominance: 30.143664\n",
      "MSP-PODCAST_0061_0109, 4.000000, Arousal: 7.332835, Valence: -14.433268, Dominance: 30.854910\n",
      "MSP-PODCAST_0061_0109, 4.000000, Arousal: 6.818544, Valence: -14.382562, Dominance: 30.835642\n",
      "MSP-PODCAST_0061_0109, 4.000000, Arousal: 7.254541, Valence: -14.149004, Dominance: 31.163811\n",
      "MSP-PODCAST_0061_0109, 3.610000, Arousal: 7.078504, Valence: -14.119866, Dominance: 31.922421\n"
     ]
    },
    {
     "name": "stderr",
     "output_type": "stream",
     "text": [
      "\r",
      " 10%|███▉                                    | 277/2783 [02:02<19:31,  2.14it/s]"
     ]
    },
    {
     "name": "stdout",
     "output_type": "stream",
     "text": [
      "MSP-PODCAST_0061_0110, 2.420000, Arousal: 2.431718, Valence: -16.424195, Dominance: 29.834211\n"
     ]
    },
    {
     "name": "stderr",
     "output_type": "stream",
     "text": [
      "\r",
      " 10%|███▉                                    | 278/2783 [02:02<16:21,  2.55it/s]"
     ]
    },
    {
     "name": "stdout",
     "output_type": "stream",
     "text": [
      "MSP-PODCAST_0061_0111, 3.900000, Arousal: 2.875516, Valence: -14.659135, Dominance: 35.112864\n"
     ]
    },
    {
     "name": "stderr",
     "output_type": "stream",
     "text": [
      " 10%|████                                    | 280/2783 [02:03<11:28,  3.63it/s]"
     ]
    },
    {
     "name": "stdout",
     "output_type": "stream",
     "text": [
      "MSP-PODCAST_0061_0112, 3.480000, Arousal: 1.830925, Valence: -15.312913, Dominance: 38.310225\n",
      "MSP-PODCAST_0061_0113, 1.360000, Arousal: -0.334938, Valence: -15.628129, Dominance: 36.774568\n"
     ]
    },
    {
     "name": "stderr",
     "output_type": "stream",
     "text": [
      "\r",
      " 10%|████                                    | 281/2783 [02:03<13:14,  3.15it/s]"
     ]
    },
    {
     "name": "stdout",
     "output_type": "stream",
     "text": [
      "MSP-PODCAST_0061_0114, 4.000000, Arousal: 9.355804, Valence: -12.821700, Dominance: 41.648701\n",
      "MSP-PODCAST_0061_0114, 4.000000, Arousal: 10.241792, Valence: -12.076286, Dominance: 42.303900\n",
      "MSP-PODCAST_0061_0114, 4.000000, Arousal: 11.466330, Valence: -11.134113, Dominance: 42.447596\n",
      "MSP-PODCAST_0061_0114, 4.000000, Arousal: 13.098411, Valence: -10.734876, Dominance: 42.778603\n",
      "MSP-PODCAST_0061_0114, 4.000000, Arousal: 14.436350, Valence: -11.054480, Dominance: 42.878137\n",
      "MSP-PODCAST_0061_0114, 4.000000, Arousal: 15.346145, Valence: -11.009798, Dominance: 42.195433\n",
      "MSP-PODCAST_0061_0114, 3.840000, Arousal: 16.439531, Valence: -10.978052, Dominance: 41.200963\n"
     ]
    },
    {
     "name": "stderr",
     "output_type": "stream",
     "text": [
      "\r",
      " 10%|████                                    | 282/2783 [02:03<13:21,  3.12it/s]"
     ]
    },
    {
     "name": "stdout",
     "output_type": "stream",
     "text": [
      "MSP-PODCAST_0061_0115, 4.000000, Arousal: 21.018057, Valence: -12.655806, Dominance: 37.120323\n",
      "MSP-PODCAST_0061_0115, 4.000000, Arousal: 21.523568, Valence: -13.248134, Dominance: 36.797080\n",
      "MSP-PODCAST_0061_0115, 3.760000, Arousal: 22.000307, Valence: -13.571979, Dominance: 36.844728\n"
     ]
    },
    {
     "name": "stderr",
     "output_type": "stream",
     "text": [
      "\r",
      " 10%|████                                    | 283/2783 [02:04<14:58,  2.78it/s]"
     ]
    },
    {
     "name": "stdout",
     "output_type": "stream",
     "text": [
      "MSP-PODCAST_0061_0116, 4.000000, Arousal: 21.398586, Valence: -12.191283, Dominance: 35.712219\n",
      "MSP-PODCAST_0061_0116, 4.000000, Arousal: 22.382475, Valence: -11.594926, Dominance: 35.452587\n",
      "MSP-PODCAST_0061_0116, 4.000000, Arousal: 22.637850, Valence: -11.083808, Dominance: 35.194205\n",
      "MSP-PODCAST_0061_0116, 4.000000, Arousal: 22.270554, Valence: -10.806207, Dominance: 34.618026\n",
      "MSP-PODCAST_0061_0116, 4.000000, Arousal: 22.202550, Valence: -11.067726, Dominance: 34.500060\n",
      "MSP-PODCAST_0061_0116, 4.000000, Arousal: 22.500446, Valence: -11.718551, Dominance: 34.375676\n",
      "MSP-PODCAST_0061_0116, 4.000000, Arousal: 22.503200, Valence: -12.219792, Dominance: 34.396237\n",
      "MSP-PODCAST_0061_0116, 4.000000, Arousal: 22.027729, Valence: -12.172119, Dominance: 34.038715\n",
      "MSP-PODCAST_0061_0116, 4.000000, Arousal: 21.679152, Valence: -12.213711, Dominance: 33.838499\n",
      "MSP-PODCAST_0061_0116, 3.630000, Arousal: 21.016848, Valence: -12.479297, Dominance: 33.929447\n"
     ]
    },
    {
     "name": "stderr",
     "output_type": "stream",
     "text": [
      "\r",
      " 10%|████                                    | 284/2783 [02:04<17:04,  2.44it/s]"
     ]
    },
    {
     "name": "stdout",
     "output_type": "stream",
     "text": [
      "MSP-PODCAST_0061_0117, 4.000000, Arousal: 19.007716, Valence: -11.907196, Dominance: 37.666356\n",
      "MSP-PODCAST_0061_0117, 4.000000, Arousal: 18.663858, Valence: -11.431554, Dominance: 37.778475\n",
      "MSP-PODCAST_0061_0117, 4.000000, Arousal: 18.585690, Valence: -11.230650, Dominance: 38.049823\n",
      "MSP-PODCAST_0061_0117, 4.000000, Arousal: 18.443651, Valence: -11.465033, Dominance: 37.999431\n",
      "MSP-PODCAST_0061_0117, 4.000000, Arousal: 18.079047, Valence: -11.789448, Dominance: 37.904864\n",
      "MSP-PODCAST_0061_0117, 4.000000, Arousal: 18.112740, Valence: -12.439990, Dominance: 37.608514\n",
      "MSP-PODCAST_0061_0117, 4.000000, Arousal: 18.367346, Valence: -13.303586, Dominance: 37.485949\n",
      "MSP-PODCAST_0061_0117, 4.000000, Arousal: 18.288953, Valence: -14.781488, Dominance: 37.360265\n",
      "MSP-PODCAST_0061_0117, 4.000000, Arousal: 18.165457, Valence: -15.907362, Dominance: 36.706337\n",
      "MSP-PODCAST_0061_0117, 3.970000, Arousal: 18.081428, Valence: -16.756441, Dominance: 36.031179\n"
     ]
    },
    {
     "name": "stderr",
     "output_type": "stream",
     "text": [
      "\r",
      " 10%|████                                    | 285/2783 [02:05<16:45,  2.48it/s]"
     ]
    },
    {
     "name": "stdout",
     "output_type": "stream",
     "text": [
      "MSP-PODCAST_0061_0118, 4.000000, Arousal: 18.296396, Valence: -12.442739, Dominance: 34.109149\n",
      "MSP-PODCAST_0061_0118, 4.000000, Arousal: 19.162513, Valence: -11.922857, Dominance: 34.313076\n",
      "MSP-PODCAST_0061_0118, 4.000000, Arousal: 20.968106, Valence: -11.790003, Dominance: 34.244906\n",
      "MSP-PODCAST_0061_0118, 4.000000, Arousal: 21.306363, Valence: -11.294631, Dominance: 34.456785\n",
      "MSP-PODCAST_0061_0118, 4.000000, Arousal: 21.896522, Valence: -10.834168, Dominance: 34.593494\n",
      "MSP-PODCAST_0061_0118, 3.800000, Arousal: 21.674262, Valence: -10.427694, Dominance: 34.429977\n"
     ]
    },
    {
     "name": "stderr",
     "output_type": "stream",
     "text": [
      "\r",
      " 10%|████                                    | 286/2783 [02:05<16:31,  2.52it/s]"
     ]
    },
    {
     "name": "stdout",
     "output_type": "stream",
     "text": [
      "MSP-PODCAST_0061_0119, 4.000000, Arousal: 24.012543, Valence: -8.644407, Dominance: 33.948591\n",
      "MSP-PODCAST_0061_0119, 4.000000, Arousal: 25.584175, Valence: -8.243618, Dominance: 34.347857\n",
      "MSP-PODCAST_0061_0119, 4.000000, Arousal: 26.340051, Valence: -7.998445, Dominance: 34.938684\n",
      "MSP-PODCAST_0061_0119, 4.000000, Arousal: 27.147861, Valence: -7.726055, Dominance: 35.268400\n",
      "MSP-PODCAST_0061_0119, 4.000000, Arousal: 28.003704, Valence: -7.499177, Dominance: 36.084136\n",
      "MSP-PODCAST_0061_0119, 4.000000, Arousal: 28.472449, Valence: -7.412178, Dominance: 35.759833\n",
      "MSP-PODCAST_0061_0119, 3.800000, Arousal: 28.198174, Valence: -7.648713, Dominance: 35.501907\n"
     ]
    },
    {
     "name": "stderr",
     "output_type": "stream",
     "text": [
      "\r",
      " 10%|████▏                                   | 287/2783 [02:05<13:36,  3.06it/s]"
     ]
    },
    {
     "name": "stdout",
     "output_type": "stream",
     "text": [
      "MSP-PODCAST_0061_0120, 2.290000, Arousal: 27.271486, Valence: -7.382393, Dominance: 36.528060\n"
     ]
    },
    {
     "name": "stderr",
     "output_type": "stream",
     "text": [
      "\r",
      " 10%|████▏                                   | 288/2783 [02:06<15:48,  2.63it/s]"
     ]
    },
    {
     "name": "stdout",
     "output_type": "stream",
     "text": [
      "MSP-PODCAST_0061_0121, 4.000000, Arousal: 26.777162, Valence: -10.581474, Dominance: 37.802569\n",
      "MSP-PODCAST_0061_0121, 4.000000, Arousal: 27.502291, Valence: -10.660679, Dominance: 37.487401\n",
      "MSP-PODCAST_0061_0121, 4.000000, Arousal: 28.472943, Valence: -10.931974, Dominance: 37.059135\n",
      "MSP-PODCAST_0061_0121, 4.000000, Arousal: 28.255832, Valence: -10.610692, Dominance: 36.721544\n",
      "MSP-PODCAST_0061_0121, 4.000000, Arousal: 27.875931, Valence: -11.082548, Dominance: 35.839579\n",
      "MSP-PODCAST_0061_0121, 4.000000, Arousal: 28.567872, Valence: -11.385032, Dominance: 34.293603\n",
      "MSP-PODCAST_0061_0121, 4.000000, Arousal: 29.500030, Valence: -11.774709, Dominance: 33.905039\n",
      "MSP-PODCAST_0061_0121, 4.000000, Arousal: 30.432286, Valence: -12.166539, Dominance: 33.907324\n",
      "MSP-PODCAST_0061_0121, 4.000000, Arousal: 30.327760, Valence: -12.561393, Dominance: 34.493501\n",
      "MSP-PODCAST_0061_0121, 3.960000, Arousal: 29.659090, Valence: -12.922322, Dominance: 35.086653\n"
     ]
    },
    {
     "name": "stderr",
     "output_type": "stream",
     "text": [
      "\r",
      " 10%|████▏                                   | 289/2783 [02:06<18:29,  2.25it/s]"
     ]
    },
    {
     "name": "stdout",
     "output_type": "stream",
     "text": [
      "MSP-PODCAST_0061_0122, 4.000000, Arousal: 17.638003, Valence: -14.228941, Dominance: 35.229743\n",
      "MSP-PODCAST_0061_0122, 4.000000, Arousal: 16.789975, Valence: -14.337085, Dominance: 35.370913\n",
      "MSP-PODCAST_0061_0122, 4.000000, Arousal: 15.847931, Valence: -14.525500, Dominance: 35.543843\n",
      "MSP-PODCAST_0061_0122, 4.000000, Arousal: 14.674568, Valence: -14.773358, Dominance: 35.560091\n",
      "MSP-PODCAST_0061_0122, 4.000000, Arousal: 13.767394, Valence: -15.333305, Dominance: 36.098044\n",
      "MSP-PODCAST_0061_0122, 4.000000, Arousal: 12.999650, Valence: -15.898982, Dominance: 36.800462\n",
      "MSP-PODCAST_0061_0122, 4.000000, Arousal: 12.499888, Valence: -16.364951, Dominance: 37.489604\n",
      "MSP-PODCAST_0061_0122, 4.000000, Arousal: 12.421511, Valence: -16.616843, Dominance: 38.060320\n",
      "MSP-PODCAST_0061_0122, 4.000000, Arousal: 11.638118, Valence: -16.937554, Dominance: 39.050883\n",
      "MSP-PODCAST_0061_0122, 4.000000, Arousal: 10.846606, Valence: -17.727438, Dominance: 39.560392\n",
      "MSP-PODCAST_0061_0122, 4.000000, Arousal: 10.952880, Valence: -18.362713, Dominance: 39.863718\n",
      "MSP-PODCAST_0061_0122, 4.000000, Arousal: 11.071712, Valence: -18.876102, Dominance: 40.181714\n",
      "MSP-PODCAST_0061_0122, 3.980000, Arousal: 11.215177, Valence: -18.754063, Dominance: 40.578956\n"
     ]
    },
    {
     "name": "stderr",
     "output_type": "stream",
     "text": [
      " 10%|████▏                                   | 291/2783 [02:07<13:02,  3.18it/s]"
     ]
    },
    {
     "name": "stdout",
     "output_type": "stream",
     "text": [
      "MSP-PODCAST_0061_0123, 3.900000, Arousal: 9.067899, Valence: -15.509160, Dominance: 40.508276\n",
      "MSP-PODCAST_0061_0124, 2.180000, Arousal: 5.497887, Valence: -9.258766, Dominance: 31.420794\n"
     ]
    },
    {
     "name": "stderr",
     "output_type": "stream",
     "text": [
      "\r",
      " 10%|████▏                                   | 292/2783 [02:07<12:38,  3.28it/s]"
     ]
    },
    {
     "name": "stdout",
     "output_type": "stream",
     "text": [
      "MSP-PODCAST_0061_0125, 4.000000, Arousal: 15.344969, Valence: -1.146597, Dominance: 30.541756\n",
      "MSP-PODCAST_0061_0125, 4.000000, Arousal: 15.579758, Valence: -0.606861, Dominance: 31.151290\n",
      "MSP-PODCAST_0061_0125, 3.690000, Arousal: 15.690174, Valence: -0.534511, Dominance: 31.687756\n"
     ]
    },
    {
     "name": "stderr",
     "output_type": "stream",
     "text": [
      "\r",
      " 11%|████▏                                   | 293/2783 [02:07<11:42,  3.54it/s]"
     ]
    },
    {
     "name": "stdout",
     "output_type": "stream",
     "text": [
      "MSP-PODCAST_0061_0126, 3.470000, Arousal: 8.541111, Valence: -3.020166, Dominance: 26.571480\n"
     ]
    },
    {
     "name": "stderr",
     "output_type": "stream",
     "text": [
      "\r",
      " 11%|████▏                                   | 294/2783 [02:08<14:50,  2.80it/s]"
     ]
    },
    {
     "name": "stdout",
     "output_type": "stream",
     "text": [
      "MSP-PODCAST_0079_0630, 4.000000, Arousal: 5.796235, Valence: -6.521814, Dominance: 4.751498\n",
      "MSP-PODCAST_0079_0630, 4.000000, Arousal: 7.973546, Valence: -6.039353, Dominance: 7.326571\n",
      "MSP-PODCAST_0079_0630, 4.000000, Arousal: 11.557253, Valence: -4.197668, Dominance: 10.511996\n",
      "MSP-PODCAST_0079_0630, 4.000000, Arousal: 15.064888, Valence: -1.699560, Dominance: 13.064918\n",
      "MSP-PODCAST_0079_0630, 4.000000, Arousal: 17.784444, Valence: 1.601096, Dominance: 15.284032\n",
      "MSP-PODCAST_0079_0630, 4.000000, Arousal: 20.943486, Valence: 5.095827, Dominance: 17.809881\n",
      "MSP-PODCAST_0079_0630, 4.000000, Arousal: 23.059804, Valence: 9.282872, Dominance: 20.463151\n",
      "MSP-PODCAST_0079_0630, 4.000000, Arousal: 24.141687, Valence: 13.918648, Dominance: 23.248112\n",
      "MSP-PODCAST_0079_0630, 4.000000, Arousal: 25.497590, Valence: 18.799136, Dominance: 24.722283\n",
      "MSP-PODCAST_0079_0630, 4.000000, Arousal: 26.673856, Valence: 22.433911, Dominance: 25.152326\n",
      "MSP-PODCAST_0079_0630, 3.670000, Arousal: 26.765104, Valence: 24.214373, Dominance: 24.928302\n"
     ]
    },
    {
     "name": "stderr",
     "output_type": "stream",
     "text": [
      "\r",
      " 11%|████▏                                   | 295/2783 [02:08<15:38,  2.65it/s]"
     ]
    },
    {
     "name": "stdout",
     "output_type": "stream",
     "text": [
      "MSP-PODCAST_0079_0631, 4.000000, Arousal: 19.139442, Valence: 17.203806, Dominance: 11.223625\n",
      "MSP-PODCAST_0079_0631, 4.000000, Arousal: 16.948532, Valence: 16.050088, Dominance: 9.922134\n",
      "MSP-PODCAST_0079_0631, 4.000000, Arousal: 14.906812, Valence: 14.942077, Dominance: 9.211735\n",
      "MSP-PODCAST_0079_0631, 4.000000, Arousal: 12.686071, Valence: 13.932919, Dominance: 8.265974\n",
      "MSP-PODCAST_0079_0631, 4.000000, Arousal: 10.703389, Valence: 13.197891, Dominance: 8.511362\n",
      "MSP-PODCAST_0079_0631, 4.000000, Arousal: 8.916749, Valence: 12.705972, Dominance: 9.451278\n",
      "MSP-PODCAST_0079_0631, 4.000000, Arousal: 7.893554, Valence: 12.270389, Dominance: 10.974299\n",
      "MSP-PODCAST_0079_0631, 3.640000, Arousal: 7.612334, Valence: 12.078282, Dominance: 11.838134\n"
     ]
    },
    {
     "name": "stderr",
     "output_type": "stream",
     "text": [
      "\r",
      " 11%|████▎                                   | 296/2783 [02:09<15:11,  2.73it/s]"
     ]
    },
    {
     "name": "stdout",
     "output_type": "stream",
     "text": [
      "MSP-PODCAST_0079_0632, 4.000000, Arousal: 4.182213, Valence: 8.838942, Dominance: 6.679524\n",
      "MSP-PODCAST_0079_0632, 4.000000, Arousal: 4.324782, Valence: 8.798391, Dominance: 7.288576\n",
      "MSP-PODCAST_0079_0632, 3.910000, Arousal: 4.413595, Valence: 9.268017, Dominance: 7.937411\n"
     ]
    },
    {
     "name": "stderr",
     "output_type": "stream",
     "text": [
      "\r",
      " 11%|████▎                                   | 297/2783 [02:09<14:38,  2.83it/s]"
     ]
    },
    {
     "name": "stdout",
     "output_type": "stream",
     "text": [
      "MSP-PODCAST_0079_0633, 4.000000, Arousal: 9.275350, Valence: 13.654449, Dominance: 17.425775\n",
      "MSP-PODCAST_0079_0633, 4.000000, Arousal: 10.081252, Valence: 14.650240, Dominance: 19.911597\n",
      "MSP-PODCAST_0079_0633, 3.660000, Arousal: 10.715030, Valence: 15.012602, Dominance: 21.410754\n"
     ]
    },
    {
     "name": "stderr",
     "output_type": "stream",
     "text": [
      "\r",
      " 11%|████▎                                   | 298/2783 [02:09<13:15,  3.12it/s]"
     ]
    },
    {
     "name": "stdout",
     "output_type": "stream",
     "text": [
      "MSP-PODCAST_0079_0634, 3.930000, Arousal: 12.545022, Valence: 15.774628, Dominance: 22.776397\n"
     ]
    },
    {
     "name": "stderr",
     "output_type": "stream",
     "text": [
      "\r",
      " 11%|████▎                                   | 299/2783 [02:09<12:26,  3.33it/s]"
     ]
    },
    {
     "name": "stdout",
     "output_type": "stream",
     "text": [
      "MSP-PODCAST_0079_0635, 4.000000, Arousal: 6.235040, Valence: 13.941990, Dominance: 23.257204\n",
      "MSP-PODCAST_0079_0635, 3.520000, Arousal: 6.164435, Valence: 14.345098, Dominance: 23.438951\n"
     ]
    },
    {
     "name": "stderr",
     "output_type": "stream",
     "text": [
      "\r",
      " 11%|████▎                                   | 300/2783 [02:10<13:37,  3.04it/s]"
     ]
    },
    {
     "name": "stdout",
     "output_type": "stream",
     "text": [
      "MSP-PODCAST_0079_0636, 4.000000, Arousal: 11.160171, Valence: 14.231901, Dominance: 24.920419\n",
      "MSP-PODCAST_0079_0636, 4.000000, Arousal: 11.475228, Valence: 13.056114, Dominance: 23.763439\n",
      "MSP-PODCAST_0079_0636, 4.000000, Arousal: 12.077830, Valence: 11.595736, Dominance: 22.844809\n",
      "MSP-PODCAST_0079_0636, 4.000000, Arousal: 12.260456, Valence: 10.310521, Dominance: 21.272350\n",
      "MSP-PODCAST_0079_0636, 4.000000, Arousal: 11.359205, Valence: 10.240498, Dominance: 19.743833\n",
      "MSP-PODCAST_0079_0636, 3.690000, Arousal: 10.658081, Valence: 10.728639, Dominance: 19.034710\n"
     ]
    },
    {
     "name": "stderr",
     "output_type": "stream",
     "text": [
      "\r",
      " 11%|████▎                                   | 301/2783 [02:10<13:06,  3.16it/s]"
     ]
    },
    {
     "name": "stdout",
     "output_type": "stream",
     "text": [
      "MSP-PODCAST_0079_0637, 4.000000, Arousal: 3.880614, Valence: 13.432597, Dominance: 18.857758\n",
      "MSP-PODCAST_0079_0637, 4.000000, Arousal: 4.756867, Valence: 12.744508, Dominance: 18.773570\n",
      "MSP-PODCAST_0079_0637, 3.600000, Arousal: 5.451209, Valence: 12.365279, Dominance: 18.518631\n"
     ]
    },
    {
     "name": "stderr",
     "output_type": "stream",
     "text": [
      "\r",
      " 11%|████▎                                   | 302/2783 [02:11<16:43,  2.47it/s]"
     ]
    },
    {
     "name": "stdout",
     "output_type": "stream",
     "text": [
      "MSP-PODCAST_0079_0638, 4.000000, Arousal: 3.897314, Valence: 13.617647, Dominance: 24.812598\n",
      "MSP-PODCAST_0079_0638, 4.000000, Arousal: 4.764244, Valence: 13.471311, Dominance: 25.268532\n",
      "MSP-PODCAST_0079_0638, 4.000000, Arousal: 5.801682, Valence: 13.728717, Dominance: 25.707635\n",
      "MSP-PODCAST_0079_0638, 4.000000, Arousal: 7.691293, Valence: 14.162459, Dominance: 25.361057\n",
      "MSP-PODCAST_0079_0638, 4.000000, Arousal: 9.062291, Valence: 14.407618, Dominance: 24.770062\n",
      "MSP-PODCAST_0079_0638, 4.000000, Arousal: 9.928606, Valence: 15.042189, Dominance: 24.990692\n",
      "MSP-PODCAST_0079_0638, 4.000000, Arousal: 10.525614, Valence: 15.847956, Dominance: 24.437161\n",
      "MSP-PODCAST_0079_0638, 4.000000, Arousal: 10.565588, Valence: 16.733073, Dominance: 23.341893\n",
      "MSP-PODCAST_0079_0638, 4.000000, Arousal: 11.036419, Valence: 17.697294, Dominance: 22.859450\n",
      "MSP-PODCAST_0079_0638, 4.000000, Arousal: 11.411222, Valence: 19.075920, Dominance: 22.843689\n",
      "MSP-PODCAST_0079_0638, 4.000000, Arousal: 11.645577, Valence: 19.443036, Dominance: 23.446487\n",
      "MSP-PODCAST_0079_0638, 3.650000, Arousal: 11.243448, Valence: 19.508751, Dominance: 24.206138\n"
     ]
    },
    {
     "name": "stderr",
     "output_type": "stream",
     "text": [
      "\r",
      " 11%|████▎                                   | 303/2783 [02:11<19:33,  2.11it/s]"
     ]
    },
    {
     "name": "stdout",
     "output_type": "stream",
     "text": [
      "MSP-PODCAST_0079_0639, 4.000000, Arousal: 11.455610, Valence: 18.504032, Dominance: 24.792104\n",
      "MSP-PODCAST_0079_0639, 4.000000, Arousal: 10.671410, Valence: 17.619128, Dominance: 25.229538\n",
      "MSP-PODCAST_0079_0639, 4.000000, Arousal: 9.689777, Valence: 17.236414, Dominance: 25.639989\n",
      "MSP-PODCAST_0079_0639, 4.000000, Arousal: 8.502873, Valence: 16.860509, Dominance: 25.961906\n",
      "MSP-PODCAST_0079_0639, 4.000000, Arousal: 7.849628, Valence: 16.009400, Dominance: 26.572719\n",
      "MSP-PODCAST_0079_0639, 4.000000, Arousal: 7.496547, Valence: 14.577293, Dominance: 25.824286\n",
      "MSP-PODCAST_0079_0639, 4.000000, Arousal: 6.663479, Valence: 13.211019, Dominance: 24.902566\n",
      "MSP-PODCAST_0079_0639, 4.000000, Arousal: 5.252576, Valence: 12.236767, Dominance: 23.242190\n",
      "MSP-PODCAST_0079_0639, 4.000000, Arousal: 3.868464, Valence: 12.021756, Dominance: 21.696231\n",
      "MSP-PODCAST_0079_0639, 4.000000, Arousal: 3.217927, Valence: 12.217147, Dominance: 21.053734\n",
      "MSP-PODCAST_0079_0639, 4.000000, Arousal: 2.580398, Valence: 12.280384, Dominance: 21.024280\n",
      "MSP-PODCAST_0079_0639, 4.000000, Arousal: 2.385838, Valence: 12.800081, Dominance: 20.624185\n",
      "MSP-PODCAST_0079_0639, 4.000000, Arousal: 1.714730, Valence: 12.779244, Dominance: 19.378381\n",
      "MSP-PODCAST_0079_0639, 4.000000, Arousal: 1.100476, Valence: 12.743707, Dominance: 19.317169\n",
      "MSP-PODCAST_0079_0639, 3.800000, Arousal: 0.803054, Valence: 13.293504, Dominance: 19.793914\n"
     ]
    },
    {
     "name": "stderr",
     "output_type": "stream",
     "text": [
      "\r",
      " 11%|████▎                                   | 304/2783 [02:12<17:26,  2.37it/s]"
     ]
    },
    {
     "name": "stdout",
     "output_type": "stream",
     "text": [
      "MSP-PODCAST_0079_0640, 4.000000, Arousal: -0.183806, Valence: 13.233462, Dominance: 18.132929\n",
      "MSP-PODCAST_0079_0640, 4.000000, Arousal: -0.002420, Valence: 12.932505, Dominance: 19.194332\n",
      "MSP-PODCAST_0079_0640, 4.000000, Arousal: 0.239703, Valence: 12.721839, Dominance: 20.913871\n",
      "MSP-PODCAST_0079_0640, 3.700000, Arousal: 0.647338, Valence: 12.616129, Dominance: 22.349603\n"
     ]
    },
    {
     "name": "stderr",
     "output_type": "stream",
     "text": [
      "\r",
      " 11%|████▍                                   | 305/2783 [02:12<15:43,  2.63it/s]"
     ]
    },
    {
     "name": "stdout",
     "output_type": "stream",
     "text": [
      "MSP-PODCAST_0079_0641, 4.000000, Arousal: 8.355995, Valence: 3.852618, Dominance: 26.220546\n",
      "MSP-PODCAST_0079_0641, 4.000000, Arousal: 7.353131, Valence: 2.616569, Dominance: 26.263203\n",
      "MSP-PODCAST_0079_0641, 4.000000, Arousal: 6.081926, Valence: 1.998731, Dominance: 26.149774\n",
      "MSP-PODCAST_0079_0641, 3.640000, Arousal: 5.205301, Valence: 1.042329, Dominance: 26.091550\n"
     ]
    },
    {
     "name": "stderr",
     "output_type": "stream",
     "text": [
      "\r",
      " 11%|████▍                                   | 306/2783 [02:12<15:06,  2.73it/s]"
     ]
    },
    {
     "name": "stdout",
     "output_type": "stream",
     "text": [
      "MSP-PODCAST_0079_0642, 4.000000, Arousal: 2.707864, Valence: -4.905437, Dominance: 21.744710\n",
      "MSP-PODCAST_0079_0642, 4.000000, Arousal: 3.645141, Valence: -5.532865, Dominance: 20.663720\n",
      "MSP-PODCAST_0079_0642, 4.000000, Arousal: 4.522338, Valence: -6.900590, Dominance: 19.604293\n",
      "MSP-PODCAST_0079_0642, 3.970000, Arousal: 5.439862, Valence: -8.669402, Dominance: 18.559164\n"
     ]
    },
    {
     "name": "stderr",
     "output_type": "stream",
     "text": [
      "\r",
      " 11%|████▍                                   | 307/2783 [02:13<12:54,  3.20it/s]"
     ]
    },
    {
     "name": "stdout",
     "output_type": "stream",
     "text": [
      "MSP-PODCAST_0079_0643, 2.900000, Arousal: 11.446451, Valence: -11.427423, Dominance: 20.313291\n"
     ]
    },
    {
     "name": "stderr",
     "output_type": "stream",
     "text": [
      "\r",
      " 11%|████▍                                   | 308/2783 [02:13<15:59,  2.58it/s]"
     ]
    },
    {
     "name": "stdout",
     "output_type": "stream",
     "text": [
      "MSP-PODCAST_0079_0644, 4.000000, Arousal: 14.679166, Valence: 5.406362, Dominance: 22.774241\n",
      "MSP-PODCAST_0079_0644, 4.000000, Arousal: 13.269787, Valence: 4.916997, Dominance: 21.647694\n",
      "MSP-PODCAST_0079_0644, 4.000000, Arousal: 12.438354, Valence: 4.264698, Dominance: 20.117362\n",
      "MSP-PODCAST_0079_0644, 4.000000, Arousal: 11.884568, Valence: 3.181836, Dominance: 18.088552\n",
      "MSP-PODCAST_0079_0644, 4.000000, Arousal: 11.579004, Valence: 2.463120, Dominance: 17.335774\n",
      "MSP-PODCAST_0079_0644, 4.000000, Arousal: 11.374352, Valence: 1.551392, Dominance: 17.244559\n",
      "MSP-PODCAST_0079_0644, 4.000000, Arousal: 10.829107, Valence: 0.583001, Dominance: 17.092209\n",
      "MSP-PODCAST_0079_0644, 4.000000, Arousal: 10.506220, Valence: -0.365853, Dominance: 17.852959\n",
      "MSP-PODCAST_0079_0644, 4.000000, Arousal: 9.908235, Valence: -1.330685, Dominance: 18.302056\n",
      "MSP-PODCAST_0079_0644, 4.000000, Arousal: 10.497060, Valence: -2.435922, Dominance: 18.909928\n",
      "MSP-PODCAST_0079_0644, 4.000000, Arousal: 10.850946, Valence: -3.875150, Dominance: 20.810281\n",
      "MSP-PODCAST_0079_0644, 3.530000, Arousal: 10.785254, Valence: -4.423821, Dominance: 21.740919\n"
     ]
    },
    {
     "name": "stderr",
     "output_type": "stream",
     "text": [
      "\r",
      " 11%|████▍                                   | 309/2783 [02:13<16:05,  2.56it/s]"
     ]
    },
    {
     "name": "stdout",
     "output_type": "stream",
     "text": [
      "MSP-PODCAST_0079_0645, 4.000000, Arousal: 16.668941, Valence: -12.136834, Dominance: 27.986409\n",
      "MSP-PODCAST_0079_0645, 4.000000, Arousal: 15.813983, Valence: -12.057354, Dominance: 28.132425\n",
      "MSP-PODCAST_0079_0645, 4.000000, Arousal: 14.889585, Valence: -12.384684, Dominance: 28.217061\n",
      "MSP-PODCAST_0079_0645, 4.000000, Arousal: 13.999693, Valence: -13.631046, Dominance: 28.556967\n",
      "MSP-PODCAST_0079_0645, 4.000000, Arousal: 13.141803, Valence: -14.634231, Dominance: 28.288150\n",
      "MSP-PODCAST_0079_0645, 4.000000, Arousal: 11.958960, Valence: -14.897516, Dominance: 27.333114\n",
      "MSP-PODCAST_0079_0645, 4.000000, Arousal: 11.459930, Valence: -14.116911, Dominance: 26.783957\n",
      "MSP-PODCAST_0079_0645, 3.660000, Arousal: 10.846215, Valence: -14.247218, Dominance: 26.756929\n"
     ]
    },
    {
     "name": "stderr",
     "output_type": "stream",
     "text": [
      "\r",
      " 11%|████▍                                   | 310/2783 [02:14<14:51,  2.77it/s]"
     ]
    },
    {
     "name": "stdout",
     "output_type": "stream",
     "text": [
      "MSP-PODCAST_0079_0646, 4.000000, Arousal: 7.419761, Valence: -12.006408, Dominance: 22.903850\n",
      "MSP-PODCAST_0079_0646, 4.000000, Arousal: 7.005754, Valence: -11.088771, Dominance: 23.907284\n",
      "MSP-PODCAST_0079_0646, 3.720000, Arousal: 6.704044, Valence: -10.595460, Dominance: 24.340930\n"
     ]
    },
    {
     "name": "stderr",
     "output_type": "stream",
     "text": [
      "\r",
      " 11%|████▍                                   | 311/2783 [02:14<16:27,  2.50it/s]"
     ]
    },
    {
     "name": "stdout",
     "output_type": "stream",
     "text": [
      "MSP-PODCAST_0079_0647, 4.000000, Arousal: 9.403443, Valence: -6.505723, Dominance: 22.676550\n",
      "MSP-PODCAST_0079_0647, 4.000000, Arousal: 9.531090, Valence: -5.542793, Dominance: 23.401154\n",
      "MSP-PODCAST_0079_0647, 4.000000, Arousal: 9.377614, Valence: -4.937714, Dominance: 23.984845\n",
      "MSP-PODCAST_0079_0647, 4.000000, Arousal: 8.648332, Valence: -4.524408, Dominance: 23.431675\n",
      "MSP-PODCAST_0079_0647, 4.000000, Arousal: 7.262429, Valence: -4.982780, Dominance: 23.290621\n",
      "MSP-PODCAST_0079_0647, 4.000000, Arousal: 6.021909, Valence: -5.082855, Dominance: 23.053155\n",
      "MSP-PODCAST_0079_0647, 4.000000, Arousal: 5.138753, Valence: -4.631609, Dominance: 22.281587\n",
      "MSP-PODCAST_0079_0647, 4.000000, Arousal: 4.178586, Valence: -4.064190, Dominance: 22.482968\n",
      "MSP-PODCAST_0079_0647, 4.000000, Arousal: 3.241210, Valence: -3.685926, Dominance: 22.807963\n",
      "MSP-PODCAST_0079_0647, 3.800000, Arousal: 2.540149, Valence: -3.241021, Dominance: 22.528029\n"
     ]
    },
    {
     "name": "stderr",
     "output_type": "stream",
     "text": [
      "\r",
      " 11%|████▍                                   | 312/2783 [02:15<16:31,  2.49it/s]"
     ]
    },
    {
     "name": "stdout",
     "output_type": "stream",
     "text": [
      "MSP-PODCAST_0079_0648, 4.000000, Arousal: 10.558778, Valence: -7.885782, Dominance: 21.869187\n",
      "MSP-PODCAST_0079_0648, 4.000000, Arousal: 12.669612, Valence: -8.851252, Dominance: 21.435520\n",
      "MSP-PODCAST_0079_0648, 4.000000, Arousal: 14.618449, Valence: -10.008481, Dominance: 20.571791\n",
      "MSP-PODCAST_0079_0648, 4.000000, Arousal: 16.988034, Valence: -10.656521, Dominance: 20.539095\n",
      "MSP-PODCAST_0079_0648, 3.540000, Arousal: 17.749005, Valence: -11.353400, Dominance: 19.892381\n"
     ]
    },
    {
     "name": "stderr",
     "output_type": "stream",
     "text": [
      "\r",
      " 11%|████▍                                   | 313/2783 [02:15<17:06,  2.41it/s]"
     ]
    },
    {
     "name": "stdout",
     "output_type": "stream",
     "text": [
      "MSP-PODCAST_0079_0649, 4.000000, Arousal: 16.983731, Valence: -7.005013, Dominance: 25.963353\n",
      "MSP-PODCAST_0079_0649, 4.000000, Arousal: 14.429382, Valence: -6.918274, Dominance: 27.484910\n",
      "MSP-PODCAST_0079_0649, 4.000000, Arousal: 12.840935, Valence: -6.327197, Dominance: 27.846305\n",
      "MSP-PODCAST_0079_0649, 4.000000, Arousal: 12.194128, Valence: -5.572885, Dominance: 27.013013\n",
      "MSP-PODCAST_0079_0649, 4.000000, Arousal: 11.696353, Valence: -4.960960, Dominance: 26.036993\n",
      "MSP-PODCAST_0079_0649, 4.000000, Arousal: 11.453623, Valence: -5.396245, Dominance: 26.340605\n",
      "MSP-PODCAST_0079_0649, 4.000000, Arousal: 10.675712, Valence: -5.906129, Dominance: 26.878730\n",
      "MSP-PODCAST_0079_0649, 3.920000, Arousal: 10.002751, Valence: -6.260664, Dominance: 27.000501\n"
     ]
    },
    {
     "name": "stderr",
     "output_type": "stream",
     "text": [
      "\r",
      " 11%|████▌                                   | 314/2783 [02:15<16:04,  2.56it/s]"
     ]
    },
    {
     "name": "stdout",
     "output_type": "stream",
     "text": [
      "MSP-PODCAST_0079_0650, 4.000000, Arousal: 8.691284, Valence: -0.670149, Dominance: 20.356710\n",
      "MSP-PODCAST_0079_0650, 4.000000, Arousal: 8.751939, Valence: -0.931588, Dominance: 20.373245\n",
      "MSP-PODCAST_0079_0650, 4.000000, Arousal: 8.907812, Valence: -0.689072, Dominance: 21.041368\n",
      "MSP-PODCAST_0079_0650, 4.000000, Arousal: 8.409123, Valence: -0.620335, Dominance: 21.946261\n",
      "MSP-PODCAST_0079_0650, 3.610000, Arousal: 8.232354, Valence: -0.571993, Dominance: 22.314262\n"
     ]
    },
    {
     "name": "stderr",
     "output_type": "stream",
     "text": [
      "\r",
      " 11%|████▌                                   | 315/2783 [02:16<15:02,  2.74it/s]"
     ]
    },
    {
     "name": "stdout",
     "output_type": "stream",
     "text": [
      "MSP-PODCAST_0079_0651, 4.000000, Arousal: 13.290676, Valence: 2.658724, Dominance: 22.028073\n",
      "MSP-PODCAST_0079_0651, 4.000000, Arousal: 13.551276, Valence: 2.120354, Dominance: 22.209272\n",
      "MSP-PODCAST_0079_0651, 3.520000, Arousal: 13.041833, Valence: 1.650720, Dominance: 22.174495\n"
     ]
    },
    {
     "name": "stderr",
     "output_type": "stream",
     "text": [
      "\r",
      " 11%|████▌                                   | 316/2783 [02:16<13:39,  3.01it/s]"
     ]
    },
    {
     "name": "stdout",
     "output_type": "stream",
     "text": [
      "MSP-PODCAST_0079_0652, 4.000000, Arousal: 11.676890, Valence: -2.417618, Dominance: 29.224494\n",
      "MSP-PODCAST_0079_0652, 3.930000, Arousal: 11.822789, Valence: -2.057844, Dominance: 29.559627\n"
     ]
    },
    {
     "name": "stderr",
     "output_type": "stream",
     "text": [
      "\r",
      " 11%|████▌                                   | 317/2783 [02:16<13:06,  3.13it/s]"
     ]
    },
    {
     "name": "stdout",
     "output_type": "stream",
     "text": [
      "MSP-PODCAST_0079_0653, 4.000000, Arousal: 11.936124, Valence: 1.201093, Dominance: 20.843510\n",
      "MSP-PODCAST_0079_0653, 4.000000, Arousal: 11.928724, Valence: 1.647359, Dominance: 21.631070\n",
      "MSP-PODCAST_0079_0653, 3.680000, Arousal: 12.061872, Valence: 1.992232, Dominance: 21.618151\n"
     ]
    },
    {
     "name": "stderr",
     "output_type": "stream",
     "text": [
      "\r",
      " 11%|████▌                                   | 318/2783 [02:17<12:20,  3.33it/s]"
     ]
    },
    {
     "name": "stdout",
     "output_type": "stream",
     "text": [
      "MSP-PODCAST_0079_0654, 4.000000, Arousal: 16.251499, Valence: 3.904023, Dominance: 16.884353\n",
      "MSP-PODCAST_0079_0654, 3.580000, Arousal: 17.057569, Valence: 4.403376, Dominance: 15.921452\n"
     ]
    },
    {
     "name": "stderr",
     "output_type": "stream",
     "text": [
      "\r",
      " 11%|████▌                                   | 319/2783 [02:17<16:37,  2.47it/s]"
     ]
    },
    {
     "name": "stdout",
     "output_type": "stream",
     "text": [
      "MSP-PODCAST_0079_0655, 4.000000, Arousal: 9.479598, Valence: 2.776244, Dominance: 16.196505\n",
      "MSP-PODCAST_0079_0655, 4.000000, Arousal: 8.566274, Valence: 1.626431, Dominance: 16.381679\n",
      "MSP-PODCAST_0079_0655, 4.000000, Arousal: 7.528227, Valence: 1.111988, Dominance: 15.929114\n",
      "MSP-PODCAST_0079_0655, 4.000000, Arousal: 6.832653, Valence: 0.490636, Dominance: 15.673349\n",
      "MSP-PODCAST_0079_0655, 4.000000, Arousal: 6.174254, Valence: -0.207109, Dominance: 14.741018\n",
      "MSP-PODCAST_0079_0655, 4.000000, Arousal: 6.074637, Valence: -0.857764, Dominance: 14.201450\n",
      "MSP-PODCAST_0079_0655, 4.000000, Arousal: 6.128347, Valence: -1.766483, Dominance: 13.789604\n",
      "MSP-PODCAST_0079_0655, 4.000000, Arousal: 6.049611, Valence: -1.732348, Dominance: 13.337335\n",
      "MSP-PODCAST_0079_0655, 4.000000, Arousal: 6.980132, Valence: -1.441833, Dominance: 12.862937\n",
      "MSP-PODCAST_0079_0655, 4.000000, Arousal: 8.305278, Valence: -0.766352, Dominance: 12.986680\n",
      "MSP-PODCAST_0079_0655, 4.000000, Arousal: 9.602897, Valence: -0.921275, Dominance: 14.057255\n",
      "MSP-PODCAST_0079_0655, 4.000000, Arousal: 10.859818, Valence: -0.773810, Dominance: 15.472006\n",
      "MSP-PODCAST_0079_0655, 4.000000, Arousal: 12.120931, Valence: -0.263736, Dominance: 17.606267\n",
      "MSP-PODCAST_0079_0655, 4.000000, Arousal: 13.101169, Valence: 0.194250, Dominance: 18.745295\n",
      "MSP-PODCAST_0079_0655, 3.560000, Arousal: 13.815915, Valence: 0.609666, Dominance: 19.400938\n"
     ]
    },
    {
     "name": "stderr",
     "output_type": "stream",
     "text": [
      "\r",
      " 11%|████▌                                   | 320/2783 [02:18<18:02,  2.28it/s]"
     ]
    },
    {
     "name": "stdout",
     "output_type": "stream",
     "text": [
      "MSP-PODCAST_0079_0656, 4.000000, Arousal: 18.355129, Valence: -4.648927, Dominance: 27.946505\n",
      "MSP-PODCAST_0079_0656, 4.000000, Arousal: 18.454588, Valence: -5.371590, Dominance: 28.280873\n",
      "MSP-PODCAST_0079_0656, 4.000000, Arousal: 19.365889, Valence: -6.535837, Dominance: 29.707014\n",
      "MSP-PODCAST_0079_0656, 4.000000, Arousal: 19.476633, Valence: -7.355373, Dominance: 30.719570\n",
      "MSP-PODCAST_0079_0656, 4.000000, Arousal: 18.973296, Valence: -8.193807, Dominance: 30.226492\n",
      "MSP-PODCAST_0079_0656, 4.000000, Arousal: 17.863464, Valence: -9.722373, Dominance: 29.770295\n",
      "MSP-PODCAST_0079_0656, 4.000000, Arousal: 16.840626, Valence: -10.078357, Dominance: 28.931310\n",
      "MSP-PODCAST_0079_0656, 4.000000, Arousal: 15.980706, Valence: -9.777518, Dominance: 29.052675\n",
      "MSP-PODCAST_0079_0656, 4.000000, Arousal: 15.128608, Valence: -10.247973, Dominance: 30.074104\n",
      "MSP-PODCAST_0079_0656, 4.000000, Arousal: 14.135573, Valence: -10.772749, Dominance: 30.720636\n",
      "MSP-PODCAST_0079_0656, 3.760000, Arousal: 12.328498, Valence: -11.126420, Dominance: 29.959774\n"
     ]
    },
    {
     "name": "stderr",
     "output_type": "stream",
     "text": [
      "\r",
      " 12%|████▌                                   | 321/2783 [02:18<15:03,  2.73it/s]"
     ]
    },
    {
     "name": "stdout",
     "output_type": "stream",
     "text": [
      "MSP-PODCAST_0079_0657, 3.000000, Arousal: 14.678185, Valence: -6.270534, Dominance: 25.151917\n"
     ]
    },
    {
     "name": "stderr",
     "output_type": "stream",
     "text": [
      "\r",
      " 12%|████▋                                   | 322/2783 [02:18<13:16,  3.09it/s]"
     ]
    },
    {
     "name": "stdout",
     "output_type": "stream",
     "text": [
      "MSP-PODCAST_0079_0658, 3.670000, Arousal: 19.812638, Valence: -4.467296, Dominance: 24.667077\n"
     ]
    },
    {
     "name": "stderr",
     "output_type": "stream",
     "text": [
      "\r",
      " 12%|████▋                                   | 323/2783 [02:18<13:16,  3.09it/s]"
     ]
    },
    {
     "name": "stdout",
     "output_type": "stream",
     "text": [
      "MSP-PODCAST_0079_0659, 4.000000, Arousal: 18.546965, Valence: -0.134431, Dominance: 26.944408\n",
      "MSP-PODCAST_0079_0659, 4.000000, Arousal: 18.243243, Valence: -0.634646, Dominance: 27.345962\n",
      "MSP-PODCAST_0079_0659, 3.740000, Arousal: 17.833119, Valence: -0.956017, Dominance: 27.866974\n"
     ]
    },
    {
     "name": "stderr",
     "output_type": "stream",
     "text": [
      "\r",
      " 12%|████▋                                   | 324/2783 [02:19<15:24,  2.66it/s]"
     ]
    },
    {
     "name": "stdout",
     "output_type": "stream",
     "text": [
      "MSP-PODCAST_0079_0660, 4.000000, Arousal: 15.609717, Valence: 2.342371, Dominance: 22.100365\n",
      "MSP-PODCAST_0079_0660, 4.000000, Arousal: 16.270596, Valence: 2.953058, Dominance: 23.199843\n",
      "MSP-PODCAST_0079_0660, 4.000000, Arousal: 17.203746, Valence: 3.039487, Dominance: 24.071123\n",
      "MSP-PODCAST_0079_0660, 4.000000, Arousal: 18.289521, Valence: 3.200150, Dominance: 24.598015\n",
      "MSP-PODCAST_0079_0660, 4.000000, Arousal: 19.027979, Valence: 2.796892, Dominance: 24.755181\n",
      "MSP-PODCAST_0079_0660, 4.000000, Arousal: 19.733328, Valence: 2.031118, Dominance: 25.282587\n",
      "MSP-PODCAST_0079_0660, 4.000000, Arousal: 20.073747, Valence: 1.522597, Dominance: 25.726514\n",
      "MSP-PODCAST_0079_0660, 4.000000, Arousal: 20.087687, Valence: 0.784844, Dominance: 26.819777\n",
      "MSP-PODCAST_0079_0660, 4.000000, Arousal: 19.985858, Valence: -0.507897, Dominance: 27.690906\n",
      "MSP-PODCAST_0079_0660, 3.760000, Arousal: 20.550876, Valence: -1.934429, Dominance: 28.457840\n"
     ]
    },
    {
     "name": "stderr",
     "output_type": "stream",
     "text": [
      "\r",
      " 12%|████▋                                   | 325/2783 [02:19<17:22,  2.36it/s]"
     ]
    },
    {
     "name": "stdout",
     "output_type": "stream",
     "text": [
      "MSP-PODCAST_0079_0661, 4.000000, Arousal: 26.078597, Valence: 1.699580, Dominance: 32.586781\n",
      "MSP-PODCAST_0079_0661, 4.000000, Arousal: 27.681936, Valence: 3.147359, Dominance: 31.230982\n",
      "MSP-PODCAST_0079_0661, 4.000000, Arousal: 28.730609, Valence: 3.840896, Dominance: 31.618204\n",
      "MSP-PODCAST_0079_0661, 4.000000, Arousal: 29.491700, Valence: 3.842649, Dominance: 30.829687\n",
      "MSP-PODCAST_0079_0661, 4.000000, Arousal: 28.900862, Valence: 4.615857, Dominance: 29.886243\n",
      "MSP-PODCAST_0079_0661, 4.000000, Arousal: 27.455933, Valence: 4.687442, Dominance: 29.455516\n",
      "MSP-PODCAST_0079_0661, 4.000000, Arousal: 25.559784, Valence: 4.622082, Dominance: 28.589412\n",
      "MSP-PODCAST_0079_0661, 4.000000, Arousal: 24.558615, Valence: 4.886282, Dominance: 28.348575\n",
      "MSP-PODCAST_0079_0661, 4.000000, Arousal: 23.270509, Valence: 4.710450, Dominance: 28.990504\n",
      "MSP-PODCAST_0079_0661, 4.000000, Arousal: 23.022503, Valence: 5.240997, Dominance: 30.012787\n",
      "MSP-PODCAST_0079_0661, 3.650000, Arousal: 22.925926, Valence: 5.482470, Dominance: 30.274543\n"
     ]
    },
    {
     "name": "stderr",
     "output_type": "stream",
     "text": [
      "\r",
      " 12%|████▋                                   | 326/2783 [02:20<16:53,  2.42it/s]"
     ]
    },
    {
     "name": "stdout",
     "output_type": "stream",
     "text": [
      "MSP-PODCAST_0079_0662, 4.000000, Arousal: 35.830863, Valence: 3.646942, Dominance: 38.229054\n",
      "MSP-PODCAST_0079_0662, 4.000000, Arousal: 37.930596, Valence: 4.889603, Dominance: 39.944411\n",
      "MSP-PODCAST_0079_0662, 4.000000, Arousal: 40.361791, Valence: 4.770976, Dominance: 42.539075\n",
      "MSP-PODCAST_0079_0662, 4.000000, Arousal: 44.174847, Valence: 3.457340, Dominance: 45.466112\n",
      "MSP-PODCAST_0079_0662, 4.000000, Arousal: 49.064526, Valence: 1.958307, Dominance: 48.731984\n",
      "MSP-PODCAST_0079_0662, 4.000000, Arousal: 52.360760, Valence: -0.930328, Dominance: 51.489791\n",
      "MSP-PODCAST_0079_0662, 3.690000, Arousal: 54.100940, Valence: -2.163204, Dominance: 51.579994\n"
     ]
    },
    {
     "name": "stderr",
     "output_type": "stream",
     "text": [
      "\r",
      " 12%|████▋                                   | 327/2783 [02:20<15:41,  2.61it/s]"
     ]
    },
    {
     "name": "stdout",
     "output_type": "stream",
     "text": [
      "MSP-PODCAST_0079_0663, 4.000000, Arousal: 30.720878, Valence: -5.037858, Dominance: 41.452149\n",
      "MSP-PODCAST_0079_0663, 4.000000, Arousal: 30.427024, Valence: -3.851401, Dominance: 41.551362\n",
      "MSP-PODCAST_0079_0663, 4.000000, Arousal: 30.945562, Valence: -0.686163, Dominance: 41.520136\n",
      "MSP-PODCAST_0079_0663, 4.000000, Arousal: 32.383853, Valence: 0.968047, Dominance: 38.944764\n",
      "MSP-PODCAST_0079_0663, 3.610000, Arousal: 33.294118, Valence: 1.497372, Dominance: 38.067727\n"
     ]
    },
    {
     "name": "stderr",
     "output_type": "stream",
     "text": [
      "\r",
      " 12%|████▋                                   | 328/2783 [02:21<15:52,  2.58it/s]"
     ]
    },
    {
     "name": "stdout",
     "output_type": "stream",
     "text": [
      "MSP-PODCAST_0079_0664, 4.000000, Arousal: 32.306579, Valence: 1.914108, Dominance: 31.115734\n",
      "MSP-PODCAST_0079_0664, 4.000000, Arousal: 29.558230, Valence: 1.388991, Dominance: 30.499927\n",
      "MSP-PODCAST_0079_0664, 4.000000, Arousal: 27.373459, Valence: 1.001766, Dominance: 31.327159\n",
      "MSP-PODCAST_0079_0664, 4.000000, Arousal: 25.927063, Valence: 2.168386, Dominance: 31.484390\n",
      "MSP-PODCAST_0079_0664, 4.000000, Arousal: 24.614979, Valence: 3.670666, Dominance: 31.188593\n",
      "MSP-PODCAST_0079_0664, 3.510000, Arousal: 24.192049, Valence: 4.514600, Dominance: 31.409421\n"
     ]
    },
    {
     "name": "stderr",
     "output_type": "stream",
     "text": [
      "\r",
      " 12%|████▋                                   | 329/2783 [02:21<17:38,  2.32it/s]"
     ]
    },
    {
     "name": "stdout",
     "output_type": "stream",
     "text": [
      "MSP-PODCAST_0079_0665, 4.000000, Arousal: 15.717139, Valence: 2.108063, Dominance: 31.175284\n",
      "MSP-PODCAST_0079_0665, 4.000000, Arousal: 15.807423, Valence: 1.162009, Dominance: 31.358634\n",
      "MSP-PODCAST_0079_0665, 4.000000, Arousal: 16.098713, Valence: 0.116193, Dominance: 31.835694\n",
      "MSP-PODCAST_0079_0665, 4.000000, Arousal: 16.431823, Valence: -1.145575, Dominance: 31.320293\n",
      "MSP-PODCAST_0079_0665, 4.000000, Arousal: 16.738031, Valence: -1.949401, Dominance: 30.662835\n",
      "MSP-PODCAST_0079_0665, 4.000000, Arousal: 17.653766, Valence: -1.273145, Dominance: 31.184457\n",
      "MSP-PODCAST_0079_0665, 4.000000, Arousal: 18.593513, Valence: -0.187823, Dominance: 31.082546\n",
      "MSP-PODCAST_0079_0665, 4.000000, Arousal: 19.580557, Valence: 0.920299, Dominance: 30.830421\n",
      "MSP-PODCAST_0079_0665, 4.000000, Arousal: 20.498796, Valence: 1.741308, Dominance: 30.842795\n",
      "MSP-PODCAST_0079_0665, 3.760000, Arousal: 20.303704, Valence: 3.016869, Dominance: 30.511521\n"
     ]
    },
    {
     "name": "stderr",
     "output_type": "stream",
     "text": [
      "\r",
      " 12%|████▋                                   | 330/2783 [02:21<16:07,  2.54it/s]"
     ]
    },
    {
     "name": "stdout",
     "output_type": "stream",
     "text": [
      "MSP-PODCAST_0079_0666, 4.000000, Arousal: 17.256802, Valence: 4.087110, Dominance: 26.809747\n",
      "MSP-PODCAST_0079_0666, 4.000000, Arousal: 18.725946, Valence: 3.726588, Dominance: 29.208678\n",
      "MSP-PODCAST_0079_0666, 4.000000, Arousal: 20.152570, Valence: 3.704055, Dominance: 30.536233\n",
      "MSP-PODCAST_0079_0666, 3.990000, Arousal: 21.785788, Valence: 3.677685, Dominance: 30.997479\n"
     ]
    },
    {
     "name": "stderr",
     "output_type": "stream",
     "text": [
      "\r",
      " 12%|████▊                                   | 331/2783 [02:22<15:45,  2.59it/s]"
     ]
    },
    {
     "name": "stdout",
     "output_type": "stream",
     "text": [
      "MSP-PODCAST_0079_0667, 4.000000, Arousal: 22.602893, Valence: -4.996284, Dominance: 30.322560\n",
      "MSP-PODCAST_0079_0667, 4.000000, Arousal: 22.352833, Valence: -7.237450, Dominance: 31.784077\n",
      "MSP-PODCAST_0079_0667, 4.000000, Arousal: 21.948754, Valence: -9.484293, Dominance: 33.431962\n",
      "MSP-PODCAST_0079_0667, 4.000000, Arousal: 23.005036, Valence: -11.757266, Dominance: 33.602162\n",
      "MSP-PODCAST_0079_0667, 3.860000, Arousal: 24.292101, Valence: -12.769378, Dominance: 34.202998\n"
     ]
    },
    {
     "name": "stderr",
     "output_type": "stream",
     "text": [
      "\r",
      " 12%|████▊                                   | 332/2783 [02:22<14:48,  2.76it/s]"
     ]
    },
    {
     "name": "stdout",
     "output_type": "stream",
     "text": [
      "MSP-PODCAST_0079_0668, 4.000000, Arousal: 28.796844, Valence: -11.343615, Dominance: 27.152184\n",
      "MSP-PODCAST_0079_0668, 4.000000, Arousal: 28.639418, Valence: -11.630052, Dominance: 27.445848\n",
      "MSP-PODCAST_0079_0668, 3.830000, Arousal: 28.244599, Valence: -11.707568, Dominance: 28.401135\n"
     ]
    },
    {
     "name": "stderr",
     "output_type": "stream",
     "text": [
      "\r",
      " 12%|████▊                                   | 333/2783 [02:22<13:28,  3.03it/s]"
     ]
    },
    {
     "name": "stdout",
     "output_type": "stream",
     "text": [
      "MSP-PODCAST_0079_0669, 4.000000, Arousal: 27.641690, Valence: -11.614624, Dominance: 38.656304\n",
      "MSP-PODCAST_0079_0669, 3.740000, Arousal: 28.317855, Valence: -11.661418, Dominance: 40.185445\n"
     ]
    },
    {
     "name": "stderr",
     "output_type": "stream",
     "text": [
      "\r",
      " 12%|████▊                                   | 334/2783 [02:23<12:01,  3.39it/s]"
     ]
    },
    {
     "name": "stdout",
     "output_type": "stream",
     "text": [
      "MSP-PODCAST_0079_0670, 2.910000, Arousal: 25.043501, Valence: -6.702456, Dominance: 29.994749\n"
     ]
    },
    {
     "name": "stderr",
     "output_type": "stream",
     "text": [
      "\r",
      " 12%|████▊                                   | 335/2783 [02:23<14:32,  2.80it/s]"
     ]
    },
    {
     "name": "stdout",
     "output_type": "stream",
     "text": [
      "MSP-PODCAST_0079_0671, 4.000000, Arousal: 28.725606, Valence: 2.021570, Dominance: 38.180632\n",
      "MSP-PODCAST_0079_0671, 4.000000, Arousal: 28.164663, Valence: 1.795062, Dominance: 38.129073\n",
      "MSP-PODCAST_0079_0671, 4.000000, Arousal: 26.935892, Valence: 0.944666, Dominance: 37.822866\n",
      "MSP-PODCAST_0079_0671, 4.000000, Arousal: 25.755276, Valence: 0.656745, Dominance: 37.977093\n",
      "MSP-PODCAST_0079_0671, 4.000000, Arousal: 24.974140, Valence: 1.266151, Dominance: 37.954734\n",
      "MSP-PODCAST_0079_0671, 4.000000, Arousal: 24.370510, Valence: 1.833565, Dominance: 36.225345\n",
      "MSP-PODCAST_0079_0671, 4.000000, Arousal: 23.241672, Valence: 1.465110, Dominance: 33.137106\n",
      "MSP-PODCAST_0079_0671, 3.890000, Arousal: 21.729038, Valence: 0.913590, Dominance: 30.881089\n"
     ]
    },
    {
     "name": "stderr",
     "output_type": "stream",
     "text": [
      "\r",
      " 12%|████▊                                   | 336/2783 [02:23<13:31,  3.01it/s]"
     ]
    },
    {
     "name": "stdout",
     "output_type": "stream",
     "text": [
      "MSP-PODCAST_0079_0672, 4.000000, Arousal: 10.929765, Valence: -1.742752, Dominance: 25.369294\n",
      "MSP-PODCAST_0079_0672, 3.950000, Arousal: 10.357552, Valence: -3.158461, Dominance: 26.552070\n"
     ]
    },
    {
     "name": "stderr",
     "output_type": "stream",
     "text": [
      "\r",
      " 12%|████▊                                   | 337/2783 [02:24<15:56,  2.56it/s]"
     ]
    },
    {
     "name": "stdout",
     "output_type": "stream",
     "text": [
      "MSP-PODCAST_0079_0673, 4.000000, Arousal: 9.068781, Valence: -15.554215, Dominance: 24.360567\n",
      "MSP-PODCAST_0079_0673, 4.000000, Arousal: 9.193198, Valence: -15.727847, Dominance: 24.087162\n",
      "MSP-PODCAST_0079_0673, 4.000000, Arousal: 9.255072, Valence: -15.283360, Dominance: 23.807984\n",
      "MSP-PODCAST_0079_0673, 4.000000, Arousal: 9.934098, Valence: -14.041542, Dominance: 23.027272\n",
      "MSP-PODCAST_0079_0673, 4.000000, Arousal: 10.630295, Valence: -13.073281, Dominance: 21.843836\n",
      "MSP-PODCAST_0079_0673, 4.000000, Arousal: 11.375029, Valence: -12.038149, Dominance: 20.879537\n",
      "MSP-PODCAST_0079_0673, 4.000000, Arousal: 12.500224, Valence: -10.872476, Dominance: 20.468084\n",
      "MSP-PODCAST_0079_0673, 4.000000, Arousal: 13.368608, Valence: -10.225100, Dominance: 20.227379\n",
      "MSP-PODCAST_0079_0673, 4.000000, Arousal: 13.276406, Valence: -8.919061, Dominance: 20.038936\n",
      "MSP-PODCAST_0079_0673, 4.000000, Arousal: 13.652908, Valence: -8.045022, Dominance: 20.755527\n",
      "MSP-PODCAST_0079_0673, 3.650000, Arousal: 13.742475, Valence: -7.720160, Dominance: 21.112433\n"
     ]
    },
    {
     "name": "stderr",
     "output_type": "stream",
     "text": [
      "\r",
      " 12%|████▊                                   | 338/2783 [02:24<15:57,  2.55it/s]"
     ]
    },
    {
     "name": "stdout",
     "output_type": "stream",
     "text": [
      "MSP-PODCAST_0079_0674, 4.000000, Arousal: 17.481554, Valence: -3.544334, Dominance: 18.756840\n",
      "MSP-PODCAST_0079_0674, 4.000000, Arousal: 18.364668, Valence: -2.436136, Dominance: 18.528353\n",
      "MSP-PODCAST_0079_0674, 4.000000, Arousal: 19.001367, Valence: -1.776939, Dominance: 18.198238\n",
      "MSP-PODCAST_0079_0674, 4.000000, Arousal: 18.577936, Valence: -1.121175, Dominance: 17.599298\n",
      "MSP-PODCAST_0079_0674, 4.000000, Arousal: 17.950921, Valence: -0.467542, Dominance: 16.808960\n",
      "MSP-PODCAST_0079_0674, 4.000000, Arousal: 17.108733, Valence: 0.454471, Dominance: 16.786303\n",
      "MSP-PODCAST_0079_0674, 3.830000, Arousal: 16.505353, Valence: 0.872267, Dominance: 17.819614\n"
     ]
    },
    {
     "name": "stderr",
     "output_type": "stream",
     "text": [
      "\r",
      " 12%|████▊                                   | 339/2783 [02:25<14:21,  2.84it/s]"
     ]
    },
    {
     "name": "stdout",
     "output_type": "stream",
     "text": [
      "MSP-PODCAST_0079_0675, 4.000000, Arousal: 12.503651, Valence: -1.265566, Dominance: 23.044259\n",
      "MSP-PODCAST_0079_0675, 3.930000, Arousal: 12.648156, Valence: -1.640803, Dominance: 24.245966\n"
     ]
    },
    {
     "name": "stderr",
     "output_type": "stream",
     "text": [
      "\r",
      " 12%|████▉                                   | 340/2783 [02:25<13:08,  3.10it/s]"
     ]
    },
    {
     "name": "stdout",
     "output_type": "stream",
     "text": [
      "MSP-PODCAST_0079_0676, 4.000000, Arousal: 9.245351, Valence: -2.853622, Dominance: 19.275520\n",
      "MSP-PODCAST_0079_0676, 3.640000, Arousal: 8.585416, Valence: -3.284323, Dominance: 19.446964\n"
     ]
    },
    {
     "name": "stderr",
     "output_type": "stream",
     "text": [
      "\r",
      " 12%|████▉                                   | 341/2783 [02:25<15:31,  2.62it/s]"
     ]
    },
    {
     "name": "stdout",
     "output_type": "stream",
     "text": [
      "MSP-PODCAST_0079_0677, 4.000000, Arousal: 7.699104, Valence: -0.218537, Dominance: 20.323626\n",
      "MSP-PODCAST_0079_0677, 4.000000, Arousal: 7.334759, Valence: -0.583041, Dominance: 19.822605\n",
      "MSP-PODCAST_0079_0677, 4.000000, Arousal: 7.230248, Valence: -0.840698, Dominance: 20.744016\n",
      "MSP-PODCAST_0079_0677, 4.000000, Arousal: 7.457449, Valence: -1.240511, Dominance: 21.886923\n",
      "MSP-PODCAST_0079_0677, 4.000000, Arousal: 7.582024, Valence: -1.636196, Dominance: 22.432906\n",
      "MSP-PODCAST_0079_0677, 4.000000, Arousal: 7.561457, Valence: -1.613562, Dominance: 22.589516\n",
      "MSP-PODCAST_0079_0677, 4.000000, Arousal: 7.916714, Valence: -1.122941, Dominance: 22.324208\n",
      "MSP-PODCAST_0079_0677, 4.000000, Arousal: 7.995831, Valence: -0.547201, Dominance: 21.771538\n",
      "MSP-PODCAST_0079_0677, 4.000000, Arousal: 7.418724, Valence: 0.021920, Dominance: 21.918710\n",
      "MSP-PODCAST_0079_0677, 4.000000, Arousal: 6.959343, Valence: 0.420428, Dominance: 22.355799\n",
      "MSP-PODCAST_0079_0677, 4.000000, Arousal: 6.352333, Valence: 0.408447, Dominance: 22.349524\n",
      "MSP-PODCAST_0079_0677, 3.630000, Arousal: 5.859684, Valence: 0.789575, Dominance: 22.108448\n"
     ]
    },
    {
     "name": "stderr",
     "output_type": "stream",
     "text": [
      "\r",
      " 12%|████▉                                   | 342/2783 [02:26<17:03,  2.39it/s]"
     ]
    },
    {
     "name": "stdout",
     "output_type": "stream",
     "text": [
      "MSP-PODCAST_0079_0678, 4.000000, Arousal: 5.186423, Valence: 2.465106, Dominance: 17.301934\n",
      "MSP-PODCAST_0079_0678, 4.000000, Arousal: 5.355466, Valence: 3.072834, Dominance: 18.323470\n",
      "MSP-PODCAST_0079_0678, 4.000000, Arousal: 5.144261, Valence: 3.921786, Dominance: 18.430405\n",
      "MSP-PODCAST_0079_0678, 4.000000, Arousal: 5.148676, Valence: 4.918200, Dominance: 17.452677\n",
      "MSP-PODCAST_0079_0678, 4.000000, Arousal: 5.353087, Valence: 5.505245, Dominance: 17.958504\n",
      "MSP-PODCAST_0079_0678, 4.000000, Arousal: 5.405878, Valence: 5.835427, Dominance: 18.183566\n",
      "MSP-PODCAST_0079_0678, 4.000000, Arousal: 5.842647, Valence: 5.926637, Dominance: 18.531691\n",
      "MSP-PODCAST_0079_0678, 4.000000, Arousal: 6.463566, Valence: 5.757671, Dominance: 18.812560\n",
      "MSP-PODCAST_0079_0678, 4.000000, Arousal: 7.142513, Valence: 5.547233, Dominance: 19.029665\n",
      "MSP-PODCAST_0079_0678, 4.000000, Arousal: 7.818283, Valence: 5.750323, Dominance: 18.492173\n",
      "MSP-PODCAST_0079_0678, 3.780000, Arousal: 8.228129, Valence: 5.456381, Dominance: 18.164480\n"
     ]
    },
    {
     "name": "stderr",
     "output_type": "stream",
     "text": [
      "\r",
      " 12%|████▉                                   | 343/2783 [02:26<14:06,  2.88it/s]"
     ]
    },
    {
     "name": "stdout",
     "output_type": "stream",
     "text": [
      "MSP-PODCAST_0079_0679, 1.970000, Arousal: 10.067170, Valence: 4.237936, Dominance: 18.366792\n"
     ]
    },
    {
     "name": "stderr",
     "output_type": "stream",
     "text": [
      "\r",
      " 12%|████▉                                   | 344/2783 [02:27<16:22,  2.48it/s]"
     ]
    },
    {
     "name": "stdout",
     "output_type": "stream",
     "text": [
      "MSP-PODCAST_0079_0680, 4.000000, Arousal: 12.136081, Valence: -0.185386, Dominance: 20.004545\n",
      "MSP-PODCAST_0079_0680, 4.000000, Arousal: 12.207060, Valence: -0.577351, Dominance: 21.200315\n",
      "MSP-PODCAST_0079_0680, 4.000000, Arousal: 12.014811, Valence: -1.127241, Dominance: 22.864786\n",
      "MSP-PODCAST_0079_0680, 4.000000, Arousal: 12.506838, Valence: -1.848413, Dominance: 23.709263\n",
      "MSP-PODCAST_0079_0680, 4.000000, Arousal: 14.648806, Valence: -0.729652, Dominance: 24.197798\n",
      "MSP-PODCAST_0079_0680, 4.000000, Arousal: 17.588780, Valence: 1.145576, Dominance: 25.065236\n",
      "MSP-PODCAST_0079_0680, 4.000000, Arousal: 20.354193, Valence: 3.575460, Dominance: 26.050611\n",
      "MSP-PODCAST_0079_0680, 4.000000, Arousal: 23.768785, Valence: 5.188457, Dominance: 27.007152\n",
      "MSP-PODCAST_0079_0680, 4.000000, Arousal: 26.984485, Valence: 6.867929, Dominance: 28.881759\n",
      "MSP-PODCAST_0079_0680, 4.000000, Arousal: 30.840567, Valence: 8.729108, Dominance: 30.688046\n",
      "MSP-PODCAST_0079_0680, 3.670000, Arousal: 33.682765, Valence: 10.211496, Dominance: 31.370423\n"
     ]
    },
    {
     "name": "stderr",
     "output_type": "stream",
     "text": [
      "\r",
      " 12%|████▉                                   | 345/2783 [02:27<18:44,  2.17it/s]"
     ]
    },
    {
     "name": "stdout",
     "output_type": "stream",
     "text": [
      "MSP-PODCAST_0079_0681, 4.000000, Arousal: 37.939539, Valence: 26.084737, Dominance: 40.384116\n",
      "MSP-PODCAST_0079_0681, 4.000000, Arousal: 36.874479, Valence: 26.647242, Dominance: 39.205306\n",
      "MSP-PODCAST_0079_0681, 4.000000, Arousal: 36.752646, Valence: 27.258364, Dominance: 38.417451\n",
      "MSP-PODCAST_0079_0681, 4.000000, Arousal: 37.222784, Valence: 27.085381, Dominance: 37.788342\n",
      "MSP-PODCAST_0079_0681, 4.000000, Arousal: 37.379981, Valence: 26.592063, Dominance: 37.301874\n",
      "MSP-PODCAST_0079_0681, 4.000000, Arousal: 36.935054, Valence: 25.477812, Dominance: 36.847044\n",
      "MSP-PODCAST_0079_0681, 4.000000, Arousal: 35.132550, Valence: 25.221876, Dominance: 37.370090\n",
      "MSP-PODCAST_0079_0681, 4.000000, Arousal: 33.723668, Valence: 23.830751, Dominance: 37.965719\n",
      "MSP-PODCAST_0079_0681, 4.000000, Arousal: 31.664802, Valence: 20.856719, Dominance: 37.795230\n",
      "MSP-PODCAST_0079_0681, 4.000000, Arousal: 29.562363, Valence: 18.337818, Dominance: 38.026382\n",
      "MSP-PODCAST_0079_0681, 4.000000, Arousal: 27.661825, Valence: 15.761443, Dominance: 37.686992\n",
      "MSP-PODCAST_0079_0681, 3.890000, Arousal: 26.208536, Valence: 14.997599, Dominance: 36.476589\n"
     ]
    },
    {
     "name": "stderr",
     "output_type": "stream",
     "text": [
      "\r",
      " 12%|████▉                                   | 346/2783 [02:27<15:54,  2.55it/s]"
     ]
    },
    {
     "name": "stdout",
     "output_type": "stream",
     "text": [
      "MSP-PODCAST_0079_0682, 3.220000, Arousal: 14.817045, Valence: 16.201809, Dominance: 35.370214\n"
     ]
    },
    {
     "name": "stderr",
     "output_type": "stream",
     "text": [
      "\r",
      " 12%|████▉                                   | 347/2783 [02:28<14:03,  2.89it/s]"
     ]
    },
    {
     "name": "stdout",
     "output_type": "stream",
     "text": [
      "MSP-PODCAST_0079_0683, 3.830000, Arousal: 17.721554, Valence: 12.901788, Dominance: 26.001116\n",
      "MSP-PODCAST_0079_0684, 4.000000, Arousal: 13.269036, Valence: 2.111769, Dominance: 23.891585\n",
      "MSP-PODCAST_0079_0684, 4.000000, Arousal: 13.795584, Valence: 0.690420, Dominance: 24.577205\n",
      "MSP-PODCAST_0079_0684, 4.000000, Arousal: 15.209105, Valence: -1.203301, Dominance: 26.917404\n",
      "MSP-PODCAST_0079_0684, 4.000000, Arousal: 16.090140, Valence: -3.693236, Dominance: 29.047210\n",
      "MSP-PODCAST_0079_0684, 4.000000, Arousal: 16.860939, Valence: -7.079957, Dominance: 31.742826\n",
      "MSP-PODCAST_0079_0684, 4.000000, Arousal: 16.764213, Valence: -11.921206, Dominance: 34.397264\n",
      "MSP-PODCAST_0079_0684, 4.000000, Arousal: 16.504178, Valence: -15.641767, Dominance: 35.504513\n",
      "MSP-PODCAST_0079_0684, 4.000000, Arousal: 17.304057, Valence: -18.594205, Dominance: 36.832092\n",
      "MSP-PODCAST_0079_0684, 4.000000, Arousal: 17.693833, Valence: -20.923249, Dominance: 38.126578\n",
      "MSP-PODCAST_0079_0684, 4.000000, Arousal: 17.782749, Valence: -22.825960, Dominance: 38.056046\n",
      "MSP-PODCAST_0079_0684, 4.000000, Arousal: 17.486242, Valence: -23.955300, Dominance: 36.045501\n"
     ]
    },
    {
     "name": "stderr",
     "output_type": "stream",
     "text": [
      "\r",
      " 13%|█████                                   | 348/2783 [02:28<19:45,  2.05it/s]"
     ]
    },
    {
     "name": "stdout",
     "output_type": "stream",
     "text": [
      "MSP-PODCAST_0079_0684, 4.000000, Arousal: 16.887611, Valence: -24.268376, Dominance: 34.189078\n",
      "MSP-PODCAST_0079_0684, 4.000000, Arousal: 16.045890, Valence: -23.368952, Dominance: 32.361135\n",
      "MSP-PODCAST_0079_0684, 4.000000, Arousal: 15.743854, Valence: -20.982766, Dominance: 30.374332\n",
      "MSP-PODCAST_0079_0684, 4.000000, Arousal: 15.053993, Valence: -18.945050, Dominance: 28.991751\n",
      "MSP-PODCAST_0079_0684, 3.600000, Arousal: 14.600540, Valence: -17.962176, Dominance: 27.546462\n"
     ]
    },
    {
     "name": "stderr",
     "output_type": "stream",
     "text": [
      "\r",
      " 13%|█████                                   | 349/2783 [02:29<23:22,  1.74it/s]"
     ]
    },
    {
     "name": "stdout",
     "output_type": "stream",
     "text": [
      "MSP-PODCAST_0079_0685, 4.000000, Arousal: 16.404047, Valence: -7.778109, Dominance: 21.052232\n",
      "MSP-PODCAST_0079_0685, 4.000000, Arousal: 17.236756, Valence: -7.794890, Dominance: 21.380730\n",
      "MSP-PODCAST_0079_0685, 4.000000, Arousal: 17.716575, Valence: -8.083264, Dominance: 21.605469\n",
      "MSP-PODCAST_0079_0685, 4.000000, Arousal: 17.458528, Valence: -8.324498, Dominance: 21.720797\n",
      "MSP-PODCAST_0079_0685, 4.000000, Arousal: 17.402521, Valence: -8.353601, Dominance: 21.601247\n",
      "MSP-PODCAST_0079_0685, 4.000000, Arousal: 16.919055, Valence: -8.530920, Dominance: 21.456238\n",
      "MSP-PODCAST_0079_0685, 4.000000, Arousal: 16.422718, Valence: -9.414396, Dominance: 22.068400\n",
      "MSP-PODCAST_0079_0685, 4.000000, Arousal: 15.894934, Valence: -9.759043, Dominance: 23.163883\n",
      "MSP-PODCAST_0079_0685, 4.000000, Arousal: 15.015522, Valence: -10.204578, Dominance: 23.927718\n",
      "MSP-PODCAST_0079_0685, 4.000000, Arousal: 14.767288, Valence: -10.783101, Dominance: 23.848196\n",
      "MSP-PODCAST_0079_0685, 4.000000, Arousal: 14.541112, Valence: -10.696425, Dominance: 23.727168\n",
      "MSP-PODCAST_0079_0685, 4.000000, Arousal: 15.060441, Valence: -10.918714, Dominance: 24.296471\n",
      "MSP-PODCAST_0079_0685, 3.600000, Arousal: 15.489151, Valence: -11.234737, Dominance: 25.052476\n"
     ]
    },
    {
     "name": "stderr",
     "output_type": "stream",
     "text": [
      "\r",
      " 13%|█████                                   | 350/2783 [02:29<19:11,  2.11it/s]"
     ]
    },
    {
     "name": "stdout",
     "output_type": "stream",
     "text": [
      "MSP-PODCAST_0079_0686, 3.360000, Arousal: 16.509945, Valence: -6.025815, Dominance: 26.429839\n"
     ]
    },
    {
     "name": "stderr",
     "output_type": "stream",
     "text": [
      "\r",
      " 13%|█████                                   | 351/2783 [02:30<18:36,  2.18it/s]"
     ]
    },
    {
     "name": "stdout",
     "output_type": "stream",
     "text": [
      "MSP-PODCAST_0079_0687, 4.000000, Arousal: 20.235359, Valence: 2.418690, Dominance: 24.140552\n",
      "MSP-PODCAST_0079_0687, 4.000000, Arousal: 20.886276, Valence: 2.041446, Dominance: 24.572727\n",
      "MSP-PODCAST_0079_0687, 4.000000, Arousal: 21.421489, Valence: 0.775581, Dominance: 25.659757\n",
      "MSP-PODCAST_0079_0687, 4.000000, Arousal: 21.700285, Valence: -0.157104, Dominance: 25.847771\n",
      "MSP-PODCAST_0079_0687, 4.000000, Arousal: 21.171110, Valence: -0.739648, Dominance: 25.738004\n",
      "MSP-PODCAST_0079_0687, 4.000000, Arousal: 19.904851, Valence: -0.781611, Dominance: 25.067768\n",
      "MSP-PODCAST_0079_0687, 3.540000, Arousal: 19.129671, Valence: -1.178690, Dominance: 24.641498\n"
     ]
    },
    {
     "name": "stderr",
     "output_type": "stream",
     "text": [
      "\r",
      " 13%|█████                                   | 352/2783 [02:30<15:27,  2.62it/s]"
     ]
    },
    {
     "name": "stdout",
     "output_type": "stream",
     "text": [
      "MSP-PODCAST_0079_0688, 3.100000, Arousal: 12.263040, Valence: 2.116625, Dominance: 20.383366\n"
     ]
    },
    {
     "name": "stderr",
     "output_type": "stream",
     "text": [
      "\r",
      " 13%|█████                                   | 353/2783 [02:30<15:20,  2.64it/s]"
     ]
    },
    {
     "name": "stdout",
     "output_type": "stream",
     "text": [
      "MSP-PODCAST_0079_0689, 4.000000, Arousal: 24.906405, Valence: 11.585262, Dominance: 28.661933\n",
      "MSP-PODCAST_0079_0689, 4.000000, Arousal: 27.528122, Valence: 12.669475, Dominance: 30.749682\n",
      "MSP-PODCAST_0079_0689, 4.000000, Arousal: 29.823021, Valence: 15.468394, Dominance: 31.394487\n",
      "MSP-PODCAST_0079_0689, 4.000000, Arousal: 31.171422, Valence: 17.533629, Dominance: 31.916644\n",
      "MSP-PODCAST_0079_0689, 4.000000, Arousal: 33.160159, Valence: 18.722825, Dominance: 32.142780\n",
      "MSP-PODCAST_0079_0689, 3.940000, Arousal: 34.319949, Valence: 19.756465, Dominance: 33.420604\n"
     ]
    },
    {
     "name": "stderr",
     "output_type": "stream",
     "text": [
      "\r",
      " 13%|█████                                   | 354/2783 [02:31<16:41,  2.43it/s]"
     ]
    },
    {
     "name": "stdout",
     "output_type": "stream",
     "text": [
      "MSP-PODCAST_0079_0690, 4.000000, Arousal: 38.205672, Valence: 10.532992, Dominance: 27.817581\n",
      "MSP-PODCAST_0079_0690, 4.000000, Arousal: 37.327274, Valence: 5.101397, Dominance: 26.225438\n",
      "MSP-PODCAST_0079_0690, 4.000000, Arousal: 36.260189, Valence: 0.299312, Dominance: 25.203957\n",
      "MSP-PODCAST_0079_0690, 4.000000, Arousal: 35.292260, Valence: -3.514618, Dominance: 24.368227\n",
      "MSP-PODCAST_0079_0690, 4.000000, Arousal: 34.924668, Valence: -6.056512, Dominance: 23.489176\n",
      "MSP-PODCAST_0079_0690, 3.980000, Arousal: 34.242289, Valence: -7.764733, Dominance: 22.800782\n"
     ]
    },
    {
     "name": "stderr",
     "output_type": "stream",
     "text": [
      "\r",
      " 13%|█████                                   | 355/2783 [02:31<15:21,  2.63it/s]"
     ]
    },
    {
     "name": "stdout",
     "output_type": "stream",
     "text": [
      "MSP-PODCAST_0079_0692, 4.000000, Arousal: 6.363360, Valence: 7.210368, Dominance: 11.794991\n",
      "MSP-PODCAST_0079_0692, 4.000000, Arousal: 9.268086, Valence: 8.009657, Dominance: 14.784669\n",
      "MSP-PODCAST_0079_0692, 3.520000, Arousal: 10.656172, Valence: 9.142000, Dominance: 16.539943\n"
     ]
    },
    {
     "name": "stderr",
     "output_type": "stream",
     "text": [
      "\r",
      " 13%|█████                                   | 356/2783 [02:31<14:05,  2.87it/s]"
     ]
    },
    {
     "name": "stdout",
     "output_type": "stream",
     "text": [
      "MSP-PODCAST_0079_0693, 4.000000, Arousal: 22.214088, Valence: 2.802736, Dominance: 33.359776\n",
      "MSP-PODCAST_0079_0693, 3.660000, Arousal: 22.448165, Valence: 1.737175, Dominance: 33.463367\n"
     ]
    },
    {
     "name": "stderr",
     "output_type": "stream",
     "text": [
      "\r",
      " 13%|█████▏                                  | 357/2783 [02:32<14:52,  2.72it/s]"
     ]
    },
    {
     "name": "stdout",
     "output_type": "stream",
     "text": [
      "MSP-PODCAST_0079_0694, 4.000000, Arousal: 30.944654, Valence: -18.766245, Dominance: 46.323522\n",
      "MSP-PODCAST_0079_0694, 4.000000, Arousal: 32.686728, Valence: -20.194599, Dominance: 47.979429\n",
      "MSP-PODCAST_0079_0694, 4.000000, Arousal: 34.756857, Valence: -21.871947, Dominance: 49.701480\n",
      "MSP-PODCAST_0079_0694, 4.000000, Arousal: 36.774135, Valence: -22.800720, Dominance: 51.203941\n",
      "MSP-PODCAST_0079_0694, 4.000000, Arousal: 37.392098, Valence: -23.060549, Dominance: 51.706382\n",
      "MSP-PODCAST_0079_0694, 3.590000, Arousal: 37.880904, Valence: -21.869042, Dominance: 53.053847\n"
     ]
    },
    {
     "name": "stderr",
     "output_type": "stream",
     "text": [
      "\r",
      " 13%|█████▏                                  | 358/2783 [02:32<13:32,  2.98it/s]"
     ]
    },
    {
     "name": "stdout",
     "output_type": "stream",
     "text": [
      "MSP-PODCAST_0079_0695, 2.900000, Arousal: 23.290508, Valence: -25.667066, Dominance: 41.537943\n"
     ]
    },
    {
     "name": "stderr",
     "output_type": "stream",
     "text": [
      "\r",
      " 13%|█████▏                                  | 359/2783 [02:33<14:37,  2.76it/s]"
     ]
    },
    {
     "name": "stdout",
     "output_type": "stream",
     "text": [
      "MSP-PODCAST_0079_0696, 4.000000, Arousal: 39.270417, Valence: -28.356844, Dominance: 50.794006\n",
      "MSP-PODCAST_0079_0696, 4.000000, Arousal: 43.751014, Valence: -28.715167, Dominance: 52.696086\n",
      "MSP-PODCAST_0079_0696, 4.000000, Arousal: 47.590891, Valence: -28.910536, Dominance: 54.868092\n",
      "MSP-PODCAST_0079_0696, 3.530000, Arousal: 50.482078, Valence: -30.480851, Dominance: 56.378643\n"
     ]
    },
    {
     "name": "stderr",
     "output_type": "stream",
     "text": [
      "\r",
      " 13%|█████▏                                  | 360/2783 [02:33<14:22,  2.81it/s]"
     ]
    },
    {
     "name": "stdout",
     "output_type": "stream",
     "text": [
      "MSP-PODCAST_0079_0697, 4.000000, Arousal: 41.280687, Valence: -19.120887, Dominance: 49.529566\n",
      "MSP-PODCAST_0079_0697, 3.940000, Arousal: 41.237872, Valence: -17.869623, Dominance: 49.394157\n"
     ]
    },
    {
     "name": "stderr",
     "output_type": "stream",
     "text": [
      "\r",
      " 13%|█████▏                                  | 361/2783 [02:33<13:07,  3.08it/s]"
     ]
    },
    {
     "name": "stdout",
     "output_type": "stream",
     "text": [
      "MSP-PODCAST_0079_0698, 3.870000, Arousal: 37.823175, Valence: -11.258596, Dominance: 53.428849\n"
     ]
    },
    {
     "name": "stderr",
     "output_type": "stream",
     "text": [
      "\r",
      " 13%|█████▏                                  | 362/2783 [02:33<12:26,  3.25it/s]"
     ]
    },
    {
     "name": "stdout",
     "output_type": "stream",
     "text": [
      "MSP-PODCAST_0079_0699, 4.000000, Arousal: 34.973823, Valence: -11.620294, Dominance: 53.854254\n",
      "MSP-PODCAST_0079_0699, 3.710000, Arousal: 35.851175, Valence: -12.015311, Dominance: 54.104741\n"
     ]
    },
    {
     "name": "stderr",
     "output_type": "stream",
     "text": [
      "\r",
      " 13%|█████▏                                  | 363/2783 [02:34<11:31,  3.50it/s]"
     ]
    },
    {
     "name": "stdout",
     "output_type": "stream",
     "text": [
      "MSP-PODCAST_0079_0700, 3.310000, Arousal: 38.192236, Valence: -3.260435, Dominance: 49.695001\n"
     ]
    },
    {
     "name": "stderr",
     "output_type": "stream",
     "text": [
      "\r",
      " 13%|█████▏                                  | 364/2783 [02:34<10:48,  3.73it/s]"
     ]
    },
    {
     "name": "stdout",
     "output_type": "stream",
     "text": [
      "MSP-PODCAST_0079_0701, 3.160000, Arousal: 19.209439, Valence: -4.967192, Dominance: 33.405694\n"
     ]
    },
    {
     "name": "stderr",
     "output_type": "stream",
     "text": [
      "\r",
      " 13%|█████▏                                  | 365/2783 [02:34<12:27,  3.23it/s]"
     ]
    },
    {
     "name": "stdout",
     "output_type": "stream",
     "text": [
      "MSP-PODCAST_0079_0702, 4.000000, Arousal: 10.862923, Valence: -4.056394, Dominance: 35.162577\n",
      "MSP-PODCAST_0079_0702, 4.000000, Arousal: 12.061021, Valence: -2.488595, Dominance: 36.100748\n",
      "MSP-PODCAST_0079_0702, 4.000000, Arousal: 14.128924, Valence: -0.509987, Dominance: 36.987491\n",
      "MSP-PODCAST_0079_0702, 3.970000, Arousal: 15.486106, Valence: 1.350892, Dominance: 36.924146\n"
     ]
    },
    {
     "name": "stderr",
     "output_type": "stream",
     "text": [
      "\r",
      " 13%|█████▎                                  | 366/2783 [02:35<12:50,  3.14it/s]"
     ]
    },
    {
     "name": "stdout",
     "output_type": "stream",
     "text": [
      "MSP-PODCAST_0079_0703, 4.000000, Arousal: 16.324195, Valence: 10.165763, Dominance: 30.035260\n",
      "MSP-PODCAST_0079_0703, 3.840000, Arousal: 15.673498, Valence: 9.430287, Dominance: 29.613483\n"
     ]
    },
    {
     "name": "stderr",
     "output_type": "stream",
     "text": [
      "\r",
      " 13%|█████▎                                  | 367/2783 [02:35<14:09,  2.84it/s]"
     ]
    },
    {
     "name": "stdout",
     "output_type": "stream",
     "text": [
      "MSP-PODCAST_0079_0704, 4.000000, Arousal: 12.139247, Valence: 5.826917, Dominance: 26.089257\n",
      "MSP-PODCAST_0079_0704, 4.000000, Arousal: 12.582033, Valence: 3.067787, Dominance: 26.950353\n",
      "MSP-PODCAST_0079_0704, 4.000000, Arousal: 13.871911, Valence: 0.636931, Dominance: 27.888472\n",
      "MSP-PODCAST_0079_0704, 4.000000, Arousal: 15.472387, Valence: -2.636214, Dominance: 30.256271\n",
      "MSP-PODCAST_0079_0704, 3.720000, Arousal: 16.499847, Valence: -4.722740, Dominance: 32.185374\n"
     ]
    },
    {
     "name": "stderr",
     "output_type": "stream",
     "text": [
      "\r",
      " 13%|█████▎                                  | 368/2783 [02:35<13:52,  2.90it/s]"
     ]
    },
    {
     "name": "stdout",
     "output_type": "stream",
     "text": [
      "MSP-PODCAST_0079_0705, 4.000000, Arousal: 19.693712, Valence: -9.433899, Dominance: 34.164451\n",
      "MSP-PODCAST_0079_0705, 4.000000, Arousal: 20.543784, Valence: -8.501316, Dominance: 35.804060\n",
      "MSP-PODCAST_0079_0705, 3.770000, Arousal: 21.615576, Valence: -7.740268, Dominance: 36.399118\n"
     ]
    },
    {
     "name": "stderr",
     "output_type": "stream",
     "text": [
      "\r",
      " 13%|█████▎                                  | 369/2783 [02:36<15:45,  2.55it/s]"
     ]
    },
    {
     "name": "stdout",
     "output_type": "stream",
     "text": [
      "MSP-PODCAST_0079_0706, 4.000000, Arousal: 43.918584, Valence: 13.045261, Dominance: 49.298063\n",
      "MSP-PODCAST_0079_0706, 4.000000, Arousal: 46.148325, Valence: 17.485294, Dominance: 49.379381\n",
      "MSP-PODCAST_0079_0706, 4.000000, Arousal: 48.256270, Valence: 21.530768, Dominance: 49.059193\n",
      "MSP-PODCAST_0079_0706, 4.000000, Arousal: 48.696814, Valence: 23.084214, Dominance: 48.567867\n",
      "MSP-PODCAST_0079_0706, 4.000000, Arousal: 48.520288, Valence: 22.956242, Dominance: 47.458009\n",
      "MSP-PODCAST_0079_0706, 4.000000, Arousal: 48.628878, Valence: 23.795641, Dominance: 46.300855\n",
      "MSP-PODCAST_0079_0706, 4.000000, Arousal: 48.874065, Valence: 24.950323, Dominance: 45.100997\n",
      "MSP-PODCAST_0079_0706, 3.720000, Arousal: 48.298774, Valence: 24.480599, Dominance: 44.319643\n"
     ]
    },
    {
     "name": "stderr",
     "output_type": "stream",
     "text": [
      "\r",
      " 13%|█████▎                                  | 370/2783 [02:36<15:17,  2.63it/s]"
     ]
    },
    {
     "name": "stdout",
     "output_type": "stream",
     "text": [
      "MSP-PODCAST_0079_0707, 4.000000, Arousal: 28.426018, Valence: 11.682051, Dominance: 38.636578\n",
      "MSP-PODCAST_0079_0707, 4.000000, Arousal: 28.828069, Valence: 11.167938, Dominance: 38.434230\n",
      "MSP-PODCAST_0079_0707, 4.000000, Arousal: 29.565933, Valence: 11.068570, Dominance: 39.174767\n",
      "MSP-PODCAST_0079_0707, 4.000000, Arousal: 30.407427, Valence: 10.977443, Dominance: 39.510727\n",
      "MSP-PODCAST_0079_0707, 3.510000, Arousal: 30.922923, Valence: 11.488986, Dominance: 39.669255\n"
     ]
    },
    {
     "name": "stderr",
     "output_type": "stream",
     "text": [
      "\r",
      " 13%|█████▎                                  | 371/2783 [02:37<17:17,  2.32it/s]"
     ]
    },
    {
     "name": "stdout",
     "output_type": "stream",
     "text": [
      "MSP-PODCAST_0079_0708, 4.000000, Arousal: 26.644825, Valence: 4.570481, Dominance: 37.078628\n",
      "MSP-PODCAST_0079_0708, 4.000000, Arousal: 26.545431, Valence: 4.341989, Dominance: 36.495998\n",
      "MSP-PODCAST_0079_0708, 4.000000, Arousal: 26.397021, Valence: 3.764561, Dominance: 36.456599\n",
      "MSP-PODCAST_0079_0708, 4.000000, Arousal: 26.066893, Valence: 2.984026, Dominance: 36.069637\n",
      "MSP-PODCAST_0079_0708, 4.000000, Arousal: 25.730627, Valence: 2.050161, Dominance: 36.033081\n",
      "MSP-PODCAST_0079_0708, 4.000000, Arousal: 25.233285, Valence: 1.571550, Dominance: 35.560793\n",
      "MSP-PODCAST_0079_0708, 4.000000, Arousal: 24.428057, Valence: 0.897724, Dominance: 34.959227\n",
      "MSP-PODCAST_0079_0708, 4.000000, Arousal: 23.858065, Valence: -0.088837, Dominance: 34.882350\n",
      "MSP-PODCAST_0079_0708, 4.000000, Arousal: 23.317397, Valence: -1.288914, Dominance: 35.721577\n",
      "MSP-PODCAST_0079_0708, 4.000000, Arousal: 23.313670, Valence: -2.633916, Dominance: 37.475028\n",
      "MSP-PODCAST_0079_0708, 3.800000, Arousal: 23.743467, Valence: -3.391232, Dominance: 38.288633\n"
     ]
    },
    {
     "name": "stderr",
     "output_type": "stream",
     "text": [
      "\r",
      " 13%|█████▎                                  | 372/2783 [02:37<15:23,  2.61it/s]"
     ]
    },
    {
     "name": "stdout",
     "output_type": "stream",
     "text": [
      "MSP-PODCAST_0079_0709, 4.000000, Arousal: 22.920499, Valence: -4.668592, Dominance: 35.247837\n",
      "MSP-PODCAST_0079_0709, 3.670000, Arousal: 22.826030, Valence: -4.884802, Dominance: 35.105713\n"
     ]
    },
    {
     "name": "stderr",
     "output_type": "stream",
     "text": [
      "\r",
      " 13%|█████▎                                  | 373/2783 [02:37<13:17,  3.02it/s]"
     ]
    },
    {
     "name": "stdout",
     "output_type": "stream",
     "text": [
      "MSP-PODCAST_0079_0710, 2.680000, Arousal: 18.669079, Valence: -3.165356, Dominance: 37.524248\n"
     ]
    },
    {
     "name": "stderr",
     "output_type": "stream",
     "text": [
      "\r",
      " 13%|█████▍                                  | 374/2783 [02:38<11:54,  3.37it/s]"
     ]
    },
    {
     "name": "stdout",
     "output_type": "stream",
     "text": [
      "MSP-PODCAST_0079_0711, 3.050000, Arousal: 26.014296, Valence: 18.000756, Dominance: 44.507334\n"
     ]
    },
    {
     "name": "stderr",
     "output_type": "stream",
     "text": [
      "\r",
      " 13%|█████▍                                  | 375/2783 [02:38<11:42,  3.43it/s]"
     ]
    },
    {
     "name": "stdout",
     "output_type": "stream",
     "text": [
      "MSP-PODCAST_0079_0712, 4.000000, Arousal: 23.846423, Valence: 11.978838, Dominance: 31.476035\n",
      "MSP-PODCAST_0079_0712, 4.000000, Arousal: 23.724802, Valence: 11.820699, Dominance: 30.003445\n",
      "MSP-PODCAST_0079_0712, 3.640000, Arousal: 23.824810, Valence: 12.333030, Dominance: 29.864555\n"
     ]
    },
    {
     "name": "stderr",
     "output_type": "stream",
     "text": [
      "\r",
      " 14%|█████▍                                  | 376/2783 [02:38<11:31,  3.48it/s]"
     ]
    },
    {
     "name": "stdout",
     "output_type": "stream",
     "text": [
      "MSP-PODCAST_0079_0713, 4.000000, Arousal: 34.744992, Valence: 22.103963, Dominance: 37.343853\n",
      "MSP-PODCAST_0079_0713, 4.000000, Arousal: 37.210720, Valence: 23.444783, Dominance: 38.292390\n",
      "MSP-PODCAST_0079_0713, 3.990000, Arousal: 39.878808, Valence: 25.458268, Dominance: 39.710919\n"
     ]
    },
    {
     "name": "stderr",
     "output_type": "stream",
     "text": [
      "\r",
      " 14%|█████▍                                  | 377/2783 [02:38<10:57,  3.66it/s]"
     ]
    },
    {
     "name": "stdout",
     "output_type": "stream",
     "text": [
      "MSP-PODCAST_0079_0714, 4.000000, Arousal: 33.763728, Valence: 19.068880, Dominance: 32.594760\n",
      "MSP-PODCAST_0079_0714, 3.560000, Arousal: 32.762507, Valence: 17.959708, Dominance: 31.133524\n"
     ]
    },
    {
     "name": "stderr",
     "output_type": "stream",
     "text": [
      "\r",
      " 14%|█████▍                                  | 378/2783 [02:39<10:10,  3.94it/s]"
     ]
    },
    {
     "name": "stdout",
     "output_type": "stream",
     "text": [
      "MSP-PODCAST_0079_0715, 3.440000, Arousal: 28.625280, Valence: 15.707524, Dominance: 24.053122\n"
     ]
    },
    {
     "name": "stderr",
     "output_type": "stream",
     "text": [
      " 14%|█████▍                                  | 380/2783 [02:39<09:21,  4.28it/s]"
     ]
    },
    {
     "name": "stdout",
     "output_type": "stream",
     "text": [
      "MSP-PODCAST_0079_0716, 4.000000, Arousal: 22.304542, Valence: 18.065505, Dominance: 25.812726\n",
      "MSP-PODCAST_0079_0716, 4.000000, Arousal: 21.863075, Valence: 18.349423, Dominance: 26.714011\n",
      "MSP-PODCAST_0079_0716, 3.710000, Arousal: 21.609112, Valence: 18.211163, Dominance: 27.497832\n",
      "MSP-PODCAST_0079_0717, 2.680000, Arousal: 21.502274, Valence: 14.153270, Dominance: 30.257986\n"
     ]
    },
    {
     "name": "stderr",
     "output_type": "stream",
     "text": [
      "\r",
      " 14%|█████▍                                  | 381/2783 [02:39<09:08,  4.38it/s]"
     ]
    },
    {
     "name": "stdout",
     "output_type": "stream",
     "text": [
      "MSP-PODCAST_0079_0718, 3.620000, Arousal: 21.369641, Valence: 19.666145, Dominance: 35.093021\n"
     ]
    },
    {
     "name": "stderr",
     "output_type": "stream",
     "text": [
      "\r",
      " 14%|█████▍                                  | 382/2783 [02:39<10:03,  3.98it/s]"
     ]
    },
    {
     "name": "stdout",
     "output_type": "stream",
     "text": [
      "MSP-PODCAST_0079_0719, 4.000000, Arousal: 20.239237, Valence: 17.898795, Dominance: 33.261391\n",
      "MSP-PODCAST_0079_0719, 4.000000, Arousal: 20.636611, Valence: 18.753531, Dominance: 33.860821\n",
      "MSP-PODCAST_0079_0719, 4.000000, Arousal: 20.805128, Valence: 18.767085, Dominance: 33.963507\n",
      "MSP-PODCAST_0079_0719, 3.720000, Arousal: 20.926427, Valence: 19.398585, Dominance: 34.252412\n"
     ]
    },
    {
     "name": "stderr",
     "output_type": "stream",
     "text": [
      " 14%|█████▌                                  | 384/2783 [02:40<09:37,  4.15it/s]"
     ]
    },
    {
     "name": "stdout",
     "output_type": "stream",
     "text": [
      "MSP-PODCAST_0079_0720, 4.000000, Arousal: 20.066761, Valence: 19.149007, Dominance: 26.720434\n",
      "MSP-PODCAST_0079_0720, 4.000000, Arousal: 19.913048, Valence: 18.902283, Dominance: 25.836397\n",
      "MSP-PODCAST_0079_0720, 3.580000, Arousal: 19.819388, Valence: 18.913179, Dominance: 25.588132\n",
      "MSP-PODCAST_0079_0721, 2.220000, Arousal: 16.136573, Valence: 22.694083, Dominance: 24.972281\n"
     ]
    },
    {
     "name": "stderr",
     "output_type": "stream",
     "text": [
      "\r",
      " 14%|█████▌                                  | 385/2783 [02:40<09:32,  4.19it/s]"
     ]
    },
    {
     "name": "stdout",
     "output_type": "stream",
     "text": [
      "MSP-PODCAST_0079_0722, 4.000000, Arousal: 13.188333, Valence: 22.099453, Dominance: 28.867411\n"
     ]
    },
    {
     "name": "stderr",
     "output_type": "stream",
     "text": [
      "\r",
      " 14%|█████▌                                  | 386/2783 [02:41<14:17,  2.80it/s]"
     ]
    },
    {
     "name": "stdout",
     "output_type": "stream",
     "text": [
      "MSP-PODCAST_0079_0723, 4.000000, Arousal: 10.926312, Valence: 24.164856, Dominance: 31.165850\n",
      "MSP-PODCAST_0079_0723, 4.000000, Arousal: 11.185217, Valence: 24.445140, Dominance: 30.947995\n",
      "MSP-PODCAST_0079_0723, 4.000000, Arousal: 11.802241, Valence: 24.440512, Dominance: 31.321579\n",
      "MSP-PODCAST_0079_0723, 4.000000, Arousal: 13.004529, Valence: 23.398355, Dominance: 30.661066\n",
      "MSP-PODCAST_0079_0723, 4.000000, Arousal: 13.486442, Valence: 22.911707, Dominance: 30.103270\n",
      "MSP-PODCAST_0079_0723, 4.000000, Arousal: 13.387047, Valence: 22.895888, Dominance: 30.183988\n",
      "MSP-PODCAST_0079_0723, 4.000000, Arousal: 13.318496, Valence: 24.353848, Dominance: 29.808763\n",
      "MSP-PODCAST_0079_0723, 4.000000, Arousal: 13.438951, Valence: 25.472201, Dominance: 29.563981\n",
      "MSP-PODCAST_0079_0723, 4.000000, Arousal: 13.188082, Valence: 25.800025, Dominance: 29.644455\n",
      "MSP-PODCAST_0079_0723, 4.000000, Arousal: 13.061930, Valence: 26.079244, Dominance: 29.995378\n",
      "MSP-PODCAST_0079_0723, 4.000000, Arousal: 12.701619, Valence: 25.601710, Dominance: 29.182436\n",
      "MSP-PODCAST_0079_0723, 4.000000, Arousal: 11.921300, Valence: 25.959741, Dominance: 28.833309\n",
      "MSP-PODCAST_0079_0723, 4.000000, Arousal: 11.458411, Valence: 25.338057, Dominance: 27.646465\n",
      "MSP-PODCAST_0079_0723, 3.990000, Arousal: 11.199783, Valence: 24.598501, Dominance: 26.234917\n"
     ]
    },
    {
     "name": "stderr",
     "output_type": "stream",
     "text": [
      "\r",
      " 14%|█████▌                                  | 387/2783 [02:41<12:27,  3.21it/s]"
     ]
    },
    {
     "name": "stdout",
     "output_type": "stream",
     "text": [
      "MSP-PODCAST_0079_0724, 2.180000, Arousal: 11.878627, Valence: 23.373584, Dominance: 28.480013\n"
     ]
    },
    {
     "name": "stderr",
     "output_type": "stream",
     "text": [
      "\r",
      " 14%|█████▌                                  | 388/2783 [02:42<14:43,  2.71it/s]"
     ]
    },
    {
     "name": "stdout",
     "output_type": "stream",
     "text": [
      "MSP-PODCAST_0079_0725, 4.000000, Arousal: 14.574329, Valence: 20.027531, Dominance: 29.260387\n",
      "MSP-PODCAST_0079_0725, 4.000000, Arousal: 15.122730, Valence: 19.989006, Dominance: 30.351205\n",
      "MSP-PODCAST_0079_0725, 4.000000, Arousal: 15.485211, Valence: 19.872097, Dominance: 30.999995\n",
      "MSP-PODCAST_0079_0725, 4.000000, Arousal: 15.978181, Valence: 20.567068, Dominance: 32.141406\n",
      "MSP-PODCAST_0079_0725, 4.000000, Arousal: 16.551859, Valence: 21.875491, Dominance: 32.614778\n",
      "MSP-PODCAST_0079_0725, 4.000000, Arousal: 17.493832, Valence: 22.469515, Dominance: 32.768749\n",
      "MSP-PODCAST_0079_0725, 4.000000, Arousal: 18.092708, Valence: 22.672059, Dominance: 32.661997\n",
      "MSP-PODCAST_0079_0725, 4.000000, Arousal: 18.145604, Valence: 22.759621, Dominance: 32.764471\n",
      "MSP-PODCAST_0079_0725, 4.000000, Arousal: 17.484963, Valence: 22.722264, Dominance: 32.891733\n",
      "MSP-PODCAST_0079_0725, 3.600000, Arousal: 17.363521, Valence: 22.936824, Dominance: 32.769399\n"
     ]
    },
    {
     "name": "stderr",
     "output_type": "stream",
     "text": [
      "\r",
      " 14%|█████▌                                  | 389/2783 [02:42<12:19,  3.24it/s]"
     ]
    },
    {
     "name": "stdout",
     "output_type": "stream",
     "text": [
      "MSP-PODCAST_0079_0726, 1.810000, Arousal: 11.465854, Valence: 22.244232, Dominance: 27.912559\n"
     ]
    },
    {
     "name": "stderr",
     "output_type": "stream",
     "text": [
      "\r",
      " 14%|█████▌                                  | 390/2783 [02:42<12:15,  3.26it/s]"
     ]
    },
    {
     "name": "stdout",
     "output_type": "stream",
     "text": [
      "MSP-PODCAST_0079_0727, 4.000000, Arousal: 9.344011, Valence: 19.881385, Dominance: 30.348209\n",
      "MSP-PODCAST_0079_0727, 4.000000, Arousal: 8.731551, Valence: 18.687124, Dominance: 30.795160\n",
      "MSP-PODCAST_0079_0727, 3.530000, Arousal: 8.552615, Valence: 18.062146, Dominance: 31.806535\n"
     ]
    },
    {
     "name": "stderr",
     "output_type": "stream",
     "text": [
      "\r",
      " 14%|█████▌                                  | 391/2783 [02:42<13:55,  2.86it/s]"
     ]
    },
    {
     "name": "stdout",
     "output_type": "stream",
     "text": [
      "MSP-PODCAST_0079_0728, 4.000000, Arousal: 8.714968, Valence: 21.196976, Dominance: 30.262556\n",
      "MSP-PODCAST_0079_0728, 4.000000, Arousal: 8.084909, Valence: 21.409070, Dominance: 30.826231\n",
      "MSP-PODCAST_0079_0728, 4.000000, Arousal: 6.888839, Valence: 21.359896, Dominance: 30.381551\n",
      "MSP-PODCAST_0079_0728, 4.000000, Arousal: 6.100537, Valence: 21.298405, Dominance: 30.210956\n",
      "MSP-PODCAST_0079_0728, 4.000000, Arousal: 5.539731, Valence: 20.535159, Dominance: 29.613750\n",
      "MSP-PODCAST_0079_0728, 4.000000, Arousal: 5.117111, Valence: 19.644602, Dominance: 29.183476\n",
      "MSP-PODCAST_0079_0728, 4.000000, Arousal: 4.411703, Valence: 19.222997, Dominance: 28.782519\n",
      "MSP-PODCAST_0079_0728, 4.000000, Arousal: 4.219477, Valence: 19.005436, Dominance: 28.604413\n",
      "MSP-PODCAST_0079_0728, 3.890000, Arousal: 3.847310, Valence: 19.502321, Dominance: 28.768262\n"
     ]
    },
    {
     "name": "stderr",
     "output_type": "stream",
     "text": [
      "\r",
      " 14%|█████▋                                  | 392/2783 [02:43<16:09,  2.47it/s]"
     ]
    },
    {
     "name": "stdout",
     "output_type": "stream",
     "text": [
      "MSP-PODCAST_0079_0729, 4.000000, Arousal: 5.295340, Valence: 21.940612, Dominance: 30.438438\n",
      "MSP-PODCAST_0079_0729, 4.000000, Arousal: 5.763091, Valence: 22.108226, Dominance: 30.953485\n",
      "MSP-PODCAST_0079_0729, 4.000000, Arousal: 6.161506, Valence: 22.142947, Dominance: 31.612825\n",
      "MSP-PODCAST_0079_0729, 4.000000, Arousal: 6.652979, Valence: 21.959055, Dominance: 31.280135\n",
      "MSP-PODCAST_0079_0729, 4.000000, Arousal: 7.131094, Valence: 22.172686, Dominance: 30.742458\n",
      "MSP-PODCAST_0079_0729, 4.000000, Arousal: 7.466977, Valence: 22.309334, Dominance: 31.052219\n",
      "MSP-PODCAST_0079_0729, 4.000000, Arousal: 7.815806, Valence: 22.660576, Dominance: 30.953590\n",
      "MSP-PODCAST_0079_0729, 4.000000, Arousal: 8.142154, Valence: 22.631361, Dominance: 30.085640\n",
      "MSP-PODCAST_0079_0729, 4.000000, Arousal: 8.333743, Valence: 22.805793, Dominance: 29.082703\n",
      "MSP-PODCAST_0079_0729, 4.000000, Arousal: 8.625089, Valence: 21.648567, Dominance: 27.863788\n",
      "MSP-PODCAST_0079_0729, 3.650000, Arousal: 8.919725, Valence: 21.606168, Dominance: 27.194746\n"
     ]
    },
    {
     "name": "stderr",
     "output_type": "stream",
     "text": [
      "\r",
      " 14%|█████▋                                  | 393/2783 [02:44<17:25,  2.29it/s]"
     ]
    },
    {
     "name": "stdout",
     "output_type": "stream",
     "text": [
      "MSP-PODCAST_0079_0730, 4.000000, Arousal: 6.832780, Valence: 17.476944, Dominance: 29.441672\n",
      "MSP-PODCAST_0079_0730, 4.000000, Arousal: 6.852000, Valence: 16.445727, Dominance: 29.343066\n",
      "MSP-PODCAST_0079_0730, 4.000000, Arousal: 7.132823, Valence: 15.566104, Dominance: 29.188841\n",
      "MSP-PODCAST_0079_0730, 4.000000, Arousal: 7.468868, Valence: 14.735062, Dominance: 28.782421\n",
      "MSP-PODCAST_0079_0730, 4.000000, Arousal: 7.440153, Valence: 13.364687, Dominance: 27.789500\n",
      "MSP-PODCAST_0079_0730, 4.000000, Arousal: 7.375313, Valence: 12.341869, Dominance: 27.061081\n",
      "MSP-PODCAST_0079_0730, 4.000000, Arousal: 7.608972, Valence: 12.445858, Dominance: 26.733292\n",
      "MSP-PODCAST_0079_0730, 4.000000, Arousal: 7.498743, Valence: 13.282976, Dominance: 26.252774\n",
      "MSP-PODCAST_0079_0730, 4.000000, Arousal: 7.311834, Valence: 13.598197, Dominance: 25.260053\n",
      "MSP-PODCAST_0079_0730, 4.000000, Arousal: 6.791834, Valence: 13.260938, Dominance: 24.117334\n",
      "MSP-PODCAST_0079_0730, 3.740000, Arousal: 6.184634, Valence: 12.686780, Dominance: 23.487952\n"
     ]
    },
    {
     "name": "stderr",
     "output_type": "stream",
     "text": [
      "\r",
      " 14%|█████▋                                  | 394/2783 [02:44<17:19,  2.30it/s]"
     ]
    },
    {
     "name": "stdout",
     "output_type": "stream",
     "text": [
      "MSP-PODCAST_0079_0731, 4.000000, Arousal: 5.439912, Valence: 13.709871, Dominance: 25.264567\n",
      "MSP-PODCAST_0079_0731, 4.000000, Arousal: 5.455836, Valence: 13.722736, Dominance: 25.340419\n",
      "MSP-PODCAST_0079_0731, 4.000000, Arousal: 5.482059, Valence: 13.674209, Dominance: 24.927460\n",
      "MSP-PODCAST_0079_0731, 4.000000, Arousal: 5.828848, Valence: 13.368692, Dominance: 24.916626\n",
      "MSP-PODCAST_0079_0731, 4.000000, Arousal: 5.880835, Valence: 12.191024, Dominance: 25.590478\n",
      "MSP-PODCAST_0079_0731, 4.000000, Arousal: 6.139212, Valence: 11.665014, Dominance: 25.615951\n",
      "MSP-PODCAST_0079_0731, 4.000000, Arousal: 6.596659, Valence: 11.766105, Dominance: 25.307971\n",
      "MSP-PODCAST_0079_0731, 3.830000, Arousal: 6.683289, Valence: 11.542007, Dominance: 25.348741\n"
     ]
    },
    {
     "name": "stderr",
     "output_type": "stream",
     "text": [
      "\r",
      " 14%|█████▋                                  | 395/2783 [02:44<15:31,  2.56it/s]"
     ]
    },
    {
     "name": "stdout",
     "output_type": "stream",
     "text": [
      "MSP-PODCAST_0079_0732, 4.000000, Arousal: 21.147926, Valence: 34.403817, Dominance: 37.564807\n",
      "MSP-PODCAST_0079_0732, 4.000000, Arousal: 23.078661, Valence: 36.285495, Dominance: 37.323393\n",
      "MSP-PODCAST_0079_0732, 3.970000, Arousal: 24.945019, Valence: 38.497824, Dominance: 38.013160\n"
     ]
    },
    {
     "name": "stderr",
     "output_type": "stream",
     "text": [
      "\r",
      " 14%|█████▋                                  | 396/2783 [02:45<14:17,  2.78it/s]"
     ]
    },
    {
     "name": "stdout",
     "output_type": "stream",
     "text": [
      "MSP-PODCAST_0079_0733, 4.000000, Arousal: 23.022308, Valence: 30.073957, Dominance: 32.699468\n",
      "MSP-PODCAST_0079_0733, 4.000000, Arousal: 22.591576, Valence: 31.328254, Dominance: 31.464066\n",
      "MSP-PODCAST_0079_0733, 3.780000, Arousal: 22.812155, Valence: 32.886242, Dominance: 31.252527\n"
     ]
    },
    {
     "name": "stderr",
     "output_type": "stream",
     "text": [
      "\r",
      " 14%|█████▋                                  | 397/2783 [02:45<14:32,  2.73it/s]"
     ]
    },
    {
     "name": "stdout",
     "output_type": "stream",
     "text": [
      "MSP-PODCAST_0079_0734, 4.000000, Arousal: 21.991772, Valence: 30.021306, Dominance: 34.064715\n",
      "MSP-PODCAST_0079_0734, 4.000000, Arousal: 22.088907, Valence: 31.019970, Dominance: 36.045272\n",
      "MSP-PODCAST_0079_0734, 4.000000, Arousal: 21.922437, Valence: 31.714062, Dominance: 36.847982\n",
      "MSP-PODCAST_0079_0734, 4.000000, Arousal: 22.278215, Valence: 32.485442, Dominance: 37.780074\n",
      "MSP-PODCAST_0079_0734, 4.000000, Arousal: 22.295172, Valence: 33.096580, Dominance: 38.729367\n",
      "MSP-PODCAST_0079_0734, 3.780000, Arousal: 22.412178, Valence: 33.732686, Dominance: 39.858826\n"
     ]
    },
    {
     "name": "stderr",
     "output_type": "stream",
     "text": [
      "\r",
      " 14%|█████▋                                  | 398/2783 [02:45<13:26,  2.96it/s]"
     ]
    },
    {
     "name": "stdout",
     "output_type": "stream",
     "text": [
      "MSP-PODCAST_0079_0735, 4.000000, Arousal: 16.408071, Valence: 32.710984, Dominance: 31.034454\n",
      "MSP-PODCAST_0079_0735, 3.860000, Arousal: 16.895449, Valence: 33.120602, Dominance: 30.315759\n"
     ]
    },
    {
     "name": "stderr",
     "output_type": "stream",
     "text": [
      "\r",
      " 14%|█████▋                                  | 399/2783 [02:46<14:30,  2.74it/s]"
     ]
    },
    {
     "name": "stdout",
     "output_type": "stream",
     "text": [
      "MSP-PODCAST_0079_0736, 4.000000, Arousal: 14.552599, Valence: 26.904258, Dominance: 23.434744\n",
      "MSP-PODCAST_0079_0736, 4.000000, Arousal: 13.306968, Valence: 26.616963, Dominance: 22.555652\n",
      "MSP-PODCAST_0079_0736, 4.000000, Arousal: 12.412304, Valence: 27.486804, Dominance: 22.586750\n",
      "MSP-PODCAST_0079_0736, 4.000000, Arousal: 11.405117, Valence: 28.233457, Dominance: 23.298200\n",
      "MSP-PODCAST_0079_0736, 4.000000, Arousal: 10.143538, Valence: 28.177029, Dominance: 24.910762\n",
      "MSP-PODCAST_0079_0736, 4.000000, Arousal: 8.795919, Valence: 27.991359, Dominance: 25.716268\n",
      "MSP-PODCAST_0079_0736, 4.000000, Arousal: 8.139371, Valence: 28.175989, Dominance: 25.536758\n",
      "MSP-PODCAST_0079_0736, 3.640000, Arousal: 7.943954, Valence: 27.969114, Dominance: 25.601940\n"
     ]
    },
    {
     "name": "stderr",
     "output_type": "stream",
     "text": [
      "\r",
      " 14%|█████▋                                  | 400/2783 [02:46<17:25,  2.28it/s]"
     ]
    },
    {
     "name": "stdout",
     "output_type": "stream",
     "text": [
      "MSP-PODCAST_0079_0737, 4.000000, Arousal: 10.250522, Valence: 29.056702, Dominance: 29.938478\n",
      "MSP-PODCAST_0079_0737, 4.000000, Arousal: 10.759623, Valence: 28.237207, Dominance: 29.558059\n",
      "MSP-PODCAST_0079_0737, 4.000000, Arousal: 11.075257, Valence: 27.856471, Dominance: 28.720585\n",
      "MSP-PODCAST_0079_0737, 4.000000, Arousal: 11.364066, Valence: 26.627800, Dominance: 26.885322\n",
      "MSP-PODCAST_0079_0737, 4.000000, Arousal: 11.219677, Valence: 25.404875, Dominance: 25.596129\n",
      "MSP-PODCAST_0079_0737, 4.000000, Arousal: 10.891148, Valence: 24.340186, Dominance: 24.048308\n",
      "MSP-PODCAST_0079_0737, 4.000000, Arousal: 9.904359, Valence: 24.277833, Dominance: 22.783468\n",
      "MSP-PODCAST_0079_0737, 4.000000, Arousal: 9.105603, Valence: 24.154393, Dominance: 21.610738\n",
      "MSP-PODCAST_0079_0737, 4.000000, Arousal: 8.436999, Valence: 23.308286, Dominance: 20.254310\n",
      "MSP-PODCAST_0079_0737, 4.000000, Arousal: 7.820570, Valence: 22.981247, Dominance: 19.645454\n",
      "MSP-PODCAST_0079_0737, 4.000000, Arousal: 7.427953, Valence: 23.208746, Dominance: 19.741261\n",
      "MSP-PODCAST_0079_0737, 4.000000, Arousal: 6.906312, Valence: 23.761164, Dominance: 20.474419\n",
      "MSP-PODCAST_0079_0737, 4.000000, Arousal: 6.506479, Valence: 24.209145, Dominance: 21.247014\n",
      "MSP-PODCAST_0079_0737, 3.520000, Arousal: 6.328270, Valence: 24.682621, Dominance: 22.177129\n"
     ]
    },
    {
     "name": "stderr",
     "output_type": "stream",
     "text": [
      "\r",
      " 14%|█████▊                                  | 401/2783 [02:47<16:22,  2.42it/s]"
     ]
    },
    {
     "name": "stdout",
     "output_type": "stream",
     "text": [
      "MSP-PODCAST_0079_0738, 4.000000, Arousal: 6.259700, Valence: 28.531501, Dominance: 25.416664\n",
      "MSP-PODCAST_0079_0738, 4.000000, Arousal: 6.071887, Valence: 29.128634, Dominance: 26.239159\n",
      "MSP-PODCAST_0079_0738, 4.000000, Arousal: 5.919789, Valence: 28.890502, Dominance: 26.913896\n",
      "MSP-PODCAST_0079_0738, 4.000000, Arousal: 5.656415, Valence: 29.032696, Dominance: 27.417028\n",
      "MSP-PODCAST_0079_0738, 3.510000, Arousal: 5.588492, Valence: 28.896752, Dominance: 28.039883\n"
     ]
    },
    {
     "name": "stderr",
     "output_type": "stream",
     "text": [
      "\r",
      " 14%|█████▊                                  | 402/2783 [02:47<17:19,  2.29it/s]"
     ]
    },
    {
     "name": "stdout",
     "output_type": "stream",
     "text": [
      "MSP-PODCAST_0079_0739, 4.000000, Arousal: 4.032345, Valence: 27.800277, Dominance: 24.902876\n",
      "MSP-PODCAST_0079_0739, 4.000000, Arousal: 3.468965, Valence: 28.001273, Dominance: 24.049996\n",
      "MSP-PODCAST_0079_0739, 4.000000, Arousal: 2.842122, Valence: 28.448424, Dominance: 22.911513\n",
      "MSP-PODCAST_0079_0739, 4.000000, Arousal: 2.244915, Valence: 29.010131, Dominance: 21.387007\n",
      "MSP-PODCAST_0079_0739, 4.000000, Arousal: 1.783915, Valence: 29.213347, Dominance: 20.701903\n",
      "MSP-PODCAST_0079_0739, 4.000000, Arousal: 1.347226, Valence: 29.354270, Dominance: 19.886264\n",
      "MSP-PODCAST_0079_0739, 4.000000, Arousal: 1.503086, Valence: 30.201712, Dominance: 19.453390\n",
      "MSP-PODCAST_0079_0739, 3.620000, Arousal: 1.518887, Valence: 30.169089, Dominance: 19.018264\n"
     ]
    },
    {
     "name": "stderr",
     "output_type": "stream",
     "text": [
      "\r",
      " 14%|█████▊                                  | 403/2783 [02:47<14:32,  2.73it/s]"
     ]
    },
    {
     "name": "stdout",
     "output_type": "stream",
     "text": [
      "MSP-PODCAST_0079_0740, 1.460000, Arousal: 1.649184, Valence: 26.375639, Dominance: 21.778583\n"
     ]
    },
    {
     "name": "stderr",
     "output_type": "stream",
     "text": [
      "\r",
      " 15%|█████▊                                  | 404/2783 [02:48<15:40,  2.53it/s]"
     ]
    },
    {
     "name": "stdout",
     "output_type": "stream",
     "text": [
      "MSP-PODCAST_0079_0741, 4.000000, Arousal: 7.838335, Valence: 27.222700, Dominance: 24.201552\n",
      "MSP-PODCAST_0079_0741, 4.000000, Arousal: 8.247756, Valence: 27.327907, Dominance: 24.093164\n",
      "MSP-PODCAST_0079_0741, 4.000000, Arousal: 8.654576, Valence: 27.605099, Dominance: 24.318621\n",
      "MSP-PODCAST_0079_0741, 4.000000, Arousal: 8.581444, Valence: 27.495662, Dominance: 23.655664\n",
      "MSP-PODCAST_0079_0741, 4.000000, Arousal: 9.205406, Valence: 27.949824, Dominance: 23.615767\n",
      "MSP-PODCAST_0079_0741, 3.900000, Arousal: 9.705423, Valence: 28.950124, Dominance: 24.606309\n"
     ]
    },
    {
     "name": "stderr",
     "output_type": "stream",
     "text": [
      "\r",
      " 15%|█████▊                                  | 405/2783 [02:48<14:07,  2.80it/s]"
     ]
    },
    {
     "name": "stdout",
     "output_type": "stream",
     "text": [
      "MSP-PODCAST_0079_0742, 4.000000, Arousal: 9.542425, Valence: 27.159786, Dominance: 24.362857\n",
      "MSP-PODCAST_0079_0742, 3.600000, Arousal: 8.852991, Valence: 26.612085, Dominance: 23.661042\n"
     ]
    },
    {
     "name": "stderr",
     "output_type": "stream",
     "text": [
      "\r",
      " 15%|█████▊                                  | 406/2783 [02:48<14:22,  2.76it/s]"
     ]
    },
    {
     "name": "stdout",
     "output_type": "stream",
     "text": [
      "MSP-PODCAST_0079_0743, 4.000000, Arousal: 7.062013, Valence: 23.081871, Dominance: 19.871008\n",
      "MSP-PODCAST_0079_0743, 4.000000, Arousal: 7.689020, Valence: 24.881524, Dominance: 20.509072\n",
      "MSP-PODCAST_0079_0743, 4.000000, Arousal: 8.527735, Valence: 26.320872, Dominance: 21.849103\n",
      "MSP-PODCAST_0079_0743, 4.000000, Arousal: 9.713099, Valence: 26.356893, Dominance: 22.201813\n",
      "MSP-PODCAST_0079_0743, 3.760000, Arousal: 10.738479, Valence: 26.757166, Dominance: 22.937689\n"
     ]
    },
    {
     "name": "stderr",
     "output_type": "stream",
     "text": [
      "\r",
      " 15%|█████▊                                  | 407/2783 [02:49<12:41,  3.12it/s]"
     ]
    },
    {
     "name": "stdout",
     "output_type": "stream",
     "text": [
      "MSP-PODCAST_0079_0744, 3.270000, Arousal: 21.060921, Valence: 28.194536, Dominance: 30.471714\n"
     ]
    },
    {
     "name": "stderr",
     "output_type": "stream",
     "text": [
      " 15%|█████▉                                  | 409/2783 [02:49<10:13,  3.87it/s]"
     ]
    },
    {
     "name": "stdout",
     "output_type": "stream",
     "text": [
      "MSP-PODCAST_0079_0745, 4.000000, Arousal: 19.916373, Valence: 30.703537, Dominance: 33.182663\n",
      "MSP-PODCAST_0079_0745, 3.830000, Arousal: 20.423879, Valence: 31.322100, Dominance: 33.127807\n",
      "MSP-PODCAST_0079_0746, 1.660000, Arousal: 15.086238, Valence: 33.692691, Dominance: 27.382904\n"
     ]
    },
    {
     "name": "stderr",
     "output_type": "stream",
     "text": [
      " 15%|█████▉                                  | 411/2783 [02:49<08:53,  4.45it/s]"
     ]
    },
    {
     "name": "stdout",
     "output_type": "stream",
     "text": [
      "MSP-PODCAST_0079_0747, 3.770000, Arousal: 15.114604, Valence: 33.996369, Dominance: 28.538190\n",
      "MSP-PODCAST_0079_0748, 2.610000, Arousal: 12.500209, Valence: 31.851096, Dominance: 27.043302\n"
     ]
    },
    {
     "name": "stderr",
     "output_type": "stream",
     "text": [
      "\r",
      " 15%|█████▉                                  | 412/2783 [02:50<09:40,  4.08it/s]"
     ]
    },
    {
     "name": "stdout",
     "output_type": "stream",
     "text": [
      "MSP-PODCAST_0079_0749, 4.000000, Arousal: 24.399420, Valence: 36.238529, Dominance: 34.552499\n",
      "MSP-PODCAST_0079_0749, 4.000000, Arousal: 24.337191, Valence: 35.565704, Dominance: 35.935760\n",
      "MSP-PODCAST_0079_0749, 3.780000, Arousal: 23.738121, Valence: 35.079018, Dominance: 35.992451\n"
     ]
    },
    {
     "name": "stderr",
     "output_type": "stream",
     "text": [
      "\r",
      " 15%|█████▉                                  | 413/2783 [02:50<10:39,  3.71it/s]"
     ]
    },
    {
     "name": "stdout",
     "output_type": "stream",
     "text": [
      "MSP-PODCAST_0079_0750, 4.000000, Arousal: 21.958400, Valence: 29.723939, Dominance: 37.553207\n",
      "MSP-PODCAST_0079_0750, 4.000000, Arousal: 22.231856, Valence: 31.220432, Dominance: 38.632509\n",
      "MSP-PODCAST_0079_0750, 4.000000, Arousal: 22.626689, Valence: 31.801941, Dominance: 39.832577\n",
      "MSP-PODCAST_0079_0750, 4.000000, Arousal: 23.402875, Valence: 32.082931, Dominance: 40.211330\n",
      "MSP-PODCAST_0079_0750, 3.550000, Arousal: 23.570368, Valence: 32.024347, Dominance: 40.914233\n"
     ]
    },
    {
     "name": "stderr",
     "output_type": "stream",
     "text": [
      "\r",
      " 15%|█████▉                                  | 414/2783 [02:50<09:42,  4.07it/s]"
     ]
    },
    {
     "name": "stdout",
     "output_type": "stream",
     "text": [
      "MSP-PODCAST_0079_0751, 2.410000, Arousal: 35.956797, Valence: 36.751638, Dominance: 41.909321\n"
     ]
    },
    {
     "name": "stderr",
     "output_type": "stream",
     "text": [
      "\r",
      " 15%|█████▉                                  | 415/2783 [02:51<12:25,  3.18it/s]"
     ]
    },
    {
     "name": "stdout",
     "output_type": "stream",
     "text": [
      "MSP-PODCAST_0079_0752, 4.000000, Arousal: 28.171793, Valence: 36.636437, Dominance: 37.664704\n",
      "MSP-PODCAST_0079_0752, 4.000000, Arousal: 28.415742, Valence: 35.996811, Dominance: 37.900331\n",
      "MSP-PODCAST_0079_0752, 4.000000, Arousal: 28.714126, Valence: 36.120171, Dominance: 38.823472\n",
      "MSP-PODCAST_0079_0752, 4.000000, Arousal: 28.927889, Valence: 35.670026, Dominance: 38.122515\n",
      "MSP-PODCAST_0079_0752, 4.000000, Arousal: 29.003483, Valence: 35.595143, Dominance: 38.259628\n",
      "MSP-PODCAST_0079_0752, 4.000000, Arousal: 28.483121, Valence: 35.582076, Dominance: 38.917518\n",
      "MSP-PODCAST_0079_0752, 4.000000, Arousal: 28.975557, Valence: 35.392422, Dominance: 39.513193\n",
      "MSP-PODCAST_0079_0752, 4.000000, Arousal: 29.433752, Valence: 35.239194, Dominance: 38.743722\n",
      "MSP-PODCAST_0079_0752, 3.970000, Arousal: 29.695186, Valence: 35.440127, Dominance: 36.864067\n"
     ]
    },
    {
     "name": "stderr",
     "output_type": "stream",
     "text": [
      "\r",
      " 15%|█████▉                                  | 416/2783 [02:51<13:11,  2.99it/s]"
     ]
    },
    {
     "name": "stdout",
     "output_type": "stream",
     "text": [
      "MSP-PODCAST_0079_0753, 4.000000, Arousal: 27.761274, Valence: 31.770098, Dominance: 25.324909\n",
      "MSP-PODCAST_0079_0753, 4.000000, Arousal: 27.234750, Valence: 31.206816, Dominance: 25.469057\n",
      "MSP-PODCAST_0079_0753, 4.000000, Arousal: 26.962745, Valence: 31.117228, Dominance: 25.813423\n",
      "MSP-PODCAST_0079_0753, 4.000000, Arousal: 27.017268, Valence: 31.592147, Dominance: 25.948849\n",
      "MSP-PODCAST_0079_0753, 3.640000, Arousal: 27.097352, Valence: 31.878923, Dominance: 25.646981\n"
     ]
    },
    {
     "name": "stderr",
     "output_type": "stream",
     "text": [
      "\r",
      " 15%|█████▉                                  | 417/2783 [02:52<16:19,  2.42it/s]"
     ]
    },
    {
     "name": "stdout",
     "output_type": "stream",
     "text": [
      "MSP-PODCAST_0079_0754, 4.000000, Arousal: 22.399818, Valence: 31.345794, Dominance: 24.577657\n",
      "MSP-PODCAST_0079_0754, 4.000000, Arousal: 21.663932, Valence: 31.525383, Dominance: 24.182567\n",
      "MSP-PODCAST_0079_0754, 4.000000, Arousal: 21.058001, Valence: 31.538993, Dominance: 23.981365\n",
      "MSP-PODCAST_0079_0754, 4.000000, Arousal: 20.971160, Valence: 31.309677, Dominance: 23.338497\n",
      "MSP-PODCAST_0079_0754, 4.000000, Arousal: 21.335443, Valence: 31.129516, Dominance: 22.991930\n",
      "MSP-PODCAST_0079_0754, 4.000000, Arousal: 21.333588, Valence: 30.781662, Dominance: 22.588876\n",
      "MSP-PODCAST_0079_0754, 4.000000, Arousal: 21.527015, Valence: 30.035300, Dominance: 22.049105\n",
      "MSP-PODCAST_0079_0754, 4.000000, Arousal: 21.692966, Valence: 29.116416, Dominance: 21.657665\n",
      "MSP-PODCAST_0079_0754, 4.000000, Arousal: 22.189988, Valence: 27.899900, Dominance: 21.727064\n",
      "MSP-PODCAST_0079_0754, 4.000000, Arousal: 22.396255, Valence: 27.316126, Dominance: 22.051639\n",
      "MSP-PODCAST_0079_0754, 4.000000, Arousal: 22.420757, Valence: 27.152286, Dominance: 22.300564\n",
      "MSP-PODCAST_0079_0754, 4.000000, Arousal: 22.898996, Valence: 26.901617, Dominance: 23.177964\n",
      "MSP-PODCAST_0079_0754, 3.730000, Arousal: 23.138782, Valence: 26.602350, Dominance: 23.310938\n"
     ]
    },
    {
     "name": "stderr",
     "output_type": "stream",
     "text": [
      "\r",
      " 15%|██████                                  | 418/2783 [02:52<15:58,  2.47it/s]"
     ]
    },
    {
     "name": "stdout",
     "output_type": "stream",
     "text": [
      "MSP-PODCAST_0079_0755, 4.000000, Arousal: 20.895631, Valence: 26.041921, Dominance: 31.242313\n",
      "MSP-PODCAST_0079_0755, 4.000000, Arousal: 21.423947, Valence: 26.627603, Dominance: 31.653106\n",
      "MSP-PODCAST_0079_0755, 4.000000, Arousal: 21.841190, Valence: 27.324348, Dominance: 32.107774\n",
      "MSP-PODCAST_0079_0755, 4.000000, Arousal: 21.508086, Valence: 27.373095, Dominance: 30.908813\n",
      "MSP-PODCAST_0079_0755, 4.000000, Arousal: 20.936968, Valence: 27.970462, Dominance: 30.684448\n",
      "MSP-PODCAST_0079_0755, 4.000000, Arousal: 20.590282, Valence: 28.127893, Dominance: 30.421484\n",
      "MSP-PODCAST_0079_0755, 3.750000, Arousal: 20.365818, Valence: 27.549151, Dominance: 30.136959\n"
     ]
    },
    {
     "name": "stderr",
     "output_type": "stream",
     "text": [
      "\r",
      " 15%|██████                                  | 419/2783 [02:52<14:25,  2.73it/s]"
     ]
    },
    {
     "name": "stdout",
     "output_type": "stream",
     "text": [
      "MSP-PODCAST_0079_0756, 4.000000, Arousal: 18.543015, Valence: 26.733758, Dominance: 29.348096\n",
      "MSP-PODCAST_0079_0756, 4.000000, Arousal: 18.439788, Valence: 27.872076, Dominance: 30.622823\n",
      "MSP-PODCAST_0079_0756, 3.700000, Arousal: 18.501300, Valence: 29.131092, Dominance: 31.616896\n"
     ]
    },
    {
     "name": "stderr",
     "output_type": "stream",
     "text": [
      "\r",
      " 15%|██████                                  | 420/2783 [02:53<14:13,  2.77it/s]"
     ]
    },
    {
     "name": "stdout",
     "output_type": "stream",
     "text": [
      "MSP-PODCAST_0079_0757, 4.000000, Arousal: 17.775314, Valence: 24.583668, Dominance: 29.688446\n",
      "MSP-PODCAST_0079_0757, 4.000000, Arousal: 17.175928, Valence: 23.783350, Dominance: 29.317689\n",
      "MSP-PODCAST_0079_0757, 4.000000, Arousal: 16.693771, Valence: 24.103487, Dominance: 28.619949\n",
      "MSP-PODCAST_0079_0757, 4.000000, Arousal: 16.073229, Valence: 24.315213, Dominance: 28.564752\n",
      "MSP-PODCAST_0079_0757, 4.000000, Arousal: 15.493916, Valence: 24.973467, Dominance: 28.381022\n",
      "MSP-PODCAST_0079_0757, 3.670000, Arousal: 15.240241, Valence: 24.869532, Dominance: 28.155642\n"
     ]
    },
    {
     "name": "stderr",
     "output_type": "stream",
     "text": [
      "\r",
      " 15%|██████                                  | 421/2783 [02:53<14:16,  2.76it/s]"
     ]
    },
    {
     "name": "stdout",
     "output_type": "stream",
     "text": [
      "MSP-PODCAST_0079_0758, 4.000000, Arousal: 12.328402, Valence: 25.487162, Dominance: 28.256374\n",
      "MSP-PODCAST_0079_0758, 4.000000, Arousal: 11.983788, Valence: 25.322276, Dominance: 28.996945\n",
      "MSP-PODCAST_0079_0758, 4.000000, Arousal: 10.836928, Valence: 25.385151, Dominance: 29.579812\n",
      "MSP-PODCAST_0079_0758, 4.000000, Arousal: 10.490261, Valence: 24.695103, Dominance: 29.256184\n",
      "MSP-PODCAST_0079_0758, 3.860000, Arousal: 10.228214, Valence: 24.059459, Dominance: 29.292758\n"
     ]
    },
    {
     "name": "stderr",
     "output_type": "stream",
     "text": [
      "\r",
      " 15%|██████                                  | 422/2783 [02:53<13:39,  2.88it/s]"
     ]
    },
    {
     "name": "stdout",
     "output_type": "stream",
     "text": [
      "MSP-PODCAST_0079_0759, 4.000000, Arousal: 5.022185, Valence: 16.213799, Dominance: 27.465706\n",
      "MSP-PODCAST_0079_0759, 4.000000, Arousal: 4.135047, Valence: 15.014249, Dominance: 27.116256\n",
      "MSP-PODCAST_0079_0759, 4.000000, Arousal: 2.869058, Valence: 14.158699, Dominance: 26.522623\n",
      "MSP-PODCAST_0079_0759, 3.530000, Arousal: 2.149476, Valence: 13.283755, Dominance: 25.676597\n"
     ]
    },
    {
     "name": "stderr",
     "output_type": "stream",
     "text": [
      "\r",
      " 15%|██████                                  | 423/2783 [02:54<12:51,  3.06it/s]"
     ]
    },
    {
     "name": "stdout",
     "output_type": "stream",
     "text": [
      "MSP-PODCAST_0079_0760, 4.000000, Arousal: 6.742705, Valence: 13.139143, Dominance: 21.758843\n",
      "MSP-PODCAST_0079_0760, 3.970000, Arousal: 7.677972, Valence: 13.606102, Dominance: 21.857579\n"
     ]
    },
    {
     "name": "stderr",
     "output_type": "stream",
     "text": [
      "\r",
      " 15%|██████                                  | 424/2783 [02:54<11:19,  3.47it/s]"
     ]
    },
    {
     "name": "stdout",
     "output_type": "stream",
     "text": [
      "MSP-PODCAST_0079_0761, 3.160000, Arousal: 8.242878, Valence: 19.454121, Dominance: 21.509186\n"
     ]
    },
    {
     "name": "stderr",
     "output_type": "stream",
     "text": [
      "\r",
      " 15%|██████                                  | 425/2783 [02:54<14:24,  2.73it/s]"
     ]
    },
    {
     "name": "stdout",
     "output_type": "stream",
     "text": [
      "MSP-PODCAST_0079_0762, 4.000000, Arousal: 18.972170, Valence: 23.722203, Dominance: 24.941684\n",
      "MSP-PODCAST_0079_0762, 4.000000, Arousal: 18.379537, Valence: 24.056689, Dominance: 24.990407\n",
      "MSP-PODCAST_0079_0762, 4.000000, Arousal: 18.016839, Valence: 24.529484, Dominance: 24.956825\n",
      "MSP-PODCAST_0079_0762, 4.000000, Arousal: 17.049077, Valence: 24.196030, Dominance: 25.374723\n",
      "MSP-PODCAST_0079_0762, 4.000000, Arousal: 16.435733, Valence: 24.129360, Dominance: 25.232935\n",
      "MSP-PODCAST_0079_0762, 4.000000, Arousal: 16.034702, Valence: 23.914108, Dominance: 25.576627\n",
      "MSP-PODCAST_0079_0762, 4.000000, Arousal: 15.694908, Valence: 23.595370, Dominance: 25.676834\n",
      "MSP-PODCAST_0079_0762, 4.000000, Arousal: 14.655965, Valence: 23.571608, Dominance: 24.681630\n",
      "MSP-PODCAST_0079_0762, 4.000000, Arousal: 13.193911, Valence: 23.547129, Dominance: 23.886766\n",
      "MSP-PODCAST_0079_0762, 4.000000, Arousal: 12.537945, Valence: 22.991959, Dominance: 23.190353\n",
      "MSP-PODCAST_0079_0762, 4.000000, Arousal: 11.460163, Valence: 22.319207, Dominance: 23.258329\n",
      "MSP-PODCAST_0079_0762, 4.000000, Arousal: 10.611231, Valence: 22.299200, Dominance: 22.960185\n",
      "MSP-PODCAST_0079_0762, 3.630000, Arousal: 10.082081, Valence: 22.301929, Dominance: 22.764226\n"
     ]
    },
    {
     "name": "stderr",
     "output_type": "stream",
     "text": [
      "\r",
      " 15%|██████                                  | 426/2783 [02:55<15:31,  2.53it/s]"
     ]
    },
    {
     "name": "stdout",
     "output_type": "stream",
     "text": [
      "MSP-PODCAST_0083_0001, 4.000000, Arousal: 16.191178, Valence: 6.027879, Dominance: 15.273004\n",
      "MSP-PODCAST_0083_0001, 4.000000, Arousal: 19.007659, Valence: 7.874058, Dominance: 17.973375\n",
      "MSP-PODCAST_0083_0001, 4.000000, Arousal: 21.306956, Valence: 9.460919, Dominance: 20.964762\n",
      "MSP-PODCAST_0083_0001, 4.000000, Arousal: 22.378157, Valence: 10.934304, Dominance: 23.259312\n",
      "MSP-PODCAST_0083_0001, 4.000000, Arousal: 22.475511, Valence: 11.563753, Dominance: 24.440962\n",
      "MSP-PODCAST_0083_0001, 4.000000, Arousal: 21.655064, Valence: 12.427567, Dominance: 25.164665\n",
      "MSP-PODCAST_0083_0001, 4.000000, Arousal: 20.944635, Valence: 13.178370, Dominance: 25.181942\n",
      "MSP-PODCAST_0083_0001, 4.000000, Arousal: 20.601709, Valence: 13.410538, Dominance: 24.047566\n",
      "MSP-PODCAST_0083_0001, 3.940000, Arousal: 20.850905, Valence: 13.266664, Dominance: 23.347619\n"
     ]
    },
    {
     "name": "stderr",
     "output_type": "stream",
     "text": [
      "\r",
      " 15%|██████▏                                 | 427/2783 [02:55<17:03,  2.30it/s]"
     ]
    },
    {
     "name": "stdout",
     "output_type": "stream",
     "text": [
      "MSP-PODCAST_0083_0002, 4.000000, Arousal: 16.625041, Valence: 9.906264, Dominance: 17.110208\n",
      "MSP-PODCAST_0083_0002, 4.000000, Arousal: 18.821999, Valence: 10.553491, Dominance: 19.431480\n",
      "MSP-PODCAST_0083_0002, 4.000000, Arousal: 21.208558, Valence: 11.088158, Dominance: 22.537705\n",
      "MSP-PODCAST_0083_0002, 4.000000, Arousal: 22.761301, Valence: 11.753188, Dominance: 24.397259\n",
      "MSP-PODCAST_0083_0002, 4.000000, Arousal: 22.669783, Valence: 12.869808, Dominance: 24.684720\n",
      "MSP-PODCAST_0083_0002, 4.000000, Arousal: 23.495668, Valence: 14.242507, Dominance: 25.838935\n",
      "MSP-PODCAST_0083_0002, 4.000000, Arousal: 24.350287, Valence: 15.636992, Dominance: 27.279525\n",
      "MSP-PODCAST_0083_0002, 4.000000, Arousal: 24.623830, Valence: 17.485741, Dominance: 29.366911\n",
      "MSP-PODCAST_0083_0002, 4.000000, Arousal: 24.982007, Valence: 18.512791, Dominance: 30.780071\n",
      "MSP-PODCAST_0083_0002, 4.000000, Arousal: 25.048565, Valence: 18.737822, Dominance: 31.898766\n",
      "MSP-PODCAST_0083_0002, 3.780000, Arousal: 24.202162, Valence: 19.486818, Dominance: 32.197922\n"
     ]
    },
    {
     "name": "stderr",
     "output_type": "stream",
     "text": [
      "\r",
      " 15%|██████▏                                 | 428/2783 [02:56<14:04,  2.79it/s]"
     ]
    },
    {
     "name": "stdout",
     "output_type": "stream",
     "text": [
      "MSP-PODCAST_0083_0003, 2.200000, Arousal: 15.333218, Valence: 14.783973, Dominance: 22.721449\n"
     ]
    },
    {
     "name": "stderr",
     "output_type": "stream",
     "text": [
      "\r",
      " 15%|██████▏                                 | 429/2783 [02:56<16:27,  2.38it/s]"
     ]
    },
    {
     "name": "stdout",
     "output_type": "stream",
     "text": [
      "MSP-PODCAST_0083_0004, 4.000000, Arousal: 12.746718, Valence: 15.164488, Dominance: 19.823720\n",
      "MSP-PODCAST_0083_0004, 4.000000, Arousal: 14.818940, Valence: 15.179620, Dominance: 20.076041\n",
      "MSP-PODCAST_0083_0004, 4.000000, Arousal: 17.126124, Valence: 15.977518, Dominance: 21.897880\n",
      "MSP-PODCAST_0083_0004, 4.000000, Arousal: 19.231778, Valence: 16.119819, Dominance: 23.477980\n",
      "MSP-PODCAST_0083_0004, 4.000000, Arousal: 21.408096, Valence: 15.988352, Dominance: 24.192801\n",
      "MSP-PODCAST_0083_0004, 4.000000, Arousal: 23.163189, Valence: 15.696503, Dominance: 24.084859\n",
      "MSP-PODCAST_0083_0004, 4.000000, Arousal: 24.167056, Valence: 15.756860, Dominance: 24.273853\n",
      "MSP-PODCAST_0083_0004, 4.000000, Arousal: 24.210299, Valence: 16.065838, Dominance: 24.183547\n",
      "MSP-PODCAST_0083_0004, 4.000000, Arousal: 24.084636, Valence: 16.175919, Dominance: 24.384821\n",
      "MSP-PODCAST_0083_0004, 4.000000, Arousal: 22.515834, Valence: 15.869454, Dominance: 24.354779\n",
      "MSP-PODCAST_0083_0004, 4.000000, Arousal: 20.254287, Valence: 14.395378, Dominance: 24.361799\n",
      "MSP-PODCAST_0083_0004, 3.980000, Arousal: 18.158081, Valence: 13.662660, Dominance: 23.031916\n"
     ]
    },
    {
     "name": "stderr",
     "output_type": "stream",
     "text": [
      "\r",
      " 15%|██████▏                                 | 430/2783 [02:56<14:35,  2.69it/s]"
     ]
    },
    {
     "name": "stdout",
     "output_type": "stream",
     "text": [
      "MSP-PODCAST_0083_0005, 4.000000, Arousal: 26.803030, Valence: 14.198868, Dominance: 26.044433\n",
      "MSP-PODCAST_0083_0005, 3.800000, Arousal: 29.348724, Valence: 15.502353, Dominance: 26.760896\n"
     ]
    },
    {
     "name": "stderr",
     "output_type": "stream",
     "text": [
      "\r",
      " 15%|██████▏                                 | 431/2783 [02:57<14:20,  2.73it/s]"
     ]
    },
    {
     "name": "stdout",
     "output_type": "stream",
     "text": [
      "MSP-PODCAST_0083_0006, 4.000000, Arousal: 29.707957, Valence: 18.709312, Dominance: 27.558306\n",
      "MSP-PODCAST_0083_0006, 4.000000, Arousal: 29.363091, Valence: 17.925701, Dominance: 28.956111\n",
      "MSP-PODCAST_0083_0006, 4.000000, Arousal: 28.614747, Valence: 17.070251, Dominance: 30.393544\n",
      "MSP-PODCAST_0083_0006, 4.000000, Arousal: 28.971329, Valence: 16.291165, Dominance: 30.947369\n",
      "MSP-PODCAST_0083_0006, 3.690000, Arousal: 29.092173, Valence: 15.261974, Dominance: 32.018835\n"
     ]
    },
    {
     "name": "stderr",
     "output_type": "stream",
     "text": [
      "\r",
      " 16%|██████▏                                 | 432/2783 [02:57<15:57,  2.46it/s]"
     ]
    },
    {
     "name": "stdout",
     "output_type": "stream",
     "text": [
      "MSP-PODCAST_0083_0007, 4.000000, Arousal: 30.335758, Valence: 9.452933, Dominance: 36.418695\n",
      "MSP-PODCAST_0083_0007, 4.000000, Arousal: 30.623807, Valence: 9.395994, Dominance: 37.103626\n",
      "MSP-PODCAST_0083_0007, 4.000000, Arousal: 31.030168, Valence: 9.463139, Dominance: 37.308623\n",
      "MSP-PODCAST_0083_0007, 4.000000, Arousal: 31.240426, Valence: 9.892974, Dominance: 37.147272\n",
      "MSP-PODCAST_0083_0007, 4.000000, Arousal: 31.871760, Valence: 10.023788, Dominance: 36.528908\n",
      "MSP-PODCAST_0083_0007, 4.000000, Arousal: 32.242903, Valence: 10.189305, Dominance: 34.910485\n",
      "MSP-PODCAST_0083_0007, 4.000000, Arousal: 32.614865, Valence: 10.269279, Dominance: 34.312139\n",
      "MSP-PODCAST_0083_0007, 4.000000, Arousal: 32.077401, Valence: 10.724180, Dominance: 33.718968\n",
      "MSP-PODCAST_0083_0007, 4.000000, Arousal: 31.545390, Valence: 10.856268, Dominance: 32.913752\n",
      "MSP-PODCAST_0083_0007, 3.950000, Arousal: 31.481310, Valence: 10.991744, Dominance: 31.782422\n"
     ]
    },
    {
     "name": "stderr",
     "output_type": "stream",
     "text": [
      "\r",
      " 16%|██████▏                                 | 433/2783 [02:58<17:01,  2.30it/s]"
     ]
    },
    {
     "name": "stdout",
     "output_type": "stream",
     "text": [
      "MSP-PODCAST_0083_0008, 4.000000, Arousal: 30.246777, Valence: 10.217782, Dominance: 30.168585\n",
      "MSP-PODCAST_0083_0008, 4.000000, Arousal: 30.954448, Valence: 10.560552, Dominance: 30.815804\n",
      "MSP-PODCAST_0083_0008, 4.000000, Arousal: 31.686874, Valence: 10.706291, Dominance: 30.847992\n",
      "MSP-PODCAST_0083_0008, 4.000000, Arousal: 32.113135, Valence: 11.244266, Dominance: 30.624665\n",
      "MSP-PODCAST_0083_0008, 4.000000, Arousal: 31.915679, Valence: 11.347026, Dominance: 29.523759\n",
      "MSP-PODCAST_0083_0008, 4.000000, Arousal: 32.047795, Valence: 11.516975, Dominance: 28.463450\n",
      "MSP-PODCAST_0083_0008, 4.000000, Arousal: 32.725423, Valence: 11.871030, Dominance: 28.691772\n",
      "MSP-PODCAST_0083_0008, 4.000000, Arousal: 33.868414, Valence: 12.484641, Dominance: 29.858472\n",
      "MSP-PODCAST_0083_0008, 4.000000, Arousal: 33.497210, Valence: 13.168290, Dominance: 30.751829\n",
      "MSP-PODCAST_0083_0008, 3.820000, Arousal: 33.600143, Valence: 13.499000, Dominance: 31.100629\n"
     ]
    },
    {
     "name": "stderr",
     "output_type": "stream",
     "text": [
      "\r",
      " 16%|██████▏                                 | 434/2783 [02:58<19:05,  2.05it/s]"
     ]
    },
    {
     "name": "stdout",
     "output_type": "stream",
     "text": [
      "MSP-PODCAST_0083_0009, 4.000000, Arousal: 29.334368, Valence: 16.471033, Dominance: 29.360121\n",
      "MSP-PODCAST_0083_0009, 4.000000, Arousal: 29.292397, Valence: 15.721254, Dominance: 28.343616\n",
      "MSP-PODCAST_0083_0009, 4.000000, Arousal: 29.243176, Valence: 15.049348, Dominance: 27.717230\n",
      "MSP-PODCAST_0083_0009, 4.000000, Arousal: 28.885292, Valence: 14.331009, Dominance: 28.252555\n",
      "MSP-PODCAST_0083_0009, 4.000000, Arousal: 29.252467, Valence: 13.592675, Dominance: 29.420110\n",
      "MSP-PODCAST_0083_0009, 4.000000, Arousal: 30.088063, Valence: 13.193640, Dominance: 31.158278\n",
      "MSP-PODCAST_0083_0009, 4.000000, Arousal: 30.804263, Valence: 13.058338, Dominance: 31.997578\n",
      "MSP-PODCAST_0083_0009, 4.000000, Arousal: 31.318807, Valence: 13.081837, Dominance: 33.250283\n",
      "MSP-PODCAST_0083_0009, 4.000000, Arousal: 31.691011, Valence: 13.124111, Dominance: 34.334274\n",
      "MSP-PODCAST_0083_0009, 4.000000, Arousal: 32.799284, Valence: 13.454526, Dominance: 35.774117\n",
      "MSP-PODCAST_0083_0009, 4.000000, Arousal: 33.888249, Valence: 13.374968, Dominance: 37.134798\n",
      "MSP-PODCAST_0083_0009, 4.000000, Arousal: 34.372373, Valence: 12.832681, Dominance: 37.536643\n",
      "MSP-PODCAST_0083_0009, 4.000000, Arousal: 34.434039, Valence: 12.531657, Dominance: 37.316381\n",
      "MSP-PODCAST_0083_0009, 4.000000, Arousal: 34.447937, Valence: 12.168943, Dominance: 38.651541\n",
      "MSP-PODCAST_0083_0009, 3.780000, Arousal: 34.705997, Valence: 12.142445, Dominance: 39.984238\n"
     ]
    },
    {
     "name": "stderr",
     "output_type": "stream",
     "text": [
      "\r",
      " 16%|██████▎                                 | 435/2783 [02:59<18:49,  2.08it/s]"
     ]
    },
    {
     "name": "stdout",
     "output_type": "stream",
     "text": [
      "MSP-PODCAST_0083_0010, 4.000000, Arousal: 32.204892, Valence: 10.201440, Dominance: 32.959144\n",
      "MSP-PODCAST_0083_0010, 4.000000, Arousal: 33.230403, Valence: 10.276117, Dominance: 31.640656\n",
      "MSP-PODCAST_0083_0010, 4.000000, Arousal: 33.847103, Valence: 10.347527, Dominance: 31.093539\n",
      "MSP-PODCAST_0083_0010, 4.000000, Arousal: 33.760651, Valence: 10.381870, Dominance: 30.442620\n",
      "MSP-PODCAST_0083_0010, 4.000000, Arousal: 33.722257, Valence: 11.019833, Dominance: 30.165880\n",
      "MSP-PODCAST_0083_0010, 4.000000, Arousal: 32.989221, Valence: 11.646410, Dominance: 30.263114\n",
      "MSP-PODCAST_0083_0010, 4.000000, Arousal: 32.331289, Valence: 11.833086, Dominance: 30.634188\n",
      "MSP-PODCAST_0083_0010, 3.640000, Arousal: 32.001153, Valence: 11.849352, Dominance: 30.851359\n"
     ]
    },
    {
     "name": "stderr",
     "output_type": "stream",
     "text": [
      "\r",
      " 16%|██████▎                                 | 436/2783 [02:59<15:39,  2.50it/s]"
     ]
    },
    {
     "name": "stdout",
     "output_type": "stream",
     "text": [
      "MSP-PODCAST_0083_0011, 2.830000, Arousal: 29.455822, Valence: 12.381966, Dominance: 34.119341\n"
     ]
    },
    {
     "name": "stderr",
     "output_type": "stream",
     "text": [
      "\r",
      " 16%|██████▎                                 | 437/2783 [02:59<13:23,  2.92it/s]"
     ]
    },
    {
     "name": "stdout",
     "output_type": "stream",
     "text": [
      "MSP-PODCAST_0083_0012, 3.560000, Arousal: 31.605233, Valence: 12.203882, Dominance: 30.718685\n"
     ]
    },
    {
     "name": "stderr",
     "output_type": "stream",
     "text": [
      "\r",
      " 16%|██████▎                                 | 438/2783 [03:00<16:40,  2.34it/s]"
     ]
    },
    {
     "name": "stdout",
     "output_type": "stream",
     "text": [
      "MSP-PODCAST_0083_0013, 4.000000, Arousal: 32.826054, Valence: 14.256406, Dominance: 29.767289\n",
      "MSP-PODCAST_0083_0013, 4.000000, Arousal: 32.630895, Valence: 14.926806, Dominance: 30.777570\n",
      "MSP-PODCAST_0083_0013, 4.000000, Arousal: 32.422507, Valence: 15.157796, Dominance: 31.616427\n",
      "MSP-PODCAST_0083_0013, 4.000000, Arousal: 32.140050, Valence: 15.279789, Dominance: 32.589815\n",
      "MSP-PODCAST_0083_0013, 4.000000, Arousal: 31.562690, Valence: 15.471441, Dominance: 33.336277\n",
      "MSP-PODCAST_0083_0013, 4.000000, Arousal: 30.641227, Valence: 15.535992, Dominance: 33.691705\n",
      "MSP-PODCAST_0083_0013, 4.000000, Arousal: 30.272718, Valence: 15.504817, Dominance: 34.240736\n",
      "MSP-PODCAST_0083_0013, 4.000000, Arousal: 29.962207, Valence: 15.494113, Dominance: 34.460916\n",
      "MSP-PODCAST_0083_0013, 4.000000, Arousal: 30.697978, Valence: 15.628589, Dominance: 34.664537\n",
      "MSP-PODCAST_0083_0013, 4.000000, Arousal: 32.508298, Valence: 16.237916, Dominance: 35.166668\n",
      "MSP-PODCAST_0083_0013, 4.000000, Arousal: 34.402096, Valence: 17.376468, Dominance: 36.315225\n",
      "MSP-PODCAST_0083_0013, 4.000000, Arousal: 36.304316, Valence: 18.551244, Dominance: 36.951398\n",
      "MSP-PODCAST_0083_0013, 4.000000, Arousal: 38.407802, Valence: 19.533183, Dominance: 36.980061\n",
      "MSP-PODCAST_0083_0013, 3.630000, Arousal: 40.048904, Valence: 20.150362, Dominance: 37.175340\n"
     ]
    },
    {
     "name": "stderr",
     "output_type": "stream",
     "text": [
      "\r",
      " 16%|██████▎                                 | 439/2783 [03:00<15:50,  2.46it/s]"
     ]
    },
    {
     "name": "stdout",
     "output_type": "stream",
     "text": [
      "MSP-PODCAST_0083_0014, 4.000000, Arousal: 39.221870, Valence: 13.520500, Dominance: 33.303720\n",
      "MSP-PODCAST_0083_0014, 4.000000, Arousal: 38.912839, Valence: 12.114609, Dominance: 32.613593\n",
      "MSP-PODCAST_0083_0014, 4.000000, Arousal: 37.826463, Valence: 11.063573, Dominance: 32.397019\n",
      "MSP-PODCAST_0083_0014, 4.000000, Arousal: 36.189279, Valence: 10.203605, Dominance: 32.111868\n",
      "MSP-PODCAST_0083_0014, 4.000000, Arousal: 36.323697, Valence: 9.298484, Dominance: 31.734121\n",
      "MSP-PODCAST_0083_0014, 3.610000, Arousal: 36.186818, Valence: 9.069699, Dominance: 31.449873\n"
     ]
    },
    {
     "name": "stderr",
     "output_type": "stream",
     "text": [
      "\r",
      " 16%|██████▎                                 | 440/2783 [03:00<13:28,  2.90it/s]"
     ]
    },
    {
     "name": "stdout",
     "output_type": "stream",
     "text": [
      "MSP-PODCAST_0083_0015, 3.310000, Arousal: 34.920210, Valence: 9.619294, Dominance: 28.661513\n"
     ]
    },
    {
     "name": "stderr",
     "output_type": "stream",
     "text": [
      "\r",
      " 16%|██████▎                                 | 441/2783 [03:01<14:09,  2.76it/s]"
     ]
    },
    {
     "name": "stdout",
     "output_type": "stream",
     "text": [
      "MSP-PODCAST_0083_0016, 4.000000, Arousal: 30.435485, Valence: 9.428535, Dominance: 32.184890\n",
      "MSP-PODCAST_0083_0016, 4.000000, Arousal: 30.782918, Valence: 9.197014, Dominance: 32.668467\n",
      "MSP-PODCAST_0083_0016, 4.000000, Arousal: 30.749774, Valence: 9.373392, Dominance: 33.572373\n",
      "MSP-PODCAST_0083_0016, 4.000000, Arousal: 30.782301, Valence: 9.360918, Dominance: 34.731634\n",
      "MSP-PODCAST_0083_0016, 4.000000, Arousal: 30.367180, Valence: 9.293743, Dominance: 34.635209\n",
      "MSP-PODCAST_0083_0016, 4.000000, Arousal: 30.111961, Valence: 9.323298, Dominance: 34.483003\n",
      "MSP-PODCAST_0083_0016, 3.950000, Arousal: 30.310283, Valence: 9.321680, Dominance: 34.621552\n",
      "MSP-PODCAST_0083_0017, 4.000000, Arousal: 30.615226, Valence: 13.727045, Dominance: 33.338876\n",
      "MSP-PODCAST_0083_0017, 4.000000, Arousal: 31.415640, Valence: 14.167703, Dominance: 33.793219\n",
      "MSP-PODCAST_0083_0017, 4.000000, Arousal: 31.787250, Valence: 14.109786, Dominance: 34.128972\n",
      "MSP-PODCAST_0083_0017, 4.000000, Arousal: 32.050157, Valence: 14.055223, Dominance: 35.460627\n",
      "MSP-PODCAST_0083_0017, 4.000000, Arousal: 32.221229, Valence: 14.083420, Dominance: 36.112947\n",
      "MSP-PODCAST_0083_0017, 4.000000, Arousal: 32.421705, Valence: 14.262661, Dominance: 36.310880\n",
      "MSP-PODCAST_0083_0017, 4.000000, Arousal: 33.306866, Valence: 14.685131, Dominance: 35.754684\n",
      "MSP-PODCAST_0083_0017, 4.000000, Arousal: 33.251028, Valence: 15.411632, Dominance: 34.973696\n",
      "MSP-PODCAST_0083_0017, 4.000000, Arousal: 33.209918, Valence: 16.030072, Dominance: 34.149369\n",
      "MSP-PODCAST_0083_0017, 4.000000, Arousal: 34.005426, Valence: 16.920488, Dominance: 33.849247\n",
      "MSP-PODCAST_0083_0017, 4.000000, Arousal: 33.867667, Valence: 17.377236, Dominance: 34.159135\n",
      "MSP-PODCAST_0083_0017, 4.000000, Arousal: 33.907778, Valence: 17.952629, Dominance: 32.858536\n",
      "MSP-PODCAST_0083_0017, 4.000000, Arousal: 33.645569, Valence: 18.741471, Dominance: 32.054585\n",
      "MSP-PODCAST_0083_0017, 4.000000, Arousal: 33.281835, Valence: 19.371491, Dominance: 31.267510\n",
      "MSP-PODCAST_0083_0017, 4.000000, Arousal: 32.787694, Valence: 20.217350, Dominance: 30.948952\n",
      "MSP-PODCAST_0083_0017, 4.000000, Arousal: 32.275722, Valence: 20.461293, Dominance: 31.254151\n"
     ]
    },
    {
     "name": "stderr",
     "output_type": "stream",
     "text": [
      "\r",
      " 16%|██████▎                                 | 442/2783 [03:02<20:16,  1.92it/s]"
     ]
    },
    {
     "name": "stdout",
     "output_type": "stream",
     "text": [
      "MSP-PODCAST_0083_0017, 4.000000, Arousal: 31.552640, Valence: 20.499997, Dominance: 31.538617\n",
      "MSP-PODCAST_0083_0017, 4.000000, Arousal: 30.329147, Valence: 20.375848, Dominance: 30.819727\n",
      "MSP-PODCAST_0083_0017, 4.000000, Arousal: 30.278465, Valence: 20.511889, Dominance: 30.177051\n",
      "MSP-PODCAST_0083_0017, 4.000000, Arousal: 30.380148, Valence: 20.514147, Dominance: 30.206822\n",
      "MSP-PODCAST_0083_0017, 4.000000, Arousal: 30.810890, Valence: 20.306912, Dominance: 30.049524\n",
      "MSP-PODCAST_0083_0017, 3.630000, Arousal: 31.191331, Valence: 20.129552, Dominance: 29.958994\n"
     ]
    },
    {
     "name": "stderr",
     "output_type": "stream",
     "text": [
      "\r",
      " 16%|██████▎                                 | 443/2783 [03:02<19:18,  2.02it/s]"
     ]
    },
    {
     "name": "stdout",
     "output_type": "stream",
     "text": [
      "MSP-PODCAST_0083_0018, 4.000000, Arousal: 23.494268, Valence: 16.949456, Dominance: 31.315580\n",
      "MSP-PODCAST_0083_0018, 4.000000, Arousal: 23.741766, Valence: 17.651821, Dominance: 32.094026\n",
      "MSP-PODCAST_0083_0018, 4.000000, Arousal: 24.666192, Valence: 17.975993, Dominance: 33.619664\n",
      "MSP-PODCAST_0083_0018, 4.000000, Arousal: 25.225093, Valence: 17.889053, Dominance: 33.565409\n",
      "MSP-PODCAST_0083_0018, 4.000000, Arousal: 25.509382, Valence: 17.953350, Dominance: 33.330701\n",
      "MSP-PODCAST_0083_0018, 4.000000, Arousal: 24.970737, Valence: 18.203257, Dominance: 31.451480\n",
      "MSP-PODCAST_0083_0018, 4.000000, Arousal: 25.028206, Valence: 18.633188, Dominance: 30.365486\n",
      "MSP-PODCAST_0083_0018, 3.900000, Arousal: 25.692115, Valence: 18.600799, Dominance: 29.333540\n"
     ]
    },
    {
     "name": "stderr",
     "output_type": "stream",
     "text": [
      "\r",
      " 16%|██████▍                                 | 444/2783 [03:03<19:26,  2.01it/s]"
     ]
    },
    {
     "name": "stdout",
     "output_type": "stream",
     "text": [
      "MSP-PODCAST_0083_0019, 4.000000, Arousal: 27.811508, Valence: 23.942706, Dominance: 28.491649\n",
      "MSP-PODCAST_0083_0019, 4.000000, Arousal: 28.507155, Valence: 23.859016, Dominance: 28.995982\n",
      "MSP-PODCAST_0083_0019, 4.000000, Arousal: 27.797443, Valence: 23.367577, Dominance: 29.763134\n",
      "MSP-PODCAST_0083_0019, 4.000000, Arousal: 27.270473, Valence: 22.886285, Dominance: 30.158267\n",
      "MSP-PODCAST_0083_0019, 4.000000, Arousal: 27.384735, Valence: 22.739773, Dominance: 30.441375\n",
      "MSP-PODCAST_0083_0019, 4.000000, Arousal: 27.301973, Valence: 22.286055, Dominance: 31.135584\n",
      "MSP-PODCAST_0083_0019, 4.000000, Arousal: 27.198587, Valence: 21.976484, Dominance: 31.797649\n",
      "MSP-PODCAST_0083_0019, 4.000000, Arousal: 27.628721, Valence: 21.654240, Dominance: 32.329460\n",
      "MSP-PODCAST_0083_0019, 4.000000, Arousal: 27.322903, Valence: 20.823233, Dominance: 31.676008\n",
      "MSP-PODCAST_0083_0019, 3.750000, Arousal: 26.710171, Valence: 20.813090, Dominance: 31.406473\n",
      "MSP-PODCAST_0083_0020, 4.000000, Arousal: 25.009775, Valence: 16.061581, Dominance: 30.067896\n",
      "MSP-PODCAST_0083_0020, 4.000000, Arousal: 24.912782, Valence: 15.973944, Dominance: 30.281935\n",
      "MSP-PODCAST_0083_0020, 4.000000, Arousal: 25.182409, Valence: 15.943550, Dominance: 29.668887\n",
      "MSP-PODCAST_0083_0020, 4.000000, Arousal: 25.197161, Valence: 15.580774, Dominance: 28.724529\n",
      "MSP-PODCAST_0083_0020, 4.000000, Arousal: 26.582884, Valence: 15.386376, Dominance: 28.572499\n",
      "MSP-PODCAST_0083_0020, 4.000000, Arousal: 27.619873, Valence: 16.004915, Dominance: 28.568871\n",
      "MSP-PODCAST_0083_0020, 4.000000, Arousal: 26.866175, Valence: 16.892203, Dominance: 29.050919\n",
      "MSP-PODCAST_0083_0020, 4.000000, Arousal: 27.757313, Valence: 17.690374, Dominance: 29.216662\n",
      "MSP-PODCAST_0083_0020, 4.000000, Arousal: 29.103787, Valence: 18.342778, Dominance: 29.713446\n",
      "MSP-PODCAST_0083_0020, 4.000000, Arousal: 29.559015, Valence: 19.028697, Dominance: 29.760325\n",
      "MSP-PODCAST_0083_0020, 4.000000, Arousal: 29.840631, Valence: 19.815614, Dominance: 30.400319\n",
      "MSP-PODCAST_0083_0020, 4.000000, Arousal: 29.086667, Valence: 20.379140, Dominance: 31.615358\n",
      "MSP-PODCAST_0083_0020, 4.000000, Arousal: 28.287016, Valence: 20.898321, Dominance: 32.975990\n",
      "MSP-PODCAST_0083_0020, 4.000000, Arousal: 27.693831, Valence: 21.842861, Dominance: 33.953688\n",
      "MSP-PODCAST_0083_0020, 4.000000, Arousal: 28.104927, Valence: 22.513583, Dominance: 34.897035\n",
      "MSP-PODCAST_0083_0020, 4.000000, Arousal: 28.809075, Valence: 23.895433, Dominance: 36.783831\n",
      "MSP-PODCAST_0083_0020, 4.000000, Arousal: 29.425781, Valence: 24.514320, Dominance: 38.410863\n"
     ]
    },
    {
     "name": "stderr",
     "output_type": "stream",
     "text": [
      "\r",
      " 16%|██████▍                                 | 445/2783 [03:04<25:14,  1.54it/s]"
     ]
    },
    {
     "name": "stdout",
     "output_type": "stream",
     "text": [
      "MSP-PODCAST_0083_0020, 4.000000, Arousal: 29.516448, Valence: 24.916852, Dominance: 40.050069\n",
      "MSP-PODCAST_0083_0020, 4.000000, Arousal: 30.134890, Valence: 25.767904, Dominance: 41.771312\n",
      "MSP-PODCAST_0083_0020, 4.000000, Arousal: 30.562444, Valence: 26.457664, Dominance: 41.943105\n",
      "MSP-PODCAST_0083_0020, 4.000000, Arousal: 30.439916, Valence: 26.551748, Dominance: 41.306533\n",
      "MSP-PODCAST_0083_0020, 4.000000, Arousal: 31.078988, Valence: 26.016976, Dominance: 40.891493\n",
      "MSP-PODCAST_0083_0020, 4.000000, Arousal: 30.914963, Valence: 25.543923, Dominance: 40.643665\n",
      "MSP-PODCAST_0083_0020, 4.000000, Arousal: 30.627723, Valence: 24.055996, Dominance: 39.713411\n",
      "MSP-PODCAST_0083_0020, 4.000000, Arousal: 30.616006, Valence: 23.457965, Dominance: 39.108415\n",
      "MSP-PODCAST_0083_0020, 3.690000, Arousal: 30.767019, Valence: 23.190321, Dominance: 38.537384\n"
     ]
    },
    {
     "name": "stderr",
     "output_type": "stream",
     "text": [
      "\r",
      " 16%|██████▍                                 | 446/2783 [03:04<22:16,  1.75it/s]"
     ]
    },
    {
     "name": "stdout",
     "output_type": "stream",
     "text": [
      "MSP-PODCAST_0083_0021, 4.000000, Arousal: 30.216270, Valence: 18.868086, Dominance: 33.189287\n",
      "MSP-PODCAST_0083_0021, 4.000000, Arousal: 31.193560, Valence: 19.551215, Dominance: 33.825323\n",
      "MSP-PODCAST_0083_0021, 4.000000, Arousal: 32.347758, Valence: 20.187001, Dominance: 34.230182\n",
      "MSP-PODCAST_0083_0021, 4.000000, Arousal: 33.793736, Valence: 20.602465, Dominance: 34.834436\n",
      "MSP-PODCAST_0083_0021, 4.000000, Arousal: 34.605415, Valence: 21.136009, Dominance: 33.568842\n",
      "MSP-PODCAST_0083_0021, 3.840000, Arousal: 35.374744, Valence: 21.322028, Dominance: 32.934822\n",
      "MSP-PODCAST_0083_0022, 4.000000, Arousal: 27.602558, Valence: 20.914288, Dominance: 26.976285\n",
      "MSP-PODCAST_0083_0022, 4.000000, Arousal: 27.620217, Valence: 21.424532, Dominance: 28.742635\n",
      "MSP-PODCAST_0083_0022, 4.000000, Arousal: 27.951299, Valence: 21.974609, Dominance: 30.378210\n",
      "MSP-PODCAST_0083_0022, 4.000000, Arousal: 28.761275, Valence: 22.276632, Dominance: 31.701501\n",
      "MSP-PODCAST_0083_0022, 4.000000, Arousal: 28.839941, Valence: 22.054721, Dominance: 32.072442\n",
      "MSP-PODCAST_0083_0022, 4.000000, Arousal: 29.176746, Valence: 21.671560, Dominance: 32.462734\n",
      "MSP-PODCAST_0083_0022, 4.000000, Arousal: 29.774893, Valence: 21.449159, Dominance: 32.510761\n",
      "MSP-PODCAST_0083_0022, 4.000000, Arousal: 30.710152, Valence: 20.996547, Dominance: 31.888061\n",
      "MSP-PODCAST_0083_0022, 4.000000, Arousal: 30.894551, Valence: 20.784612, Dominance: 30.552163\n",
      "MSP-PODCAST_0083_0022, 4.000000, Arousal: 30.818497, Valence: 20.341810, Dominance: 30.024348\n",
      "MSP-PODCAST_0083_0022, 4.000000, Arousal: 30.837545, Valence: 20.131459, Dominance: 29.765895\n",
      "MSP-PODCAST_0083_0022, 4.000000, Arousal: 30.387495, Valence: 20.063811, Dominance: 29.199913\n",
      "MSP-PODCAST_0083_0022, 4.000000, Arousal: 29.846835, Valence: 20.189607, Dominance: 29.200365\n",
      "MSP-PODCAST_0083_0022, 4.000000, Arousal: 29.994405, Valence: 20.444656, Dominance: 28.883122\n",
      "MSP-PODCAST_0083_0022, 4.000000, Arousal: 31.224384, Valence: 20.520847, Dominance: 28.639763\n",
      "MSP-PODCAST_0083_0022, 4.000000, Arousal: 31.451447, Valence: 20.840373, Dominance: 29.269098\n",
      "MSP-PODCAST_0083_0022, 4.000000, Arousal: 32.820050, Valence: 21.339452, Dominance: 29.772336\n"
     ]
    },
    {
     "name": "stderr",
     "output_type": "stream",
     "text": [
      "\r",
      " 16%|██████▍                                 | 447/2783 [03:05<26:48,  1.45it/s]"
     ]
    },
    {
     "name": "stdout",
     "output_type": "stream",
     "text": [
      "MSP-PODCAST_0083_0022, 4.000000, Arousal: 33.842740, Valence: 21.827070, Dominance: 29.346761\n",
      "MSP-PODCAST_0083_0022, 4.000000, Arousal: 34.931989, Valence: 22.059114, Dominance: 29.418501\n",
      "MSP-PODCAST_0083_0022, 4.000000, Arousal: 35.685825, Valence: 22.415895, Dominance: 30.025731\n",
      "MSP-PODCAST_0083_0022, 4.000000, Arousal: 36.335769, Valence: 22.978067, Dominance: 30.596155\n",
      "MSP-PODCAST_0083_0022, 4.000000, Arousal: 36.183378, Valence: 23.092419, Dominance: 31.124830\n",
      "MSP-PODCAST_0083_0022, 4.000000, Arousal: 35.500920, Valence: 23.391766, Dominance: 31.737766\n",
      "MSP-PODCAST_0083_0022, 3.920000, Arousal: 35.344179, Valence: 23.544736, Dominance: 31.671892\n"
     ]
    },
    {
     "name": "stderr",
     "output_type": "stream",
     "text": [
      "\r",
      " 16%|██████▍                                 | 448/2783 [03:05<22:01,  1.77it/s]"
     ]
    },
    {
     "name": "stdout",
     "output_type": "stream",
     "text": [
      "MSP-PODCAST_0083_0023, 4.000000, Arousal: 31.290085, Valence: 24.257691, Dominance: 30.150094\n",
      "MSP-PODCAST_0083_0023, 3.630000, Arousal: 31.139267, Valence: 23.965003, Dominance: 30.781503\n"
     ]
    },
    {
     "name": "stderr",
     "output_type": "stream",
     "text": [
      "\r",
      " 16%|██████▍                                 | 449/2783 [03:06<19:00,  2.05it/s]"
     ]
    },
    {
     "name": "stdout",
     "output_type": "stream",
     "text": [
      "MSP-PODCAST_0083_0024, 4.000000, Arousal: 34.000458, Valence: 18.357940, Dominance: 37.032231\n",
      "MSP-PODCAST_0083_0024, 4.000000, Arousal: 34.017527, Valence: 18.787254, Dominance: 38.381641\n",
      "MSP-PODCAST_0083_0024, 4.000000, Arousal: 34.174625, Valence: 19.105117, Dominance: 38.482359\n",
      "MSP-PODCAST_0083_0024, 3.930000, Arousal: 34.100398, Valence: 19.881634, Dominance: 39.904119\n"
     ]
    },
    {
     "name": "stderr",
     "output_type": "stream",
     "text": [
      "\r",
      " 16%|██████▍                                 | 450/2783 [03:06<16:40,  2.33it/s]"
     ]
    },
    {
     "name": "stdout",
     "output_type": "stream",
     "text": [
      "MSP-PODCAST_0083_0025, 4.000000, Arousal: 38.523045, Valence: 13.223322, Dominance: 30.246977\n",
      "MSP-PODCAST_0083_0025, 4.000000, Arousal: 37.111366, Valence: 12.648484, Dominance: 29.033497\n",
      "MSP-PODCAST_0083_0025, 4.000000, Arousal: 37.220665, Valence: 12.738175, Dominance: 28.245657\n",
      "MSP-PODCAST_0083_0025, 3.520000, Arousal: 37.039917, Valence: 12.466925, Dominance: 28.399094\n"
     ]
    },
    {
     "name": "stderr",
     "output_type": "stream",
     "text": [
      "\r",
      " 16%|██████▍                                 | 451/2783 [03:07<19:52,  1.96it/s]"
     ]
    },
    {
     "name": "stdout",
     "output_type": "stream",
     "text": [
      "MSP-PODCAST_0083_0026, 4.000000, Arousal: 35.689544, Valence: 14.591849, Dominance: 32.244198\n",
      "MSP-PODCAST_0083_0026, 4.000000, Arousal: 35.745185, Valence: 14.215679, Dominance: 33.432497\n",
      "MSP-PODCAST_0083_0026, 4.000000, Arousal: 36.321821, Valence: 13.834364, Dominance: 34.147659\n",
      "MSP-PODCAST_0083_0026, 4.000000, Arousal: 35.671560, Valence: 13.440354, Dominance: 34.544520\n",
      "MSP-PODCAST_0083_0026, 4.000000, Arousal: 34.887717, Valence: 13.134175, Dominance: 35.466860\n",
      "MSP-PODCAST_0083_0026, 4.000000, Arousal: 34.652984, Valence: 13.115134, Dominance: 35.152364\n",
      "MSP-PODCAST_0083_0026, 4.000000, Arousal: 34.393357, Valence: 13.407302, Dominance: 35.228721\n",
      "MSP-PODCAST_0083_0026, 4.000000, Arousal: 34.638170, Valence: 13.722008, Dominance: 35.320218\n",
      "MSP-PODCAST_0083_0026, 4.000000, Arousal: 35.355821, Valence: 14.625377, Dominance: 35.645082\n",
      "MSP-PODCAST_0083_0026, 4.000000, Arousal: 35.842140, Valence: 15.481139, Dominance: 35.765040\n",
      "MSP-PODCAST_0083_0026, 4.000000, Arousal: 35.222731, Valence: 16.195023, Dominance: 36.313384\n",
      "MSP-PODCAST_0083_0026, 4.000000, Arousal: 34.464701, Valence: 16.545716, Dominance: 36.606488\n",
      "MSP-PODCAST_0083_0026, 4.000000, Arousal: 34.530791, Valence: 16.575518, Dominance: 36.811860\n",
      "MSP-PODCAST_0083_0026, 4.000000, Arousal: 34.168446, Valence: 16.298536, Dominance: 36.825262\n",
      "MSP-PODCAST_0083_0026, 4.000000, Arousal: 33.681330, Valence: 15.106510, Dominance: 36.766313\n",
      "MSP-PODCAST_0083_0026, 4.000000, Arousal: 33.149839, Valence: 14.093378, Dominance: 36.032966\n",
      "MSP-PODCAST_0083_0026, 3.950000, Arousal: 32.214502, Valence: 13.313406, Dominance: 36.035097\n"
     ]
    },
    {
     "name": "stderr",
     "output_type": "stream",
     "text": [
      "\r",
      " 16%|██████▍                                 | 452/2783 [03:07<19:15,  2.02it/s]"
     ]
    },
    {
     "name": "stdout",
     "output_type": "stream",
     "text": [
      "MSP-PODCAST_0083_0027, 4.000000, Arousal: 31.295535, Valence: 14.390949, Dominance: 35.996971\n",
      "MSP-PODCAST_0083_0027, 4.000000, Arousal: 31.451997, Valence: 15.570159, Dominance: 34.790186\n",
      "MSP-PODCAST_0083_0027, 4.000000, Arousal: 32.640736, Valence: 17.237171, Dominance: 34.754030\n",
      "MSP-PODCAST_0083_0027, 4.000000, Arousal: 32.695375, Valence: 18.152968, Dominance: 34.138030\n",
      "MSP-PODCAST_0083_0027, 4.000000, Arousal: 33.474415, Valence: 18.791445, Dominance: 32.838664\n",
      "MSP-PODCAST_0083_0027, 4.000000, Arousal: 35.427851, Valence: 19.519919, Dominance: 31.972513\n",
      "MSP-PODCAST_0083_0027, 4.000000, Arousal: 35.708905, Valence: 20.078725, Dominance: 32.071097\n",
      "MSP-PODCAST_0083_0027, 4.000000, Arousal: 36.104041, Valence: 20.024433, Dominance: 32.868563\n",
      "MSP-PODCAST_0083_0027, 4.000000, Arousal: 36.785771, Valence: 19.622350, Dominance: 34.038589\n",
      "MSP-PODCAST_0083_0027, 3.660000, Arousal: 37.904385, Valence: 19.229862, Dominance: 35.066735\n"
     ]
    },
    {
     "name": "stderr",
     "output_type": "stream",
     "text": [
      "\r",
      " 16%|██████▌                                 | 453/2783 [03:08<21:37,  1.80it/s]"
     ]
    },
    {
     "name": "stdout",
     "output_type": "stream",
     "text": [
      "MSP-PODCAST_0083_0028, 4.000000, Arousal: 35.990936, Valence: 14.797303, Dominance: 35.002504\n",
      "MSP-PODCAST_0083_0028, 4.000000, Arousal: 36.689973, Valence: 14.818673, Dominance: 35.202108\n",
      "MSP-PODCAST_0083_0028, 4.000000, Arousal: 36.874087, Valence: 14.503828, Dominance: 36.165125\n",
      "MSP-PODCAST_0083_0028, 4.000000, Arousal: 37.287620, Valence: 13.554707, Dominance: 36.138916\n",
      "MSP-PODCAST_0083_0028, 4.000000, Arousal: 37.523154, Valence: 12.803003, Dominance: 35.499087\n",
      "MSP-PODCAST_0083_0028, 4.000000, Arousal: 37.647209, Valence: 12.450502, Dominance: 35.415951\n",
      "MSP-PODCAST_0083_0028, 4.000000, Arousal: 38.141581, Valence: 12.295800, Dominance: 34.936112\n",
      "MSP-PODCAST_0083_0028, 4.000000, Arousal: 38.532254, Valence: 12.484730, Dominance: 35.012745\n",
      "MSP-PODCAST_0083_0028, 4.000000, Arousal: 38.910646, Valence: 12.974867, Dominance: 35.347178\n",
      "MSP-PODCAST_0083_0028, 4.000000, Arousal: 40.235832, Valence: 13.205928, Dominance: 35.897540\n",
      "MSP-PODCAST_0083_0028, 4.000000, Arousal: 41.561361, Valence: 13.432834, Dominance: 36.115479\n",
      "MSP-PODCAST_0083_0028, 4.000000, Arousal: 41.662725, Valence: 14.187827, Dominance: 36.049362\n",
      "MSP-PODCAST_0083_0028, 4.000000, Arousal: 42.400063, Valence: 14.696273, Dominance: 37.316783\n",
      "MSP-PODCAST_0083_0028, 4.000000, Arousal: 41.970757, Valence: 14.698405, Dominance: 37.495244\n",
      "MSP-PODCAST_0083_0028, 4.000000, Arousal: 42.197462, Valence: 14.818223, Dominance: 38.954270\n",
      "MSP-PODCAST_0083_0028, 3.620000, Arousal: 42.257178, Valence: 14.846501, Dominance: 39.105298\n",
      "MSP-PODCAST_0083_0029, 4.000000, Arousal: 37.483877, Valence: 20.127496, Dominance: 36.258293\n",
      "MSP-PODCAST_0083_0029, 4.000000, Arousal: 37.903400, Valence: 20.024938, Dominance: 37.099505\n",
      "MSP-PODCAST_0083_0029, 4.000000, Arousal: 38.744006, Valence: 20.637094, Dominance: 37.851628\n",
      "MSP-PODCAST_0083_0029, 4.000000, Arousal: 39.283230, Valence: 20.364869, Dominance: 38.156834\n",
      "MSP-PODCAST_0083_0029, 4.000000, Arousal: 39.675535, Valence: 20.124677, Dominance: 37.261205\n",
      "MSP-PODCAST_0083_0029, 4.000000, Arousal: 40.239161, Valence: 19.409957, Dominance: 37.018996\n",
      "MSP-PODCAST_0083_0029, 4.000000, Arousal: 40.598536, Valence: 19.765360, Dominance: 36.696716\n",
      "MSP-PODCAST_0083_0029, 4.000000, Arousal: 41.074301, Valence: 19.707404, Dominance: 37.116788\n",
      "MSP-PODCAST_0083_0029, 4.000000, Arousal: 40.620457, Valence: 19.288081, Dominance: 36.786324\n",
      "MSP-PODCAST_0083_0029, 4.000000, Arousal: 40.625562, Valence: 19.156785, Dominance: 36.713638\n",
      "MSP-PODCAST_0083_0029, 4.000000, Arousal: 41.005409, Valence: 18.497758, Dominance: 36.615038\n",
      "MSP-PODCAST_0083_0029, 4.000000, Arousal: 40.625195, Valence: 18.074424, Dominance: 37.220673\n",
      "MSP-PODCAST_0083_0029, 4.000000, Arousal: 40.137280, Valence: 17.505024, Dominance: 38.509016\n",
      "MSP-PODCAST_0083_0029, 4.000000, Arousal: 39.330578, Valence: 17.768916, Dominance: 38.936329\n",
      "MSP-PODCAST_0083_0029, 4.000000, Arousal: 38.893683, Valence: 17.390123, Dominance: 39.921251\n",
      "MSP-PODCAST_0083_0029, 4.000000, Arousal: 38.344028, Valence: 17.546357, Dominance: 40.121040\n"
     ]
    },
    {
     "name": "stderr",
     "output_type": "stream",
     "text": [
      "\r",
      " 16%|██████▌                                 | 454/2783 [03:09<28:16,  1.37it/s]"
     ]
    },
    {
     "name": "stdout",
     "output_type": "stream",
     "text": [
      "MSP-PODCAST_0083_0029, 4.000000, Arousal: 38.007805, Valence: 17.484981, Dominance: 40.521310\n",
      "MSP-PODCAST_0083_0029, 4.000000, Arousal: 37.856702, Valence: 17.432964, Dominance: 40.458310\n",
      "MSP-PODCAST_0083_0029, 4.000000, Arousal: 37.439732, Valence: 16.852314, Dominance: 40.510517\n",
      "MSP-PODCAST_0083_0029, 4.000000, Arousal: 37.797636, Valence: 16.891782, Dominance: 40.085580\n",
      "MSP-PODCAST_0083_0029, 4.000000, Arousal: 37.707332, Valence: 17.143277, Dominance: 39.562354\n",
      "MSP-PODCAST_0083_0029, 4.000000, Arousal: 37.664938, Valence: 17.133096, Dominance: 39.385520\n",
      "MSP-PODCAST_0083_0029, 3.660000, Arousal: 38.127452, Valence: 17.131390, Dominance: 39.064981\n"
     ]
    },
    {
     "name": "stderr",
     "output_type": "stream",
     "text": [
      "\r",
      " 16%|██████▌                                 | 455/2783 [03:09<26:51,  1.44it/s]"
     ]
    },
    {
     "name": "stdout",
     "output_type": "stream",
     "text": [
      "MSP-PODCAST_0083_0030, 4.000000, Arousal: 27.264408, Valence: 13.645258, Dominance: 30.236772\n",
      "MSP-PODCAST_0083_0030, 4.000000, Arousal: 25.277396, Valence: 13.421965, Dominance: 28.726927\n",
      "MSP-PODCAST_0083_0030, 4.000000, Arousal: 23.567216, Valence: 13.060058, Dominance: 27.224660\n",
      "MSP-PODCAST_0083_0030, 4.000000, Arousal: 22.669168, Valence: 13.057782, Dominance: 27.161524\n",
      "MSP-PODCAST_0083_0030, 4.000000, Arousal: 22.196447, Valence: 13.313688, Dominance: 26.706152\n",
      "MSP-PODCAST_0083_0030, 4.000000, Arousal: 22.213206, Valence: 13.284140, Dominance: 26.131887\n",
      "MSP-PODCAST_0083_0030, 4.000000, Arousal: 21.849569, Valence: 13.510809, Dominance: 25.874275\n",
      "MSP-PODCAST_0083_0030, 4.000000, Arousal: 21.841932, Valence: 13.932904, Dominance: 25.770393\n",
      "MSP-PODCAST_0083_0030, 4.000000, Arousal: 21.916605, Valence: 14.590620, Dominance: 26.564787\n",
      "MSP-PODCAST_0083_0030, 4.000000, Arousal: 22.230487, Valence: 14.914537, Dominance: 26.954819\n",
      "MSP-PODCAST_0083_0030, 4.000000, Arousal: 22.452660, Valence: 15.000330, Dominance: 26.930180\n",
      "MSP-PODCAST_0083_0030, 4.000000, Arousal: 22.993116, Valence: 14.924926, Dominance: 26.146479\n",
      "MSP-PODCAST_0083_0030, 4.000000, Arousal: 23.172583, Valence: 14.803797, Dominance: 24.873039\n",
      "MSP-PODCAST_0083_0030, 3.680000, Arousal: 22.647973, Valence: 14.841905, Dominance: 24.772150\n"
     ]
    },
    {
     "name": "stderr",
     "output_type": "stream",
     "text": [
      "\r",
      " 16%|██████▌                                 | 456/2783 [03:10<23:25,  1.66it/s]"
     ]
    },
    {
     "name": "stdout",
     "output_type": "stream",
     "text": [
      "MSP-PODCAST_0083_0031, 4.000000, Arousal: 15.920192, Valence: 13.839789, Dominance: 20.236405\n",
      "MSP-PODCAST_0083_0031, 4.000000, Arousal: 14.395101, Valence: 14.061758, Dominance: 20.078220\n",
      "MSP-PODCAST_0083_0031, 4.000000, Arousal: 13.265580, Valence: 14.436975, Dominance: 21.044054\n",
      "MSP-PODCAST_0083_0031, 4.000000, Arousal: 12.683153, Valence: 14.986569, Dominance: 21.720774\n",
      "MSP-PODCAST_0083_0031, 4.000000, Arousal: 13.176529, Valence: 15.321198, Dominance: 22.593817\n",
      "MSP-PODCAST_0083_0031, 4.000000, Arousal: 14.030335, Valence: 15.715568, Dominance: 23.376309\n",
      "MSP-PODCAST_0083_0031, 3.930000, Arousal: 15.360087, Valence: 16.208319, Dominance: 23.865473\n"
     ]
    },
    {
     "name": "stderr",
     "output_type": "stream",
     "text": [
      "\r",
      " 16%|██████▌                                 | 457/2783 [03:10<23:27,  1.65it/s]"
     ]
    },
    {
     "name": "stdout",
     "output_type": "stream",
     "text": [
      "MSP-PODCAST_0083_0032, 4.000000, Arousal: 17.219422, Valence: 18.109286, Dominance: 26.246862\n",
      "MSP-PODCAST_0083_0032, 4.000000, Arousal: 17.144422, Valence: 18.540581, Dominance: 26.907871\n",
      "MSP-PODCAST_0083_0032, 4.000000, Arousal: 16.612818, Valence: 18.485505, Dominance: 27.709405\n",
      "MSP-PODCAST_0083_0032, 4.000000, Arousal: 16.086555, Valence: 18.483275, Dominance: 27.404666\n",
      "MSP-PODCAST_0083_0032, 4.000000, Arousal: 15.953914, Valence: 18.656178, Dominance: 26.909651\n",
      "MSP-PODCAST_0083_0032, 4.000000, Arousal: 15.841797, Valence: 18.712784, Dominance: 26.004880\n",
      "MSP-PODCAST_0083_0032, 4.000000, Arousal: 16.386672, Valence: 18.814435, Dominance: 25.162553\n",
      "MSP-PODCAST_0083_0032, 4.000000, Arousal: 17.255189, Valence: 18.707439, Dominance: 24.405604\n",
      "MSP-PODCAST_0083_0032, 4.000000, Arousal: 18.064495, Valence: 18.227479, Dominance: 24.274553\n",
      "MSP-PODCAST_0083_0032, 4.000000, Arousal: 18.460802, Valence: 17.712135, Dominance: 23.859763\n",
      "MSP-PODCAST_0083_0032, 4.000000, Arousal: 20.117854, Valence: 17.816390, Dominance: 23.948530\n",
      "MSP-PODCAST_0083_0032, 4.000000, Arousal: 20.934298, Valence: 17.947102, Dominance: 24.413850\n",
      "MSP-PODCAST_0083_0032, 3.530000, Arousal: 21.420895, Valence: 17.927505, Dominance: 24.509467\n"
     ]
    },
    {
     "name": "stderr",
     "output_type": "stream",
     "text": [
      "\r",
      " 16%|██████▌                                 | 458/2783 [03:11<20:50,  1.86it/s]"
     ]
    },
    {
     "name": "stdout",
     "output_type": "stream",
     "text": [
      "MSP-PODCAST_0083_0033, 4.000000, Arousal: 24.114497, Valence: 19.703451, Dominance: 21.063769\n",
      "MSP-PODCAST_0083_0033, 4.000000, Arousal: 23.740507, Valence: 19.427767, Dominance: 21.164689\n",
      "MSP-PODCAST_0083_0033, 4.000000, Arousal: 23.802720, Valence: 19.145721, Dominance: 21.596756\n",
      "MSP-PODCAST_0083_0033, 3.860000, Arousal: 24.567610, Valence: 19.351323, Dominance: 21.881359\n"
     ]
    },
    {
     "name": "stderr",
     "output_type": "stream",
     "text": [
      "\r",
      " 16%|██████▌                                 | 459/2783 [03:11<18:57,  2.04it/s]"
     ]
    },
    {
     "name": "stdout",
     "output_type": "stream",
     "text": [
      "MSP-PODCAST_0083_0034, 4.000000, Arousal: 30.142263, Valence: 20.166457, Dominance: 29.446694\n",
      "MSP-PODCAST_0083_0034, 4.000000, Arousal: 30.109200, Valence: 19.485034, Dominance: 29.236152\n",
      "MSP-PODCAST_0083_0034, 4.000000, Arousal: 30.364039, Valence: 18.952638, Dominance: 29.563573\n",
      "MSP-PODCAST_0083_0034, 3.870000, Arousal: 29.365573, Valence: 18.165357, Dominance: 28.613009\n"
     ]
    },
    {
     "name": "stderr",
     "output_type": "stream",
     "text": [
      "\r",
      " 17%|██████▌                                 | 460/2783 [03:12<20:37,  1.88it/s]"
     ]
    },
    {
     "name": "stdout",
     "output_type": "stream",
     "text": [
      "MSP-PODCAST_0083_0036, 4.000000, Arousal: 36.468088, Valence: 5.999415, Dominance: 34.517327\n",
      "MSP-PODCAST_0083_0036, 4.000000, Arousal: 33.008366, Valence: 5.669463, Dominance: 32.406693\n",
      "MSP-PODCAST_0083_0036, 4.000000, Arousal: 29.799466, Valence: 5.126027, Dominance: 30.563877\n",
      "MSP-PODCAST_0083_0036, 4.000000, Arousal: 27.021551, Valence: 4.433974, Dominance: 28.769783\n",
      "MSP-PODCAST_0083_0036, 4.000000, Arousal: 24.238119, Valence: 3.904741, Dominance: 27.638592\n",
      "MSP-PODCAST_0083_0036, 4.000000, Arousal: 23.109149, Valence: 4.166739, Dominance: 27.295648\n",
      "MSP-PODCAST_0083_0036, 4.000000, Arousal: 22.617130, Valence: 4.525659, Dominance: 27.487983\n",
      "MSP-PODCAST_0083_0036, 4.000000, Arousal: 22.578207, Valence: 4.762208, Dominance: 27.107796\n",
      "MSP-PODCAST_0083_0036, 4.000000, Arousal: 23.677163, Valence: 4.905514, Dominance: 27.320421\n",
      "MSP-PODCAST_0083_0036, 4.000000, Arousal: 23.858286, Valence: 4.996320, Dominance: 27.731095\n",
      "MSP-PODCAST_0083_0036, 4.000000, Arousal: 24.063728, Valence: 5.413305, Dominance: 28.226751\n",
      "MSP-PODCAST_0083_0036, 3.880000, Arousal: 25.114294, Valence: 6.007340, Dominance: 29.006142\n",
      "MSP-PODCAST_0083_0037, 4.000000, Arousal: 23.931260, Valence: 3.135735, Dominance: 24.772507\n",
      "MSP-PODCAST_0083_0037, 4.000000, Arousal: 23.769970, Valence: 2.927870, Dominance: 24.074654\n",
      "MSP-PODCAST_0083_0037, 4.000000, Arousal: 23.358712, Valence: 2.951772, Dominance: 23.909002\n",
      "MSP-PODCAST_0083_0037, 4.000000, Arousal: 24.150002, Valence: 2.816661, Dominance: 24.476660\n",
      "MSP-PODCAST_0083_0037, 4.000000, Arousal: 24.075392, Valence: 3.221599, Dominance: 24.612453\n",
      "MSP-PODCAST_0083_0037, 4.000000, Arousal: 24.976409, Valence: 3.205290, Dominance: 24.587407\n",
      "MSP-PODCAST_0083_0037, 4.000000, Arousal: 26.946906, Valence: 4.129318, Dominance: 24.963895\n",
      "MSP-PODCAST_0083_0037, 4.000000, Arousal: 27.669736, Valence: 4.995173, Dominance: 25.005422\n",
      "MSP-PODCAST_0083_0037, 4.000000, Arousal: 27.262048, Valence: 5.972905, Dominance: 24.696271\n",
      "MSP-PODCAST_0083_0037, 4.000000, Arousal: 27.311199, Valence: 6.600348, Dominance: 24.752939\n",
      "MSP-PODCAST_0083_0037, 4.000000, Arousal: 27.704869, Valence: 7.455315, Dominance: 24.641294\n",
      "MSP-PODCAST_0083_0037, 4.000000, Arousal: 27.009071, Valence: 8.122689, Dominance: 24.031853\n",
      "MSP-PODCAST_0083_0037, 4.000000, Arousal: 27.022593, Valence: 8.426087, Dominance: 23.242738\n",
      "MSP-PODCAST_0083_0037, 4.000000, Arousal: 26.938940, Valence: 8.541985, Dominance: 22.983174\n"
     ]
    },
    {
     "name": "stderr",
     "output_type": "stream",
     "text": [
      "\r",
      " 17%|██████▋                                 | 461/2783 [03:13<23:33,  1.64it/s]"
     ]
    },
    {
     "name": "stdout",
     "output_type": "stream",
     "text": [
      "MSP-PODCAST_0083_0037, 4.000000, Arousal: 25.784419, Valence: 8.326606, Dominance: 22.698941\n",
      "MSP-PODCAST_0083_0037, 3.620000, Arousal: 25.708803, Valence: 8.328772, Dominance: 22.888468\n"
     ]
    },
    {
     "name": "stderr",
     "output_type": "stream",
     "text": [
      "\r",
      " 17%|██████▋                                 | 462/2783 [03:13<21:43,  1.78it/s]"
     ]
    },
    {
     "name": "stdout",
     "output_type": "stream",
     "text": [
      "MSP-PODCAST_0083_0038, 4.000000, Arousal: 30.146549, Valence: 5.900613, Dominance: 23.079084\n",
      "MSP-PODCAST_0083_0038, 4.000000, Arousal: 30.577793, Valence: 6.238832, Dominance: 23.160688\n",
      "MSP-PODCAST_0083_0038, 4.000000, Arousal: 31.509317, Valence: 6.853277, Dominance: 24.116874\n",
      "MSP-PODCAST_0083_0038, 4.000000, Arousal: 31.502461, Valence: 7.102114, Dominance: 24.870880\n",
      "MSP-PODCAST_0083_0038, 3.610000, Arousal: 31.495517, Valence: 7.130925, Dominance: 25.328616\n"
     ]
    },
    {
     "name": "stderr",
     "output_type": "stream",
     "text": [
      "\r",
      " 17%|██████▋                                 | 463/2783 [03:14<20:48,  1.86it/s]"
     ]
    },
    {
     "name": "stdout",
     "output_type": "stream",
     "text": [
      "MSP-PODCAST_0083_0039, 4.000000, Arousal: 32.293385, Valence: 7.014779, Dominance: 30.287616\n",
      "MSP-PODCAST_0083_0039, 4.000000, Arousal: 33.530095, Valence: 7.240450, Dominance: 30.638739\n",
      "MSP-PODCAST_0083_0039, 4.000000, Arousal: 34.012435, Valence: 7.503233, Dominance: 30.951578\n",
      "MSP-PODCAST_0083_0039, 4.000000, Arousal: 34.334131, Valence: 7.563441, Dominance: 31.613506\n",
      "MSP-PODCAST_0083_0039, 4.000000, Arousal: 34.518462, Valence: 7.800989, Dominance: 31.611824\n",
      "MSP-PODCAST_0083_0039, 3.960000, Arousal: 34.962120, Valence: 7.885366, Dominance: 31.847054\n"
     ]
    },
    {
     "name": "stderr",
     "output_type": "stream",
     "text": [
      "\r",
      " 17%|██████▋                                 | 464/2783 [03:14<22:52,  1.69it/s]"
     ]
    },
    {
     "name": "stdout",
     "output_type": "stream",
     "text": [
      "MSP-PODCAST_0083_0040, 4.000000, Arousal: 26.046871, Valence: 8.213867, Dominance: 29.384660\n",
      "MSP-PODCAST_0083_0040, 4.000000, Arousal: 24.553593, Valence: 7.724406, Dominance: 28.365613\n",
      "MSP-PODCAST_0083_0040, 4.000000, Arousal: 23.271664, Valence: 6.989869, Dominance: 27.623240\n",
      "MSP-PODCAST_0083_0040, 4.000000, Arousal: 21.885668, Valence: 5.955908, Dominance: 26.465604\n",
      "MSP-PODCAST_0083_0040, 4.000000, Arousal: 20.834192, Valence: 4.804320, Dominance: 24.657021\n",
      "MSP-PODCAST_0083_0040, 4.000000, Arousal: 19.619737, Valence: 3.626058, Dominance: 23.114391\n",
      "MSP-PODCAST_0083_0040, 4.000000, Arousal: 19.161806, Valence: 2.661090, Dominance: 22.140262\n",
      "MSP-PODCAST_0083_0040, 4.000000, Arousal: 19.276446, Valence: 2.372179, Dominance: 21.406533\n",
      "MSP-PODCAST_0083_0040, 4.000000, Arousal: 19.699623, Valence: 1.578392, Dominance: 20.303722\n",
      "MSP-PODCAST_0083_0040, 4.000000, Arousal: 19.089796, Valence: 0.767464, Dominance: 19.038019\n",
      "MSP-PODCAST_0083_0040, 4.000000, Arousal: 18.446609, Valence: 0.369312, Dominance: 17.860544\n",
      "MSP-PODCAST_0083_0040, 3.580000, Arousal: 18.125408, Valence: 0.303842, Dominance: 17.553730\n"
     ]
    },
    {
     "name": "stderr",
     "output_type": "stream",
     "text": [
      "\r",
      " 17%|██████▋                                 | 465/2783 [03:15<20:18,  1.90it/s]"
     ]
    },
    {
     "name": "stdout",
     "output_type": "stream",
     "text": [
      "MSP-PODCAST_0083_0041, 4.000000, Arousal: 18.319041, Valence: 0.710602, Dominance: 17.239395\n",
      "MSP-PODCAST_0083_0041, 3.700000, Arousal: 19.237136, Valence: 0.506912, Dominance: 17.745810\n"
     ]
    },
    {
     "name": "stderr",
     "output_type": "stream",
     "text": [
      "\r",
      " 17%|██████▋                                 | 466/2783 [03:15<16:33,  2.33it/s]"
     ]
    },
    {
     "name": "stdout",
     "output_type": "stream",
     "text": [
      "MSP-PODCAST_0083_0042, 2.110000, Arousal: 21.878612, Valence: 9.322829, Dominance: 23.208292\n"
     ]
    },
    {
     "name": "stderr",
     "output_type": "stream",
     "text": [
      " 17%|██████▋                                 | 466/2783 [03:15<16:14,  2.38it/s]\n"
     ]
    },
    {
     "ename": "KeyboardInterrupt",
     "evalue": "",
     "output_type": "error",
     "traceback": [
      "\u001b[0;31m---------------------------------------------------------------------------\u001b[0m",
      "\u001b[0;31mKeyboardInterrupt\u001b[0m                         Traceback (most recent call last)",
      "Input \u001b[0;32mIn [77]\u001b[0m, in \u001b[0;36m<cell line: 1>\u001b[0;34m()\u001b[0m\n\u001b[0;32m----> 1\u001b[0m \u001b[43mload_features\u001b[49m\u001b[43m(\u001b[49m\u001b[43m)\u001b[49m\n",
      "Input \u001b[0;32mIn [76]\u001b[0m, in \u001b[0;36mload_features\u001b[0;34m()\u001b[0m\n\u001b[1;32m     61\u001b[0m     df_dominance\u001b[38;5;241m.\u001b[39mappend(df)\n\u001b[1;32m     63\u001b[0m x \u001b[38;5;241m=\u001b[39m pd\u001b[38;5;241m.\u001b[39mread_csv(folder_lld_features[i] \u001b[38;5;241m+\u001b[39m file)\n\u001b[0;32m---> 64\u001b[0m x \u001b[38;5;241m=\u001b[39m \u001b[43mconvert_timestamp\u001b[49m\u001b[43m(\u001b[49m\u001b[43mx\u001b[49m\u001b[43m)\u001b[49m\n\u001b[1;32m     65\u001b[0m start \u001b[38;5;241m=\u001b[39m \u001b[38;5;241m-\u001b[39mhop_size\n\u001b[1;32m     66\u001b[0m end \u001b[38;5;241m=\u001b[39m start\n",
      "Input \u001b[0;32mIn [26]\u001b[0m, in \u001b[0;36mconvert_timestamp\u001b[0;34m(x)\u001b[0m\n\u001b[1;32m      8\u001b[0m \u001b[38;5;28;01mfor\u001b[39;00m i \u001b[38;5;129;01min\u001b[39;00m \u001b[38;5;28mrange\u001b[39m(\u001b[38;5;28mlen\u001b[39m(x)):\n\u001b[1;32m      9\u001b[0m     x\u001b[38;5;241m.\u001b[39miloc[i, \u001b[38;5;241m0\u001b[39m] \u001b[38;5;241m=\u001b[39m i \u001b[38;5;241m*\u001b[39m hop_size\n\u001b[0;32m---> 10\u001b[0m     x\u001b[38;5;241m.\u001b[39miloc[i, \u001b[38;5;241m1\u001b[39m] \u001b[38;5;241m=\u001b[39m \u001b[43mx\u001b[49m\u001b[38;5;241;43m.\u001b[39;49m\u001b[43miloc\u001b[49m\u001b[43m[\u001b[49m\u001b[43mi\u001b[49m\u001b[43m,\u001b[49m\u001b[43m \u001b[49m\u001b[38;5;241;43m0\u001b[39;49m\u001b[43m]\u001b[49m \u001b[38;5;241m+\u001b[39m window_size\n\u001b[1;32m     11\u001b[0m \u001b[38;5;28;01mreturn\u001b[39;00m x\n",
      "File \u001b[0;32m~/workspace/ABI_research/env/lib/python3.8/site-packages/pandas/core/indexing.py:924\u001b[0m, in \u001b[0;36m_LocationIndexer.__getitem__\u001b[0;34m(self, key)\u001b[0m\n\u001b[1;32m    922\u001b[0m     \u001b[38;5;28;01mif\u001b[39;00m \u001b[38;5;28mself\u001b[39m\u001b[38;5;241m.\u001b[39m_is_scalar_access(key):\n\u001b[1;32m    923\u001b[0m         \u001b[38;5;28;01mwith\u001b[39;00m suppress(\u001b[38;5;167;01mKeyError\u001b[39;00m, \u001b[38;5;167;01mIndexError\u001b[39;00m):\n\u001b[0;32m--> 924\u001b[0m             \u001b[38;5;28;01mreturn\u001b[39;00m \u001b[38;5;28;43mself\u001b[39;49m\u001b[38;5;241;43m.\u001b[39;49m\u001b[43mobj\u001b[49m\u001b[38;5;241;43m.\u001b[39;49m\u001b[43m_get_value\u001b[49m\u001b[43m(\u001b[49m\u001b[38;5;241;43m*\u001b[39;49m\u001b[43mkey\u001b[49m\u001b[43m,\u001b[49m\u001b[43m \u001b[49m\u001b[43mtakeable\u001b[49m\u001b[38;5;241;43m=\u001b[39;49m\u001b[38;5;28;43mself\u001b[39;49m\u001b[38;5;241;43m.\u001b[39;49m\u001b[43m_takeable\u001b[49m\u001b[43m)\u001b[49m\n\u001b[1;32m    925\u001b[0m     \u001b[38;5;28;01mreturn\u001b[39;00m \u001b[38;5;28mself\u001b[39m\u001b[38;5;241m.\u001b[39m_getitem_tuple(key)\n\u001b[1;32m    926\u001b[0m \u001b[38;5;28;01melse\u001b[39;00m:\n\u001b[1;32m    927\u001b[0m     \u001b[38;5;66;03m# we by definition only have the 0th axis\u001b[39;00m\n",
      "File \u001b[0;32m~/workspace/ABI_research/env/lib/python3.8/site-packages/pandas/core/frame.py:3565\u001b[0m, in \u001b[0;36mDataFrame._get_value\u001b[0;34m(self, index, col, takeable)\u001b[0m\n\u001b[1;32m   3546\u001b[0m \u001b[38;5;124;03m\"\"\"\u001b[39;00m\n\u001b[1;32m   3547\u001b[0m \u001b[38;5;124;03mQuickly retrieve single value at passed column and index.\u001b[39;00m\n\u001b[1;32m   3548\u001b[0m \n\u001b[0;32m   (...)\u001b[0m\n\u001b[1;32m   3562\u001b[0m \u001b[38;5;124;03mcaller is responsible for checking.\u001b[39;00m\n\u001b[1;32m   3563\u001b[0m \u001b[38;5;124;03m\"\"\"\u001b[39;00m\n\u001b[1;32m   3564\u001b[0m \u001b[38;5;28;01mif\u001b[39;00m takeable:\n\u001b[0;32m-> 3565\u001b[0m     series \u001b[38;5;241m=\u001b[39m \u001b[38;5;28;43mself\u001b[39;49m\u001b[38;5;241;43m.\u001b[39;49m\u001b[43m_ixs\u001b[49m\u001b[43m(\u001b[49m\u001b[43mcol\u001b[49m\u001b[43m,\u001b[49m\u001b[43m \u001b[49m\u001b[43maxis\u001b[49m\u001b[38;5;241;43m=\u001b[39;49m\u001b[38;5;241;43m1\u001b[39;49m\u001b[43m)\u001b[49m\n\u001b[1;32m   3566\u001b[0m     \u001b[38;5;28;01mreturn\u001b[39;00m series\u001b[38;5;241m.\u001b[39m_values[index]\n\u001b[1;32m   3568\u001b[0m series \u001b[38;5;241m=\u001b[39m \u001b[38;5;28mself\u001b[39m\u001b[38;5;241m.\u001b[39m_get_item_cache(col)\n",
      "File \u001b[0;32m~/workspace/ABI_research/env/lib/python3.8/site-packages/pandas/core/frame.py:3397\u001b[0m, in \u001b[0;36mDataFrame._ixs\u001b[0;34m(self, i, axis)\u001b[0m\n\u001b[1;32m   3394\u001b[0m label \u001b[38;5;241m=\u001b[39m \u001b[38;5;28mself\u001b[39m\u001b[38;5;241m.\u001b[39mcolumns[i]\n\u001b[1;32m   3396\u001b[0m values \u001b[38;5;241m=\u001b[39m \u001b[38;5;28mself\u001b[39m\u001b[38;5;241m.\u001b[39m_mgr\u001b[38;5;241m.\u001b[39miget(i)\n\u001b[0;32m-> 3397\u001b[0m result \u001b[38;5;241m=\u001b[39m \u001b[38;5;28;43mself\u001b[39;49m\u001b[38;5;241;43m.\u001b[39;49m\u001b[43m_box_col_values\u001b[49m\u001b[43m(\u001b[49m\u001b[43mvalues\u001b[49m\u001b[43m,\u001b[49m\u001b[43m \u001b[49m\u001b[43mi\u001b[49m\u001b[43m)\u001b[49m\n\u001b[1;32m   3399\u001b[0m \u001b[38;5;66;03m# this is a cached value, mark it so\u001b[39;00m\n\u001b[1;32m   3400\u001b[0m result\u001b[38;5;241m.\u001b[39m_set_as_cached(label, \u001b[38;5;28mself\u001b[39m)\n",
      "File \u001b[0;32m~/workspace/ABI_research/env/lib/python3.8/site-packages/pandas/core/frame.py:3868\u001b[0m, in \u001b[0;36mDataFrame._box_col_values\u001b[0;34m(self, values, loc)\u001b[0m\n\u001b[1;32m   3866\u001b[0m name \u001b[38;5;241m=\u001b[39m \u001b[38;5;28mself\u001b[39m\u001b[38;5;241m.\u001b[39mcolumns[loc]\n\u001b[1;32m   3867\u001b[0m klass \u001b[38;5;241m=\u001b[39m \u001b[38;5;28mself\u001b[39m\u001b[38;5;241m.\u001b[39m_constructor_sliced\n\u001b[0;32m-> 3868\u001b[0m \u001b[38;5;28;01mreturn\u001b[39;00m \u001b[43mklass\u001b[49m\u001b[43m(\u001b[49m\u001b[43mvalues\u001b[49m\u001b[43m,\u001b[49m\u001b[43m \u001b[49m\u001b[43mindex\u001b[49m\u001b[38;5;241;43m=\u001b[39;49m\u001b[38;5;28;43mself\u001b[39;49m\u001b[38;5;241;43m.\u001b[39;49m\u001b[43mindex\u001b[49m\u001b[43m,\u001b[49m\u001b[43m \u001b[49m\u001b[43mname\u001b[49m\u001b[38;5;241;43m=\u001b[39;49m\u001b[43mname\u001b[49m\u001b[43m,\u001b[49m\u001b[43m \u001b[49m\u001b[43mfastpath\u001b[49m\u001b[38;5;241;43m=\u001b[39;49m\u001b[38;5;28;43;01mTrue\u001b[39;49;00m\u001b[43m)\u001b[49m\n",
      "File \u001b[0;32m~/workspace/ABI_research/env/lib/python3.8/site-packages/pandas/core/series.py:447\u001b[0m, in \u001b[0;36mSeries.__init__\u001b[0;34m(self, data, index, dtype, name, copy, fastpath)\u001b[0m\n\u001b[1;32m    444\u001b[0m         \u001b[38;5;28;01melif\u001b[39;00m manager \u001b[38;5;241m==\u001b[39m \u001b[38;5;124m\"\u001b[39m\u001b[38;5;124marray\u001b[39m\u001b[38;5;124m\"\u001b[39m:\n\u001b[1;32m    445\u001b[0m             data \u001b[38;5;241m=\u001b[39m SingleArrayManager\u001b[38;5;241m.\u001b[39mfrom_array(data, index)\n\u001b[0;32m--> 447\u001b[0m \u001b[43mgeneric\u001b[49m\u001b[38;5;241;43m.\u001b[39;49m\u001b[43mNDFrame\u001b[49m\u001b[38;5;241;43m.\u001b[39;49m\u001b[38;5;21;43m__init__\u001b[39;49m\u001b[43m(\u001b[49m\u001b[38;5;28;43mself\u001b[39;49m\u001b[43m,\u001b[49m\u001b[43m \u001b[49m\u001b[43mdata\u001b[49m\u001b[43m)\u001b[49m\n\u001b[1;32m    448\u001b[0m \u001b[38;5;28mself\u001b[39m\u001b[38;5;241m.\u001b[39mname \u001b[38;5;241m=\u001b[39m name\n\u001b[1;32m    449\u001b[0m \u001b[38;5;28mself\u001b[39m\u001b[38;5;241m.\u001b[39m_set_axis(\u001b[38;5;241m0\u001b[39m, index, fastpath\u001b[38;5;241m=\u001b[39m\u001b[38;5;28;01mTrue\u001b[39;00m)\n",
      "File \u001b[0;32m~/workspace/ABI_research/env/lib/python3.8/site-packages/pandas/core/generic.py:241\u001b[0m, in \u001b[0;36mNDFrame.__init__\u001b[0;34m(self, data, copy, attrs)\u001b[0m\n\u001b[1;32m    233\u001b[0m \u001b[38;5;28;01mdef\u001b[39;00m \u001b[38;5;21m__init__\u001b[39m(\n\u001b[1;32m    234\u001b[0m     \u001b[38;5;28mself\u001b[39m,\n\u001b[1;32m    235\u001b[0m     data: Manager,\n\u001b[0;32m   (...)\u001b[0m\n\u001b[1;32m    238\u001b[0m ):\n\u001b[1;32m    239\u001b[0m     \u001b[38;5;66;03m# copy kwarg is retained for mypy compat, is not used\u001b[39;00m\n\u001b[0;32m--> 241\u001b[0m     \u001b[38;5;28;43mobject\u001b[39;49m\u001b[38;5;241;43m.\u001b[39;49m\u001b[38;5;21;43m__setattr__\u001b[39;49m\u001b[43m(\u001b[49m\u001b[38;5;28;43mself\u001b[39;49m\u001b[43m,\u001b[49m\u001b[43m \u001b[49m\u001b[38;5;124;43m\"\u001b[39;49m\u001b[38;5;124;43m_is_copy\u001b[39;49m\u001b[38;5;124;43m\"\u001b[39;49m\u001b[43m,\u001b[49m\u001b[43m \u001b[49m\u001b[38;5;28;43;01mNone\u001b[39;49;00m\u001b[43m)\u001b[49m\n\u001b[1;32m    242\u001b[0m     \u001b[38;5;28mobject\u001b[39m\u001b[38;5;241m.\u001b[39m\u001b[38;5;21m__setattr__\u001b[39m(\u001b[38;5;28mself\u001b[39m, \u001b[38;5;124m\"\u001b[39m\u001b[38;5;124m_mgr\u001b[39m\u001b[38;5;124m\"\u001b[39m, data)\n\u001b[1;32m    243\u001b[0m     \u001b[38;5;28mobject\u001b[39m\u001b[38;5;241m.\u001b[39m\u001b[38;5;21m__setattr__\u001b[39m(\u001b[38;5;28mself\u001b[39m, \u001b[38;5;124m\"\u001b[39m\u001b[38;5;124m_item_cache\u001b[39m\u001b[38;5;124m\"\u001b[39m, {})\n",
      "\u001b[0;31mKeyboardInterrupt\u001b[0m: "
     ]
    }
   ],
   "source": [
    "load_features()"
   ]
  },
  {
   "cell_type": "code",
   "execution_count": 48,
   "id": "d0bad866",
   "metadata": {},
   "outputs": [
    {
     "ename": "AttributeError",
     "evalue": "'str' object has no attribute 'iloc'",
     "output_type": "error",
     "traceback": [
      "\u001b[0;31m---------------------------------------------------------------------------\u001b[0m",
      "\u001b[0;31mAttributeError\u001b[0m                            Traceback (most recent call last)",
      "Input \u001b[0;32mIn [48]\u001b[0m, in \u001b[0;36m<cell line: 2>\u001b[0;34m()\u001b[0m\n\u001b[1;32m      1\u001b[0m file \u001b[38;5;241m=\u001b[39m \u001b[38;5;124m'\u001b[39m\u001b[38;5;124mLLDs/train/MSP-PODCAST_0021_0003.csv\u001b[39m\u001b[38;5;124m'\u001b[39m\n\u001b[0;32m----> 2\u001b[0m \u001b[43mconvert_timestamp\u001b[49m\u001b[43m(\u001b[49m\u001b[43mfile\u001b[49m\u001b[43m)\u001b[49m\n",
      "Input \u001b[0;32mIn [26]\u001b[0m, in \u001b[0;36mconvert_timestamp\u001b[0;34m(x)\u001b[0m\n\u001b[1;32m      7\u001b[0m hop_size \u001b[38;5;241m=\u001b[39m \u001b[38;5;241m0.01\u001b[39m\n\u001b[1;32m      8\u001b[0m \u001b[38;5;28;01mfor\u001b[39;00m i \u001b[38;5;129;01min\u001b[39;00m \u001b[38;5;28mrange\u001b[39m(\u001b[38;5;28mlen\u001b[39m(x)):\n\u001b[0;32m----> 9\u001b[0m     \u001b[43mx\u001b[49m\u001b[38;5;241;43m.\u001b[39;49m\u001b[43miloc\u001b[49m[i, \u001b[38;5;241m0\u001b[39m] \u001b[38;5;241m=\u001b[39m i \u001b[38;5;241m*\u001b[39m hop_size\n\u001b[1;32m     10\u001b[0m     x\u001b[38;5;241m.\u001b[39miloc[i, \u001b[38;5;241m1\u001b[39m] \u001b[38;5;241m=\u001b[39m x\u001b[38;5;241m.\u001b[39miloc[i, \u001b[38;5;241m0\u001b[39m] \u001b[38;5;241m+\u001b[39m window_size\n\u001b[1;32m     11\u001b[0m \u001b[38;5;28;01mreturn\u001b[39;00m x\n",
      "\u001b[0;31mAttributeError\u001b[0m: 'str' object has no attribute 'iloc'"
     ]
    }
   ],
   "source": [
    "file = 'LLDs/train/MSP-PODCAST_0021_0003.csv'\n",
    "convert_timestamp(file)"
   ]
  },
  {
   "cell_type": "code",
   "execution_count": 82,
   "id": "67ee8ded",
   "metadata": {},
   "outputs": [],
   "source": [
    "files = fnmatch.filter(os.listdir(folder_lld_features[0]), '*.csv')\n",
    "files.sort()"
   ]
  },
  {
   "cell_type": "code",
   "execution_count": 90,
   "id": "12fa36eb",
   "metadata": {},
   "outputs": [],
   "source": [
    "count = 0\n",
    "for i in files:\n",
    "    inst = i.split('.')[0]\n",
    "    if 'MSP-PODCAST_0153' in inst:\n",
    "        count += 1"
   ]
  },
  {
   "cell_type": "code",
   "execution_count": 91,
   "id": "b728eef5",
   "metadata": {},
   "outputs": [
    {
     "data": {
      "text/plain": [
       "81"
      ]
     },
     "execution_count": 91,
     "metadata": {},
     "output_type": "execute_result"
    }
   ],
   "source": [
    "count"
   ]
  },
  {
   "cell_type": "code",
   "execution_count": null,
   "id": "3c668b1b",
   "metadata": {},
   "outputs": [],
   "source": []
  }
 ],
 "metadata": {
  "kernelspec": {
   "display_name": "env",
   "language": "python",
   "name": "abi_research"
  },
  "language_info": {
   "codemirror_mode": {
    "name": "ipython",
    "version": 3
   },
   "file_extension": ".py",
   "mimetype": "text/x-python",
   "name": "python",
   "nbconvert_exporter": "python",
   "pygments_lexer": "ipython3",
   "version": "3.8.10"
  }
 },
 "nbformat": 4,
 "nbformat_minor": 5
}
