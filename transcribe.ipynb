{
 "cells": [
  {
   "cell_type": "code",
   "execution_count": 2,
   "id": "284d9a6d",
   "metadata": {},
   "outputs": [],
   "source": [
    "import os\n",
    "from google.cloud import speech\n",
    "import wave\n",
    "from pydub import AudioSegment\n",
    "from google.cloud import storage"
   ]
  },
  {
   "cell_type": "code",
   "execution_count": 3,
   "id": "7d13719f",
   "metadata": {},
   "outputs": [],
   "source": [
    "train_path = os.path.relpath('./Data/train/')\n",
    "test_path = os.path.relpath('./Data/test')\n",
    "validation_path = os.path.relpath('./Data/validation')\n",
    "train_write_path = os.path.relpath('./Data/transcripts/train')\n",
    "test_write_path = os.path.relpath('./Data/transcripts/test')\n",
    "validation_write_path = os.path.relpath('./Data/transcripts/validation')\n",
    "save_path = os.path.relpath('.')\n",
    "bucket_name = 'msc_research'\n",
    "os.environ[\"GOOGLE_APPLICATION_CREDENTIALS\"]=\"/home/changhyun/workspace/ABI_research/config/config.json\"\n"
   ]
  },
  {
   "cell_type": "code",
   "execution_count": 4,
   "id": "2e9da33d",
   "metadata": {},
   "outputs": [],
   "source": [
    "def transcribing():\n",
    "    client = speech.SpeechClient()\n",
    "    responses = []\n",
    "    errors = []\n",
    "    for file in os.listdir(audio_path):\n",
    "        path = os.path.join(audio_path, file)\n",
    "        with wave.open(path, \"r\") as wf:\n",
    "            channel = wf.getnchannels()\n",
    "            frame_rate = wf.getframerate()\n",
    "            with open(path, \"rb\") as audio_file:\n",
    "                content = audio_file.read()\n",
    "            audio = speech.RecognitionAudio(content=content)\n",
    "            config = speech.RecognitionConfig(\n",
    "                encoding=speech.RecognitionConfig.AudioEncoding.LINEAR16,\n",
    "                sample_rate_hertz= frame_rate,\n",
    "                audio_channel_count=channel,\n",
    "                enable_separate_recognition_per_channel=True,\n",
    "                language_code=\"en-US\",\n",
    "            )\n",
    "            try:\n",
    "                responses.append(client.recognize(config=config, audio=audio))\n",
    "            except Exception as e:\n",
    "                print(path)\n",
    "                print(e)\n",
    "                errors.append(file)\n",
    "\n",
    "    return responses, errors\n"
   ]
  },
  {
   "cell_type": "code",
   "execution_count": 5,
   "id": "827c3948",
   "metadata": {},
   "outputs": [],
   "source": [
    "def check_if_files_mono():\n",
    "    sample = AudioSegment.from_wav(audio_path)\n",
    "    print(sample.channels)"
   ]
  },
  {
   "cell_type": "code",
   "execution_count": 29,
   "id": "0863faab",
   "metadata": {},
   "outputs": [],
   "source": [
    "def frame_rate_channel_freq(audio_path):\n",
    "    frame_rates = {}\n",
    "    channels = {}\n",
    "    for file in os.listdir(audio_path):\n",
    "        path = os.path.join(audio_path, file)\n",
    "        with wave.open(path, \"r\") as wf:\n",
    "            frame_rate = wf.getframerate()\n",
    "            channel = wf.getnchannels()\n",
    "            freq = frame_rates.get(frame_rate, \"None\")\n",
    "            if freq == \"None\":\n",
    "                frame_rates[frame_rate] = 1\n",
    "            else:\n",
    "                frame_rates[frame_rate] += 1\n",
    "            freq = channels.get(channel, \"None\")\n",
    "            if freq == \"None\":\n",
    "                channels[channel] = 1\n",
    "            else:\n",
    "                channels[channel] += 1\n",
    "    return frame_rates, channels\n"
   ]
  },
  {
   "cell_type": "code",
   "execution_count": 30,
   "id": "705c7f0d",
   "metadata": {},
   "outputs": [],
   "source": [
    "frame_rates, channels = frame_rate_channel_freq(train_path)"
   ]
  },
  {
   "cell_type": "code",
   "execution_count": 31,
   "id": "364e1ec7",
   "metadata": {},
   "outputs": [
    {
     "data": {
      "text/plain": [
       "{16000: 2753, 44100: 30}"
      ]
     },
     "execution_count": 31,
     "metadata": {},
     "output_type": "execute_result"
    }
   ],
   "source": [
    "frame_rates"
   ]
  },
  {
   "cell_type": "code",
   "execution_count": 17,
   "id": "c7305a39",
   "metadata": {},
   "outputs": [
    {
     "data": {
      "text/plain": [
       "{1: 2753, 2: 30}"
      ]
     },
     "execution_count": 17,
     "metadata": {},
     "output_type": "execute_result"
    }
   ],
   "source": [
    "channels"
   ]
  },
  {
   "cell_type": "code",
   "execution_count": 18,
   "id": "c01c22bf",
   "metadata": {},
   "outputs": [],
   "source": [
    "# responses, errors = transcribing()"
   ]
  },
  {
   "cell_type": "code",
   "execution_count": null,
   "id": "61f2dab7",
   "metadata": {},
   "outputs": [],
   "source": []
  },
  {
   "cell_type": "code",
   "execution_count": 19,
   "id": "536a3c52",
   "metadata": {},
   "outputs": [],
   "source": [
    "# limit 60sec & 10MB\n",
    "def find_long_audios(path):\n",
    "    files = []\n",
    "    for file in os.listdir(path):\n",
    "        file_path = os.path.join(path, file)\n",
    "        size = byte_to_mb(os.path.getsize(file_path))\n",
    "        if size > 10:\n",
    "            files.append(file)\n",
    "            continue\n",
    "        with wave.open(file_path, \"r\") as wf:\n",
    "            frame_rate = wf.getframerate()\n",
    "            channel = wf.getnchannels()\n",
    "            n_frames = wf.getnframes()\n",
    "            duration = n_frames / float(frame_rate)\n",
    "            if duration > 60:\n",
    "                files.append(file)\n",
    "    return files"
   ]
  },
  {
   "cell_type": "code",
   "execution_count": 20,
   "id": "c1e9cccb",
   "metadata": {},
   "outputs": [],
   "source": [
    "def byte_to_mb(size):\n",
    "    return size / 1024 / 1024"
   ]
  },
  {
   "cell_type": "code",
   "execution_count": 21,
   "id": "ac71bf49",
   "metadata": {},
   "outputs": [],
   "source": [
    "train_long_files = find_long_audios(train_path)\n",
    "test_long_files = find_long_audios(test_path)\n",
    "valid_long_files = find_long_audios(validation_path)"
   ]
  },
  {
   "cell_type": "code",
   "execution_count": 22,
   "id": "b977bcfd",
   "metadata": {},
   "outputs": [
    {
     "data": {
      "text/plain": [
       "['MSP-PODCAST_1170_0047.wav',\n",
       " 'MSP-PODCAST_1167_0089.wav',\n",
       " 'MSP-PODCAST_0422_0206.wav',\n",
       " 'MSP-PODCAST_1170_0023.wav',\n",
       " 'MSP-PODCAST_0456_0084.wav',\n",
       " 'MSP-PODCAST_1184_0053.wav',\n",
       " 'MSP-PODCAST_0456_0086.wav',\n",
       " 'MSP-PODCAST_0422_0233.wav',\n",
       " 'MSP-PODCAST_0361_0032.wav',\n",
       " 'MSP-PODCAST_0418_0053.wav',\n",
       " 'MSP-PODCAST_1167_0092.wav',\n",
       " 'MSP-PODCAST_1167_0004.wav',\n",
       " 'MSP-PODCAST_1353_0031.wav',\n",
       " 'MSP-PODCAST_1353_0035.wav',\n",
       " 'MSP-PODCAST_0456_0077.wav',\n",
       " 'MSP-PODCAST_0380_0232.wav',\n",
       " 'MSP-PODCAST_0456_0094.wav']"
      ]
     },
     "execution_count": 22,
     "metadata": {},
     "output_type": "execute_result"
    }
   ],
   "source": [
    "train_long_files"
   ]
  },
  {
   "cell_type": "code",
   "execution_count": 23,
   "id": "2b1eda00",
   "metadata": {},
   "outputs": [
    {
     "data": {
      "text/plain": [
       "['MSP-PODCAST_1159_0022.wav',\n",
       " 'MSP-PODCAST_1154_0024.wav',\n",
       " 'MSP-PODCAST_0498_0348.wav',\n",
       " 'MSP-PODCAST_1130_0008.wav',\n",
       " 'MSP-PODCAST_1159_0007.wav',\n",
       " 'MSP-PODCAST_1159_0004.wav',\n",
       " 'MSP-PODCAST_1130_0002.wav',\n",
       " 'MSP-PODCAST_1154_0035.wav',\n",
       " 'MSP-PODCAST_1159_0020.wav',\n",
       " 'MSP-PODCAST_1130_0006.wav',\n",
       " 'MSP-PODCAST_1183_0037.wav',\n",
       " 'MSP-PODCAST_0538_0094.wav',\n",
       " 'MSP-PODCAST_1130_0004.wav']"
      ]
     },
     "execution_count": 23,
     "metadata": {},
     "output_type": "execute_result"
    }
   ],
   "source": [
    "test_long_files"
   ]
  },
  {
   "cell_type": "code",
   "execution_count": 24,
   "id": "179980aa",
   "metadata": {},
   "outputs": [
    {
     "data": {
      "text/plain": [
       "['MSP-PODCAST_1186_0014.wav',\n",
       " 'MSP-PODCAST_1191_0026.wav',\n",
       " 'MSP-PODCAST_1186_0007.wav',\n",
       " 'MSP-PODCAST_1185_0010.wav',\n",
       " 'MSP-PODCAST_1187_0001.wav',\n",
       " 'MSP-PODCAST_1188_0023.wav',\n",
       " 'MSP-PODCAST_1186_0010.wav',\n",
       " 'MSP-PODCAST_1190_0063.wav',\n",
       " 'MSP-PODCAST_1185_0011.wav',\n",
       " 'MSP-PODCAST_1191_0010.wav',\n",
       " 'MSP-PODCAST_1187_0007.wav',\n",
       " 'MSP-PODCAST_1186_0006.wav',\n",
       " 'MSP-PODCAST_1191_0018.wav',\n",
       " 'MSP-PODCAST_1187_0015.wav',\n",
       " 'MSP-PODCAST_1191_0019.wav',\n",
       " 'MSP-PODCAST_1187_0026.wav',\n",
       " 'MSP-PODCAST_1187_0032.wav']"
      ]
     },
     "execution_count": 24,
     "metadata": {},
     "output_type": "execute_result"
    }
   ],
   "source": [
    "valid_long_files"
   ]
  },
  {
   "cell_type": "code",
   "execution_count": 25,
   "id": "ffd3bd6d",
   "metadata": {},
   "outputs": [],
   "source": [
    "def upload_blob(bucket_name, source_file_name, destination_blob_name):\n",
    "    \"\"\"Uploads a file to the bucket.\"\"\"\n",
    "    storage_client = storage.Client()\n",
    "    bucket = storage_client.get_bucket(bucket_name)\n",
    "    blob = bucket.blob(destination_blob_name)\n",
    "\n",
    "    blob.upload_from_filename(source_file_name)"
   ]
  },
  {
   "cell_type": "code",
   "execution_count": 26,
   "id": "1ad59e3e",
   "metadata": {},
   "outputs": [],
   "source": [
    "def delete_blob(bucket_name, blob_name):\n",
    "    \"\"\"Deletes a blob from the bucket.\"\"\"\n",
    "    storage_client = storage.Client()\n",
    "    bucket = storage_client.get_bucket(bucket_name)\n",
    "    blob = bucket.blob(blob_name)\n",
    "\n",
    "    blob.delete()"
   ]
  },
  {
   "cell_type": "code",
   "execution_count": 32,
   "id": "990e8531",
   "metadata": {},
   "outputs": [],
   "source": [
    "def frame_rate_channel(audio_file_name):\n",
    "    with wave.open(audio_file_name, \"rb\") as wave_file:\n",
    "        frame_rate = wave_file.getframerate()\n",
    "        channels = wave_file.getnchannels()\n",
    "        return frame_rate,channels"
   ]
  },
  {
   "cell_type": "code",
   "execution_count": 36,
   "id": "c324e988",
   "metadata": {},
   "outputs": [],
   "source": [
    "def google_transcribe(audio_file_name):\n",
    "    \n",
    "#     file_name = filepath + audio_file_name\n",
    "\n",
    "    # The name of the audio file to transcribe\n",
    "    \n",
    "    frame_rate, channels = frame_rate_channel(audio_file_name)\n",
    "    \n",
    "#     source_file_name = filepath + audio_file_name\n",
    "    destination_blob_name = audio_file_name\n",
    "    \n",
    "    upload_blob(bucket_name, audio_file_name, destination_blob_name)\n",
    "    \n",
    "    gcs_uri = 'gs://' + bucket_name + '/' + audio_file_name\n",
    "    transcript = ''\n",
    "    \n",
    "    client = speech.SpeechClient()\n",
    "    audio = speech.RecognitionAudio(uri=gcs_uri)\n",
    "    value = False\n",
    "    if channels > 1:\n",
    "        value = True\n",
    "\n",
    "    config = speech.RecognitionConfig(\n",
    "        encoding=speech.RecognitionConfig.AudioEncoding.LINEAR16,\n",
    "        sample_rate_hertz=frame_rate,\n",
    "        audio_channel_count=channels,\n",
    "        enable_separate_recognition_per_channel=value,\n",
    "        language_code='en-US')\n",
    "\n",
    "    # Detects speech in the audio file\n",
    "    operation = client.long_running_recognize(config=config, audio=audio)\n",
    "    response = operation.result(timeout=10000)\n",
    "\n",
    "    for result in response.results:\n",
    "        transcript += result.alternatives[0].transcript\n",
    "    \n",
    "    delete_blob(bucket_name, destination_blob_name)\n",
    "    return transcript"
   ]
  },
  {
   "cell_type": "code",
   "execution_count": 37,
   "id": "8fba86dc",
   "metadata": {},
   "outputs": [],
   "source": [
    "def write_transcripts(transcript_filename,transcript):\n",
    "    f= open(output_filepath + transcript_filename,\"w+\")\n",
    "    f.write(transcript)\n",
    "    f.close()"
   ]
  },
  {
   "cell_type": "code",
   "execution_count": 38,
   "id": "b9ce0854",
   "metadata": {},
   "outputs": [],
   "source": [
    "# for file in train_long_files:\n",
    "file_name = os.path.join(train_path, train_long_files[0])\n",
    "transcript = google_transcribe(file_name)\n",
    "# write_transcripts(save_path, transcript)"
   ]
  },
  {
   "cell_type": "code",
   "execution_count": null,
   "id": "a4a68c33",
   "metadata": {},
   "outputs": [],
   "source": []
  },
  {
   "cell_type": "code",
   "execution_count": null,
   "id": "bb2ba01b",
   "metadata": {},
   "outputs": [],
   "source": []
  }
 ],
 "metadata": {
  "kernelspec": {
   "display_name": "env",
   "language": "python",
   "name": "abi_research"
  },
  "language_info": {
   "codemirror_mode": {
    "name": "ipython",
    "version": 3
   },
   "file_extension": ".py",
   "mimetype": "text/x-python",
   "name": "python",
   "nbconvert_exporter": "python",
   "pygments_lexer": "ipython3",
   "version": "3.8.10"
  }
 },
 "nbformat": 4,
 "nbformat_minor": 5
}
