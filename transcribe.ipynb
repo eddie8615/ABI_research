{
 "cells": [
  {
   "cell_type": "code",
   "execution_count": 32,
   "id": "284d9a6d",
   "metadata": {},
   "outputs": [],
   "source": [
    "import os\n",
    "from google.cloud import speech\n",
    "import wave\n",
    "from pydub import AudioSegment\n",
    "from tqdm import tqdm\n",
    "from google.cloud import storage"
   ]
  },
  {
   "cell_type": "code",
   "execution_count": 2,
   "id": "7d13719f",
   "metadata": {},
   "outputs": [],
   "source": [
    "train_path = os.path.relpath('./Data/train/')\n",
    "test_path = os.path.relpath('./Data/test')\n",
    "validation_path = os.path.relpath('./Data/validation')\n",
    "train_write_path = os.path.relpath('./Data/transcripts/train')\n",
    "test_write_path = os.path.relpath('./Data/transcripts/test')\n",
    "validation_write_path = os.path.relpath('./Data/transcripts/validation')\n",
    "save_path = os.path.relpath('.')\n",
    "bucket_name = 'msc_research'\n",
    "os.environ[\"GOOGLE_APPLICATION_CREDENTIALS\"]=\"/home/changhyun/workspace/ABI_research/config/config.json\"\n"
   ]
  },
  {
   "cell_type": "code",
   "execution_count": 3,
   "id": "2e9da33d",
   "metadata": {},
   "outputs": [],
   "source": [
    "def transcribing():\n",
    "    client = speech.SpeechClient()\n",
    "    responses = []\n",
    "    errors = []\n",
    "    for file in os.listdir(audio_path):\n",
    "        path = os.path.join(audio_path, file)\n",
    "        with wave.open(path, \"r\") as wf:\n",
    "            channel = wf.getnchannels()\n",
    "            frame_rate = wf.getframerate()\n",
    "            with open(path, \"rb\") as audio_file:\n",
    "                content = audio_file.read()\n",
    "            audio = speech.RecognitionAudio(content=content)\n",
    "            config = speech.RecognitionConfig(\n",
    "                encoding=speech.RecognitionConfig.AudioEncoding.LINEAR16,\n",
    "                sample_rate_hertz= frame_rate,\n",
    "                audio_channel_count=channel,\n",
    "                enable_separate_recognition_per_channel=True,\n",
    "                language_code=\"en-US\",\n",
    "            )\n",
    "            try:\n",
    "                responses.append(client.recognize(config=config, audio=audio))\n",
    "            except Exception as e:\n",
    "                print(path)\n",
    "                print(e)\n",
    "                errors.append(file)\n",
    "\n",
    "    return responses, errors\n"
   ]
  },
  {
   "cell_type": "code",
   "execution_count": 4,
   "id": "827c3948",
   "metadata": {},
   "outputs": [],
   "source": [
    "def check_if_files_mono():\n",
    "    sample = AudioSegment.from_wav(audio_path)\n",
    "    print(sample.channels)"
   ]
  },
  {
   "cell_type": "code",
   "execution_count": 5,
   "id": "0863faab",
   "metadata": {},
   "outputs": [],
   "source": [
    "def frame_rate_channel_freq(audio_path):\n",
    "    frame_rates = {}\n",
    "    channels = {}\n",
    "    for file in os.listdir(audio_path):\n",
    "        path = os.path.join(audio_path, file)\n",
    "        with wave.open(path, \"r\") as wf:\n",
    "            frame_rate = wf.getframerate()\n",
    "            channel = wf.getnchannels()\n",
    "            freq = frame_rates.get(frame_rate, \"None\")\n",
    "            if freq == \"None\":\n",
    "                frame_rates[frame_rate] = 1\n",
    "            else:\n",
    "                frame_rates[frame_rate] += 1\n",
    "            freq = channels.get(channel, \"None\")\n",
    "            if freq == \"None\":\n",
    "                channels[channel] = 1\n",
    "            else:\n",
    "                channels[channel] += 1\n",
    "    return frame_rates, channels\n"
   ]
  },
  {
   "cell_type": "code",
   "execution_count": 6,
   "id": "705c7f0d",
   "metadata": {},
   "outputs": [],
   "source": [
    "frame_rates, channels = frame_rate_channel_freq(train_path)"
   ]
  },
  {
   "cell_type": "code",
   "execution_count": 7,
   "id": "364e1ec7",
   "metadata": {},
   "outputs": [
    {
     "data": {
      "text/plain": [
       "{16000: 2753, 44100: 30}"
      ]
     },
     "execution_count": 7,
     "metadata": {},
     "output_type": "execute_result"
    }
   ],
   "source": [
    "frame_rates"
   ]
  },
  {
   "cell_type": "code",
   "execution_count": 8,
   "id": "c7305a39",
   "metadata": {},
   "outputs": [
    {
     "data": {
      "text/plain": [
       "{1: 2753, 2: 30}"
      ]
     },
     "execution_count": 8,
     "metadata": {},
     "output_type": "execute_result"
    }
   ],
   "source": [
    "channels"
   ]
  },
  {
   "cell_type": "code",
   "execution_count": 42,
   "id": "c01c22bf",
   "metadata": {},
   "outputs": [],
   "source": [
    "def mean(li):\n",
    "    return sum(li) / len(li)"
   ]
  },
  {
   "cell_type": "code",
   "execution_count": null,
   "id": "61f2dab7",
   "metadata": {},
   "outputs": [],
   "source": []
  },
  {
   "cell_type": "code",
   "execution_count": 10,
   "id": "536a3c52",
   "metadata": {},
   "outputs": [],
   "source": [
    "# limit 60sec & 10MB\n",
    "def find_long_audios(path):\n",
    "    files = []\n",
    "    for file in os.listdir(path):\n",
    "        file_path = os.path.join(path, file)\n",
    "        size = byte_to_mb(os.path.getsize(file_path))\n",
    "        if size > 10:\n",
    "            files.append(file)\n",
    "            continue\n",
    "        with wave.open(file_path, \"r\") as wf:\n",
    "            frame_rate = wf.getframerate()\n",
    "            channel = wf.getnchannels()\n",
    "            n_frames = wf.getnframes()\n",
    "            duration = n_frames / float(frame_rate)\n",
    "            if duration > 60:\n",
    "                files.append(file)\n",
    "    return files"
   ]
  },
  {
   "cell_type": "code",
   "execution_count": 11,
   "id": "c1e9cccb",
   "metadata": {},
   "outputs": [],
   "source": [
    "def byte_to_mb(size):\n",
    "    return size / 1024 / 1024"
   ]
  },
  {
   "cell_type": "code",
   "execution_count": 12,
   "id": "ac71bf49",
   "metadata": {},
   "outputs": [],
   "source": [
    "train_long_files = find_long_audios(train_path)\n",
    "test_long_files = find_long_audios(test_path)\n",
    "valid_long_files = find_long_audios(validation_path)"
   ]
  },
  {
   "cell_type": "code",
   "execution_count": 13,
   "id": "b977bcfd",
   "metadata": {},
   "outputs": [
    {
     "data": {
      "text/plain": [
       "['MSP-PODCAST_1170_0047.wav',\n",
       " 'MSP-PODCAST_1167_0089.wav',\n",
       " 'MSP-PODCAST_0422_0206.wav',\n",
       " 'MSP-PODCAST_1170_0023.wav',\n",
       " 'MSP-PODCAST_0456_0084.wav',\n",
       " 'MSP-PODCAST_1184_0053.wav',\n",
       " 'MSP-PODCAST_0456_0086.wav',\n",
       " 'MSP-PODCAST_0422_0233.wav',\n",
       " 'MSP-PODCAST_0361_0032.wav',\n",
       " 'MSP-PODCAST_0418_0053.wav',\n",
       " 'MSP-PODCAST_1167_0092.wav',\n",
       " 'MSP-PODCAST_1167_0004.wav',\n",
       " 'MSP-PODCAST_1353_0031.wav',\n",
       " 'MSP-PODCAST_1353_0035.wav',\n",
       " 'MSP-PODCAST_0456_0077.wav',\n",
       " 'MSP-PODCAST_0380_0232.wav',\n",
       " 'MSP-PODCAST_0456_0094.wav']"
      ]
     },
     "execution_count": 13,
     "metadata": {},
     "output_type": "execute_result"
    }
   ],
   "source": [
    "train_long_files"
   ]
  },
  {
   "cell_type": "code",
   "execution_count": 14,
   "id": "2b1eda00",
   "metadata": {},
   "outputs": [
    {
     "data": {
      "text/plain": [
       "['MSP-PODCAST_1159_0022.wav',\n",
       " 'MSP-PODCAST_1154_0024.wav',\n",
       " 'MSP-PODCAST_0498_0348.wav',\n",
       " 'MSP-PODCAST_1130_0008.wav',\n",
       " 'MSP-PODCAST_1159_0007.wav',\n",
       " 'MSP-PODCAST_1159_0004.wav',\n",
       " 'MSP-PODCAST_1130_0002.wav',\n",
       " 'MSP-PODCAST_1154_0035.wav',\n",
       " 'MSP-PODCAST_1159_0020.wav',\n",
       " 'MSP-PODCAST_1130_0006.wav',\n",
       " 'MSP-PODCAST_1183_0037.wav',\n",
       " 'MSP-PODCAST_0538_0094.wav',\n",
       " 'MSP-PODCAST_1130_0004.wav']"
      ]
     },
     "execution_count": 14,
     "metadata": {},
     "output_type": "execute_result"
    }
   ],
   "source": [
    "test_long_files"
   ]
  },
  {
   "cell_type": "code",
   "execution_count": 15,
   "id": "179980aa",
   "metadata": {},
   "outputs": [
    {
     "data": {
      "text/plain": [
       "['MSP-PODCAST_1186_0014.wav',\n",
       " 'MSP-PODCAST_1191_0026.wav',\n",
       " 'MSP-PODCAST_1186_0007.wav',\n",
       " 'MSP-PODCAST_1185_0010.wav',\n",
       " 'MSP-PODCAST_1187_0001.wav',\n",
       " 'MSP-PODCAST_1188_0023.wav',\n",
       " 'MSP-PODCAST_1186_0010.wav',\n",
       " 'MSP-PODCAST_1190_0063.wav',\n",
       " 'MSP-PODCAST_1185_0011.wav',\n",
       " 'MSP-PODCAST_1191_0010.wav',\n",
       " 'MSP-PODCAST_1187_0007.wav',\n",
       " 'MSP-PODCAST_1186_0006.wav',\n",
       " 'MSP-PODCAST_1191_0018.wav',\n",
       " 'MSP-PODCAST_1187_0015.wav',\n",
       " 'MSP-PODCAST_1191_0019.wav',\n",
       " 'MSP-PODCAST_1187_0026.wav',\n",
       " 'MSP-PODCAST_1187_0032.wav']"
      ]
     },
     "execution_count": 15,
     "metadata": {},
     "output_type": "execute_result"
    }
   ],
   "source": [
    "valid_long_files"
   ]
  },
  {
   "cell_type": "code",
   "execution_count": 21,
   "id": "ffd3bd6d",
   "metadata": {},
   "outputs": [],
   "source": [
    "def upload_blob(bucket_name, source_file_name, destination_blob_name):\n",
    "    \"\"\"Uploads a file to the bucket.\"\"\"\n",
    "    storage_client = storage.Client()\n",
    "    bucket = storage_client.get_bucket(bucket_name)\n",
    "    blob = bucket.blob(destination_blob_name)\n",
    "\n",
    "    blob.upload_from_filename(source_file_name)"
   ]
  },
  {
   "cell_type": "code",
   "execution_count": 22,
   "id": "1ad59e3e",
   "metadata": {},
   "outputs": [],
   "source": [
    "def delete_blob(bucket_name, blob_name):\n",
    "    \"\"\"Deletes a blob from the bucket.\"\"\"\n",
    "    storage_client = storage.Client()\n",
    "    bucket = storage_client.get_bucket(bucket_name)\n",
    "    blob = bucket.blob(blob_name)\n",
    "\n",
    "    blob.delete()"
   ]
  },
  {
   "cell_type": "code",
   "execution_count": 23,
   "id": "990e8531",
   "metadata": {},
   "outputs": [],
   "source": [
    "def frame_rate_channel(audio_file_name):\n",
    "    with wave.open(audio_file_name, \"rb\") as wave_file:\n",
    "        frame_rate = wave_file.getframerate()\n",
    "        channels = wave_file.getnchannels()\n",
    "        return frame_rate,channels"
   ]
  },
  {
   "cell_type": "code",
   "execution_count": 43,
   "id": "c324e988",
   "metadata": {},
   "outputs": [],
   "source": [
    "def google_transcribe(audio_file_name):\n",
    "    \n",
    "#     file_name = filepath + audio_file_name\n",
    "\n",
    "    # The name of the audio file to transcribe\n",
    "    \n",
    "    frame_rate, channels = frame_rate_channel(audio_file_name)\n",
    "    \n",
    "#     source_file_name = filepath + audio_file_name\n",
    "    destination_blob_name = audio_file_name\n",
    "    \n",
    "    upload_blob(bucket_name, audio_file_name, destination_blob_name)\n",
    "    \n",
    "    gcs_uri = 'gs://' + bucket_name + '/' + audio_file_name\n",
    "    transcript = ''\n",
    "    \n",
    "    client = speech.SpeechClient()\n",
    "    audio = speech.RecognitionAudio(uri=gcs_uri)\n",
    "    value = False\n",
    "    if channels > 1:\n",
    "        value = True\n",
    "\n",
    "    config = speech.RecognitionConfig(\n",
    "        encoding=speech.RecognitionConfig.AudioEncoding.LINEAR16,\n",
    "        sample_rate_hertz=frame_rate,\n",
    "        audio_channel_count=channels,\n",
    "        enable_separate_recognition_per_channel=value,\n",
    "        language_code='en-US')\n",
    "\n",
    "    # Detects speech in the audio file\n",
    "    operation = client.long_running_recognize(config=config, audio=audio)\n",
    "    response = operation.result(timeout=10000)\n",
    "    confidence = []\n",
    "\n",
    "    for result in response.results:\n",
    "        transcript += result.alternatives[0].transcript\n",
    "        confidence.append(result.alternatives[0].confidence)\n",
    "    \n",
    "    delete_blob(bucket_name, destination_blob_name)\n",
    "    return transcript, mean(confidence)"
   ]
  },
  {
   "cell_type": "code",
   "execution_count": 25,
   "id": "8fba86dc",
   "metadata": {},
   "outputs": [],
   "source": [
    "def write_transcripts(transcript_filename,transcript):\n",
    "    f= open(transcript_filename,\"w+\")\n",
    "    f.write(transcript)\n",
    "    f.close()"
   ]
  },
  {
   "cell_type": "code",
   "execution_count": 35,
   "id": "b9ce0854",
   "metadata": {},
   "outputs": [],
   "source": [
    "# for file in tqdm(train_long_files):\n",
    "#     file_name = os.path.join(train_path, file)\n",
    "#     transcript = google_transcribe(file_name)\n",
    "#     write_path = os.path.join(train_write_path, file[0:21] + '.txt')\n",
    "#     write_transcripts(write_path, transcript)\n",
    "#     print(file[0:21], '.txt has been created')"
   ]
  },
  {
   "cell_type": "code",
   "execution_count": 45,
   "id": "a4a68c33",
   "metadata": {},
   "outputs": [
    {
     "name": "stderr",
     "output_type": "stream",
     "text": [
      "  8%|███▍                                        | 1/13 [00:26<05:19, 26.60s/it]"
     ]
    },
    {
     "name": "stdout",
     "output_type": "stream",
     "text": [
      "MSP-PODCAST_1159_0022 .txt has been created\n"
     ]
    },
    {
     "name": "stderr",
     "output_type": "stream",
     "text": [
      "\r",
      " 15%|██████▊                                     | 2/13 [00:46<04:10, 22.77s/it]"
     ]
    },
    {
     "name": "stdout",
     "output_type": "stream",
     "text": [
      "MSP-PODCAST_1154_0024 .txt has been created\n"
     ]
    },
    {
     "name": "stderr",
     "output_type": "stream",
     "text": [
      "\r",
      " 23%|██████████▏                                 | 3/13 [01:57<07:27, 44.77s/it]"
     ]
    },
    {
     "name": "stdout",
     "output_type": "stream",
     "text": [
      "MSP-PODCAST_0498_0348 .txt has been created\n"
     ]
    },
    {
     "name": "stderr",
     "output_type": "stream",
     "text": [
      "\r",
      " 31%|█████████████▌                              | 4/13 [02:23<05:37, 37.47s/it]"
     ]
    },
    {
     "name": "stdout",
     "output_type": "stream",
     "text": [
      "MSP-PODCAST_1130_0008 .txt has been created\n"
     ]
    },
    {
     "name": "stderr",
     "output_type": "stream",
     "text": [
      "\r",
      " 38%|████████████████▉                           | 5/13 [03:05<05:11, 38.92s/it]"
     ]
    },
    {
     "name": "stdout",
     "output_type": "stream",
     "text": [
      "MSP-PODCAST_1159_0007 .txt has been created\n"
     ]
    },
    {
     "name": "stderr",
     "output_type": "stream",
     "text": [
      "\r",
      " 46%|████████████████████▎                       | 6/13 [04:10<05:34, 47.72s/it]"
     ]
    },
    {
     "name": "stdout",
     "output_type": "stream",
     "text": [
      "MSP-PODCAST_1159_0004 .txt has been created\n"
     ]
    },
    {
     "name": "stderr",
     "output_type": "stream",
     "text": [
      "\r",
      " 54%|███████████████████████▋                    | 7/13 [04:48<04:27, 44.52s/it]"
     ]
    },
    {
     "name": "stdout",
     "output_type": "stream",
     "text": [
      "MSP-PODCAST_1130_0002 .txt has been created\n"
     ]
    },
    {
     "name": "stderr",
     "output_type": "stream",
     "text": [
      "\r",
      " 62%|███████████████████████████                 | 8/13 [05:28<03:35, 43.11s/it]"
     ]
    },
    {
     "name": "stdout",
     "output_type": "stream",
     "text": [
      "MSP-PODCAST_1154_0035 .txt has been created\n"
     ]
    },
    {
     "name": "stderr",
     "output_type": "stream",
     "text": [
      "\r",
      " 69%|██████████████████████████████▍             | 9/13 [06:14<02:56, 44.14s/it]"
     ]
    },
    {
     "name": "stdout",
     "output_type": "stream",
     "text": [
      "MSP-PODCAST_1159_0020 .txt has been created\n"
     ]
    },
    {
     "name": "stderr",
     "output_type": "stream",
     "text": [
      "\r",
      " 77%|█████████████████████████████████          | 10/13 [06:54<02:08, 42.74s/it]"
     ]
    },
    {
     "name": "stdout",
     "output_type": "stream",
     "text": [
      "MSP-PODCAST_1130_0006 .txt has been created\n"
     ]
    },
    {
     "name": "stderr",
     "output_type": "stream",
     "text": [
      "\r",
      " 85%|████████████████████████████████████▍      | 11/13 [07:32<01:22, 41.28s/it]"
     ]
    },
    {
     "name": "stdout",
     "output_type": "stream",
     "text": [
      "MSP-PODCAST_1183_0037 .txt has been created\n"
     ]
    },
    {
     "name": "stderr",
     "output_type": "stream",
     "text": [
      "\r",
      " 92%|███████████████████████████████████████▋   | 12/13 [07:52<00:34, 34.95s/it]"
     ]
    },
    {
     "name": "stdout",
     "output_type": "stream",
     "text": [
      "MSP-PODCAST_0538_0094 .txt has been created\n"
     ]
    },
    {
     "name": "stderr",
     "output_type": "stream",
     "text": [
      "100%|███████████████████████████████████████████| 13/13 [08:23<00:00, 38.69s/it]"
     ]
    },
    {
     "name": "stdout",
     "output_type": "stream",
     "text": [
      "MSP-PODCAST_1130_0004 .txt has been created\n"
     ]
    },
    {
     "name": "stderr",
     "output_type": "stream",
     "text": [
      "\n"
     ]
    }
   ],
   "source": [
    "test_confidence = []\n",
    "for file in tqdm(test_long_files):\n",
    "    file_name = os.path.join(test_path, file)\n",
    "    transcript, confidence = google_transcribe(file_name)\n",
    "    test_confidence.append(confidence)\n",
    "    write_path = os.path.join(test_write_path, file[0:21] + '.txt')\n",
    "    write_transcripts(write_path, transcript)\n",
    "    print(file[0:21], '.txt has been created')"
   ]
  },
  {
   "cell_type": "code",
   "execution_count": 46,
   "id": "bb2ba01b",
   "metadata": {},
   "outputs": [
    {
     "data": {
      "text/plain": [
       "[0.9495081007480621,\n",
       " 0.9791086912155151,\n",
       " 0.9364469528198243,\n",
       " 0.9494617581367493,\n",
       " 0.9273580511411031,\n",
       " 0.8997351825237274,\n",
       " 0.967968612909317,\n",
       " 0.9590785106023153,\n",
       " 0.7883926033973694,\n",
       " 0.9483107626438141,\n",
       " 0.9263116896152497,\n",
       " 0.9501621723175049,\n",
       " 0.9424928625424703]"
      ]
     },
     "execution_count": 46,
     "metadata": {},
     "output_type": "execute_result"
    }
   ],
   "source": [
    "test_confidence"
   ]
  },
  {
   "cell_type": "code",
   "execution_count": 47,
   "id": "5f24320d",
   "metadata": {},
   "outputs": [
    {
     "name": "stderr",
     "output_type": "stream",
     "text": [
      "  6%|██▌                                         | 1/17 [00:18<05:02, 18.93s/it]"
     ]
    },
    {
     "name": "stdout",
     "output_type": "stream",
     "text": [
      "MSP-PODCAST_1186_0014 .txt has been created\n"
     ]
    },
    {
     "name": "stderr",
     "output_type": "stream",
     "text": [
      "\r",
      " 12%|█████▏                                      | 2/17 [00:58<07:44, 30.95s/it]"
     ]
    },
    {
     "name": "stdout",
     "output_type": "stream",
     "text": [
      "MSP-PODCAST_1191_0026 .txt has been created\n"
     ]
    },
    {
     "name": "stderr",
     "output_type": "stream",
     "text": [
      "\r",
      " 18%|███████▊                                    | 3/17 [01:14<05:39, 24.24s/it]"
     ]
    },
    {
     "name": "stdout",
     "output_type": "stream",
     "text": [
      "MSP-PODCAST_1186_0007 .txt has been created\n"
     ]
    },
    {
     "name": "stderr",
     "output_type": "stream",
     "text": [
      "\r",
      " 24%|██████████▎                                 | 4/17 [02:00<07:05, 32.71s/it]"
     ]
    },
    {
     "name": "stdout",
     "output_type": "stream",
     "text": [
      "MSP-PODCAST_1185_0010 .txt has been created\n"
     ]
    },
    {
     "name": "stderr",
     "output_type": "stream",
     "text": [
      "\r",
      " 29%|████████████▉                               | 5/17 [02:38<06:55, 34.59s/it]"
     ]
    },
    {
     "name": "stdout",
     "output_type": "stream",
     "text": [
      "MSP-PODCAST_1187_0001 .txt has been created\n"
     ]
    },
    {
     "name": "stderr",
     "output_type": "stream",
     "text": [
      "\r",
      " 35%|███████████████▌                            | 6/17 [03:35<07:45, 42.30s/it]"
     ]
    },
    {
     "name": "stdout",
     "output_type": "stream",
     "text": [
      "MSP-PODCAST_1188_0023 .txt has been created\n"
     ]
    },
    {
     "name": "stderr",
     "output_type": "stream",
     "text": [
      "\r",
      " 41%|██████████████████                          | 7/17 [04:05<06:21, 38.18s/it]"
     ]
    },
    {
     "name": "stdout",
     "output_type": "stream",
     "text": [
      "MSP-PODCAST_1186_0010 .txt has been created\n"
     ]
    },
    {
     "name": "stderr",
     "output_type": "stream",
     "text": [
      "\r",
      " 47%|████████████████████▋                       | 8/17 [04:52<06:09, 41.05s/it]"
     ]
    },
    {
     "name": "stdout",
     "output_type": "stream",
     "text": [
      "MSP-PODCAST_1190_0063 .txt has been created\n"
     ]
    },
    {
     "name": "stderr",
     "output_type": "stream",
     "text": [
      "\r",
      " 53%|███████████████████████▎                    | 9/17 [05:17<04:47, 35.98s/it]"
     ]
    },
    {
     "name": "stdout",
     "output_type": "stream",
     "text": [
      "MSP-PODCAST_1185_0011 .txt has been created\n"
     ]
    },
    {
     "name": "stderr",
     "output_type": "stream",
     "text": [
      "\r",
      " 59%|█████████████████████████▎                 | 10/17 [05:44<03:53, 33.39s/it]"
     ]
    },
    {
     "name": "stdout",
     "output_type": "stream",
     "text": [
      "MSP-PODCAST_1191_0010 .txt has been created\n"
     ]
    },
    {
     "name": "stderr",
     "output_type": "stream",
     "text": [
      "\r",
      " 65%|███████████████████████████▊               | 11/17 [06:13<03:11, 31.88s/it]"
     ]
    },
    {
     "name": "stdout",
     "output_type": "stream",
     "text": [
      "MSP-PODCAST_1187_0007 .txt has been created\n"
     ]
    },
    {
     "name": "stderr",
     "output_type": "stream",
     "text": [
      "\r",
      " 71%|██████████████████████████████▎            | 12/17 [06:56<02:57, 35.50s/it]"
     ]
    },
    {
     "name": "stdout",
     "output_type": "stream",
     "text": [
      "MSP-PODCAST_1186_0006 .txt has been created\n"
     ]
    },
    {
     "name": "stderr",
     "output_type": "stream",
     "text": [
      "\r",
      " 76%|████████████████████████████████▉          | 13/17 [07:19<02:06, 31.72s/it]"
     ]
    },
    {
     "name": "stdout",
     "output_type": "stream",
     "text": [
      "MSP-PODCAST_1191_0018 .txt has been created\n"
     ]
    },
    {
     "name": "stderr",
     "output_type": "stream",
     "text": [
      "\r",
      " 82%|███████████████████████████████████▍       | 14/17 [07:33<01:18, 26.31s/it]"
     ]
    },
    {
     "name": "stdout",
     "output_type": "stream",
     "text": [
      "MSP-PODCAST_1187_0015 .txt has been created\n"
     ]
    },
    {
     "name": "stderr",
     "output_type": "stream",
     "text": [
      "\r",
      " 88%|█████████████████████████████████████▉     | 15/17 [07:52<00:48, 24.06s/it]"
     ]
    },
    {
     "name": "stdout",
     "output_type": "stream",
     "text": [
      "MSP-PODCAST_1191_0019 .txt has been created\n"
     ]
    },
    {
     "name": "stderr",
     "output_type": "stream",
     "text": [
      "\r",
      " 94%|████████████████████████████████████████▍  | 16/17 [08:20<00:25, 25.26s/it]"
     ]
    },
    {
     "name": "stdout",
     "output_type": "stream",
     "text": [
      "MSP-PODCAST_1187_0026 .txt has been created\n"
     ]
    },
    {
     "name": "stderr",
     "output_type": "stream",
     "text": [
      "100%|███████████████████████████████████████████| 17/17 [08:58<00:00, 31.65s/it]"
     ]
    },
    {
     "name": "stdout",
     "output_type": "stream",
     "text": [
      "MSP-PODCAST_1187_0032 .txt has been created\n"
     ]
    },
    {
     "name": "stderr",
     "output_type": "stream",
     "text": [
      "\n"
     ]
    }
   ],
   "source": [
    "validation_confidence = []\n",
    "for file in tqdm(valid_long_files):\n",
    "    file_name = os.path.join(validation_path, file)\n",
    "    transcript, confidence = google_transcribe(file_name)\n",
    "    validation_confidence.append(confidence)\n",
    "    write_path = os.path.join(validation_write_path, file[0:21] + '.txt')\n",
    "    write_transcripts(write_path, transcript)\n",
    "    print(file[0:21], '.txt has been created')"
   ]
  },
  {
   "cell_type": "code",
   "execution_count": 48,
   "id": "3bd4e952",
   "metadata": {},
   "outputs": [
    {
     "data": {
      "text/plain": [
       "[0.9499222040176392,\n",
       " 0.9642936885356903,\n",
       " 0.9638748466968536,\n",
       " 0.9199155569076538,\n",
       " 0.9694797843694687,\n",
       " 0.9587657898664474,\n",
       " 0.9480800032615662,\n",
       " 0.9034708042939504,\n",
       " 0.963307335972786,\n",
       " 0.9440132677555084,\n",
       " 0.9383042305707932,\n",
       " 0.9420467913150787,\n",
       " 0.9685478806495667,\n",
       " 0.96807461977005,\n",
       " 0.9333463907241821,\n",
       " 0.9595717936754227,\n",
       " 0.8928799304095182]"
      ]
     },
     "execution_count": 48,
     "metadata": {},
     "output_type": "execute_result"
    }
   ],
   "source": [
    "validation_confidence"
   ]
  },
  {
   "cell_type": "code",
   "execution_count": null,
   "id": "1f38cf0c",
   "metadata": {},
   "outputs": [],
   "source": []
  }
 ],
 "metadata": {
  "kernelspec": {
   "display_name": "env",
   "language": "python",
   "name": "abi_research"
  },
  "language_info": {
   "codemirror_mode": {
    "name": "ipython",
    "version": 3
   },
   "file_extension": ".py",
   "mimetype": "text/x-python",
   "name": "python",
   "nbconvert_exporter": "python",
   "pygments_lexer": "ipython3",
   "version": "3.8.10"
  }
 },
 "nbformat": 4,
 "nbformat_minor": 5
}
